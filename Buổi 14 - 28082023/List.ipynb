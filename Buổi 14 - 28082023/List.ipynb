{
 "cells": [
  {
   "cell_type": "markdown",
   "metadata": {},
   "source": [
    "## Review: type()"
   ]
  },
  {
   "cell_type": "code",
   "execution_count": 3,
   "metadata": {},
   "outputs": [
    {
     "name": "stdout",
     "output_type": "stream",
     "text": [
      "<class 'str'>\n",
      "<class 'int'>\n",
      "<class 'int'>\n",
      "<class 'bool'>\n"
     ]
    }
   ],
   "source": [
    "# Python có 4 kiểu dữ liệu cơ bản\n",
    "\n",
    "print(type(\"Hello\"))\n",
    "print(type(100))\n",
    "print(type(10))\n",
    "print(type(True))"
   ]
  },
  {
   "cell_type": "markdown",
   "metadata": {},
   "source": [
    "## list là gì?"
   ]
  },
  {
   "cell_type": "code",
   "execution_count": null,
   "metadata": {},
   "outputs": [],
   "source": [
    "# Ví dụ\n",
    "\n",
    "# Tạo list lưu các bài học\n",
    "\n",
    "list_lesson = [\"Data type\", \"Input, Output\", \"Conditional Statement\"]  # có 3 phần tử values\n",
    "\n",
    "list_average_score = [6.5, 6.8, 9 , 10, 7.7]  # 5 items\n",
    "\n",
    "list_bouns = [True, False, True, True]"
   ]
  },
  {
   "cell_type": "code",
   "execution_count": 4,
   "metadata": {},
   "outputs": [
    {
     "name": "stdout",
     "output_type": "stream",
     "text": [
      "28\n"
     ]
    }
   ],
   "source": [
    "# Sử dụng list\n",
    "\n",
    "list_intro = [\"John Smith\", \"Male\",28, 176, 67]\n",
    "\n",
    "age = list_intro[2]\n",
    "print(age)"
   ]
  },
  {
   "cell_type": "code",
   "execution_count": 5,
   "metadata": {},
   "outputs": [
    {
     "ename": "TypeError",
     "evalue": "'str' object does not support item assignment",
     "output_type": "error",
     "traceback": [
      "\u001b[1;31m---------------------------------------------------------------------------\u001b[0m",
      "\u001b[1;31mTypeError\u001b[0m                                 Traceback (most recent call last)",
      "Cell \u001b[1;32mIn[5], line 4\u001b[0m\n\u001b[0;32m      1\u001b[0m \u001b[38;5;66;03m#string không cho thay đổi giá trị trong chuỗi\u001b[39;00m\n\u001b[0;32m      3\u001b[0m content \u001b[38;5;241m=\u001b[39m \u001b[38;5;124m\"\u001b[39m\u001b[38;5;124mPython Fundamental\u001b[39m\u001b[38;5;124m\"\u001b[39m\n\u001b[1;32m----> 4\u001b[0m \u001b[43mcontent\u001b[49m\u001b[43m[\u001b[49m\u001b[38;5;241;43m0\u001b[39;49m\u001b[43m]\u001b[49m \u001b[38;5;241m=\u001b[39m \u001b[38;5;124m\"\u001b[39m\u001b[38;5;124mT\u001b[39m\u001b[38;5;124m\"\u001b[39m\n",
      "\u001b[1;31mTypeError\u001b[0m: 'str' object does not support item assignment"
     ]
    }
   ],
   "source": [
    "content = \"Python Fundamental\"\n",
    "content[0] = \"T\" #string không cho thay đổi giá trị trong chuỗi, do vậy xuất hiện bão lỗi"
   ]
  },
  {
   "cell_type": "code",
   "execution_count": 10,
   "metadata": {},
   "outputs": [
    {
     "name": "stdout",
     "output_type": "stream",
     "text": [
      "28\n",
      "25\n"
     ]
    }
   ],
   "source": [
    "# Sử dụng list\n",
    "\n",
    "list_info = [\"John Smith\", \"Male\",28, 176, 67]\n",
    "\n",
    "age = list_info[2]\n",
    "print(age)\n",
    "\n",
    "list_info[2] = 25  # có thể đổi giá trị của phần tử\n",
    "print(list_info[2])"
   ]
  },
  {
   "cell_type": "markdown",
   "metadata": {},
   "source": [
    "### Thực hành: Viết chương trình tạo ra một list các string khác nhau và đếm tổng số lượng string dài hơn 3 kí tự"
   ]
  },
  {
   "cell_type": "code",
   "execution_count": null,
   "metadata": {},
   "outputs": [],
   "source": []
  },
  {
   "cell_type": "markdown",
   "metadata": {},
   "source": [
    "### Thực hành 2: Viết chương trình nhận vào 2 list và trả về True nếu 2 list có ít nhất 1 phần tử chung, ngược lại trả về False"
   ]
  },
  {
   "cell_type": "code",
   "execution_count": null,
   "metadata": {},
   "outputs": [],
   "source": []
  },
  {
   "cell_type": "markdown",
   "metadata": {},
   "source": [
    "## Các thao tác cơ bản với list"
   ]
  },
  {
   "cell_type": "markdown",
   "metadata": {},
   "source": [
    "### Kiểm tra độ dài list"
   ]
  },
  {
   "cell_type": "code",
   "execution_count": 11,
   "metadata": {},
   "outputs": [
    {
     "name": "stdout",
     "output_type": "stream",
     "text": [
      "6\n"
     ]
    }
   ],
   "source": [
    "list_number = [0, 1, 2, 5, 6, 8]\n",
    "\n",
    "print(len(list_number))"
   ]
  },
  {
   "cell_type": "markdown",
   "metadata": {},
   "source": [
    "### Truy cập phần tử trên list"
   ]
  },
  {
   "cell_type": "code",
   "execution_count": 13,
   "metadata": {},
   "outputs": [
    {
     "name": "stdout",
     "output_type": "stream",
     "text": [
      "8\n"
     ]
    }
   ],
   "source": [
    "list_number = [0, 1, 2, 5, 6, 8]\n",
    "\n",
    "print(list_number[5])"
   ]
  },
  {
   "cell_type": "code",
   "execution_count": 14,
   "metadata": {},
   "outputs": [
    {
     "name": "stdout",
     "output_type": "stream",
     "text": [
      "0\n",
      "1\n",
      "2\n",
      "5\n",
      "6\n",
      "8\n"
     ]
    }
   ],
   "source": [
    "list_number = [0, 1, 2, 5, 6, 8]\n",
    "\n",
    "for i in range (len(list_number)):\n",
    "    print(list_number[i])"
   ]
  },
  {
   "cell_type": "code",
   "execution_count": 15,
   "metadata": {},
   "outputs": [
    {
     "name": "stdout",
     "output_type": "stream",
     "text": [
      "0\n",
      "1\n",
      "2\n",
      "5\n",
      "6\n",
      "8\n"
     ]
    }
   ],
   "source": [
    "list_number = [0, 1, 2, 5, 6, 8]\n",
    "\n",
    "for value in list_number:\n",
    "    print(value)"
   ]
  },
  {
   "cell_type": "markdown",
   "metadata": {},
   "source": [
    "### Thực hành: Tạo một list 10 số tự nhiên và in ra các phần tử trong list"
   ]
  },
  {
   "cell_type": "code",
   "execution_count": 16,
   "metadata": {},
   "outputs": [
    {
     "name": "stdout",
     "output_type": "stream",
     "text": [
      "235\n",
      "678\n",
      "87\n",
      "679\n",
      "226\n",
      "77899\n",
      "55678\n",
      "5690\n",
      "4501\n",
      "345901\n"
     ]
    }
   ],
   "source": [
    "list_int = [235, 678, 87, 679, 226, 77899, 55678, 5690, 4501, 345901]\n",
    "\n",
    "for item in list_int:\n",
    "    print(item)"
   ]
  },
  {
   "cell_type": "markdown",
   "metadata": {},
   "source": [
    "### Thực hành 2: Tạo ra một list con chưa 2 phần tử cuối cùng từ list đã tạo ở trên"
   ]
  },
  {
   "cell_type": "code",
   "execution_count": 18,
   "metadata": {},
   "outputs": [
    {
     "name": "stdout",
     "output_type": "stream",
     "text": [
      "[4501, 345901]\n"
     ]
    }
   ],
   "source": [
    "sub_list = list_int [-2:]\n",
    "\n",
    "print(sub_list)"
   ]
  },
  {
   "cell_type": "markdown",
   "metadata": {},
   "source": [
    "### Cộng list"
   ]
  },
  {
   "cell_type": "code",
   "execution_count": 21,
   "metadata": {},
   "outputs": [
    {
     "name": "stdout",
     "output_type": "stream",
     "text": [
      "['laptop', 'phone', 'keyboard', 'earphone']\n"
     ]
    }
   ],
   "source": [
    "list_equipment = [\"laptop\", \"phone\",\"keyboard\"]\n",
    "\n",
    "#thêm phần từ vào vị trí cuối của list: append()\n",
    "\n",
    "list_equipment.append('earphone')\n",
    "\n",
    "print(list_equipment)"
   ]
  },
  {
   "cell_type": "code",
   "execution_count": 24,
   "metadata": {},
   "outputs": [
    {
     "name": "stdout",
     "output_type": "stream",
     "text": [
      "['laptop', 'phone', 'keyboard', 'earphone', 'lamp', 'charger', 'lamp', 'charger', 'lamp', 'charger']\n"
     ]
    }
   ],
   "source": [
    "# extend -> ghép nối 1 list khác vào list hiện tại\n",
    "\n",
    "extra_equipment = [\"lamp\",\"charger\"]\n",
    "\n",
    "list_equipment.extend(extra_equipment)\n",
    "print(list_equipment)"
   ]
  },
  {
   "cell_type": "code",
   "execution_count": 25,
   "metadata": {},
   "outputs": [
    {
     "name": "stdout",
     "output_type": "stream",
     "text": [
      "['laptop', 'phone', 'keyboard', 'earphone', 'lamp', 'charger', 'lamp', 'charger', 'lamp', 'charger', 'lamp', 'charger']\n"
     ]
    }
   ],
   "source": [
    "list_equipment += extra_equipment\n",
    "print(list_equipment)\n"
   ]
  },
  {
   "cell_type": "markdown",
   "metadata": {},
   "source": [
    "### Thực hành: Thêm học sinh vào lớp"
   ]
  },
  {
   "cell_type": "code",
   "execution_count": 26,
   "metadata": {},
   "outputs": [
    {
     "name": "stdout",
     "output_type": "stream",
     "text": [
      "['Andy', 'Bryan', 'Cindy', 'Daisy', 'Emma', 'Ferb']\n"
     ]
    }
   ],
   "source": [
    "list_student = ['Andy', 'Bryan', 'Cindy','Daisy']\n",
    "new_student = ['Emma', 'Ferb']\n",
    "\n",
    "print(list_student + new_student) "
   ]
  },
  {
   "cell_type": "code",
   "execution_count": 29,
   "metadata": {},
   "outputs": [
    {
     "name": "stdout",
     "output_type": "stream",
     "text": [
      "['Andy', 'Bryan', 'Cindy', 'Daisy', 'Emma', 'Ferb']\n"
     ]
    }
   ],
   "source": [
    "list_student = ['Andy', 'Bryan', 'Cindy','Daisy']\n",
    "new_student = ['Emma', 'Ferb']\n",
    "\n",
    "list_student += new_student\n",
    "print(list_student) "
   ]
  },
  {
   "cell_type": "code",
   "execution_count": 27,
   "metadata": {},
   "outputs": [
    {
     "name": "stdout",
     "output_type": "stream",
     "text": [
      "['Andy', 'Bryan', 'Cindy', 'Daisy', 'Emma', 'Ferb']\n"
     ]
    }
   ],
   "source": [
    "list_student = ['Andy', 'Bryan', 'Cindy','Daisy']\n",
    "new_student = ['Emma', 'Ferb']\n",
    "\n",
    "list_student.extend(new_student)\n",
    "print(list_student) \n"
   ]
  },
  {
   "cell_type": "markdown",
   "metadata": {},
   "source": [
    "### Kiểm tra phần tử tồn tại trong list"
   ]
  },
  {
   "cell_type": "code",
   "execution_count": 31,
   "metadata": {},
   "outputs": [
    {
     "name": "stdout",
     "output_type": "stream",
     "text": [
      "True\n",
      "False\n"
     ]
    }
   ],
   "source": [
    "list_student = ['Andy', 'Bryan', 'Cindy', 'Daisy', 'Emma', 'Ferb']\n",
    "\n",
    "print('Emma' in list_student)\n",
    "print('Emmy' in list_student)"
   ]
  },
  {
   "cell_type": "markdown",
   "metadata": {},
   "source": [
    "### Xóa phần tử khỏi list"
   ]
  },
  {
   "cell_type": "code",
   "execution_count": 32,
   "metadata": {},
   "outputs": [
    {
     "name": "stdout",
     "output_type": "stream",
     "text": [
      "['Andy', 'Bryan', 'Cindy', 'Emma', 'Ferb']\n"
     ]
    }
   ],
   "source": [
    "list_student = ['Andy', 'Bryan', 'Cindy', 'Daisy', 'Emma', 'Ferb']\n",
    "\n",
    "# xoá phần tử trong list dùng hàm remove -> xoá giá trị đã được chỉ định trong list\n",
    "\n",
    "list_student.remove('Daisy')\n",
    "print(list_student)"
   ]
  },
  {
   "cell_type": "code",
   "execution_count": 33,
   "metadata": {},
   "outputs": [
    {
     "name": "stdout",
     "output_type": "stream",
     "text": [
      "['Andy', 'Bryan', 'Cindy', 'Emma', 'Ferb']\n"
     ]
    }
   ],
   "source": [
    "list_student = ['Andy', 'Bryan', 'Cindy', 'Daisy', 'Emma', 'Ferb']\n",
    "\n",
    "# xoá phần ttử trong list dùng hàm del -> xoá phần tử tại index được chỉ định trong list\n",
    "\n",
    "del list_student[3]\n",
    "print(list_student)"
   ]
  },
  {
   "cell_type": "markdown",
   "metadata": {},
   "source": [
    "### Sắp xếp list"
   ]
  },
  {
   "cell_type": "code",
   "execution_count": 35,
   "metadata": {},
   "outputs": [
    {
     "name": "stdout",
     "output_type": "stream",
     "text": [
      "[6.7, 8, 8.7, 9.1]\n"
     ]
    }
   ],
   "source": [
    "list_mark = [6.7, 8.7, 9.1, 8]\n",
    "\n",
    "# sắp xếp list từ thấp đến cao dùng sort\n",
    "list_mark.sort()\n",
    "\n",
    "print(list_mark)"
   ]
  },
  {
   "cell_type": "code",
   "execution_count": 37,
   "metadata": {},
   "outputs": [
    {
     "name": "stdout",
     "output_type": "stream",
     "text": [
      "[9.1, 8.7, 8, 6.7]\n"
     ]
    }
   ],
   "source": [
    "list_mark = [6.7, 8.7, 9.1, 8]\n",
    "\n",
    "# sắp xếp list từ cao đến thấp dùng sort(reverse)\n",
    "list_mark.sort(reverse = True)\n",
    "\n",
    "print(list_mark)"
   ]
  },
  {
   "cell_type": "code",
   "execution_count": 40,
   "metadata": {},
   "outputs": [
    {
     "name": "stdin",
     "output_type": "stream",
     "text": [
      "Please enter value:  3\n"
     ]
    },
    {
     "name": "stdout",
     "output_type": "stream",
     "text": [
      "[3]\n"
     ]
    },
    {
     "name": "stdin",
     "output_type": "stream",
     "text": [
      "Please enter value:  4\n"
     ]
    },
    {
     "name": "stdout",
     "output_type": "stream",
     "text": [
      "[3, 4]\n"
     ]
    },
    {
     "name": "stdin",
     "output_type": "stream",
     "text": [
      "Please enter value:  6\n"
     ]
    },
    {
     "name": "stdout",
     "output_type": "stream",
     "text": [
      "[3, 4, 6]\n"
     ]
    }
   ],
   "source": [
    "list_item = []\n",
    "\n",
    "for i in range (3):\n",
    "    value = int(input(\"Please enter value: \"))\n",
    "    list_item.append(value)\n",
    "    print(list_item)"
   ]
  },
  {
   "cell_type": "markdown",
   "metadata": {},
   "source": [
    "### Làm rỗng list"
   ]
  },
  {
   "cell_type": "code",
   "execution_count": null,
   "metadata": {},
   "outputs": [],
   "source": []
  },
  {
   "cell_type": "markdown",
   "metadata": {},
   "source": [
    "### Copy list"
   ]
  },
  {
   "cell_type": "code",
   "execution_count": null,
   "metadata": {},
   "outputs": [],
   "source": []
  }
 ],
 "metadata": {
  "kernelspec": {
   "display_name": "Python 3 (ipykernel)",
   "language": "python",
   "name": "python3"
  },
  "language_info": {
   "codemirror_mode": {
    "name": "ipython",
    "version": 3
   },
   "file_extension": ".py",
   "mimetype": "text/x-python",
   "name": "python",
   "nbconvert_exporter": "python",
   "pygments_lexer": "ipython3",
   "version": "3.11.4"
  }
 },
 "nbformat": 4,
 "nbformat_minor": 4
}
