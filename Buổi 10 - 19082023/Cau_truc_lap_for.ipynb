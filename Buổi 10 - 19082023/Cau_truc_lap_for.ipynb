{
 "cells": [
  {
   "cell_type": "markdown",
   "id": "33f9d7a5",
   "metadata": {},
   "source": [
    "# Cấu trúc lặp for trong python"
   ]
  },
  {
   "attachments": {
    "image.png": {
     "image/png": "[encoded data removed]"
    }
   },
   "cell_type": "markdown",
   "id": "f64c9eae",
   "metadata": {},
   "source": [
    "## Review: Vẽ kim tự tháp\n",
    "![image.png](attachment:image.png)"
   ]
  },
  {
   "cell_type": "markdown",
   "id": "df07a864-ad18-4d01-b873-1cbe01fba24e",
   "metadata": {},
   "source": [
    "https://quantrimang.com/hoc/vong-lap-for-trong-python-142234"
   ]
  },
  {
   "cell_type": "code",
   "execution_count": 2,
   "id": "6a760830-cec0-4ab2-851a-cefb253996c2",
   "metadata": {
    "scrolled": true
   },
   "outputs": [
    {
     "name": "stdout",
     "output_type": "stream",
     "text": [
      "0\n",
      "1\n",
      "2\n",
      "3\n",
      "4\n",
      "5\n",
      "6\n",
      "7\n",
      "8\n",
      "9\n",
      "10\n",
      "11\n",
      "12\n",
      "13\n",
      "14\n",
      "15\n",
      "16\n",
      "17\n",
      "18\n",
      "19\n",
      "20\n",
      "21\n",
      "22\n",
      "23\n",
      "24\n",
      "25\n",
      "26\n",
      "27\n",
      "28\n",
      "29\n",
      "30\n",
      "31\n",
      "32\n",
      "33\n",
      "34\n",
      "35\n",
      "36\n",
      "37\n",
      "38\n",
      "39\n",
      "40\n",
      "41\n",
      "42\n",
      "43\n",
      "44\n",
      "45\n",
      "46\n",
      "47\n",
      "48\n",
      "49\n",
      "50\n",
      "51\n",
      "52\n",
      "53\n",
      "54\n",
      "55\n",
      "56\n",
      "57\n",
      "58\n",
      "59\n",
      "60\n",
      "61\n",
      "62\n",
      "63\n",
      "64\n",
      "65\n",
      "66\n",
      "67\n",
      "68\n",
      "69\n",
      "70\n",
      "71\n",
      "72\n",
      "73\n",
      "74\n",
      "75\n",
      "76\n",
      "77\n",
      "78\n",
      "79\n",
      "80\n",
      "81\n",
      "82\n",
      "83\n",
      "84\n",
      "85\n",
      "86\n",
      "87\n",
      "88\n",
      "89\n",
      "90\n",
      "91\n",
      "92\n",
      "93\n",
      "94\n",
      "95\n",
      "96\n",
      "97\n",
      "98\n",
      "99\n",
      "100\n"
     ]
    }
   ],
   "source": [
    "i = 0\n",
    "while i <= 100:\n",
    "    print(i)\n",
    "    i += 1"
   ]
  },
  {
   "cell_type": "markdown",
   "id": "35ef7a35",
   "metadata": {},
   "source": [
    "## for kết hợp với hàm range()"
   ]
  },
  {
   "cell_type": "markdown",
   "id": "80e01298",
   "metadata": {},
   "source": [
    "### Trường hợp 1 tham số"
   ]
  },
  {
   "cell_type": "code",
   "execution_count": 7,
   "id": "b56eadb4",
   "metadata": {
    "scrolled": true
   },
   "outputs": [
    {
     "name": "stdout",
     "output_type": "stream",
     "text": [
      "0\n",
      "1\n",
      "2\n",
      "3\n",
      "4\n",
      "5\n",
      "6\n",
      "7\n",
      "8\n",
      "9\n",
      "10\n",
      "11\n",
      "12\n",
      "13\n",
      "14\n",
      "15\n",
      "16\n",
      "17\n",
      "18\n",
      "19\n",
      "20\n",
      "21\n",
      "22\n",
      "23\n",
      "24\n",
      "25\n",
      "26\n",
      "27\n",
      "28\n",
      "29\n",
      "30\n",
      "31\n",
      "32\n",
      "33\n",
      "34\n",
      "35\n",
      "36\n",
      "37\n",
      "38\n",
      "39\n",
      "40\n",
      "41\n",
      "42\n",
      "43\n",
      "44\n",
      "45\n",
      "46\n",
      "47\n",
      "48\n",
      "49\n",
      "50\n",
      "51\n",
      "52\n",
      "53\n",
      "54\n",
      "55\n",
      "56\n",
      "57\n",
      "58\n",
      "59\n",
      "60\n",
      "61\n",
      "62\n",
      "63\n",
      "64\n",
      "65\n",
      "66\n",
      "67\n",
      "68\n",
      "69\n",
      "70\n",
      "71\n",
      "72\n",
      "73\n",
      "74\n",
      "75\n",
      "76\n",
      "77\n",
      "78\n",
      "79\n",
      "80\n",
      "81\n",
      "82\n",
      "83\n",
      "84\n",
      "85\n",
      "86\n",
      "87\n",
      "88\n",
      "89\n",
      "90\n",
      "91\n",
      "92\n",
      "93\n",
      "94\n",
      "95\n",
      "96\n",
      "97\n",
      "98\n",
      "99\n",
      "100\n"
     ]
    }
   ],
   "source": [
    "# start = 0 , end < 101 chính là 100, step +1\n",
    "\n",
    "for i in range(101):\n",
    "    print(i)"
   ]
  },
  {
   "cell_type": "markdown",
   "id": "b4eb03ed",
   "metadata": {},
   "source": [
    "### Ví dụ: In các số lẻ từ 0 đến 100"
   ]
  },
  {
   "cell_type": "code",
   "execution_count": 5,
   "id": "f73caa14",
   "metadata": {
    "scrolled": true
   },
   "outputs": [
    {
     "name": "stdout",
     "output_type": "stream",
     "text": [
      "1\n",
      "3\n",
      "5\n",
      "7\n",
      "9\n",
      "11\n",
      "13\n",
      "15\n",
      "17\n",
      "19\n",
      "21\n",
      "23\n",
      "25\n",
      "27\n",
      "29\n",
      "31\n",
      "33\n",
      "35\n",
      "37\n",
      "39\n",
      "41\n",
      "43\n",
      "45\n",
      "47\n",
      "49\n",
      "51\n",
      "53\n",
      "55\n",
      "57\n",
      "59\n",
      "61\n",
      "63\n",
      "65\n",
      "67\n",
      "69\n",
      "71\n",
      "73\n",
      "75\n",
      "77\n",
      "79\n",
      "81\n",
      "83\n",
      "85\n",
      "87\n",
      "89\n",
      "91\n",
      "93\n",
      "95\n",
      "97\n",
      "99\n"
     ]
    }
   ],
   "source": [
    "for i in range(101):\n",
    "    if i % 2 != 0:\n",
    "        print(i)"
   ]
  },
  {
   "cell_type": "markdown",
   "id": "5b4c7f1c",
   "metadata": {},
   "source": [
    "### Trường hợp 2 tham số"
   ]
  },
  {
   "cell_type": "code",
   "execution_count": 6,
   "id": "ab369d26",
   "metadata": {
    "scrolled": true
   },
   "outputs": [
    {
     "name": "stdout",
     "output_type": "stream",
     "text": [
      "100\n",
      "101\n",
      "102\n",
      "103\n",
      "104\n",
      "105\n",
      "106\n",
      "107\n",
      "108\n",
      "109\n",
      "110\n",
      "111\n",
      "112\n",
      "113\n",
      "114\n",
      "115\n",
      "116\n",
      "117\n",
      "118\n",
      "119\n",
      "120\n",
      "121\n",
      "122\n",
      "123\n",
      "124\n",
      "125\n",
      "126\n",
      "127\n",
      "128\n",
      "129\n",
      "130\n",
      "131\n",
      "132\n",
      "133\n",
      "134\n",
      "135\n",
      "136\n",
      "137\n",
      "138\n",
      "139\n",
      "140\n",
      "141\n",
      "142\n",
      "143\n",
      "144\n",
      "145\n",
      "146\n",
      "147\n",
      "148\n",
      "149\n",
      "150\n",
      "151\n",
      "152\n",
      "153\n",
      "154\n",
      "155\n",
      "156\n",
      "157\n",
      "158\n",
      "159\n",
      "160\n",
      "161\n",
      "162\n",
      "163\n",
      "164\n",
      "165\n",
      "166\n",
      "167\n",
      "168\n",
      "169\n",
      "170\n",
      "171\n",
      "172\n",
      "173\n",
      "174\n",
      "175\n",
      "176\n",
      "177\n",
      "178\n",
      "179\n",
      "180\n",
      "181\n",
      "182\n",
      "183\n",
      "184\n",
      "185\n",
      "186\n",
      "187\n",
      "188\n",
      "189\n",
      "190\n",
      "191\n",
      "192\n",
      "193\n",
      "194\n",
      "195\n",
      "196\n",
      "197\n",
      "198\n",
      "199\n",
      "200\n"
     ]
    }
   ],
   "source": [
    "# bắt đầu từ một con số khác 0\n",
    "# in ra một dãy số nguyên từ 100 đến 200\n",
    "\n",
    "for i in range (100, 201):\n",
    "    print(i)\n"
   ]
  },
  {
   "cell_type": "markdown",
   "id": "06853353",
   "metadata": {},
   "source": [
    "### Ví dụ: In các số chia hết cho 7 từ a đến b"
   ]
  },
  {
   "cell_type": "code",
   "execution_count": 10,
   "id": "7b21bcdf",
   "metadata": {},
   "outputs": [
    {
     "name": "stdin",
     "output_type": "stream",
     "text": [
      "Nhập vào số nguyên a:  56\n",
      "Nhập vào số nguyên b:  89\n"
     ]
    },
    {
     "name": "stdout",
     "output_type": "stream",
     "text": [
      "56\n",
      "63\n",
      "70\n",
      "77\n",
      "84\n"
     ]
    }
   ],
   "source": [
    "a = int(input(\"Nhập vào số nguyên a: \"))\n",
    "b = int(input(\"Nhập vào số nguyên b: \"))\n",
    "\n",
    "for i in range (a, b): # sai nè: vì b + 1 nữa\n",
    "    if i % 7 == 0:\n",
    "        print(i)"
   ]
  },
  {
   "cell_type": "code",
   "execution_count": 9,
   "id": "bc673681-74b5-431d-9820-621ea29c9196",
   "metadata": {},
   "outputs": [
    {
     "name": "stdin",
     "output_type": "stream",
     "text": [
      "Please enter a:  56\n",
      "Please enter b:  89\n"
     ]
    },
    {
     "name": "stdout",
     "output_type": "stream",
     "text": [
      "56\n",
      "63\n",
      "70\n",
      "77\n",
      "84\n"
     ]
    }
   ],
   "source": [
    "# thầy sửa\n",
    "\n",
    "a = int(input(\"Please enter a: \"))\n",
    "b = int(input(\"Please enter b: \"))\n",
    "\n",
    "for i in range (a, b + 1):\n",
    "    if i % 7 == 0:\n",
    "        print(i)"
   ]
  },
  {
   "cell_type": "markdown",
   "id": "5f784920",
   "metadata": {},
   "source": [
    "### Trường hợp 3 tham số"
   ]
  },
  {
   "cell_type": "code",
   "execution_count": 12,
   "id": "f6b32018",
   "metadata": {
    "scrolled": true
   },
   "outputs": [
    {
     "name": "stdout",
     "output_type": "stream",
     "text": [
      "100\n",
      "99\n",
      "98\n",
      "97\n",
      "96\n",
      "95\n",
      "94\n",
      "93\n",
      "92\n",
      "91\n",
      "90\n",
      "89\n",
      "88\n",
      "87\n",
      "86\n",
      "85\n",
      "84\n",
      "83\n",
      "82\n",
      "81\n",
      "80\n",
      "79\n",
      "78\n",
      "77\n",
      "76\n",
      "75\n",
      "74\n",
      "73\n",
      "72\n",
      "71\n",
      "70\n",
      "69\n",
      "68\n",
      "67\n",
      "66\n",
      "65\n",
      "64\n",
      "63\n",
      "62\n",
      "61\n",
      "60\n",
      "59\n",
      "58\n",
      "57\n",
      "56\n",
      "55\n",
      "54\n",
      "53\n",
      "52\n",
      "51\n",
      "50\n",
      "49\n",
      "48\n",
      "47\n",
      "46\n",
      "45\n",
      "44\n",
      "43\n",
      "42\n",
      "41\n",
      "40\n",
      "39\n",
      "38\n",
      "37\n",
      "36\n",
      "35\n",
      "34\n",
      "33\n",
      "32\n",
      "31\n",
      "30\n",
      "29\n",
      "28\n",
      "27\n",
      "26\n",
      "25\n",
      "24\n",
      "23\n",
      "22\n",
      "21\n",
      "20\n",
      "19\n",
      "18\n",
      "17\n",
      "16\n",
      "15\n",
      "14\n",
      "13\n",
      "12\n",
      "11\n",
      "10\n",
      "9\n",
      "8\n",
      "7\n",
      "6\n",
      "5\n",
      "4\n",
      "3\n",
      "2\n",
      "1\n",
      "0\n"
     ]
    }
   ],
   "source": [
    "# in ra các số nguyên từ 100 về 0 --> step = -1 khác với giá trị default: start 0 và step +1\n",
    "\n",
    "for i in range (100, -1, -1):\n",
    "    print(i)"
   ]
  },
  {
   "cell_type": "markdown",
   "id": "a4c0fc85",
   "metadata": {},
   "source": [
    "### Ví dụ: Biểu diễn cấp số cộng"
   ]
  },
  {
   "cell_type": "code",
   "execution_count": 16,
   "id": "9e9a5cbf",
   "metadata": {},
   "outputs": [
    {
     "name": "stdin",
     "output_type": "stream",
     "text": [
      "Nhập vào số hạng đầu tiên của dãy:  10\n",
      "Nhập vào công sai của cấp số cộng:  5\n"
     ]
    },
    {
     "name": "stdout",
     "output_type": "stream",
     "text": [
      "10\n",
      "15\n",
      "20\n",
      "25\n",
      "30\n",
      "35\n",
      "40\n",
      "45\n",
      "50\n",
      "55\n",
      "60\n"
     ]
    }
   ],
   "source": [
    "# Nhập vào số hạng đầu tiên và công sai của cấp số cộng.\n",
    "# In ra 10 số hạng tiếp theo của cấp số cộng đó.\n",
    "# VD: số hạng đầu tiên là =  10, công sai = 5\n",
    "# Output: 15, 20, 25, 30... 60\n",
    "\n",
    "n = int(input(\"Nhập vào số hạng đầu tiên của dãy: \")) \n",
    "d = int(input(\"Nhập vào công sai của cấp số cộng: \"))\n",
    "\n",
    "for i in range (n, (n + n*d)+1 , d):\n",
    "    print(i)"
   ]
  },
  {
   "cell_type": "code",
   "execution_count": 18,
   "id": "22a1bb6c-5072-44f9-961f-35055b1bd21e",
   "metadata": {},
   "outputs": [
    {
     "name": "stdin",
     "output_type": "stream",
     "text": [
      "Nhập vào số hạng đầu tiên của dãy:  10\n",
      "Nhập vào công sai của cấp số cộng:  5\n"
     ]
    },
    {
     "name": "stdout",
     "output_type": "stream",
     "text": [
      "15 20 25 30 35 40 45 50 55 60 "
     ]
    }
   ],
   "source": [
    "n = int(input(\"Nhập vào số hạng đầu tiên của dãy: \"))\n",
    "d = int(input(\"Nhập vào công sai của cấp số cộng: \"))\n",
    "\n",
    "for i in range (n + d, n + 10 * d + 1 , d):\n",
    "    print(f\"{i} \", end = \"\")"
   ]
  },
  {
   "cell_type": "markdown",
   "id": "a2a61887",
   "metadata": {},
   "source": [
    "## lặp qua một chuỗi"
   ]
  },
  {
   "cell_type": "code",
   "execution_count": null,
   "id": "e495f392",
   "metadata": {},
   "outputs": [],
   "source": [
    "# dùng while\n",
    "\n",
    "content = \"Hello World\"\n",
    "i = len(content) - 1\n",
    "\n",
    "while i >= 0:\n",
    "    print(content[i])\n",
    "    i -= 1"
   ]
  },
  {
   "cell_type": "code",
   "execution_count": 20,
   "id": "3b47d816-12ec-4955-a63b-a8165f9c5e64",
   "metadata": {},
   "outputs": [
    {
     "name": "stdout",
     "output_type": "stream",
     "text": [
      "H\n",
      "e\n",
      "l\n",
      "l\n",
      "o\n",
      " \n",
      "W\n",
      "o\n",
      "r\n",
      "l\n",
      "d\n"
     ]
    }
   ],
   "source": [
    "content = \"Hello World\"\n",
    "for i in range (len(content)):\n",
    "    print(content[i])"
   ]
  },
  {
   "cell_type": "code",
   "execution_count": 22,
   "id": "c906de2a-f0d8-47c0-9ad5-d6eb367edb57",
   "metadata": {},
   "outputs": [
    {
     "name": "stdout",
     "output_type": "stream",
     "text": [
      "HelloWorld"
     ]
    }
   ],
   "source": [
    "content = \"HelloWorld\"\n",
    "for i in range (len(content)):\n",
    "    print(content[i], end =\"\")"
   ]
  },
  {
   "cell_type": "code",
   "execution_count": 23,
   "id": "23b6f788-bfc6-4b08-9688-7201507fe844",
   "metadata": {},
   "outputs": [
    {
     "name": "stdout",
     "output_type": "stream",
     "text": [
      "H\n",
      "e\n",
      "l\n",
      "l\n",
      "o\n",
      "W\n",
      "o\n",
      "r\n",
      "l\n",
      "d\n"
     ]
    }
   ],
   "source": [
    "content = \"HelloWorld\"\n",
    "for c in content:\n",
    "    print(c)"
   ]
  },
  {
   "cell_type": "code",
   "execution_count": 2,
   "id": "9ab7f0de-c9fb-4e6f-b4c2-82e187f5072f",
   "metadata": {},
   "outputs": [
    {
     "name": "stdout",
     "output_type": "stream",
     "text": [
      "0 P\n",
      "1 y\n",
      "2 t\n",
      "3 h\n",
      "4 o\n",
      "5 n\n",
      "6 F\n",
      "7 u\n",
      "8 n\n",
      "9 d\n",
      "10 a\n",
      "11 m\n",
      "12 e\n",
      "13 n\n",
      "14 t\n",
      "15 a\n",
      "16 l\n"
     ]
    }
   ],
   "source": [
    "course_name = \"PythonFundamental\"\n",
    "\n",
    "# lấy vị trí(index) của từng ký trong chuỗi\n",
    "for i in range(len(course_name)):\n",
    "    print(i, course_name[i])"
   ]
  },
  {
   "cell_type": "markdown",
   "id": "a4013631",
   "metadata": {},
   "source": [
    "### Ví dụ: Đếm số lượng nguyên âm trong chuỗi"
   ]
  },
  {
   "cell_type": "code",
   "execution_count": 27,
   "id": "319bfb92",
   "metadata": {},
   "outputs": [
    {
     "name": "stdout",
     "output_type": "stream",
     "text": [
      "9\n"
     ]
    }
   ],
   "source": [
    "content = \"lorem ipsum dolor sit amet\"\n",
    "\n",
    "# Nguyên âm: a, o, e, i, u\n",
    "\n",
    "count = 0 # lập 1 biến có tác dụng để đếm\n",
    "\n",
    "for c in content:\n",
    "    if c in \"aoeiu\":\n",
    "        count += 1\n",
    "\n",
    "print(count)\n"
   ]
  },
  {
   "cell_type": "code",
   "execution_count": 29,
   "id": "aff98f57-c7ea-451e-af64-3309342edbb2",
   "metadata": {},
   "outputs": [
    {
     "name": "stdin",
     "output_type": "stream",
     "text": [
      "Nhập vào chuỗi:  lorem ipsum dolor sit amet\n"
     ]
    },
    {
     "name": "stdout",
     "output_type": "stream",
     "text": [
      "9\n"
     ]
    }
   ],
   "source": [
    "content = str(input(\"Nhập vào chuỗi: \"))\n",
    "vowel= \"aoeiu\"\n",
    "\n",
    "i = 0\n",
    "for c in content:\n",
    "    if c in vowel:\n",
    "        i += 1\n",
    "\n",
    "print(i)\n",
    "        "
   ]
  },
  {
   "cell_type": "code",
   "execution_count": 3,
   "id": "0060cd18-bcb7-4079-9681-1cc0b7a3bbe6",
   "metadata": {},
   "outputs": [
    {
     "name": "stdout",
     "output_type": "stream",
     "text": [
      "P\n",
      "y\n",
      "t\n",
      "h\n",
      "o\n",
      "n\n",
      "F\n",
      "u\n",
      "n\n",
      "d\n",
      "a\n",
      "m\n",
      "e\n",
      "n\n",
      "t\n",
      "a\n",
      "l\n"
     ]
    }
   ],
   "source": [
    "course_name = \"PythonFundamental\"\n",
    "\n",
    "# duyệt từng ký tự trong chuỗi\n",
    "for c in course_name:\n",
    "    print(c)"
   ]
  },
  {
   "cell_type": "markdown",
   "id": "49bf78d3",
   "metadata": {},
   "source": [
    "## Lặp qua một danh sách chuỗi"
   ]
  },
  {
   "cell_type": "code",
   "execution_count": 31,
   "id": "0a5874cf",
   "metadata": {},
   "outputs": [
    {
     "name": "stdout",
     "output_type": "stream",
     "text": [
      "apple\n",
      "banana\n",
      "cherry\n"
     ]
    }
   ],
   "source": [
    "fruits = [\"apple\", \"banana\", \"cherry\"]\n",
    "\n",
    "for x in fruits:\n",
    "  print(x)"
   ]
  },
  {
   "cell_type": "code",
   "execution_count": null,
   "id": "3c0894ad-db54-4cd0-acb5-c51c47594bf1",
   "metadata": {},
   "outputs": [],
   "source": [
    "# for bien_lap in chuoi_lap:\n",
    "#    Khối lệnh của for\n",
    "                 \n",
    "# Trong cú pháp trên, chuoi_lap là chuỗi cần lặp, bien_lap là biến nhận giá trị của từng mục bên trong chuoi_lap trên mỗi lần lặp. \n",
    "# Vòng lặp sẽ tiếp tục cho đến khi nó lặp tới mục cuối cùng trong chuỗi."
   ]
  },
  {
   "cell_type": "code",
   "execution_count": 32,
   "id": "8f00d127-ef90-4c52-9658-3833b55518b5",
   "metadata": {},
   "outputs": [
    {
     "name": "stdout",
     "output_type": "stream",
     "text": [
      "Anh yêu bố\n",
      "Anh yêu mẹ\n",
      "Anh yêu em\n"
     ]
    }
   ],
   "source": [
    "#Lặp từ trong \n",
    "\n",
    "chuoi = ['bố','mẹ','em']\n",
    "for tu in chuoi:\n",
    "    print('Anh yêu', tu)"
   ]
  },
  {
   "cell_type": "code",
   "execution_count": 33,
   "id": "6efc7c46-3669-4b2b-a2a5-764371f781ef",
   "metadata": {},
   "outputs": [
    {
     "name": "stdout",
     "output_type": "stream",
     "text": [
      "Tổng các số là 55\n"
     ]
    }
   ],
   "source": [
    "# Vòng lặp for trong một dãy số\n",
    "# Ngoài việc sử dụng vòng lặp for để lấy các chữ cái và ký tự trong chuỗi, \n",
    "# ta còn sử dụng for để lấy các số trong 1 mảng dãy số.\n",
    "\n",
    "# Tính tổng tất cả các số trong danh sách A\n",
    "# Danh sách A\n",
    "\n",
    "A = [1, 3, 5, 9, 11, 2, 6, 8, 10]\n",
    "\n",
    "# Biến để lưu trữ tổng các số là tong, gán giá trị ban đầu bằng 0\n",
    "tong = 0\n",
    "\n",
    "# Vòng lặp for, a là biến lặp\n",
    "\n",
    "for a in A:\n",
    "     tong = tong + a\n",
    "    \n",
    "# Đầu ra: Tổng các số là 55\n",
    "print(\"Tổng các số là\", tong)"
   ]
  },
  {
   "cell_type": "code",
   "execution_count": 34,
   "id": "271b17df-bdb7-473b-98a8-0d40e48c8f13",
   "metadata": {},
   "outputs": [
    {
     "name": "stdout",
     "output_type": "stream",
     "text": [
      "quan\n",
      "tri\n",
      "mang\n",
      "Nội dung ngoài vòng lặp for\n"
     ]
    }
   ],
   "source": [
    "# Lệnh break trong for\n",
    "# Với câu lệnh break, chúng ta có thể dừng vòng lặp trước khi nó lặp qua hết các mục trong chuỗi lặp. \n",
    "# Ví dụ: dừng vòng lặp khi gặp dấu chấm (.) trong chuỗi quantrimang.com:\n",
    "\n",
    "#Lặp chữ cái có break:\n",
    "\n",
    "a = [\"quan\",\"tri\",\"mang\",\".\",\"com\"]\n",
    "for chu in a:\n",
    "    if chu == \".\":\n",
    "        break\n",
    "    print(chu)\n",
    "print(\"Nội dung ngoài vòng lặp for\")"
   ]
  },
  {
   "cell_type": "markdown",
   "id": "be1b5ba5",
   "metadata": {},
   "source": [
    "### Ví dụ: Tìm chuỗi dài nhất"
   ]
  },
  {
   "cell_type": "code",
   "execution_count": null,
   "id": "d6e7ef2c",
   "metadata": {},
   "outputs": [],
   "source": []
  },
  {
   "cell_type": "markdown",
   "id": "69fa4d9f",
   "metadata": {},
   "source": [
    "## Vòng lặp lồng nhau"
   ]
  },
  {
   "cell_type": "code",
   "execution_count": 28,
   "id": "864bc218",
   "metadata": {
    "scrolled": true
   },
   "outputs": [
    {
     "name": "stdout",
     "output_type": "stream",
     "text": [
      "0 - 7\n",
      "0 - 14\n",
      "1 - 6\n",
      "1 - 13\n",
      "1 - 20\n",
      "2 - 5\n",
      "2 - 12\n",
      "2 - 19\n",
      "3 - 4\n",
      "3 - 11\n",
      "3 - 18\n",
      "4 - 10\n",
      "4 - 17\n",
      "5 - 9\n",
      "5 - 16\n",
      "6 - 8\n",
      "6 - 15\n",
      "7 - 14\n",
      "8 - 13\n",
      "8 - 20\n",
      "9 - 12\n",
      "9 - 19\n",
      "10 - 11\n",
      "10 - 18\n",
      "11 - 17\n",
      "12 - 16\n",
      "13 - 15\n",
      "15 - 20\n",
      "16 - 19\n",
      "17 - 18\n"
     ]
    }
   ],
   "source": [
    "# Hãy tìm ra tất cả các cặp số trong khoảng từ 0 đến 20 mà tổng của chúng chia hết cho 7\n",
    "\n",
    "for x in range (21):\n",
    "    for y in range (x + 1, 21):\n",
    "        if (x + y) % 7 == 0:\n",
    "            print(f\"{x} - {y}\")"
   ]
  },
  {
   "cell_type": "markdown",
   "id": "f60733ce-8d9d-4d1b-8aab-1fc5fffe8dc2",
   "metadata": {},
   "source": [
    "## Ví dụ: tìm các số nguyên tố nhỏ hơn 100.\r\n",
    "\r\n",
    "Định nghĩa: số nguyên tố là số lớn hơn 1 và chỉ chia hết cho 1 và chính nó.\r\n",
    "\r\n",
    "Ví dụ: 2, 3, 5, 7, 11, 13, 17, … là những số nguyên tố.\r\n",
    "\r\n",
    "Chú ý: Số 0 và 1 không phải là số nguyên tố. Chỉ có số 2 là số nguyên tố chẵn, tất cả các số chẵn khác không phải là số nguyên tố vì chúng chia hết cho 2.\r\n",
    "\r\n",
    "Ví dụ sau sử dụng 2 vòng lặp for lồng nhau:"
   ]
  },
  {
   "cell_type": "code",
   "execution_count": 1,
   "id": "b5b416d2-0210-4725-ba31-1ddbdc2bf4df",
   "metadata": {
    "scrolled": true
   },
   "outputs": [
    {
     "name": "stdout",
     "output_type": "stream",
     "text": [
      "2 là số nguyên tố\n",
      "3 là số nguyên tố\n",
      "5 là số nguyên tố\n",
      "7 là số nguyên tố\n",
      "11 là số nguyên tố\n",
      "13 là số nguyên tố\n",
      "17 là số nguyên tố\n",
      "19 là số nguyên tố\n",
      "23 là số nguyên tố\n",
      "29 là số nguyên tố\n",
      "31 là số nguyên tố\n",
      "37 là số nguyên tố\n",
      "41 là số nguyên tố\n",
      "43 là số nguyên tố\n",
      "47 là số nguyên tố\n",
      "53 là số nguyên tố\n",
      "59 là số nguyên tố\n",
      "61 là số nguyên tố\n",
      "67 là số nguyên tố\n",
      "71 là số nguyên tố\n",
      "73 là số nguyên tố\n",
      "79 là số nguyên tố\n",
      "83 là số nguyên tố\n",
      "89 là số nguyên tố\n",
      "97 là số nguyên tố\n"
     ]
    }
   ],
   "source": [
    "\n",
    "for num in range(2, 101):    #lặp từ 2 tới 100\n",
    "    for i in range(2, int(num / 2) + 1):  #lặp từ 2 tới num / 2\n",
    "        if num % i == 0:     #num có chia hết cho i hay không\n",
    "            break;          #thoát vòng lặp for thứ 2 \n",
    "                            #khối lệnh else không được thực thi\n",
    "    else:    #else được thực thi khi vòng lặp for thứ 2 kết thúc và không break\n",
    "        print (\"%d là số nguyên tố\" %(num));"
   ]
  }
 ],
 "metadata": {
  "kernelspec": {
   "display_name": "Python 3 (ipykernel)",
   "language": "python",
   "name": "python3"
  },
  "language_info": {
   "codemirror_mode": {
    "name": "ipython",
    "version": 3
   },
   "file_extension": ".py",
   "mimetype": "text/x-python",
   "name": "python",
   "nbconvert_exporter": "python",
   "pygments_lexer": "ipython3",
   "version": "3.11.4"
  }
 },
 "nbformat": 4,
 "nbformat_minor": 5
}
