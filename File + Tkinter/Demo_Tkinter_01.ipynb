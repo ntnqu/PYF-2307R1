{
 "cells": [
  {
   "cell_type": "code",
   "execution_count": 3,
   "id": "d3de2745-b94c-44a0-a0a3-408d7f101b93",
   "metadata": {},
   "outputs": [],
   "source": [
    "# Bước 1: chèn thư viện tkinter\n",
    "\n",
    "from tkinter import *\n",
    "\n",
    "# Bước 2: khai báo cửa sổ chính\n",
    "main = Tk()\n",
    "\n",
    "# Bước 2.1 Tinh chỉnh cửa sổ chính\n",
    "main.title(\"Cửa sổ chính\")\n",
    "main.geometry('300x200')\n",
    "\n",
    "\n",
    "# Bước 3: Khai báo và nhúng các control (widget) lên cửa sổ chính\n",
    "# gắn lable, entry, button\n",
    "\n",
    "\n",
    "# Bước 4: chạy sửa sổ chính\n",
    "main.mainloop()\n"
   ]
  }
 ],
 "metadata": {
  "kernelspec": {
   "display_name": "Python 3 (ipykernel)",
   "language": "python",
   "name": "python3"
  },
  "language_info": {
   "codemirror_mode": {
    "name": "ipython",
    "version": 3
   },
   "file_extension": ".py",
   "mimetype": "text/x-python",
   "name": "python",
   "nbconvert_exporter": "python",
   "pygments_lexer": "ipython3",
   "version": "3.11.4"
  }
 },
 "nbformat": 4,
 "nbformat_minor": 5
}
