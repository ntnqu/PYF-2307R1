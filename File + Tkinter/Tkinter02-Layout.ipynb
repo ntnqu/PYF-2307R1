{
 "cells": [
  {
   "cell_type": "markdown",
   "id": "4c559a90",
   "metadata": {},
   "source": [
    "## pack\n",
    "\n",
    "Lệnh `pack()` sẽ giúp sắp xếp các đối tượng theo thứ tự nhất định"
   ]
  },
  {
   "cell_type": "code",
   "execution_count": 3,
   "id": "d6af98e3",
   "metadata": {},
   "outputs": [],
   "source": [
    "# pack các ô tự canh giữa so với vị trí của cửa sổ\n",
    "\n",
    "from tkinter import *\n",
    "\n",
    "window = Tk()\n",
    "window.title(\"Login\")\n",
    "window.geometry(\"250x150\")\n",
    "\n",
    "lbl_login = Label(window, text=\"LOGIN\")\n",
    "lbl_username = Label(window, text=\"Username\")\n",
    "lbl_password = Label(window, text=\"Password\")\n",
    "\n",
    "username = Entry(window)\n",
    "password = Entry(window)\n",
    "\n",
    "btn_login = Button(window, text=\"Login\")\n",
    "\n",
    "lbl_login.pack()\n",
    "lbl_username.pack()\n",
    "username.pack()\n",
    "lbl_password.pack()\n",
    "password.pack()\n",
    "btn_login.pack()\n",
    "\n",
    "window.mainloop()"
   ]
  },
  {
   "cell_type": "markdown",
   "id": "0093b00d",
   "metadata": {},
   "source": [
    "## grid\n",
    "Lệnh `grid()` sẽ giúp sắp xếp các đối tượng theo một bảng, bắt đầu từ số 0"
   ]
  },
  {
   "cell_type": "code",
   "execution_count": 7,
   "id": "d89cd306",
   "metadata": {},
   "outputs": [],
   "source": [
    "from tkinter import *\n",
    "\n",
    "window = Tk()\n",
    "window.title(\"Login\")\n",
    "# window.geometry(\"250x100\")\n",
    "\n",
    "lbl_login = Label(window, text=\"LOGIN\")\n",
    "lbl_username = Label(window, text=\"Username\")\n",
    "lbl_password = Label(window, text=\"Password\")\n",
    "\n",
    "username = Entry(window)\n",
    "password = Entry(window)\n",
    "\n",
    "btn_login = Button(window, text=\"Login\")\n",
    "\n",
    "lbl_login.grid(row=0, column=0, columnspan=2) # tức là ô này chứa 2 ô trộn lại thành 1 ô\n",
    "lbl_username.grid(row = 1, column = 0)\n",
    "username.grid(row = 1, column = 1)\n",
    "lbl_password.grid(row = 2, column = 0)\n",
    "password.grid(row = 2, column =1)\n",
    "btn_login.grid(row = 3, column = 0)\n",
    "\n",
    "window.mainloop()"
   ]
  },
  {
   "cell_type": "code",
   "execution_count": 8,
   "id": "fede1f8b-b9a9-4ef1-a2b1-838c24b4262c",
   "metadata": {},
   "outputs": [],
   "source": [
    "from tkinter import *\n",
    "from tkinter import messagebox\n",
    "\n",
    "window = Tk()\n",
    "window.title(\"Login\")\n",
    "# window.geometry(\"250x100\")\n",
    "\n",
    "lbl_login = Label(window, text=\"LOGIN\")\n",
    "lbl_username = Label(window, text=\"Username\")\n",
    "lbl_password = Label(window, text=\"Password\")\n",
    "\n",
    "username = Entry(window)\n",
    "password = Entry(window)\n",
    "\n",
    "# define hàm xử lý login\n",
    "def handle_login():\n",
    "    messagebox.showinfo(message = f\"Vừa nhập vào user là: {username.get()}, pass là: {password.get()}\")\n",
    "\n",
    "btn_login = Button(window, text=\"Login\", command=handle_login)\n",
    "\n",
    "lbl_login.grid(row=0, column=0, columnspan=2) # tức là ô này chứa 2 ô trộn lại thành 1 ô\n",
    "lbl_username.grid(row = 1, column = 0)\n",
    "username.grid(row = 1, column = 1)\n",
    "lbl_password.grid(row = 2, column = 0)\n",
    "password.grid(row = 2, column =1)\n",
    "btn_login.grid(row = 3, column = 0)\n",
    "\n",
    "window.mainloop()"
   ]
  },
  {
   "cell_type": "code",
   "execution_count": 10,
   "id": "c067d3a9-25b8-4130-add7-b960cd14284f",
   "metadata": {},
   "outputs": [],
   "source": [
    "from tkinter import *\n",
    "from tkinter import messagebox\n",
    "\n",
    "window = Tk()\n",
    "window.title(\"Login\")\n",
    "# window.geometry(\"250x100\")\n",
    "\n",
    "lbl_login = Label(window, text=\"LOGIN\")\n",
    "lbl_username = Label(window, text=\"Username\")\n",
    "lbl_password = Label(window, text=\"Password\")\n",
    "\n",
    "username = Entry(window)\n",
    "password = Entry(window)\n",
    "age = Entry(window)\n",
    "\n",
    "# define hàm xử lý login\n",
    "def handle_login():\n",
    "    messagebox.showinfo(message = f\"Vừa nhập vào user là: {username.get()}, pass là: {password.get()}\")\n",
    "\n",
    "btn_login = Button(window, text=\"Login\", command=handle_login)\n",
    "\n",
    "lbl_login.grid(row=0, column=0, columnspan=2) # tức là ô này chứa 2 ô trộn lại thành 1 ô\n",
    "lbl_username.grid(row = 1, column = 0)\n",
    "username.grid(row = 1, column = 1)\n",
    "lbl_password.grid(row = 2, column = 0)\n",
    "password.grid(row = 2, column =1)\n",
    "\n",
    "age.grid(row = 3, column = 1)\n",
    "btn_login.grid(row = 4, column = 0)\n",
    "\n",
    "window.mainloop()"
   ]
  },
  {
   "cell_type": "markdown",
   "id": "f0a05577",
   "metadata": {},
   "source": [
    "## place\n",
    "\n",
    "Lệnh `place()` sắp xếp các widget bằng cách đặt chúng vào một vị trí cụ thể trong widget chính."
   ]
  },
  {
   "cell_type": "code",
   "execution_count": 6,
   "id": "070e6374",
   "metadata": {},
   "outputs": [],
   "source": [
    "from tkinter import *\n",
    "\n",
    "window = Tk()\n",
    "window.title(\"Login\")\n",
    "window.geometry(\"500x300\")\n",
    "\n",
    "lbl_login = Label(window, text=\"LOGIN\")\n",
    "lbl_username = Label(window, text=\"Username\")\n",
    "lbl_password = Label(window, text=\"Password\")\n",
    "\n",
    "username = Entry(window)\n",
    "password = Entry(window)\n",
    "\n",
    "btn_login = Button(window, text=\"Login\")\n",
    "\n",
    "lbl_login.place(x=200, y=10)\n",
    "\n",
    "window.mainloop()"
   ]
  }
 ],
 "metadata": {
  "kernelspec": {
   "display_name": "Python 3 (ipykernel)",
   "language": "python",
   "name": "python3"
  },
  "language_info": {
   "codemirror_mode": {
    "name": "ipython",
    "version": 3
   },
   "file_extension": ".py",
   "mimetype": "text/x-python",
   "name": "python",
   "nbconvert_exporter": "python",
   "pygments_lexer": "ipython3",
   "version": "3.11.4"
  }
 },
 "nbformat": 4,
 "nbformat_minor": 5
}
