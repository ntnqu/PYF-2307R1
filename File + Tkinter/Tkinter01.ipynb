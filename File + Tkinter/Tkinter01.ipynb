{
 "cells": [
  {
   "cell_type": "markdown",
   "id": "7637b45d",
   "metadata": {},
   "source": [
    "# Tkinter"
   ]
  },
  {
   "cell_type": "markdown",
   "id": "aef48c70",
   "metadata": {},
   "source": [
    "## Tkinter là gì?\n",
    "Tkinter là thư viện GUI tiêu chuẩn cho Python."
   ]
  },
  {
   "cell_type": "markdown",
   "id": "a555c9c5",
   "metadata": {},
   "source": [
    "## Các bước tạo ứng dụng Tkinter\n",
    "**Bước 1:** Import Tkinter module\n",
    "\n",
    "**Bước 2:** Tạo ra cửa số chính cho ứng dụng \n",
    "\n",
    "**Bước 3:** Thêm một số widget cho ứng dụng\n",
    "\n",
    "**Bước 4:** Tạo vòng lặp sự kiện chính để các hành động có thể diễn ra trên màn hình máy tính của người dùng\n"
   ]
  },
  {
   "cell_type": "markdown",
   "id": "f5a0f4e8",
   "metadata": {},
   "source": [
    "## Import Tkinter \n",
    "\n",
    "Cú pháp:\n",
    "\n",
    "`from tkinter import *`\n",
    "\n",
    "<b> Thêm thư viện: </b>"
   ]
  },
  {
   "cell_type": "code",
   "execution_count": 1,
   "id": "28a5f795",
   "metadata": {},
   "outputs": [],
   "source": [
    "from tkinter import *"
   ]
  },
  {
   "cell_type": "markdown",
   "id": "27f1704a",
   "metadata": {},
   "source": [
    "## Tạo ra cửa số cho ứng dụng\n",
    "\n",
    "Cú pháp:\n",
    "\n",
    "`<tên đối tượng> = Tk()`\n",
    "\n",
    "Đổi tiêu đề cửa số:\n",
    "\n",
    "`<tên đối tượng>.title(\"Tiêu đề mới\")`\n",
    "\n",
    "##### Lưu ý: ta cần thêm hàm `<tên đối tượng>.mainloop()` để cửa sổ hoạt động\n",
    "\n",
    "<b>Hãy khởi tạo một cửa sổ:</b>"
   ]
  },
  {
   "cell_type": "code",
   "execution_count": 9,
   "id": "3063eaa3",
   "metadata": {},
   "outputs": [
    {
     "data": {
      "text/plain": [
       "''"
      ]
     },
     "execution_count": 9,
     "metadata": {},
     "output_type": "execute_result"
    }
   ],
   "source": [
    "window = Tk()\n",
    "window.title(\"Login\")\n",
    "\n",
    "window.mainloop()"
   ]
  },
  {
   "cell_type": "markdown",
   "id": "6a7f27d7",
   "metadata": {},
   "source": [
    "## Thêm widget cho ứng dụng\n",
    "\n",
    "\n",
    "Widget là những đối tượng sẽ hiển thị và hoạt động trên cửa số\n",
    "\n",
    "Có rất nhiều loại Widget như: nút nhấn (button), nhãn (label), khung nhập dữ liệu (Entry),..."
   ]
  },
  {
   "cell_type": "code",
   "execution_count": 2,
   "id": "396c5f84",
   "metadata": {},
   "outputs": [],
   "source": [
    "from tkinter import *\n",
    "\n",
    "window = Tk()\n",
    "window.title(\"Login\")\n",
    "window.geometry('300x200')\n",
    "\n",
    "lbl_login = Label(window, text=\"LOGIN\")\n",
    "lbl_username = Label(window, text=\"Username\")\n",
    "lbl_password = Label(window, text=\"Password\")\n",
    "\n",
    "username = Entry(window)\n",
    "password = Entry(window)\n",
    "\n",
    "btn_login = Button(window, text=\"Login\")\n",
    "\n",
    "lbl_login.pack()\n",
    "lbl_username.pack()\n",
    "username.pack()\n",
    "lbl_password.pack()\n",
    "password.pack()\n",
    "btn_login.pack()\n",
    "\n",
    "window.mainloop()"
   ]
  },
  {
   "cell_type": "markdown",
   "id": "50cf878f",
   "metadata": {},
   "source": [
    "## label\n",
    "\n",
    "Cú pháp:\n",
    "\n",
    "`<tên đối tượng> = Label(<cửa số>,text = <nội dung>)`"
   ]
  },
  {
   "cell_type": "code",
   "execution_count": 10,
   "id": "6826b7e0",
   "metadata": {},
   "outputs": [],
   "source": [
    "lbl_login = Label(window, text=\"LOGIN\")\n",
    "lbl_username = Label(window, text=\"Username\")\n",
    "lbl_password = Label(window, text=\"Password\")"
   ]
  },
  {
   "cell_type": "markdown",
   "id": "fbf4ab01",
   "metadata": {},
   "source": [
    "## entry\n",
    "\n",
    "Cú pháp:\n",
    "\n",
    "`<tên đối tượng> = Entry(<cửa số>)`\n"
   ]
  },
  {
   "cell_type": "code",
   "execution_count": 11,
   "id": "a8dea346",
   "metadata": {},
   "outputs": [],
   "source": [
    "username = Entry(window)\n",
    "password = Entry(window)"
   ]
  },
  {
   "cell_type": "markdown",
   "id": "220d3157",
   "metadata": {},
   "source": [
    "## button\n",
    "\n",
    "Cú pháp:\n",
    "\n",
    "`<tên đối tượng> = Button(<cửa số>,text = <nội dung>)`"
   ]
  },
  {
   "cell_type": "code",
   "execution_count": 12,
   "id": "4376bd13",
   "metadata": {},
   "outputs": [],
   "source": [
    "btn_login = Button(window, text=\"Login\")"
   ]
  },
  {
   "cell_type": "code",
   "execution_count": null,
   "id": "8ce9e68a-5c6d-4f4e-a528-067180d60169",
   "metadata": {},
   "outputs": [],
   "source": [
    "\"\"\"\n",
    "Thiết kế màn hình nhập họ tên và nút Say hello\n",
    "khi bấm nút 'Say hello' thì hiển thị message 'Chào anh/chị + tên nhập'\n",
    "\"\"\""
   ]
  },
  {
   "cell_type": "code",
   "execution_count": 8,
   "id": "65587e53-4a9e-4700-9a16-04fc457fc29e",
   "metadata": {},
   "outputs": [],
   "source": [
    "from tkinter import *\n",
    "\n",
    "main = Tk()\n",
    "main.title(\"Hello\")\n",
    "main.geometry('200x100')\n",
    "\n",
    "Label(main, text = \"Say Hello Dialog\").pack()\n",
    "Label(main, text = \"Input your name:\").pack()\n",
    "name = Entry(main)\n",
    "name.pack()\n",
    "Button(main, text = \"Say Hello\").pack()\n",
    "\n",
    "\n",
    "main.mainloop()"
   ]
  },
  {
   "cell_type": "code",
   "execution_count": 15,
   "id": "bd935c3b-c1dd-4656-9ecc-a6e3d4b3099b",
   "metadata": {},
   "outputs": [],
   "source": [
    "from tkinter import *\n",
    "\n",
    "main = Tk()\n",
    "main.title(\"Hello\")\n",
    "main.geometry('200x100')\n",
    "\n",
    "Label(main, text = \"Say Hello Dialog\").pack()\n",
    "Label(main, text = \"Input your name:\").place(x=10, y=40)\n",
    "name = Entry(main)\n",
    "name.place(x=110, y=40)\n",
    "Button(main, text = \"Say Hello\").place(x=70, y=70)\n",
    "\n",
    "\n",
    "main.mainloop()"
   ]
  },
  {
   "cell_type": "code",
   "execution_count": 21,
   "id": "19604962-c2c4-4db9-b56c-7318e691a3b4",
   "metadata": {},
   "outputs": [],
   "source": [
    "from tkinter import *\n",
    "from tkinter import messagebox\n",
    "\n",
    "\n",
    "main = Tk()\n",
    "main.title(\"Hello\")\n",
    "main.geometry('200x100')\n",
    "\n",
    "\n",
    "# Khai báo biến giữ giá trị nhập liệu của Entry\n",
    "your_name = StringVar(value = \"Tèo\")\n",
    "\n",
    "\n",
    "# Hàm xử lý sự kiện - xử lý nút say hiện ra cửa sổ thông báo\n",
    "def handle_click_say():\n",
    "    messagebox.showinfo(title = \"Thông báo\", message = f\"Xin chào bạn: {your_name.get()}\")\n",
    "\n",
    "# Nhãn hiển thị \n",
    "Label(main, text = \"Say Hello Dialog\").pack()\n",
    "Label(main, text = \"Input your name:\").place(x=10, y=40)\n",
    "\n",
    "# Ô nhập liệu\n",
    "name = Entry(main, textvariable = your_name)\n",
    "name.place(x=110, y=40)\n",
    "\n",
    "# Nút nhấn\n",
    "Button(main, text = \"Say Hello\", command=handle_click_say).place(x=70, y=70)\n",
    "\n",
    "\n",
    "main.mainloop()"
   ]
  },
  {
   "cell_type": "markdown",
   "id": "8bd06b13",
   "metadata": {},
   "source": [
    "## combobox"
   ]
  },
  {
   "cell_type": "code",
   "execution_count": null,
   "id": "74694770",
   "metadata": {},
   "outputs": [],
   "source": []
  },
  {
   "cell_type": "markdown",
   "id": "f5203893",
   "metadata": {},
   "source": [
    "## text"
   ]
  },
  {
   "cell_type": "code",
   "execution_count": null,
   "id": "f822f455",
   "metadata": {},
   "outputs": [],
   "source": []
  },
  {
   "cell_type": "markdown",
   "id": "7b58544c",
   "metadata": {},
   "source": [
    "## messagebox"
   ]
  },
  {
   "cell_type": "code",
   "execution_count": null,
   "id": "d721e682",
   "metadata": {},
   "outputs": [],
   "source": []
  },
  {
   "cell_type": "markdown",
   "id": "eebac94e",
   "metadata": {},
   "source": [
    "## checkbutton"
   ]
  },
  {
   "cell_type": "code",
   "execution_count": null,
   "id": "1e534acb",
   "metadata": {},
   "outputs": [],
   "source": []
  }
 ],
 "metadata": {
  "kernelspec": {
   "display_name": "Python 3 (ipykernel)",
   "language": "python",
   "name": "python3"
  },
  "language_info": {
   "codemirror_mode": {
    "name": "ipython",
    "version": 3
   },
   "file_extension": ".py",
   "mimetype": "text/x-python",
   "name": "python",
   "nbconvert_exporter": "python",
   "pygments_lexer": "ipython3",
   "version": "3.11.4"
  }
 },
 "nbformat": 4,
 "nbformat_minor": 5
}
