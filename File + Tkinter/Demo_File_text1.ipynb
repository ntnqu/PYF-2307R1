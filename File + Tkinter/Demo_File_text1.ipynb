{
 "cells": [
  {
   "cell_type": "code",
   "execution_count": 1,
   "id": "7f4e6a9e-c493-48a5-8a19-fcb7667360a1",
   "metadata": {},
   "outputs": [
    {
     "name": "stdout",
     "output_type": "stream",
     "text": [
      "['Nguyá»…n VÄƒn TÃ¨o\\n', '11/11/2011\\n', 'Nam\\n', 'Ä‚n, ngá»§, du lá»‹ch, xem phim']\n"
     ]
    }
   ],
   "source": [
    "myfile = open(\"Text1.txt\")\n",
    "\n",
    "# đọc các dòng\n",
    "lines = myfile.readlines()\n",
    "print(lines)\n",
    "\n",
    "myfile.close()"
   ]
  },
  {
   "cell_type": "code",
   "execution_count": 2,
   "id": "f525e802-6abe-4766-8aef-42d901ce8728",
   "metadata": {},
   "outputs": [
    {
     "name": "stdout",
     "output_type": "stream",
     "text": [
      "['Nguyễn Văn Tèo\\n', '11/11/2011\\n', 'Nam\\n', 'Ăn, ngủ, du lịch, xem phim']\n"
     ]
    }
   ],
   "source": [
    "myfile = open(\"Text1.txt\", \"r\", encoding= \"utf-8\")\n",
    "\n",
    "# đọc các dòng\n",
    "lines = myfile.readlines()\n",
    "print(lines)\n",
    "\n",
    "myfile.close()"
   ]
  },
  {
   "cell_type": "code",
   "execution_count": 3,
   "id": "15bd9844-45a7-4ce9-a1a2-53ccd91c53f9",
   "metadata": {},
   "outputs": [
    {
     "name": "stdout",
     "output_type": "stream",
     "text": [
      "['Nguyễn Văn Tèo\\n', '11/11/2011\\n', 'Nam\\n', 'Ăn, ngủ, du lịch, xem phim']\n",
      "Nguyễn Văn Tèo\n",
      "\n",
      "11/11/2011\n",
      "\n",
      "Nam\n",
      "\n",
      "Ăn, ngủ, du lịch, xem phim\n"
     ]
    }
   ],
   "source": [
    "myfile = open(\"Text1.txt\", \"r\", encoding= \"utf-8\")\n",
    "\n",
    "# đọc các dòng\n",
    "lines = myfile.readlines()\n",
    "print(lines)\n",
    "\n",
    "for item in lines:\n",
    "    print(item)\n",
    "# khi in sẽ xuất hiện 2 dòng vì defaul thì lệnh print đã mặc định xuống 1 dòng, + \\n xuống 1 dòng nữa\n",
    "# do vậy khi in ra sẽ xuất hiện 2 dòng \n",
    "\n",
    "myfile.close()"
   ]
  },
  {
   "cell_type": "code",
   "execution_count": 4,
   "id": "7d62f23f-5f87-465b-9eca-9a581ce3cd11",
   "metadata": {},
   "outputs": [
    {
     "name": "stdout",
     "output_type": "stream",
     "text": [
      "['Nguyễn Văn Tèo\\n', '11/11/2011\\n', 'Nam\\n', 'Ăn, ngủ, du lịch, xem phim']\n",
      "Nguyễn Văn Tèo\n",
      "11/11/2011\n",
      "Nam\n",
      "Ăn, ngủ, du lịch, xem phim\n"
     ]
    }
   ],
   "source": [
    "myfile = open(\"Text1.txt\", \"r\", encoding= \"utf-8\")\n",
    "\n",
    "# đọc các dòng\n",
    "lines = myfile.readlines()\n",
    "print(lines)\n",
    "\n",
    "for item in lines:\n",
    "    print(item.strip())\n",
    "\n",
    "\n",
    "myfile.close()"
   ]
  },
  {
   "cell_type": "code",
   "execution_count": null,
   "id": "88465ff1-8cde-4b3b-873e-76785907f97e",
   "metadata": {},
   "outputs": [],
   "source": [
    "'''\n",
    "myfile = open(\"Text1.txt\", \"r\", encoding= \"utf-8\")\n",
    "r = read (mở file chỉ đọc)\n",
    "a = append (mở file để thêm)\n",
    "w = write (mở để ghi)\n",
    "\n",
    "\n",
    "nhớ có lệnh close, đóng file, để ng sử dụng sau có thể dùng được file\n",
    "'''\n"
   ]
  },
  {
   "cell_type": "code",
   "execution_count": 5,
   "id": "bea0855c-7aa9-448e-9d28-b39c35f4f183",
   "metadata": {},
   "outputs": [
    {
     "name": "stdout",
     "output_type": "stream",
     "text": [
      "Nguyễn Văn Tèo\n",
      "11/11/2011\n",
      "Nam\n",
      "Ăn, ngủ, du lịch, xem phim\n"
     ]
    }
   ],
   "source": [
    "myfile = open(\"Text1.txt\", \"r\", encoding= \"utf-8\")\n",
    "\n",
    "# đọc các dòng\n",
    "\n",
    "\n",
    "for item in myfile:\n",
    "    print(item.strip())\n",
    "\n",
    "\n",
    "myfile.close()"
   ]
  },
  {
   "cell_type": "code",
   "execution_count": 2,
   "id": "a4e82333-3056-4b31-b921-fd432a13cf9a",
   "metadata": {},
   "outputs": [
    {
     "name": "stdout",
     "output_type": "stream",
     "text": [
      "['Nguyễn Văn Tèo\\n', '11/11/2011\\n', 'Nam\\n', 'Ăn, ngủ, du lịch, xem phim']\n",
      "4\n",
      "Dòng dài nhất có: 26 ký tự\n",
      "Ăn, ngủ, du lịch, xem phim\n"
     ]
    }
   ],
   "source": [
    "# Tìn dòng có nhiều ký tự nhất\n",
    "myfile = open(\"Text1.txt\", \"r\", encoding= \"utf-8\")\n",
    "\n",
    "# đọc các dòng\n",
    "lines = myfile.readlines() # list []: chỉ số đánh từ 0, 1, .. len -1\n",
    "\n",
    "print(lines)\n",
    "print(len(lines))\n",
    "\n",
    "row_index = 0\n",
    "for idx in range (1, len(lines)): # duyệt từng dòng\n",
    "    if len(lines[idx]) > len(lines[row_index]):\n",
    "        row_index = idx\n",
    "\n",
    "print(f\"Dòng dài nhất có: {len(lines[row_index])} ký tự\")\n",
    "print(lines[row_index])\n",
    "\n",
    "\n",
    "myfile.close()"
   ]
  },
  {
   "cell_type": "code",
   "execution_count": 3,
   "id": "ae2c262c-4496-4ebe-b919-d36a13c890ab",
   "metadata": {},
   "outputs": [
    {
     "name": "stdout",
     "output_type": "stream",
     "text": [
      "Dòng dài nhất có: 26 ký tự\n",
      "Ăn, ngủ, du lịch, xem phim\n"
     ]
    }
   ],
   "source": [
    "# Tìn dòng có nhiều ký tự nhất\n",
    "myfile = open(\"Text1.txt\", \"r\", encoding= \"utf-8\")\n",
    "\n",
    "longest = \"\"\n",
    "\n",
    "for line in myfile:\n",
    "    if len(line) > len(longest):\n",
    "        longest = line\n",
    "\n",
    "print(f\"Dòng dài nhất có: {len(longest)} ký tự\")\n",
    "print(longest)"
   ]
  },
  {
   "cell_type": "code",
   "execution_count": 4,
   "id": "b023d153-c8ef-4459-bc17-2059de1b2540",
   "metadata": {},
   "outputs": [
    {
     "name": "stdout",
     "output_type": "stream",
     "text": [
      "123 Tèo 9.5 8.1 7.6 3.1 3.2\n",
      "456 Minh 7.0 9.6 6.5 4.9 8.8\n",
      "789 Toàn 8.0 8.0 8.0 8.0 7.5\n"
     ]
    }
   ],
   "source": [
    "\"Đọc nội dung file hours.txt\"\n",
    "\n",
    "# dùng cấu trúc with thì không cần dùng lệnh close\n",
    "\n",
    "with open(\"hours.txt\", \"r\", encoding = \"utf-8\") as myfile:\n",
    "    for line in myfile:\n",
    "        print(line.strip())\n",
    "    \n"
   ]
  },
  {
   "cell_type": "code",
   "execution_count": 5,
   "id": "0ecf81e3-fd0a-4588-aa74-bc5d60a53b46",
   "metadata": {},
   "outputs": [
    {
     "name": "stdout",
     "output_type": "stream",
     "text": [
      "['123', 'Tèo', '9.5', '8.1', '7.6', '3.1', '3.2']\n",
      "['456', 'Minh', '7.0', '9.6', '6.5', '4.9', '8.8']\n",
      "['789', 'Toàn', '8.0', '8.0', '8.0', '8.0', '7.5']\n"
     ]
    }
   ],
   "source": [
    "\"Đọc nội dung file hours.txt\"\n",
    "\n",
    "# dùng cấu trúc with thì không cần dùng lệnh close\n",
    "\n",
    "with open(\"hours.txt\", \"r\", encoding = \"utf-8\") as myfile:\n",
    "    for line in myfile:\n",
    "        mang = line.strip().split()\n",
    "        print(mang)\n",
    "    "
   ]
  },
  {
   "cell_type": "code",
   "execution_count": 8,
   "id": "8830c341-0d8f-46d1-853b-39457377d7cb",
   "metadata": {},
   "outputs": [
    {
     "name": "stdout",
     "output_type": "stream",
     "text": [
      "Tên:  Tèo ID:  123 ['9.5', '8.1', '7.6', '3.1', '3.2']\n",
      "Tên:  Minh ID:  456 ['7.0', '9.6', '6.5', '4.9', '8.8']\n",
      "Tên:  Toàn ID:  789 ['8.0', '8.0', '8.0', '8.0', '7.5']\n"
     ]
    }
   ],
   "source": [
    "\"Đọc nội dung file hours.txt\"\n",
    "\n",
    "# dùng cấu trúc with thì không cần dùng lệnh close\n",
    "\n",
    "with open(\"hours.txt\", \"r\", encoding = \"utf-8\") as myfile:\n",
    "    for line in myfile:\n",
    "        mang = line.strip().split()\n",
    "        print(\"Tên: \", mang[1], 'ID: ', mang[0], mang[2:])\n",
    "        "
   ]
  },
  {
   "cell_type": "code",
   "execution_count": 25,
   "id": "4c408cf3-debe-43bf-9e79-e832d3443dfa",
   "metadata": {},
   "outputs": [
    {
     "name": "stdout",
     "output_type": "stream",
     "text": [
      "Tên: Tèo, ID: 123, thời gian trung bình: 6.3\n",
      "Tên: Minh, ID: 456, thời gian trung bình: 7.36\n",
      "Tên: Toàn, ID: 789, thời gian trung bình: 7.9\n"
     ]
    }
   ],
   "source": [
    "\"Đọc nội dung file hours.txt\"\n",
    "\n",
    "# dùng cấu trúc with thì không cần dùng lệnh close\n",
    "\n",
    "with open(\"hours.txt\", \"r\", encoding = \"utf-8\") as myfile:\n",
    "    for line in myfile:\n",
    "        mang = line.strip().split()\n",
    "        count = 0\n",
    "        s = 0\n",
    "        for i in mang[2:]:\n",
    "            s = s + float(i)\n",
    "            count +=1\n",
    "            tbc = s/count\n",
    "        print(f\"Tên: {mang[1]}, ID: {mang[0]}, thời gian trung bình: {round(tbc, 2)}\")\n",
    "        "
   ]
  },
  {
   "cell_type": "code",
   "execution_count": 23,
   "id": "54acc100-54b5-41e4-b9ab-c457d01221d3",
   "metadata": {},
   "outputs": [
    {
     "name": "stdout",
     "output_type": "stream",
     "text": [
      "Tên:  Tèo ID:  123 Tổng giờ làm:  31.5 Trung bình giờ làm:  6.3\n",
      "Tên:  Minh ID:  456 Tổng giờ làm:  36.8 Trung bình giờ làm:  7.36\n",
      "Tên:  Toàn ID:  789 Tổng giờ làm:  39.5 Trung bình giờ làm:  7.9\n"
     ]
    }
   ],
   "source": [
    "\"Đọc nội dung file hours.txt\"\n",
    "\n",
    "# dùng cấu trúc with thì không cần dùng lệnh close\n",
    "\n",
    "with open(\"hours.txt\", \"r\", encoding = \"utf-8\") as myfile:\n",
    "    for line in myfile:\n",
    "        mang = line.strip().split()\n",
    "        mon, tue, wed, thu, fri = mang[2:]\n",
    "        total = float(mon) + float(tue) + float(wed) + float(thu) + float(fri)\n",
    "        \n",
    "        print(\"Tên: \", mang[1], 'ID: ', mang[0], \"Tổng giờ làm: \", round(total, 2), \"Trung bình giờ làm: \", round(total/5, 2))\n",
    "        "
   ]
  },
  {
   "cell_type": "code",
   "execution_count": 31,
   "id": "7d24838e-bba6-4ed7-919e-ca7b02a916a4",
   "metadata": {},
   "outputs": [
    {
     "name": "stdout",
     "output_type": "stream",
     "text": [
      "['Tên: Tèo, ID: 123, Tổng giờ làm: 31.5, Trung bình giờ làm: 6.3\\n', 'Tên: Minh, ID: 456, Tổng giờ làm: 36.8, Trung bình giờ làm: 7.36\\n', 'Tên: Toàn, ID: 789, Tổng giờ làm: 39.5, Trung bình giờ làm: 7.9\\n']\n"
     ]
    }
   ],
   "source": [
    "\"Đọc nội dung file hours.txt\"\n",
    "\n",
    "# dùng cấu trúc with thì không cần dùng lệnh close\n",
    "data = []\n",
    "\n",
    "with open(\"hours.txt\", \"r\", encoding = \"utf-8\") as myfile:\n",
    "    for line in myfile:\n",
    "        mang = line.strip().split()\n",
    "        mon, tue, wed, thu, fri = mang[2:]\n",
    "        total = float(mon) + float(tue) + float(wed) + float(thu) + float(fri)\n",
    "        \n",
    "#        print(f\"Tên: {mang[1]}, ID: {mang[0]}, Tổng giờ làm: {round(total, 2)}, Trung bình giờ làm: {round(total/5, 2)}\")\n",
    "        data.append(f\"Tên: {mang[1]}, ID: {mang[0]}, Tổng giờ làm: {round(total, 2)}, Trung bình giờ làm: {round(total/5, 2)}\\n\")\n",
    "\n",
    "print(data)\n",
    "\n",
    "with open(\"output.txt\", \"w\", encoding = \"utf-8\") as myfile:\n",
    "    myfile.write(\"EMPLOYEE\\n\")\n",
    "    myfile.writelines(data)"
   ]
  },
  {
   "cell_type": "code",
   "execution_count": null,
   "id": "7e3c4da0-460f-4172-b76e-b286a1c03f5c",
   "metadata": {},
   "outputs": [],
   "source": [
    "'''\n",
    "file.write(s): ghi xuống file chuỗi\n",
    "file.writeline(s): ghi xuống file mảng/list các chuỗi\n",
    "\n",
    "'''"
   ]
  }
 ],
 "metadata": {
  "kernelspec": {
   "display_name": "Python 3 (ipykernel)",
   "language": "python",
   "name": "python3"
  },
  "language_info": {
   "codemirror_mode": {
    "name": "ipython",
    "version": 3
   },
   "file_extension": ".py",
   "mimetype": "text/x-python",
   "name": "python",
   "nbconvert_exporter": "python",
   "pygments_lexer": "ipython3",
   "version": "3.11.4"
  }
 },
 "nbformat": 4,
 "nbformat_minor": 5
}
