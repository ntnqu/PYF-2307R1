{
 "cells": [
  {
   "cell_type": "code",
   "execution_count": 1,
   "id": "7f4e6a9e-c493-48a5-8a19-fcb7667360a1",
   "metadata": {},
   "outputs": [
    {
     "name": "stdout",
     "output_type": "stream",
     "text": [
      "['Nguyá»…n VÄƒn TÃ¨o\\n', '11/11/2011\\n', 'Nam\\n', 'Ä‚n, ngá»§, du lá»‹ch, xem phim']\n"
     ]
    }
   ],
   "source": [
    "myfile = open(\"Text1.txt\")\n",
    "\n",
    "# đọc các dòng\n",
    "lines = myfile.readlines()\n",
    "print(lines)\n",
    "\n",
    "myfile.close()"
   ]
  },
  {
   "cell_type": "code",
   "execution_count": 2,
   "id": "f525e802-6abe-4766-8aef-42d901ce8728",
   "metadata": {},
   "outputs": [
    {
     "name": "stdout",
     "output_type": "stream",
     "text": [
      "['Nguyễn Văn Tèo\\n', '11/11/2011\\n', 'Nam\\n', 'Ăn, ngủ, du lịch, xem phim']\n"
     ]
    }
   ],
   "source": [
    "myfile = open(\"Text1.txt\", \"r\", encoding= \"utf-8\")\n",
    "\n",
    "# đọc các dòng\n",
    "lines = myfile.readlines()\n",
    "print(lines)\n",
    "\n",
    "myfile.close()"
   ]
  },
  {
   "cell_type": "code",
   "execution_count": 3,
   "id": "15bd9844-45a7-4ce9-a1a2-53ccd91c53f9",
   "metadata": {},
   "outputs": [
    {
     "name": "stdout",
     "output_type": "stream",
     "text": [
      "['Nguyễn Văn Tèo\\n', '11/11/2011\\n', 'Nam\\n', 'Ăn, ngủ, du lịch, xem phim']\n",
      "Nguyễn Văn Tèo\n",
      "\n",
      "11/11/2011\n",
      "\n",
      "Nam\n",
      "\n",
      "Ăn, ngủ, du lịch, xem phim\n"
     ]
    }
   ],
   "source": [
    "myfile = open(\"Text1.txt\", \"r\", encoding= \"utf-8\")\n",
    "\n",
    "# đọc các dòng\n",
    "lines = myfile.readlines()\n",
    "print(lines)\n",
    "\n",
    "for item in lines:\n",
    "    print(item)\n",
    "# khi in sẽ xuất hiện 2 dòng vì defaul thì lệnh print đã mặc định xuống 1 dòng, + \\n xuống 1 dòng nữa\n",
    "# do vậy khi in ra sẽ xuất hiện 2 dòng \n",
    "\n",
    "myfile.close()"
   ]
  },
  {
   "cell_type": "code",
   "execution_count": 4,
   "id": "7d62f23f-5f87-465b-9eca-9a581ce3cd11",
   "metadata": {},
   "outputs": [
    {
     "name": "stdout",
     "output_type": "stream",
     "text": [
      "['Nguyễn Văn Tèo\\n', '11/11/2011\\n', 'Nam\\n', 'Ăn, ngủ, du lịch, xem phim']\n",
      "Nguyễn Văn Tèo\n",
      "11/11/2011\n",
      "Nam\n",
      "Ăn, ngủ, du lịch, xem phim\n"
     ]
    }
   ],
   "source": [
    "myfile = open(\"Text1.txt\", \"r\", encoding= \"utf-8\")\n",
    "\n",
    "# đọc các dòng\n",
    "lines = myfile.readlines()\n",
    "print(lines)\n",
    "\n",
    "for item in lines:\n",
    "    print(item.strip())\n",
    "\n",
    "\n",
    "myfile.close()"
   ]
  },
  {
   "cell_type": "code",
   "execution_count": null,
   "id": "88465ff1-8cde-4b3b-873e-76785907f97e",
   "metadata": {},
   "outputs": [],
   "source": [
    "'''\n",
    "myfile = open(\"Text1.txt\", \"r\", encoding= \"utf-8\")\n",
    "r = read (mở file chỉ đọc)\n",
    "a = append (mở file để thêm)\n",
    "w = write (mở để ghi)\n",
    "\n",
    "\n",
    "nhớ có lệnh close, đóng file, để ng sử dụng sau có thể dùng được file\n",
    "'''\n"
   ]
  }
 ],
 "metadata": {
  "kernelspec": {
   "display_name": "Python 3 (ipykernel)",
   "language": "python",
   "name": "python3"
  },
  "language_info": {
   "codemirror_mode": {
    "name": "ipython",
    "version": 3
   },
   "file_extension": ".py",
   "mimetype": "text/x-python",
   "name": "python",
   "nbconvert_exporter": "python",
   "pygments_lexer": "ipython3",
   "version": "3.11.4"
  }
 },
 "nbformat": 4,
 "nbformat_minor": 5
}
