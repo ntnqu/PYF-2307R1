{
 "cells": [
  {
   "cell_type": "code",
   "execution_count": null,
   "id": "afeeef1e",
   "metadata": {},
   "outputs": [],
   "source": [
    "\"\"\"\n",
    "Warm-up 1: Cho một danh sách sản phẩm như sau:\n",
    "products = {\n",
    "    'SMART WATCH': 550,\n",
    "    'PHONE' : 1000,\n",
    "    'PLAYSTATION': 500,\n",
    "    'LAPTOP' : 1550,\n",
    "    'MUSIC PLAYER' : 600,\n",
    "    'TABLET' : 400 \n",
    "}\n",
    "Viết chương trình hiển thị các sản phẩm có giá bé hơn hoặc bằng so với giá tiền mà người dùng nhập\n",
    "\"\"\""
   ]
  },
  {
   "cell_type": "code",
   "execution_count": 13,
   "id": "3b1b5271-0c6d-43b7-83ed-9007baaea7b1",
   "metadata": {},
   "outputs": [
    {
     "name": "stdin",
     "output_type": "stream",
     "text": [
      "Nhập vào thu nhập của bạn:  456\n"
     ]
    },
    {
     "name": "stdout",
     "output_type": "stream",
     "text": [
      "class - 400\n"
     ]
    }
   ],
   "source": [
    "income = int(input(\"Nhập vào thu nhập của bạn: \"))\n",
    "\n",
    "products = {\n",
    "    'SMART WATCH': 550,\n",
    "    'PHONE' : 1000,\n",
    "    'PLAYSTATION': 500,\n",
    "    'LAPTOP' : 1550,\n",
    "    'MUSIC PLAYER' : 600,\n",
    "    'TABLET' : 400 \n",
    "}\n",
    "\n",
    "for value in products.values():\n",
    "    if value <= income:\n",
    "        print(key, '-', value)"
   ]
  },
  {
   "cell_type": "code",
   "execution_count": 41,
   "id": "3f63f7fa-0295-48b2-9469-19d14f9739cc",
   "metadata": {},
   "outputs": [
    {
     "name": "stdin",
     "output_type": "stream",
     "text": [
      "Nhập vào thu nhập của bạn:  456\n"
     ]
    },
    {
     "name": "stdout",
     "output_type": "stream",
     "text": [
      "class\n"
     ]
    }
   ],
   "source": [
    "income = int(input(\"Nhập vào thu nhập của bạn: \"))\n",
    "\n",
    "products = {\n",
    "    'SMART WATCH': 550,\n",
    "    'PHONE' : 1000,\n",
    "    'PLAYSTATION': 500,\n",
    "    'LAPTOP' : 1550,\n",
    "    'MUSIC PLAYER' : 600,\n",
    "    'TABLET' : 400 \n",
    "}\n",
    "\n",
    "for value in products.values():\n",
    "    if value <= income:\n",
    "        print(key)"
   ]
  },
  {
   "cell_type": "code",
   "execution_count": null,
   "id": "b1ed5fdc-379a-4a4a-901c-1e2732ad9762",
   "metadata": {},
   "outputs": [],
   "source": [
    "budget = int(input(\"Nhập vào budget của bạn: \"))\n",
    "\n",
    "products = {\n",
    "    'SMART WATCH': 550,\n",
    "    'PHONE' : 1000,\n",
    "    'PLAYSTATION': 500,\n",
    "    'LAPTOP' : 1550,\n",
    "    'MUSIC PLAYER' : 600,\n",
    "    'TABLET' : 400 \n",
    "}\n",
    "\n",
    "for value in products.values():\n",
    "    if value <= income:\n",
    "        print(key)"
   ]
  },
  {
   "cell_type": "code",
   "execution_count": null,
   "id": "d13dac33",
   "metadata": {},
   "outputs": [],
   "source": [
    "\"\"\"\n",
    "Warm-up 2: \n",
    "\"\"\""
   ]
  },
  {
   "cell_type": "markdown",
   "id": "8c8e6996",
   "metadata": {},
   "source": [
    "## Bài 1: list to dict\n",
    "Cho 2 list có cùng số phần tử với nhau. Hãy tạo ra một dict từ 2 list đã cho theo format dưới đây:"
   ]
  },
  {
   "cell_type": "markdown",
   "id": "3a7678e1",
   "metadata": {},
   "source": [
    "**Input**"
   ]
  },
  {
   "cell_type": "code",
   "execution_count": null,
   "id": "0fbebf7c",
   "metadata": {},
   "outputs": [],
   "source": [
    "keys = ['Ten', 'Twenty', 'Thirty']\n",
    "values = [10, 20, 30]"
   ]
  },
  {
   "cell_type": "markdown",
   "id": "40e2e982",
   "metadata": {},
   "source": [
    "**Output**"
   ]
  },
  {
   "cell_type": "code",
   "execution_count": null,
   "id": "a39de7b9",
   "metadata": {},
   "outputs": [],
   "source": [
    "{'Ten': 10, 'Twenty': 20, 'Thirty': 30}"
   ]
  },
  {
   "cell_type": "markdown",
   "id": "a172c210",
   "metadata": {},
   "source": [
    "**Your code**"
   ]
  },
  {
   "cell_type": "code",
   "execution_count": null,
   "id": "cc626371",
   "metadata": {},
   "outputs": [],
   "source": [
    "keys = ['Ten', 'Twenty', 'Thirty']\n",
    "values = [10, 20, 30]\n",
    "# code below this line\n",
    "\n",
    "# code above this line"
   ]
  },
  {
   "cell_type": "code",
   "execution_count": 1,
   "id": "697433e1-eea0-4db5-943d-1bae7f44a470",
   "metadata": {},
   "outputs": [
    {
     "ename": "SyntaxError",
     "evalue": "invalid syntax (4060369001.py, line 6)",
     "output_type": "error",
     "traceback": [
      "\u001b[1;36m  Cell \u001b[1;32mIn[1], line 6\u001b[1;36m\u001b[0m\n\u001b[1;33m    key[i] values[i]\u001b[0m\n\u001b[1;37m           ^\u001b[0m\n\u001b[1;31mSyntaxError\u001b[0m\u001b[1;31m:\u001b[0m invalid syntax\n"
     ]
    }
   ],
   "source": [
    "keys = ['Ten', 'Twenty', 'Thirty']\n",
    "values = [10, 20, 30]\n",
    "\n",
    "new_dict ={}\n",
    "for i in range(len(keys)):\n",
    "    key[i] values[i]\n",
    "    new_dict[keys[i]] = values[i]\n",
    "    \n",
    "print(new_dict)"
   ]
  },
  {
   "cell_type": "markdown",
   "id": "42f7b4c2",
   "metadata": {},
   "source": [
    "## Bài 2: merge dictionary\n",
    "Hãy gộp 2 dictionary sau đây thành một."
   ]
  },
  {
   "cell_type": "markdown",
   "id": "dffe0f02",
   "metadata": {},
   "source": [
    "**Input**"
   ]
  },
  {
   "cell_type": "code",
   "execution_count": null,
   "id": "f4b5792d",
   "metadata": {},
   "outputs": [],
   "source": [
    "dict1 = {'Ten': 10, 'Twenty': 20, 'Thirty': 30}\n",
    "dict2 = {'Thirty': 30, 'Fourty': 40, 'Fifty': 50}"
   ]
  },
  {
   "cell_type": "markdown",
   "id": "e462fbb0",
   "metadata": {},
   "source": [
    "**Output**"
   ]
  },
  {
   "cell_type": "code",
   "execution_count": null,
   "id": "645f3aff",
   "metadata": {},
   "outputs": [],
   "source": [
    "{'Ten': 10, 'Twenty': 20, 'Thirty': 30, 'Fourty': 40, 'Fifty': 50}"
   ]
  },
  {
   "cell_type": "markdown",
   "id": "4dfb4297",
   "metadata": {},
   "source": [
    "**Your code**"
   ]
  },
  {
   "cell_type": "code",
   "execution_count": 2,
   "id": "9233356c",
   "metadata": {},
   "outputs": [
    {
     "name": "stdout",
     "output_type": "stream",
     "text": [
      "{'Ten': 10, 'Twenty': 20, 'Thirty': 30, 'Fourty': 40, 'Fifty': 50}\n"
     ]
    }
   ],
   "source": [
    "dict1 = {'Ten': 10, 'Twenty': 20, 'Thirty': 30}\n",
    "dict2 = {'Thirty': 30, 'Fourty': 40, 'Fifty': 50}\n",
    "# code below this line\n",
    "dict1.update(dict2)\n",
    "\n",
    "print(dict1)\n",
    "# code above this line"
   ]
  },
  {
   "cell_type": "markdown",
   "id": "5b0ad3bc",
   "metadata": {},
   "source": [
    "## Bài 3: where is the value?\n",
    "Hãy in ra giá trị của \"history\" trong dictionary dưới đây."
   ]
  },
  {
   "cell_type": "markdown",
   "id": "89460c2d",
   "metadata": {},
   "source": [
    "**Input**"
   ]
  },
  {
   "cell_type": "code",
   "execution_count": null,
   "id": "7c4ec109",
   "metadata": {},
   "outputs": [],
   "source": [
    "sampleDict = { \n",
    "   \"class\":{ \n",
    "      \"student\":{ \n",
    "         \"name\":\"Mike\",\n",
    "         \"marks\":{ \n",
    "            \"physics\":70,\n",
    "            \"history\":80\n",
    "         }\n",
    "      }\n",
    "   }\n",
    "}"
   ]
  },
  {
   "cell_type": "markdown",
   "id": "30dfa5d1",
   "metadata": {},
   "source": [
    "**Output**"
   ]
  },
  {
   "cell_type": "code",
   "execution_count": null,
   "id": "6cb53007",
   "metadata": {},
   "outputs": [],
   "source": [
    "80"
   ]
  },
  {
   "cell_type": "markdown",
   "id": "8197abc9",
   "metadata": {},
   "source": [
    "**Your code**"
   ]
  },
  {
   "cell_type": "code",
   "execution_count": null,
   "id": "8eb515ce",
   "metadata": {},
   "outputs": [],
   "source": [
    "sampleDict = { \n",
    "   \"class\":{ \n",
    "      \"student\":{ \n",
    "         \"name\":\"Mike\",\n",
    "         \"marks\":{ \n",
    "            \"physics\":70,\n",
    "            \"history\":80\n",
    "         }\n",
    "      }\n",
    "   }\n",
    "}\n",
    "# code below this line\n",
    "\n",
    "# code above this line"
   ]
  },
  {
   "cell_type": "code",
   "execution_count": 8,
   "id": "87809305-9e59-4669-93a9-fa320445a2ec",
   "metadata": {},
   "outputs": [
    {
     "ename": "KeyError",
     "evalue": "'mark'",
     "output_type": "error",
     "traceback": [
      "\u001b[1;31m---------------------------------------------------------------------------\u001b[0m",
      "\u001b[1;31mKeyError\u001b[0m                                  Traceback (most recent call last)",
      "Cell \u001b[1;32mIn[8], line 13\u001b[0m\n\u001b[0;32m      1\u001b[0m sampleDict \u001b[38;5;241m=\u001b[39m { \n\u001b[0;32m      2\u001b[0m    \u001b[38;5;124m\"\u001b[39m\u001b[38;5;124mclass\u001b[39m\u001b[38;5;124m\"\u001b[39m:{ \n\u001b[0;32m      3\u001b[0m       \u001b[38;5;124m\"\u001b[39m\u001b[38;5;124mstudent\u001b[39m\u001b[38;5;124m\"\u001b[39m:{ \n\u001b[1;32m   (...)\u001b[0m\n\u001b[0;32m     10\u001b[0m    }\n\u001b[0;32m     11\u001b[0m }\n\u001b[1;32m---> 13\u001b[0m \u001b[38;5;28mprint\u001b[39m(\u001b[43msampleDict\u001b[49m\u001b[43m[\u001b[49m\u001b[38;5;124;43m'\u001b[39;49m\u001b[38;5;124;43mclass\u001b[39;49m\u001b[38;5;124;43m'\u001b[39;49m\u001b[43m]\u001b[49m\u001b[43m[\u001b[49m\u001b[38;5;124;43m'\u001b[39;49m\u001b[38;5;124;43mstudent\u001b[39;49m\u001b[38;5;124;43m'\u001b[39;49m\u001b[43m]\u001b[49m\u001b[43m[\u001b[49m\u001b[38;5;124;43m'\u001b[39;49m\u001b[38;5;124;43mmark\u001b[39;49m\u001b[38;5;124;43m'\u001b[39;49m\u001b[43m]\u001b[49m[\u001b[38;5;124m'\u001b[39m\u001b[38;5;124mhistory\u001b[39m\u001b[38;5;124m'\u001b[39m])\n",
      "\u001b[1;31mKeyError\u001b[0m: 'mark'"
     ]
    }
   ],
   "source": [
    "sampleDict = { \n",
    "   \"class\":{ \n",
    "      \"student\":{ \n",
    "         \"name\":\"Mike\",\n",
    "         \"marks\":{ \n",
    "            \"physics\":70,\n",
    "            \"history\":80\n",
    "         }\n",
    "      }\n",
    "   }\n",
    "}\n",
    "\n",
    "print(sampleDict['class']['student']['name']['mark']['history'])\n",
    "\n"
   ]
  },
  {
   "cell_type": "markdown",
   "id": "f453f86a",
   "metadata": {},
   "source": [
    "## Bài 4: Delete set of keys from a dictionary\n",
    "Hãy xóa các key có trong set dưới đây ra khỏi dictionary."
   ]
  },
  {
   "cell_type": "markdown",
   "id": "ccd72d21",
   "metadata": {},
   "source": [
    "**Input**"
   ]
  },
  {
   "cell_type": "code",
   "execution_count": null,
   "id": "3726146b",
   "metadata": {},
   "outputs": [],
   "source": [
    "sampleDict = {\n",
    "  \"name\": \"Kelly\",\n",
    "  \"age\":25,\n",
    "  \"salary\": 8000,\n",
    "  \"city\": \"New york\"\n",
    "  \n",
    "}\n",
    "keysToRemove = {\"name\", \"salary\"}"
   ]
  },
  {
   "cell_type": "markdown",
   "id": "70d327b6",
   "metadata": {},
   "source": [
    "**Output:**"
   ]
  },
  {
   "cell_type": "code",
   "execution_count": null,
   "id": "ebba0549",
   "metadata": {},
   "outputs": [],
   "source": [
    "{'city': 'New york', 'age': 25}"
   ]
  },
  {
   "cell_type": "markdown",
   "id": "8c1f8fac",
   "metadata": {},
   "source": [
    "**Your code**"
   ]
  },
  {
   "cell_type": "markdown",
   "id": "0606fab6-246e-4536-a333-dde052bdd971",
   "metadata": {},
   "source": [
    "# \n",
    "Chúng ta có 4 phương pháp để xóa phần tử trong dictionary python như sau:\r\n",
    "\r\n",
    "phương thức pop(): Trích xuất và xóa phần tử được chỉ định\r\n",
    "phương thức popitem(): Lấy và xóa các phần tử một cách ngẫu nhiên\r\n",
    "câu lệnh del: Xóa phần tử được chỉ định\r\n",
    "phương thức clear(): xóa tất cả các \n",
    "phần tử\r\n",
    "Xóa phần tử trong dictionary python bằng phương thức pop()\r\n",
    "Phương thức pop() sẽ lầy phần tử ra từ dictionary và sau đó xóa nó.\r\n",
    "Chúng ta chỉ định khóa làm đối số của phương thức pop() và xóa phần tử bằng cú pháp sau đây:\r\n",
    "\r\n",
    "dict.pop(khóa[, default])"
   ]
  },
  {
   "cell_type": "code",
   "execution_count": 21,
   "id": "4bada72e",
   "metadata": {},
   "outputs": [
    {
     "name": "stdout",
     "output_type": "stream",
     "text": [
      "Kelly\n"
     ]
    }
   ],
   "source": [
    "sampleDict = {\n",
    "  \"name\": \"Kelly\",\n",
    "  \"age\":25,\n",
    "  \"salary\": 8000,\n",
    "  \"city\": \"New york\"\n",
    "  \n",
    "}\n",
    "keysToRemove = {\"name\", \"salary\"}\n",
    "# code below this line\n",
    "\n",
    "for i in keysToRemove:\n",
    "    new_dict = sampleDict.pop(i)\n",
    "print(new_dict)\n",
    "# code above this line"
   ]
  },
  {
   "cell_type": "code",
   "execution_count": 22,
   "id": "f9151e46-6bdb-44e0-95df-bc9b288f47a7",
   "metadata": {},
   "outputs": [
    {
     "name": "stdout",
     "output_type": "stream",
     "text": [
      "{'age': 25, 'city': 'New york'}\n"
     ]
    }
   ],
   "source": [
    "sampleDict = {\n",
    "  \"name\": \"Kelly\",\n",
    "  \"age\":25,\n",
    "  \"salary\": 8000,\n",
    "  \"city\": \"New york\"\n",
    "  \n",
    "}\n",
    "keysToRemove = {\"name\", \"salary\"}\n",
    "\n",
    "for i in keysToRemove:\n",
    "    sampleDict.pop(i)\n",
    "print(sampleDict)\n"
   ]
  },
  {
   "cell_type": "code",
   "execution_count": 25,
   "id": "c61531d2-8d2c-495a-bd0e-f22bfbfe80b4",
   "metadata": {},
   "outputs": [
    {
     "name": "stdout",
     "output_type": "stream",
     "text": [
      "{'age': 25, 'city': 'New york'}\n"
     ]
    }
   ],
   "source": [
    "sampleDict = {\n",
    "  \"name\": \"Kelly\",\n",
    "  \"age\":25,\n",
    "  \"salary\": 8000,\n",
    "  \"city\": \"New york\"\n",
    "  \n",
    "}\n",
    "keysToRemove = {\"name\", \"salary\"}\n",
    "\n",
    "for i in keysToRemove:\n",
    "    del sampleDict[i]\n",
    "print(sampleDict)"
   ]
  },
  {
   "cell_type": "code",
   "execution_count": 28,
   "id": "ed0863f3-6028-432d-9efb-e8578f7520bd",
   "metadata": {},
   "outputs": [
    {
     "ename": "SyntaxError",
     "evalue": "invalid syntax (2856678997.py, line 11)",
     "output_type": "error",
     "traceback": [
      "\u001b[1;36m  Cell \u001b[1;32mIn[28], line 11\u001b[1;36m\u001b[0m\n\u001b[1;33m    x = del sampleDict[i]\u001b[0m\n\u001b[1;37m        ^\u001b[0m\n\u001b[1;31mSyntaxError\u001b[0m\u001b[1;31m:\u001b[0m invalid syntax\n"
     ]
    }
   ],
   "source": [
    "sampleDict = {\n",
    "  \"name\": \"Kelly\",\n",
    "  \"age\":25,\n",
    "  \"salary\": 8000,\n",
    "  \"city\": \"New york\"\n",
    "  \n",
    "}\n",
    "keysToRemove = {\"name\", \"salary\"}\n",
    "\n",
    "for i in keysToRemove:\n",
    "    x = del sampleDict[i]\n",
    "print(x) # tại sao code này thì lại lỗi Thầy ơi"
   ]
  },
  {
   "cell_type": "markdown",
   "id": "825df3a4",
   "metadata": {},
   "source": [
    "## Bài 5: Check if a value 200 exists in a dictionary\n",
    "Hãy kiểm tra xem số 200 có phải là value của dictionary dưới đây không nhé."
   ]
  },
  {
   "cell_type": "markdown",
   "id": "d71b7c57",
   "metadata": {},
   "source": [
    "**Input**"
   ]
  },
  {
   "cell_type": "code",
   "execution_count": null,
   "id": "fd74786b",
   "metadata": {},
   "outputs": [],
   "source": [
    "sampleDict = {'a': 100, 'b': 200, 'c': 300}"
   ]
  },
  {
   "cell_type": "markdown",
   "id": "b400a794",
   "metadata": {},
   "source": [
    "**Output**"
   ]
  },
  {
   "cell_type": "code",
   "execution_count": null,
   "id": "ee5c840b",
   "metadata": {},
   "outputs": [],
   "source": [
    "True"
   ]
  },
  {
   "cell_type": "markdown",
   "id": "0d2982b3",
   "metadata": {},
   "source": [
    "**Your code**"
   ]
  },
  {
   "cell_type": "code",
   "execution_count": null,
   "id": "6f8eea2e",
   "metadata": {},
   "outputs": [],
   "source": [
    "sampleDict = {'a': 100, 'b': 200, 'c': 300}\n",
    "# code below this line\n",
    "\n",
    "# code above this line"
   ]
  },
  {
   "cell_type": "code",
   "execution_count": 9,
   "id": "7306e63a-a3d9-4cb5-8cdd-f60b48b0c0d7",
   "metadata": {},
   "outputs": [
    {
     "name": "stdout",
     "output_type": "stream",
     "text": [
      "True\n"
     ]
    }
   ],
   "source": [
    "sampleDict = {'a': 100, 'b': 200, 'c': 300}\n",
    "\n",
    "# lấy giá trị có sẵn trong dictionary\n",
    "\n",
    "for i in sampleDict.keys():\n",
    "    if sampleDict[i] == 200:\n",
    "        result = True\n",
    "        print(result)\n",
    "        break\n",
    "# code above this line"
   ]
  },
  {
   "cell_type": "code",
   "execution_count": 39,
   "id": "1fb5364f-96d2-419a-bf37-69377641321c",
   "metadata": {},
   "outputs": [
    {
     "name": "stdout",
     "output_type": "stream",
     "text": [
      "True\n"
     ]
    }
   ],
   "source": [
    "sampleDict = {'a': 100, 'b': 200, 'c': 300}\n",
    "\n",
    "for i in sampleDict.values():\n",
    "    if i == 200:\n",
    "        result = True\n",
    "        print(result)\n",
    "        break"
   ]
  },
  {
   "cell_type": "code",
   "execution_count": 10,
   "id": "0d8b88da-7244-4c38-9d4d-24fa56f56f9e",
   "metadata": {},
   "outputs": [
    {
     "ename": "SyntaxError",
     "evalue": "invalid syntax (624880977.py, line 3)",
     "output_type": "error",
     "traceback": [
      "\u001b[1;36m  Cell \u001b[1;32mIn[10], line 3\u001b[1;36m\u001b[0m\n\u001b[1;33m    print(200 in sampleDict.values()):\u001b[0m\n\u001b[1;37m                                     ^\u001b[0m\n\u001b[1;31mSyntaxError\u001b[0m\u001b[1;31m:\u001b[0m invalid syntax\n"
     ]
    }
   ],
   "source": [
    "sampleDict = {'a': 100, 'b': 200, 'c': 300}\n",
    "\n",
    "print(200 in sampleDict.values()):"
   ]
  },
  {
   "cell_type": "markdown",
   "id": "52558464",
   "metadata": {},
   "source": [
    "## Bài 6: rename key\n",
    "Hãy thay thế key `city` thành `location` trong dictionary dưới đây."
   ]
  },
  {
   "cell_type": "markdown",
   "id": "6f826d64",
   "metadata": {},
   "source": [
    "**Input**"
   ]
  },
  {
   "cell_type": "code",
   "execution_count": null,
   "id": "7083a37c",
   "metadata": {},
   "outputs": [],
   "source": [
    "sampleDict = {\n",
    "  \"name\": \"Kelly\",\n",
    "  \"age\":25,\n",
    "  \"salary\": 8000,\n",
    "  \"city\": \"New york\"\n",
    "}"
   ]
  },
  {
   "cell_type": "markdown",
   "id": "8d6c0b83",
   "metadata": {},
   "source": [
    "**Output**"
   ]
  },
  {
   "cell_type": "code",
   "execution_count": null,
   "id": "4e790a02",
   "metadata": {},
   "outputs": [],
   "source": [
    "{\n",
    "  \"name\": \"Kelly\",\n",
    "  \"age\":25,\n",
    "  \"salary\": 8000,\n",
    "  \"location\": \"New york\"\n",
    "}"
   ]
  },
  {
   "cell_type": "markdown",
   "id": "eddb6c6e",
   "metadata": {},
   "source": [
    "**Your code**"
   ]
  },
  {
   "cell_type": "code",
   "execution_count": 11,
   "id": "9b8d4901",
   "metadata": {},
   "outputs": [
    {
     "name": "stdout",
     "output_type": "stream",
     "text": [
      "{'name': 'Kelly', 'age': 25, 'salary': 8000, 'city': 'New york', 'location': 'New york'}\n"
     ]
    }
   ],
   "source": [
    "sampleDict = {\n",
    "  \"name\": \"Kelly\",\n",
    "  \"age\":25,\n",
    "  \"salary\": 8000,\n",
    "  \"city\": \"New york\"\n",
    "}\n",
    "\n",
    "sampleDict['location'] = sampleDict['city']\n",
    "\n",
    "print(sampleDict)\n",
    "# code above this line"
   ]
  },
  {
   "cell_type": "code",
   "execution_count": 12,
   "id": "0959242a-ca22-402d-8cb5-e18456aa3526",
   "metadata": {},
   "outputs": [
    {
     "name": "stdout",
     "output_type": "stream",
     "text": [
      "{'name': 'Kelly', 'age': 25, 'salary': 8000, 'city': 'New york', 'location': 'New york'}\n",
      "{'name': 'Kelly', 'age': 25, 'salary': 8000, 'location': 'New york'}\n"
     ]
    }
   ],
   "source": [
    "sampleDict = {\n",
    "  \"name\": \"Kelly\",\n",
    "  \"age\":25,\n",
    "  \"salary\": 8000,\n",
    "  \"city\": \"New york\"\n",
    "}\n",
    "\n",
    "sampleDict['location'] = sampleDict['city']\n",
    "print(sampleDict)\n",
    "\n",
    "del sampleDict['city']\n",
    "print(sampleDict)"
   ]
  },
  {
   "cell_type": "markdown",
   "id": "8abc17f9",
   "metadata": {},
   "source": [
    "## Bài 7: key of minimum value\n",
    "Hãy in ra key chứa value nhỏ nhất trong dictionary dưới đây."
   ]
  },
  {
   "cell_type": "markdown",
   "id": "cb274e64",
   "metadata": {},
   "source": [
    "**Input**"
   ]
  },
  {
   "cell_type": "code",
   "execution_count": null,
   "id": "77ddb0d6",
   "metadata": {},
   "outputs": [],
   "source": [
    "sampleDict = {\n",
    "  'Physics': 82,\n",
    "  'Math': 65,\n",
    "  'history': 75\n",
    "}"
   ]
  },
  {
   "cell_type": "markdown",
   "id": "668f2a96",
   "metadata": {},
   "source": [
    "**Output**"
   ]
  },
  {
   "cell_type": "code",
   "execution_count": null,
   "id": "f8ebb7a8",
   "metadata": {},
   "outputs": [],
   "source": [
    "Math"
   ]
  },
  {
   "cell_type": "markdown",
   "id": "804d5a40",
   "metadata": {},
   "source": [
    "**Your code**"
   ]
  },
  {
   "cell_type": "code",
   "execution_count": null,
   "id": "7c7e8f20",
   "metadata": {},
   "outputs": [],
   "source": [
    "sampleDict = {\n",
    "  'Physics': 82,\n",
    "  'Math': 65,\n",
    "  'history': 75\n",
    "}\n",
    "# code below this line\n",
    "num = sampleDict['Physics']\n",
    "for i in sampleDict.values():\n",
    "    if i > num:\n",
    "        i = num\n",
    "        num = sampleDict[i]\n",
    "        \n",
    "# code above this line"
   ]
  },
  {
   "cell_type": "code",
   "execution_count": 13,
   "id": "1b781549-2df3-411f-94fb-4869933de019",
   "metadata": {},
   "outputs": [
    {
     "data": {
      "text/plain": [
       "65"
      ]
     },
     "execution_count": 13,
     "metadata": {},
     "output_type": "execute_result"
    }
   ],
   "source": [
    "sampleDict = {\n",
    "  'Physics': 82,\n",
    "  'Math': 65,\n",
    "  'history': 75\n",
    "}\n",
    "# code below this line\n",
    "num = sampleDict['Physics']\n",
    "min(sampleDict.values())\n",
    "        "
   ]
  },
  {
   "cell_type": "markdown",
   "id": "a4da8a8c",
   "metadata": {},
   "source": [
    "## Bài 8: new salary\n",
    "Hãy tăng lương(`salary`) cho Brad từ 6500 lên 8500 trong dictionary dưới đây nhé."
   ]
  },
  {
   "cell_type": "markdown",
   "id": "de769b5c",
   "metadata": {},
   "source": [
    "**Input**"
   ]
  },
  {
   "cell_type": "code",
   "execution_count": null,
   "id": "45d15b4f",
   "metadata": {},
   "outputs": [],
   "source": [
    "sampleDict = {\n",
    "     'emp1': {'name': 'Jhon', 'salary': 7500},\n",
    "     'emp2': {'name': 'Emma', 'salary': 8000},\n",
    "     'emp3': {'name': 'Brad', 'salary': 6500}\n",
    "}"
   ]
  },
  {
   "cell_type": "markdown",
   "id": "6fa3f5d2",
   "metadata": {},
   "source": [
    "**Output**"
   ]
  },
  {
   "cell_type": "code",
   "execution_count": null,
   "id": "67553b73",
   "metadata": {},
   "outputs": [],
   "source": [
    "sampleDict = {\n",
    "     'emp1': {'name': 'Jhon', 'salary': 7500},\n",
    "     'emp2': {'name': 'Emma', 'salary': 8000},\n",
    "     'emp3': {'name': 'Brad', 'salary': 8500}\n",
    "}"
   ]
  },
  {
   "cell_type": "markdown",
   "id": "91d6f922",
   "metadata": {},
   "source": [
    "**Your code**"
   ]
  },
  {
   "cell_type": "code",
   "execution_count": 47,
   "id": "151cbe47",
   "metadata": {},
   "outputs": [
    {
     "name": "stdout",
     "output_type": "stream",
     "text": [
      "{'emp1': {'name': 'Jhon', 'salary': 7500}, 'emp2': {'name': 'Emma', 'salary': 8000}, 'emp3': {'name': 'Brad', 'salary': 8500}}\n"
     ]
    }
   ],
   "source": [
    "sampleDict = {\n",
    "     'emp1': {'name': 'Jhon', 'salary': 7500},\n",
    "     'emp2': {'name': 'Emma', 'salary': 8000},\n",
    "     'emp3': {'name': 'Brad', 'salary': 6500}\n",
    "}\n",
    "# code below this line\n",
    "for i in sampleDict:\n",
    "    if sampleDict[i]['name'] == 'Brad':\n",
    "        sampleDict[i]['salary'] = 8500\n",
    "\n",
    "print(sampleDict)\n",
    "        \n",
    "\n",
    "# code above this line"
   ]
  }
 ],
 "metadata": {
  "kernelspec": {
   "display_name": "Python 3 (ipykernel)",
   "language": "python",
   "name": "python3"
  },
  "language_info": {
   "codemirror_mode": {
    "name": "ipython",
    "version": 3
   },
   "file_extension": ".py",
   "mimetype": "text/x-python",
   "name": "python",
   "nbconvert_exporter": "python",
   "pygments_lexer": "ipython3",
   "version": "3.11.4"
  }
 },
 "nbformat": 4,
 "nbformat_minor": 5
}
