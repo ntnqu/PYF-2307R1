{
 "cells": [
  {
   "cell_type": "markdown",
   "id": "f232e8d3",
   "metadata": {},
   "source": [
    "## Bài 1: reversed list\n",
    "Hãy viết một chương trình để đảo ngược các phần tử trong list"
   ]
  },
  {
   "cell_type": "code",
   "execution_count": null,
   "id": "82013b10-6c65-4569-8cf8-0a7297a4b31f",
   "metadata": {},
   "outputs": [],
   "source": [
    "aList = [100, 200, 300, 400, 500]"
   ]
  },
  {
   "cell_type": "markdown",
   "id": "cc8fadd4",
   "metadata": {},
   "source": [
    "**Output:**"
   ]
  },
  {
   "cell_type": "code",
   "execution_count": null,
   "id": "7e6f728c",
   "metadata": {},
   "outputs": [],
   "source": [
    "[500, 400, 300, 200, 100]"
   ]
  },
  {
   "cell_type": "code",
   "execution_count": null,
   "id": "4e76942b",
   "metadata": {},
   "outputs": [],
   "source": [
    "aList = [100, 200, 300, 400, 500]\n",
    "# code below this line\n",
    "\n",
    "# code above this line"
   ]
  },
  {
   "cell_type": "code",
   "execution_count": 3,
   "id": "76a27163",
   "metadata": {},
   "outputs": [
    {
     "name": "stdout",
     "output_type": "stream",
     "text": [
      "[500, 400, 300, 200, 100]\n"
     ]
    }
   ],
   "source": [
    "aList = [100, 200, 300, 400, 500]\n",
    "\n",
    "a = aList[::-1]\n",
    "print(a)"
   ]
  },
  {
   "cell_type": "code",
   "execution_count": 4,
   "id": "0b23893e-ec9f-4312-9a5b-8da6c9c0c4d5",
   "metadata": {},
   "outputs": [
    {
     "name": "stdout",
     "output_type": "stream",
     "text": [
      "[500, 400, 300, 200, 100]\n"
     ]
    }
   ],
   "source": [
    "aList = [100, 200, 300, 400, 500]\n",
    "\n",
    "print(aList[::-1])"
   ]
  },
  {
   "cell_type": "markdown",
   "id": "df9f3540",
   "metadata": {},
   "source": [
    "## Bài 2: concatenation\n",
    "Hãy tạo ra một list mới bằng cách cộng các phần tử tương ứng của list cũ theo index tương ứng"
   ]
  },
  {
   "cell_type": "code",
   "execution_count": null,
   "id": "be729af4",
   "metadata": {},
   "outputs": [],
   "source": [
    "list1 = [\"M\", \"na\", \"i\", \"Ke\"]\n",
    "list2 = [\"y\", \"me\", \"s\", \"lly\"]"
   ]
  },
  {
   "cell_type": "markdown",
   "id": "843840c3",
   "metadata": {},
   "source": [
    "**Output:**"
   ]
  },
  {
   "cell_type": "code",
   "execution_count": null,
   "id": "3584d82f",
   "metadata": {},
   "outputs": [],
   "source": [
    "['My', 'name', 'is', 'Kelly']"
   ]
  },
  {
   "cell_type": "code",
   "execution_count": null,
   "id": "35e732f6",
   "metadata": {},
   "outputs": [],
   "source": [
    "list1 = [\"M\", \"na\", \"i\", \"Ke\"]\n",
    "list2 = [\"y\", \"me\", \"s\", \"lly\"]\n",
    "# code below this line\n",
    "\n",
    "# code above this line"
   ]
  },
  {
   "cell_type": "code",
   "execution_count": 6,
   "id": "087fa213-388f-4edd-8080-71e2f612de22",
   "metadata": {},
   "outputs": [
    {
     "name": "stdout",
     "output_type": "stream",
     "text": [
      "MynameisKelly\n"
     ]
    }
   ],
   "source": [
    "list1 = [\"M\", \"na\", \"i\", \"Ke\"]\n",
    "list2 = [\"y\", \"me\", \"s\", \"lly\"]\n",
    "# code below this line\n",
    "new_list = list1[0] + list2[0] + list1[1] + list2[1] + list1[2] + list2[2] + list1[3] + list2[3] \n",
    "print(new_list)\n",
    "# code above this line"
   ]
  },
  {
   "cell_type": "code",
   "execution_count": 8,
   "id": "3606f1f0-e77c-487e-9b8f-627f2711f74c",
   "metadata": {},
   "outputs": [
    {
     "name": "stdout",
     "output_type": "stream",
     "text": [
      "My name is Kelly\n"
     ]
    }
   ],
   "source": [
    "list1 = [\"M\", \"na\", \"i\", \"Ke\"]\n",
    "list2 = [\"y\", \"me\", \"s\", \"lly\"]\n",
    "\n",
    "\n",
    "print(list1[0] + list2[0] + ' '+ list1[1] + list2[1] + ' '+ list1[2] + list2[2] + ' '+ list1[3] + list2[3])\n"
   ]
  },
  {
   "cell_type": "code",
   "execution_count": 12,
   "id": "8a484fa6-d7e5-4ca8-85e3-b93a0df10036",
   "metadata": {},
   "outputs": [
    {
     "data": {
      "text/plain": [
       "'My name is Kelly'"
      ]
     },
     "execution_count": 12,
     "metadata": {},
     "output_type": "execute_result"
    }
   ],
   "source": [
    "list1 = [\"M\", \"na\", \"i\", \"Ke\"]\n",
    "list2 = [\"y\", \"me\", \"s\", \"lly\"]\n",
    "\n",
    "new_list = list1[0] + list2[0] + ' '+ list1[1] + list2[1] + ' '+ list1[2] + list2[2] + ' '+ list1[3] + list2[3]\n",
    "new_list"
   ]
  },
  {
   "cell_type": "markdown",
   "id": "6f6a4a7d",
   "metadata": {},
   "source": [
    "## Bài 3: squared list\n",
    "Cho sẵn một list chứa các số tự nhiên. Bình phương các phần tử trong list và lưu vào một list mới."
   ]
  },
  {
   "cell_type": "code",
   "execution_count": null,
   "id": "0f3a0621",
   "metadata": {},
   "outputs": [],
   "source": [
    "aList = [1, 2, 3, 4, 5, 6, 7]"
   ]
  },
  {
   "cell_type": "markdown",
   "id": "adbeff53",
   "metadata": {},
   "source": [
    "**Output**"
   ]
  },
  {
   "cell_type": "code",
   "execution_count": null,
   "id": "809cb15b",
   "metadata": {},
   "outputs": [],
   "source": [
    "[1, 4, 9, 16, 25, 36, 49]\n",
    "# code below this line\n",
    "\n",
    "# code above this line"
   ]
  },
  {
   "cell_type": "code",
   "execution_count": 16,
   "id": "28fae353-b567-4114-a635-1a0292b9dbc0",
   "metadata": {},
   "outputs": [
    {
     "name": "stdout",
     "output_type": "stream",
     "text": [
      "[1, 4, 9, 16, 25, 36, 49]\n"
     ]
    }
   ],
   "source": [
    "aList = [1, 2, 3, 4, 5, 6, 7]\n",
    "\n",
    "new_list = []\n",
    "# code below this line\n",
    "for i in aList:\n",
    "    a = i ** 2\n",
    "    new_list.append(a)\n",
    "\n",
    "print(new_list)\n",
    "# code above this line"
   ]
  },
  {
   "cell_type": "markdown",
   "id": "e013e6e3",
   "metadata": {},
   "source": [
    "## Bài 4: concatenation 2\n",
    "Tạo ra một list mới từ 2 list ban đầu theo thứ tự như sau:"
   ]
  },
  {
   "cell_type": "code",
   "execution_count": null,
   "id": "3556bdb0",
   "metadata": {},
   "outputs": [],
   "source": [
    "list1 = [\"Hello \", \"take \"]\n",
    "list2 = [\"Dear\", \"Sir\"]"
   ]
  },
  {
   "cell_type": "markdown",
   "id": "c449c5ef",
   "metadata": {},
   "source": [
    "**Output**"
   ]
  },
  {
   "cell_type": "code",
   "execution_count": null,
   "id": "38473ed0",
   "metadata": {},
   "outputs": [],
   "source": [
    "['Hello Dear', 'Hello Sir', 'take Dear', 'take Sir']"
   ]
  },
  {
   "cell_type": "code",
   "execution_count": null,
   "id": "194ce3e1",
   "metadata": {},
   "outputs": [],
   "source": [
    "list1 = [\"Hello \", \"take \"]\n",
    "list2 = [\"Dear\", \"Sir\"]\n",
    "# code below this line\n",
    "\n",
    "# code above this line"
   ]
  },
  {
   "cell_type": "markdown",
   "id": "c9e280ff",
   "metadata": {},
   "source": [
    "## Bài 5: print list\n",
    "Cho 2 list có cùng số phần tử với nhau. Hãy in các thành phần trong 2 list theo format dưới đây:"
   ]
  },
  {
   "cell_type": "code",
   "execution_count": null,
   "id": "1a83314a",
   "metadata": {},
   "outputs": [],
   "source": [
    "list1 = [10, 20, 30, 40]\n",
    "list2 = [100, 200, 300, 400]"
   ]
  },
  {
   "cell_type": "markdown",
   "id": "9a4808a3",
   "metadata": {},
   "source": [
    "**Output**"
   ]
  },
  {
   "cell_type": "code",
   "execution_count": null,
   "id": "9569f340",
   "metadata": {},
   "outputs": [],
   "source": [
    "10 400\n",
    "20 300\n",
    "30 200\n",
    "40 100"
   ]
  },
  {
   "cell_type": "code",
   "execution_count": null,
   "id": "6c111e2a",
   "metadata": {},
   "outputs": [],
   "source": [
    "list1 = [10, 20, 30, 40]\n",
    "list2 = [100, 200, 300, 400]\n",
    "# code below this line\n",
    "\n",
    "# code above this line"
   ]
  },
  {
   "cell_type": "markdown",
   "id": "bd9edc4a",
   "metadata": {},
   "source": [
    "## Bài 6: remove empty\n",
    "Hãy xóa tất cả empty string trong list đã cho."
   ]
  },
  {
   "cell_type": "code",
   "execution_count": null,
   "id": "5ec76730",
   "metadata": {},
   "outputs": [],
   "source": [
    "list1 = [\"Mike\", \"\", \"Emma\", \"Kelly\", \"\", \"Brad\"]"
   ]
  },
  {
   "cell_type": "markdown",
   "id": "69056c1c",
   "metadata": {},
   "source": [
    "**Output**"
   ]
  },
  {
   "cell_type": "code",
   "execution_count": null,
   "id": "3aa7e6c9",
   "metadata": {},
   "outputs": [],
   "source": [
    "[\"Mike\", \"Emma\", \"Kelly\", \"Brad\"]"
   ]
  },
  {
   "cell_type": "code",
   "execution_count": null,
   "id": "ef5698ec",
   "metadata": {},
   "outputs": [],
   "source": [
    "list1 = [\"Mike\", \"\", \"Emma\", \"Kelly\", \"\", \"Brad\"]\n",
    "# code below this line\n",
    "\n",
    "# code above this line"
   ]
  },
  {
   "cell_type": "markdown",
   "id": "75ceada5",
   "metadata": {},
   "source": [
    "## Bài 7: list replacement\n",
    "Hãy tìm và thay thế số 20 **đầu tiên** trong list thành 200."
   ]
  },
  {
   "cell_type": "code",
   "execution_count": null,
   "id": "d164db9c",
   "metadata": {},
   "outputs": [],
   "source": [
    "list1 = [5, 10, 15, 20, 25, 50, 20]"
   ]
  },
  {
   "cell_type": "markdown",
   "id": "4fbe79da",
   "metadata": {},
   "source": [
    "**Output**"
   ]
  },
  {
   "cell_type": "code",
   "execution_count": null,
   "id": "02bab1e7",
   "metadata": {},
   "outputs": [],
   "source": [
    "[5, 10, 15, 200, 25, 50, 20]"
   ]
  },
  {
   "cell_type": "code",
   "execution_count": null,
   "id": "1f2f2fd3",
   "metadata": {},
   "outputs": [],
   "source": [
    "list1 = [5, 10, 15, 20, 25, 50, 20]\n",
    "# code below this line\n",
    "\n",
    "# code above this line"
   ]
  },
  {
   "cell_type": "markdown",
   "id": "b5beae3a",
   "metadata": {},
   "source": [
    "## Bài 8: list removement\n",
    "Hãy xóa bỏ **tất cả** số 20 ra khỏi list"
   ]
  },
  {
   "cell_type": "code",
   "execution_count": null,
   "id": "23a095ab",
   "metadata": {},
   "outputs": [],
   "source": [
    "list1 = [5, 20, 15, 20, 25, 50, 20]"
   ]
  },
  {
   "cell_type": "markdown",
   "id": "a01142b6",
   "metadata": {},
   "source": [
    "**Output:**"
   ]
  },
  {
   "cell_type": "code",
   "execution_count": null,
   "id": "7bdab892",
   "metadata": {},
   "outputs": [],
   "source": [
    "[5, 15, 25, 50]"
   ]
  },
  {
   "cell_type": "code",
   "execution_count": null,
   "id": "b20e64c9",
   "metadata": {},
   "outputs": [],
   "source": [
    "list1 = [5, 20, 15, 20, 25, 50, 20]\n",
    "# code below this line\n",
    "\n",
    "# code above this line"
   ]
  }
 ],
 "metadata": {
  "kernelspec": {
   "display_name": "Python 3 (ipykernel)",
   "language": "python",
   "name": "python3"
  },
  "language_info": {
   "codemirror_mode": {
    "name": "ipython",
    "version": 3
   },
   "file_extension": ".py",
   "mimetype": "text/x-python",
   "name": "python",
   "nbconvert_exporter": "python",
   "pygments_lexer": "ipython3",
   "version": "3.11.4"
  }
 },
 "nbformat": 4,
 "nbformat_minor": 5
}
