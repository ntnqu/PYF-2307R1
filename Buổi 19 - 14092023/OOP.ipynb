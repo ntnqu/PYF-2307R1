{
 "cells": [
  {
   "cell_type": "code",
   "execution_count": 3,
   "id": "79f4200a-2cca-42a3-9faa-3b78e11404df",
   "metadata": {},
   "outputs": [
    {
     "name": "stdout",
     "output_type": "stream",
     "text": [
      "Vòng tròn có bán kính r = 10, màu: red\n",
      "Diện tích của hình tròn là:  314.1592653589793\n",
      "Chu vi của hình tròn là:  62.83185307179586\n"
     ]
    }
   ],
   "source": [
    "import math\n",
    "\n",
    "class Circle:\n",
    "    radius: float = 0\n",
    "    color: str = 'white'\n",
    "\n",
    "    # Hàm tạo\n",
    "    def __init__(self, radius, color):\n",
    "        self.radius = radius\n",
    "        self.color = color\n",
    "\n",
    "    def getRadius(self):\n",
    "        print(f\"Vòng tròn có bán kính r = {self.radius}, màu: {self.color}\")\n",
    "        return self.radius\n",
    "\n",
    "    def getArea(self):\n",
    "        s = math.pi * self.radius * self.radius\n",
    "        return print(\"Diện tích của hình tròn là: \",s)\n",
    "\n",
    "    def getPerimeter(self):\n",
    "        p = math.pi * self.radius * 2\n",
    "        return print(\"Chu vi của hình tròn là: \", p)\n",
    "\n",
    "# Demo\n",
    "\n",
    "ht1 = Circle(10, 'red')\n",
    "ht1.getRadius()\n",
    "ht1.getArea()\n",
    "ht1.getPerimeter()\n",
    "        "
   ]
  },
  {
   "cell_type": "code",
   "execution_count": 4,
   "id": "8eea2411-ebaf-4ffa-8e2b-5bf5bddf3e45",
   "metadata": {},
   "outputs": [
    {
     "name": "stdout",
     "output_type": "stream",
     "text": [
      "Vòng tròn có bán kính r = 20, màu: black\n",
      "Vòng tròn có bán kính r = 20, màu: black\n",
      "Vòng tròn có bán kính r = 20, màu: black\n"
     ]
    }
   ],
   "source": [
    "class Circle:\n",
    "    radius: float = 0\n",
    "    color: str = 'white'\n",
    "\n",
    "    # Hàm tạo\n",
    "    def __init__(self, radius, color):\n",
    "        self.radius = radius\n",
    "        self.color = color\n",
    "\n",
    "    def toString(self):\n",
    "        print(f\"Vòng tròn có bán kính r = {self.radius}, màu: {self.color}\")\n",
    "        \n",
    "    def __str__(self):\n",
    "        return f\"Vòng tròn có bán kính r = {self.radius}, màu: {self.color}\"\n",
    "\n",
    "ht1 = Circle(20, 'black')\n",
    "ht1.toString()\n",
    "\n",
    "print(ht1)\n",
    "print(str(ht1))"
   ]
  }
 ],
 "metadata": {
  "kernelspec": {
   "display_name": "Python 3 (ipykernel)",
   "language": "python",
   "name": "python3"
  },
  "language_info": {
   "codemirror_mode": {
    "name": "ipython",
    "version": 3
   },
   "file_extension": ".py",
   "mimetype": "text/x-python",
   "name": "python",
   "nbconvert_exporter": "python",
   "pygments_lexer": "ipython3",
   "version": "3.11.4"
  }
 },
 "nbformat": 4,
 "nbformat_minor": 5
}
