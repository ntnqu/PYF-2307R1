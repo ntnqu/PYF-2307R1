{
 "cells": [
  {
   "cell_type": "markdown",
   "id": "a20f121d",
   "metadata": {},
   "source": [
    "# Dictionary\n",
    "\n",
    "Dictionary là một dạng list đặc biệt, nó khác list ở chỗ không lưu trữ các giá trị theo chỉ số vị trí, thay vào đó Dictionary sẽ lưu trữ các giá trị theo key\n",
    "\n",
    "##### Tài liệu tham khảo: https://www.w3schools.com/python/python_dictionaries.asp\n",
    "\n",
    "### Khai báo một dictionary\n",
    "\n",
    "Cú pháp:\n",
    "\n",
    "`<tên dictionary> = {}`\n",
    "\n",
    "### Dictionary được khai báo bằng hai dấu hoặc nhọn\n",
    "\n",
    "Đây là một dictionary rỗng\n",
    "\n",
    "<b>Ví dụ 1:</b>\n",
    "\n",
    "`a = {}`\n",
    "\n",
    "a là một dictionary rỗng\n",
    "\n",
    "<b>Ví dụ 2:</b>\n",
    "\n",
    "`b = {\"name\": \"John Smith\", \"course\": \"Python\", \"is_studying\": True}`\n",
    "\n",
    "b là một dictionary có 3 key, mõi key đều có một giá trị riêng biệt\n",
    "\n",
    "Key có thể mang kiểu dữ liệu là chuỗi hoặc số\n",
    "\n",
    "##### Mỗi một key đều phải có giá trị của riêng nó, không thể khai báo key không có giá trị\n",
    "\n",
    "<b>Hãy khai báo một dictionary có 3 phần tử</b>"
   ]
  },
  {
   "cell_type": "code",
   "execution_count": 1,
   "id": "d835f461",
   "metadata": {},
   "outputs": [
    {
     "name": "stdout",
     "output_type": "stream",
     "text": [
      "<class 'dict'>\n"
     ]
    }
   ],
   "source": [
    "a = {}\n",
    "print(type(a))"
   ]
  },
  {
   "cell_type": "code",
   "execution_count": 3,
   "id": "69142115-7711-45ff-91c5-81c3b2146c68",
   "metadata": {},
   "outputs": [
    {
     "name": "stdout",
     "output_type": "stream",
     "text": [
      "{'name': 'John Smith', 'course': 'Python', 'is_studying': True}\n"
     ]
    }
   ],
   "source": [
    "b = {\"name\": \"John Smith\", \"course\": \"Python\", \"is_studying\": True}\n",
    "\n",
    "print(b)"
   ]
  },
  {
   "cell_type": "markdown",
   "id": "be1e321c",
   "metadata": {},
   "source": [
    "### Thêm key vào dictionary\n",
    "\n",
    "Cú pháp:\n",
    "\n",
    "`<tên dictionary>[<key>] = <giá trị>`\n",
    "\n",
    "<b>Ví dụ 1:</b>\n",
    "\n",
    "`a = {}\n",
    "a[\"brand\"] = \"Aquafina\"`\n",
    "\n",
    "a là một dictionary có một phần tử, phần tử đó có key là \"brand\" và giá trị của key đó là \"Aquafina\"\n",
    "\n",
    "##### Lưu ý, nếu trong trường hợp đã tồn tại key trong dictionary, dùng lệnh trên sẽ thay đổi giá trị key đó (không phải thêm key khác vào)\n",
    "\n",
    "<b>Ví dụ 2:</b>\n",
    "\n",
    "`a = {}\n",
    "a[\"brand\"] = \"Aquafina\"\n",
    "a[\"brand\"] = \"Lavie\"`\n",
    "\n",
    "a vẫn là một dictionary có một phần tử, phần tử đó có key là \"brand\" và giá trị của key đó là \"Lavie\"\n",
    "\n",
    "<b>Hãy khai báo một dictionary không có phần tử nào, sau đó thêm một phần tử vào dictionary đó</b>"
   ]
  },
  {
   "cell_type": "code",
   "execution_count": 5,
   "id": "7573ebef",
   "metadata": {},
   "outputs": [
    {
     "name": "stdout",
     "output_type": "stream",
     "text": [
      "{'brand': 'Aquafina'}\n"
     ]
    }
   ],
   "source": [
    "a = {}\n",
    "a['brand'] = 'Aquafina'\n",
    "\n",
    "print(a)\n"
   ]
  },
  {
   "cell_type": "code",
   "execution_count": 6,
   "id": "c590ff8e-b511-423c-adc8-5c71a42e79c5",
   "metadata": {},
   "outputs": [
    {
     "name": "stdout",
     "output_type": "stream",
     "text": [
      "{'brand': 'Aquafina'}\n",
      "{'brand': 'Lavie'}\n"
     ]
    }
   ],
   "source": [
    "a = {}\n",
    "a['brand'] = 'Aquafina'\n",
    "\n",
    "print(a)\n",
    "a['brand'] = 'Lavie'  # giá trị mới sẽ ghi đè lên giá trị cũ\n",
    "print(a)"
   ]
  },
  {
   "cell_type": "markdown",
   "id": "65c98825",
   "metadata": {},
   "source": [
    "### Truy xuất phần tử trong dictionary\n",
    "\n",
    "Cú pháp:\n",
    "\n",
    "`<tên dictionary>[<key>]`\n",
    "\n",
    "<b>Ví dụ:</b>\n",
    "\n",
    "`b = {\"name\": \"John Smith\", \"course\": \"Python\", \"is_studying\": True}\n",
    "print(b[\"name\"])`\n",
    "\n",
    "Màn hình sẽ in: John Smith\n",
    "\n",
    "<b>Hãy khai báo một dictionary rồi in ra màn hình một phần tử bất kỳ trong dictionary đó</b>"
   ]
  },
  {
   "cell_type": "code",
   "execution_count": 8,
   "id": "f6159385",
   "metadata": {},
   "outputs": [
    {
     "name": "stdout",
     "output_type": "stream",
     "text": [
      "John Smith\n"
     ]
    }
   ],
   "source": [
    "# tương tự in ra giá trị của biến\n",
    "\n",
    "b = {\"name\": \"John Smith\", \"course\": \"Python\", \"is_studying\": True} \n",
    "print(b[\"name\"])"
   ]
  },
  {
   "cell_type": "markdown",
   "id": "afa92f87",
   "metadata": {},
   "source": [
    "### Sao chép dictionary\n",
    "\n",
    "##### Việc sao chép dictionary được thực hiện hệt như sao chép list, chúng ta cần phải sử dụng lệnh copy()"
   ]
  },
  {
   "cell_type": "markdown",
   "id": "ef7e800d",
   "metadata": {},
   "source": [
    "### Duyệt dictionary bằng lệnh for\n",
    "\n",
    "Cú pháp:\n",
    "\n",
    "`for <tên biến> in <tên dictionary>:`\n",
    "\n",
    "Biến sẽ có giá trị là từng key trong dictionary\n",
    "\n",
    "<b>Ví dụ:</b>\n",
    "\n",
    "`a = {\"name\": \"John Smith\", \"course\": \"Python\", \"is_studying\": True}\n",
    "for i in a:\n",
    "    print(i)`\n",
    "    \n",
    "Màn hình sẽ in ra:\n",
    "\n",
    "name\n",
    "\n",
    "course\n",
    "\n",
    "is_studying\n",
    "\n",
    "<b>Hãy khai báo một dictionary rồi in ra màn hình toàn bộ giá trị trong dictionary đó</b>"
   ]
  },
  {
   "cell_type": "code",
   "execution_count": 9,
   "id": "3bdd1508",
   "metadata": {},
   "outputs": [
    {
     "name": "stdout",
     "output_type": "stream",
     "text": [
      "name\n",
      "course\n",
      "is_studying\n"
     ]
    }
   ],
   "source": [
    "a = {\"name\": \"John Smith\", \"course\": \"Python\", \"is_studying\": True}\n",
    "\n",
    "#duyệt từng key của dictionary\n",
    "for key in a:     \n",
    "    print(key)"
   ]
  },
  {
   "cell_type": "code",
   "execution_count": 11,
   "id": "b7ee7d9b-099f-46af-9c82-9c0903d76e5b",
   "metadata": {},
   "outputs": [
    {
     "name": "stdout",
     "output_type": "stream",
     "text": [
      "name - John Smith\n",
      "course - Python\n",
      "is_studying - True\n"
     ]
    }
   ],
   "source": [
    "a = {\"name\": \"John Smith\", \"course\": \"Python\", \"is_studying\": True}\n",
    "\n",
    "#duyệt từng key và value của dictionary\n",
    "for key in a:     \n",
    "    print(key, '-', a[key])"
   ]
  },
  {
   "cell_type": "code",
   "execution_count": 14,
   "id": "b8a9a82f-8cb9-4998-8528-b127b1a72218",
   "metadata": {},
   "outputs": [
    {
     "name": "stdout",
     "output_type": "stream",
     "text": [
      "name - John Smith\n",
      "course - Python\n",
      "is_studying - True\n"
     ]
    }
   ],
   "source": [
    "a = {\"name\": \"John Smith\", \"course\": \"Python\", \"is_studying\": True}\n",
    "\n",
    "\n",
    "for key in a.keys():     \n",
    "    print(key, '-', a[key])"
   ]
  },
  {
   "cell_type": "code",
   "execution_count": 15,
   "id": "424bed88-7268-4b70-b4cf-a044c796e5e5",
   "metadata": {},
   "outputs": [
    {
     "name": "stdout",
     "output_type": "stream",
     "text": [
      "John Smith\n",
      "Python\n",
      "True\n"
     ]
    }
   ],
   "source": [
    "a = {\"name\": \"John Smith\", \"course\": \"Python\", \"is_studying\": True}\n",
    "\n",
    "#duyệt value trong dictionary\n",
    "for value in a.values():     \n",
    "    print(value)"
   ]
  },
  {
   "cell_type": "code",
   "execution_count": 19,
   "id": "64141825-bfc7-4044-9c7a-2679602b96a0",
   "metadata": {},
   "outputs": [
    {
     "name": "stdout",
     "output_type": "stream",
     "text": [
      "name - John Smith\n",
      "course - Python\n",
      "is_studying - True\n"
     ]
    }
   ],
   "source": [
    "a = {\"name\": \"John Smith\", \"course\": \"Python\", \"is_studying\": True}\n",
    "\n",
    "#duyệt key và value trong dictionary\n",
    "for key, value in a.items():\n",
    "    print(key ,'-', value)"
   ]
  },
  {
   "cell_type": "markdown",
   "id": "6d7615c0",
   "metadata": {},
   "source": [
    "## Ghép dictionary\n",
    "Cú pháp:\n",
    "\n",
    "`<dictionary cần ghép>.update(<dictionary được ghép>)`\n",
    "\n",
    "Dictionary cần ghép sẽ có thêm các key và value từ dictionary được ghép thêm vào."
   ]
  },
  {
   "cell_type": "code",
   "execution_count": 20,
   "id": "b751b286",
   "metadata": {},
   "outputs": [
    {
     "name": "stdout",
     "output_type": "stream",
     "text": [
      "{'name': 'John Smith', 'course': 'Python', 'is_studying': True, 'height': 175, 'weight': 76, 'eye_color': 'Brown'}\n"
     ]
    }
   ],
   "source": [
    "a = {\"name\": \"John Smith\", \"course\": \"Python\", \"is_studying\": True}\n",
    "b = {\"height\": 175, \"weight\": 76, \"eye_color\": 'Brown'}\n",
    "\n",
    "a.update(b)\n",
    "print(a)"
   ]
  },
  {
   "cell_type": "markdown",
   "id": "05335ba7-69bb-4151-827c-3bb2c9ea82cb",
   "metadata": {},
   "source": [
    "# Thêm phần tử vào dictionary"
   ]
  },
  {
   "cell_type": "code",
   "execution_count": 1,
   "id": "44213c59-d76f-4b20-a52a-b47af1ad64c2",
   "metadata": {},
   "outputs": [
    {
     "name": "stdout",
     "output_type": "stream",
     "text": [
      "{'name': 'Luna', 'age': '24', 'sex': 'Female', 'married': 'No'}\n"
     ]
    }
   ],
   "source": [
    "people = {1: {'name': 'John', 'age': '27', 'sex': 'Male'},\n",
    "          \t\t     2: {'name': 'Marie', 'age': '22', 'sex': 'Female'}}\n",
    "\n",
    "people[3] = {}\n",
    "\n",
    "people[3]['name'] = 'Luna'\n",
    "people[3]['age'] = '24'\n",
    "people[3]['sex'] = 'Female'\n",
    "people[3]['married'] = 'No'\n",
    "\n",
    "print(people[3])"
   ]
  },
  {
   "cell_type": "code",
   "execution_count": 2,
   "id": "deee065f-ae58-4b3e-b7a1-e25bcd62c3f2",
   "metadata": {},
   "outputs": [
    {
     "name": "stdout",
     "output_type": "stream",
     "text": [
      "{1: {'name': 'John', 'age': '27', 'sex': 'Male'}, 2: {'name': 'Marie', 'age': '22', 'sex': 'Female'}, 3: {'name': 'Luna', 'age': '24', 'sex': 'Female', 'married': 'No'}}\n"
     ]
    }
   ],
   "source": [
    "people = {1: {'name': 'John', 'age': '27', 'sex': 'Male'},\n",
    "          \t\t     2: {'name': 'Marie', 'age': '22', 'sex': 'Female'}}\n",
    "\n",
    "people[3] = {}\n",
    "\n",
    "people[3]['name'] = 'Luna'\n",
    "people[3]['age'] = '24'\n",
    "people[3]['sex'] = 'Female'\n",
    "people[3]['married'] = 'No'\n",
    "\n",
    "print(people)"
   ]
  },
  {
   "cell_type": "code",
   "execution_count": null,
   "id": "75e39343-8264-48b5-823f-173faeffb00a",
   "metadata": {},
   "outputs": [],
   "source": []
  }
 ],
 "metadata": {
  "kernelspec": {
   "display_name": "Python 3 (ipykernel)",
   "language": "python",
   "name": "python3"
  },
  "language_info": {
   "codemirror_mode": {
    "name": "ipython",
    "version": 3
   },
   "file_extension": ".py",
   "mimetype": "text/x-python",
   "name": "python",
   "nbconvert_exporter": "python",
   "pygments_lexer": "ipython3",
   "version": "3.11.4"
  }
 },
 "nbformat": 4,
 "nbformat_minor": 5
}
