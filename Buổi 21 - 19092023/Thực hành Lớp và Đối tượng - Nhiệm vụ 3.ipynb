{
 "cells": [
  {
   "cell_type": "code",
   "execution_count": null,
   "id": "a42fa0c7",
   "metadata": {},
   "outputs": [],
   "source": [
    "\"\"\"\n",
    "Tạo class có tên Equation gồm có các thuộc tính và phương thức sau:\n",
    "+ Thuộc tính: number1, number2\n",
    "+ Phương thức:\n",
    "- Phương thức tạo __init()__\n",
    "- print_info(): dùng để hiển thị number1, number2\n",
    "- addition(): dùng để cộng number1, number2\n",
    "- subtract(): trừ number1, number2\n",
    "- multi(): dùng để nhân number1, number2\n",
    "- division(): dùng để chia number1, number2.\n",
    "\n",
    "Sau khi tạo class, khởi tạo một object Equation và in ra kết quả tính toán từ các hàm thực hiện phép tính\n",
    "\"\"\""
   ]
  },
  {
   "cell_type": "code",
   "execution_count": 16,
   "id": "793816e0-61f7-4e1c-b07d-37ebc1566b8b",
   "metadata": {},
   "outputs": [],
   "source": [
    "class Equation:\n",
    "    \n",
    "    def __init__(self, number1, number2):\n",
    "        self.number1 = number1\n",
    "        self.number2 = number2\n",
    "\n",
    "    def print_info(self):\n",
    "        print(f'Number 1: {self.number1}')\n",
    "        print(f'Number 2: {self.number2}')\n",
    "\n",
    "    def addition(self):\n",
    "        a = self.number1 + self.number2\n",
    "        print (f'Kết quả cộng: {a}')\n",
    "\n",
    "    def subtract(self):\n",
    "        d = self.number1 - self.number2\n",
    "        print (f'Kết quả trừ: {d}')\n",
    "\n",
    "    def multi(self): \n",
    "        b = self.number1 * self.number2\n",
    "        print (f'Kết quả nhân: {b}')\n",
    "\n",
    "    def division(self):\n",
    "        c = self.number1 / self.number2\n",
    "        print (f'Kết quả chia: {c}')\n",
    "\n"
   ]
  },
  {
   "cell_type": "code",
   "execution_count": 17,
   "id": "10acb4b4-7317-4dbf-bef9-3a703e4a4488",
   "metadata": {},
   "outputs": [
    {
     "name": "stdout",
     "output_type": "stream",
     "text": [
      "14\n",
      "45\n",
      "Kết quả cộng: 59\n",
      "Kết quả trừ: -31\n",
      "Kết quả nhân: 630\n",
      "Kết quả chia: 0.3111111111111111\n"
     ]
    }
   ],
   "source": [
    "t = Equation(14, 45)\n",
    "t.print_info()\n",
    "t.addition()\n",
    "t.subtract()\n",
    "t.multi()\n",
    "t.division()\n"
   ]
  },
  {
   "cell_type": "code",
   "execution_count": 2,
   "id": "8abd1578-b39f-4e9e-ad64-f744e5ecd60e",
   "metadata": {},
   "outputs": [
    {
     "name": "stdout",
     "output_type": "stream",
     "text": [
      "Number 1: 65\n",
      "Number 2: 5\n",
      "Kết quả cộng: 70\n",
      "Kết quả trừ: 60\n",
      "Kết quả nhân: 325\n",
      "Kết quả chia: 13.0\n"
     ]
    }
   ],
   "source": [
    "class Equation:\n",
    "    \n",
    "    def __init__(self, number1, number2):\n",
    "        self.number1 = number1\n",
    "        self.number2 = number2\n",
    "\n",
    "    def print_info(self):\n",
    "        print(f'Number 1: {self.number1}')\n",
    "        print(f'Number 2: {self.number2}')\n",
    "\n",
    "    def addition(self):\n",
    "        a = self.number1 + self.number2\n",
    "        return (f'Kết quả cộng: {a}')\n",
    "\n",
    "    def subtract(self):\n",
    "        d = self.number1 - self.number2\n",
    "        return (f'Kết quả trừ: {d}')\n",
    "\n",
    "    def multi(self): \n",
    "        b = self.number1 * self.number2\n",
    "        return (f'Kết quả nhân: {b}')\n",
    "\n",
    "    def division(self):\n",
    "        c = self.number1 / self.number2\n",
    "        return (f'Kết quả chia: {c}')\n",
    "\n",
    "\n",
    "a = Equation(65, 5)\n",
    "a.print_info()\n",
    "\n",
    "print(a.addition())\n",
    "print(a.subtract())\n",
    "print(a.multi())\n",
    "print(a.division())\n"
   ]
  }
 ],
 "metadata": {
  "kernelspec": {
   "display_name": "Python 3 (ipykernel)",
   "language": "python",
   "name": "python3"
  },
  "language_info": {
   "codemirror_mode": {
    "name": "ipython",
    "version": 3
   },
   "file_extension": ".py",
   "mimetype": "text/x-python",
   "name": "python",
   "nbconvert_exporter": "python",
   "pygments_lexer": "ipython3",
   "version": "3.11.4"
  }
 },
 "nbformat": 4,
 "nbformat_minor": 5
}
