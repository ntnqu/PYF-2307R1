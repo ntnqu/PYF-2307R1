{
 "cells": [
  {
   "cell_type": "code",
   "execution_count": null,
   "id": "1b7705b3",
   "metadata": {},
   "outputs": [],
   "source": [
    "\"\"\"\n",
    "Viết class NhanVien gồm các thuộc tính:\n",
    "+ Tên\n",
    "+ Tuổi\n",
    "+ Địa chỉ\n",
    "+ Tiền lương\n",
    "+ Tổng số giờ làm\n",
    "\n",
    "Và các phương thức:\n",
    "- Phương thức __init__()\n",
    "- print_info() : In ra tất cả các thông tin của nhân viên\n",
    "- tinh_thuong(): Tính toán và trả về số tiền thưởng của nhân viên theo công thức sau:\n",
    "Nếu tổng số giờ làm của nhân viên >=200 thì thưởng = lương * 20%\n",
    "Nếu tổng số giờ làm của nhân viên <200 và >=100 thì thưởng = lương * 10%\n",
    "Nếu tổng số giờ làm của nhân viên <100 thì thưởng = 0\n",
    "\"\"\""
   ]
  },
  {
   "cell_type": "code",
   "execution_count": 25,
   "id": "3cf0f41d",
   "metadata": {},
   "outputs": [],
   "source": [
    "class NhanVien:\n",
    "\n",
    "    def __init__(self, name, age, address, salary, work):\n",
    "        self.name = name\n",
    "        self.age = age\n",
    "        self.address = address\n",
    "        self.salary = salary\n",
    "        self.work = work\n",
    "\n",
    "    def print_info(self):\n",
    "        return print(f'Tên: {self.name}, tuổi: {self.age}, địa chỉ: {self.address}, mức lương: {self.salary}, tổng số giờ làm {self.work}.')\n",
    "\n"
   ]
  },
  {
   "cell_type": "code",
   "execution_count": 26,
   "id": "4c9ec8bf-eb86-4cf6-829b-ed2e33ff1a8e",
   "metadata": {},
   "outputs": [
    {
     "name": "stdout",
     "output_type": "stream",
     "text": [
      "Tên: Quynh, tuổi: 36, địa chỉ: HCM, mức lương: 800, tổng số giờ làm 40.\n"
     ]
    }
   ],
   "source": [
    "a = NhanVien('Quynh', 36, 'HCM', 800, 40)\n",
    "a.print_info()\n"
   ]
  },
  {
   "cell_type": "code",
   "execution_count": null,
   "id": "6133f3f6-30b2-47b9-8a4a-57887b9e5221",
   "metadata": {},
   "outputs": [],
   "source": [
    "def bonus(self):\n",
    "    bonus_money = 0\n",
    "    if self.work < 100:\n",
    "        bonus_money = 0\n",
    "        print(f\"Tổng tiền lương là: {self.salary}\")\n",
    "    \n",
    "    elif self.work < 200:\n",
    "        bonus_money = 0.1 * self.salary\n",
    "        self.salary += bonus_money\n",
    "        print(f\"Tổng tiền lương là: {self.salary}\")\n",
    "\n",
    "    else:\n",
    "        bonus_money = 0.2 * self.salary\n",
    "        self.salary += bonus_money\n",
    "        print(f\"Tổng tiền lương là: {self.salary}\")\n",
    "\n",
    "        "
   ]
  },
  {
   "cell_type": "code",
   "execution_count": 27,
   "id": "76cb26e2-0811-478f-9d5c-c59190dc9ec3",
   "metadata": {},
   "outputs": [],
   "source": [
    "class NhanVien:\n",
    "\n",
    "    def __init__(self, name, age, address, salary, work):\n",
    "        self.name = name\n",
    "        self.age = age\n",
    "        self.address = address\n",
    "        self.salary = salary\n",
    "        self.work = work\n",
    "\n",
    "    def print_info(self):\n",
    "        return print(f'Tên: {self.name}, tuổi: {self.age}, địa chỉ: {self.address}, mức lương: {self.salary}, tổng số giờ làm {self.work}.')\n",
    "\n",
    "    def bonus(self):\n",
    "        bonus_money = 0\n",
    "        if self.work < 100:\n",
    "            bonus_money = 0\n",
    "            print(f\"Tổng tiền lương là: {self.salary}\")\n",
    "    \n",
    "        elif self.work < 200:\n",
    "            bonus_money = 0.1 * self.salary\n",
    "            self.salary += bonus_money\n",
    "            print(f\"Tổng tiền lương là: {self.salary}\")\n",
    "\n",
    "        else:\n",
    "            bonus_money = 0.2 * self.salary\n",
    "            self.salary += bonus_money\n",
    "            print(f\"Tổng tiền lương là: {self.salary}\")"
   ]
  },
  {
   "cell_type": "code",
   "execution_count": 28,
   "id": "9c06f90b-5e43-4370-a9b7-41c1590a48e4",
   "metadata": {},
   "outputs": [
    {
     "name": "stdout",
     "output_type": "stream",
     "text": [
      "Tên: Quynh, tuổi: 36, địa chỉ: HCM, mức lương: 800, tổng số giờ làm 40.\n",
      "Tổng tiền lương là: 800\n"
     ]
    }
   ],
   "source": [
    "a = NhanVien('Quynh', 36, 'HCM', 800, 40)\n",
    "a.print_info()\n",
    "a.bonus()"
   ]
  },
  {
   "cell_type": "code",
   "execution_count": 5,
   "id": "b4a249cd-09d4-429d-a248-0575f43c3665",
   "metadata": {},
   "outputs": [
    {
     "name": "stdout",
     "output_type": "stream",
     "text": [
      "THÔNG TIN NHÂN VIÊN:\n",
      "Tên: Quynh, tuổi: 36, địa chỉ: HCM, mức lương: 800, tổng số giờ làm 40.\n",
      "Tiền thưởng: 0\n"
     ]
    }
   ],
   "source": [
    "class NhanVien:\n",
    "\n",
    "    def __init__(self, name, age, address, salary, work):\n",
    "        self.name = name\n",
    "        self.age = age\n",
    "        self.address = address\n",
    "        self.salary = salary\n",
    "        self.work = work\n",
    "\n",
    "    def bonus(self):\n",
    "        if self.work < 100:\n",
    "            bonus_money = 0\n",
    "    \n",
    "        elif self.work < 200:\n",
    "            bonus_money = 0.1 * self.salary\n",
    "           \n",
    "        else:\n",
    "            bonus_money = 0.2 * self.salary\n",
    "\n",
    "        return bonus_money\n",
    "\n",
    "    def print_info(self):\n",
    "        print('THÔNG TIN NHÂN VIÊN:')\n",
    "        print(f'Tên: {self.name}, tuổi: {self.age}, địa chỉ: {self.address}, mức lương: {self.salary}, tổng số giờ làm {self.work}.')\n",
    "        print(f'Tiền thưởng: {self.bonus()}')\n",
    "\n",
    "\n",
    "a = NhanVien('Quynh', 36, 'HCM', 800, 40)\n",
    "a.print_info()"
   ]
  }
 ],
 "metadata": {
  "kernelspec": {
   "display_name": "Python 3 (ipykernel)",
   "language": "python",
   "name": "python3"
  },
  "language_info": {
   "codemirror_mode": {
    "name": "ipython",
    "version": 3
   },
   "file_extension": ".py",
   "mimetype": "text/x-python",
   "name": "python",
   "nbconvert_exporter": "python",
   "pygments_lexer": "ipython3",
   "version": "3.11.4"
  }
 },
 "nbformat": 4,
 "nbformat_minor": 5
}
