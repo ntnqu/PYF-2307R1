{
 "cells": [
  {
   "cell_type": "code",
   "execution_count": null,
   "id": "1b7705b3",
   "metadata": {},
   "outputs": [],
   "source": [
    "\"\"\"\n",
    "Viết class NhanVien gồm các thuộc tính:\n",
    "+ Tên\n",
    "+ Tuổi\n",
    "+ Địa chỉ\n",
    "+ Tiền lương\n",
    "+ Tổng số giờ làm\n",
    "\n",
    "Và các phương thức:\n",
    "- Phương thức __init__()\n",
    "- print_info() : In ra tất cả các thông tin của nhân viên\n",
    "- tinh_thuong(): Tính toán và trả về số tiền thưởng của nhân viên theo công thức sau:\n",
    "Nếu tổng số giờ làm của nhân viên >=200 thì thưởng = lương * 20%\n",
    "Nếu tổng số giờ làm của nhân viên <200 và >=100 thì thưởng = lương * 10%\n",
    "Nếu tổng số giờ làm của nhân viên <100 thì thưởng = 0\n",
    "\"\"\""
   ]
  },
  {
   "cell_type": "code",
   "execution_count": 19,
   "id": "3cf0f41d",
   "metadata": {},
   "outputs": [],
   "source": [
    "class NhanVien:\n",
    "\n",
    "    def __init__(self, name, age, address, salary, work):\n",
    "        self.name = name\n",
    "        self.age = age\n",
    "        self.address = address\n",
    "        self.salary = salary\n",
    "        self.work = work\n",
    "\n",
    "    def intro(self):\n",
    "        return print(f'Tên: {self.name}, tuổi: {self.age}, địa chỉ: {self.address}, mức lương: {self.salary}, tổng số giờ làm {self.work}.')\n",
    "\n"
   ]
  },
  {
   "cell_type": "code",
   "execution_count": 20,
   "id": "4c9ec8bf-eb86-4cf6-829b-ed2e33ff1a8e",
   "metadata": {},
   "outputs": [
    {
     "ename": "NameError",
     "evalue": "name 'Quynh' is not defined",
     "output_type": "error",
     "traceback": [
      "\u001b[1;31m---------------------------------------------------------------------------\u001b[0m",
      "\u001b[1;31mNameError\u001b[0m                                 Traceback (most recent call last)",
      "Cell \u001b[1;32mIn[20], line 1\u001b[0m\n\u001b[1;32m----> 1\u001b[0m a \u001b[38;5;241m=\u001b[39m NhanVien(\u001b[43mQuynh\u001b[49m, \u001b[38;5;241m36\u001b[39m, HCM, \u001b[38;5;241m1000\u001b[39m, \u001b[38;5;241m40\u001b[39m)\n\u001b[0;32m      2\u001b[0m a\u001b[38;5;241m.\u001b[39mintro()\n",
      "\u001b[1;31mNameError\u001b[0m: name 'Quynh' is not defined"
     ]
    }
   ],
   "source": [
    "a = NhanVien(Quynh, 36, HCM, 1000, 40)\n",
    "a.intro()"
   ]
  },
  {
   "cell_type": "code",
   "execution_count": null,
   "id": "6133f3f6-30b2-47b9-8a4a-57887b9e5221",
   "metadata": {},
   "outputs": [],
   "source": [
    "def bonus(self):\n",
    "    bonus_money = 0\n",
    "    if self.work < 100:\n",
    "        bonus_money = 0\n",
    "        print(f\"Tổng tiền lương là: {self.salary}\")\n",
    "    \n",
    "    elif self.work < 200:\n",
    "        bonus_money = 0.1 * self.salary\n",
    "        self.salary += bonus_money\n",
    "        print(f\"Tổng tiền lương là: {self.salary}\")\n",
    "\n",
    "    else:\n",
    "        bonus_money = 0.2 * self.salary\n",
    "        self.salary += bonus_money\n",
    "        print(f\"Tổng tiền lương là: {self.salary}\")\n",
    "\n",
    "        "
   ]
  },
  {
   "cell_type": "code",
   "execution_count": 21,
   "id": "76cb26e2-0811-478f-9d5c-c59190dc9ec3",
   "metadata": {},
   "outputs": [],
   "source": [
    "class NhanVien:\n",
    "\n",
    "    def __init__(self, name, age, address, salary, work):\n",
    "        self.name = name\n",
    "        self.age = age\n",
    "        self.address = address\n",
    "        self.salary = salary\n",
    "        self.work = work\n",
    "\n",
    "    def intro(self):\n",
    "        return print(f'Tên: {self.name}, tuổi: {self.age}, địa chỉ: {self.address}, mức lương: {self.salary}, tổng số giờ làm {self.work}.')\n",
    "\n",
    "    def bonus(self):\n",
    "        bonus_money = 0\n",
    "        if self.work < 100:\n",
    "            bonus_money = 0\n",
    "            print(f\"Tổng tiền lương là: {self.salary}\")\n",
    "    \n",
    "        elif self.work < 200:\n",
    "            bonus_money = 0.1 * self.salary\n",
    "            self.salary += bonus_money\n",
    "            print(f\"Tổng tiền lương là: {self.salary}\")\n",
    "\n",
    "        else:\n",
    "            bonus_money = 0.2 * self.salary\n",
    "            self.salary += bonus_money\n",
    "            print(f\"Tổng tiền lương là: {self.salary}\")"
   ]
  }
 ],
 "metadata": {
  "kernelspec": {
   "display_name": "Python 3 (ipykernel)",
   "language": "python",
   "name": "python3"
  },
  "language_info": {
   "codemirror_mode": {
    "name": "ipython",
    "version": 3
   },
   "file_extension": ".py",
   "mimetype": "text/x-python",
   "name": "python",
   "nbconvert_exporter": "python",
   "pygments_lexer": "ipython3",
   "version": "3.11.4"
  }
 },
 "nbformat": 4,
 "nbformat_minor": 5
}
