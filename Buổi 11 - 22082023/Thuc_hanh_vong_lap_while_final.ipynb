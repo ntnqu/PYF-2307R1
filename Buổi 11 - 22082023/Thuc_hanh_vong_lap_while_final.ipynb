{
 "cells": [
  {
   "cell_type": "code",
   "execution_count": null,
   "id": "272a3a95",
   "metadata": {},
   "outputs": [],
   "source": [
    "'''\n",
    "Khởi động 1: Viết chương trình in ra tất cả các số chia hết cho cả 5 và 7 trong khoảng từ 1500 đến 2700\n",
    "'''"
   ]
  },
  {
   "cell_type": "code",
   "execution_count": 1,
   "id": "18dbe371",
   "metadata": {},
   "outputs": [
    {
     "name": "stdout",
     "output_type": "stream",
     "text": [
      "1505\n",
      "1540\n",
      "1575\n",
      "1610\n",
      "1645\n",
      "1680\n",
      "1715\n",
      "1750\n",
      "1785\n",
      "1820\n",
      "1855\n",
      "1890\n",
      "1925\n",
      "1960\n",
      "1995\n",
      "2030\n",
      "2065\n",
      "2100\n",
      "2135\n",
      "2170\n",
      "2205\n",
      "2240\n",
      "2275\n",
      "2310\n",
      "2345\n",
      "2380\n",
      "2415\n",
      "2450\n",
      "2485\n",
      "2520\n",
      "2555\n",
      "2590\n",
      "2625\n",
      "2660\n",
      "2695\n"
     ]
    }
   ],
   "source": [
    "# in ra các số chia hết cho 5 và 7 trong khoảng từ 1500 đến 2700\n",
    "\n",
    "i = 1500\n",
    "\n",
    "\n",
    "while i <= 2700:\n",
    "    if i % 7 == 0 and i % 5 == 0:\n",
    "        print(i)\n",
    "    i += 1"
   ]
  },
  {
   "cell_type": "code",
   "execution_count": null,
   "id": "87f74c6c",
   "metadata": {},
   "outputs": [],
   "source": [
    "'''\n",
    "Bài 1: Viết chương trình nhập vào chiều cao tam giác vuông và in ra tam giác có hình dạng như sau:\n",
    "*****\n",
    "****\n",
    "***\n",
    "** \n",
    "*\n",
    "'''"
   ]
  },
  {
   "cell_type": "code",
   "execution_count": 3,
   "id": "4dda9880-17be-47c7-a1b5-29b98e31ffb0",
   "metadata": {},
   "outputs": [
    {
     "name": "stdin",
     "output_type": "stream",
     "text": [
      "Please input height of triangle:  5\n"
     ]
    },
    {
     "name": "stdout",
     "output_type": "stream",
     "text": [
      "*****\n",
      "****\n",
      "***\n",
      "**\n",
      "*\n"
     ]
    }
   ],
   "source": [
    "height = int(input(\"Please input height of triangle: \"))\n",
    "i = 1\n",
    "\n",
    "while height >= i:\n",
    "    print(height * \"*\")\n",
    "    height -= 1\n",
    "\n"
   ]
  },
  {
   "cell_type": "code",
   "execution_count": null,
   "id": "ea4c14a8",
   "metadata": {},
   "outputs": [],
   "source": [
    "'''\n",
    "Bài 2: Viết chương trình nhập vào chiều cao tam giác vuông và in ra tam giác có hình dạng như sau:\n",
    "* * * * * *\n",
    "* * * * *\n",
    "* * * *\n",
    "* * *\n",
    "* *\n",
    "*\n",
    "'''"
   ]
  },
  {
   "cell_type": "code",
   "execution_count": 7,
   "id": "7e0b439a-62fb-481d-a76f-bc15a0619275",
   "metadata": {},
   "outputs": [
    {
     "name": "stdin",
     "output_type": "stream",
     "text": [
      "Please input height of triangle:  5\n"
     ]
    },
    {
     "name": "stdout",
     "output_type": "stream",
     "text": [
      "* * * * * \n",
      "* * * * \n",
      "* * * \n",
      "* * \n",
      "* \n"
     ]
    }
   ],
   "source": [
    "height = int(input(\"Please input height of triangle: \"))\n",
    "i = 1\n",
    "\n",
    "while height >= i:\n",
    "    print(height * \"* \")\n",
    "    height -= 1\n"
   ]
  },
  {
   "cell_type": "code",
   "execution_count": 1,
   "id": "55c203ac-b30d-4b0e-93e5-c09416f31e79",
   "metadata": {},
   "outputs": [
    {
     "name": "stdin",
     "output_type": "stream",
     "text": [
      "Please input height of triangle:  5\n"
     ]
    },
    {
     "name": "stdout",
     "output_type": "stream",
     "text": [
      "* * * * * \n",
      "* * * * \n",
      "* * * \n",
      "* * \n",
      "* \n"
     ]
    }
   ],
   "source": [
    "height = int(input(\"Please input height of triangle: \"))\n",
    "i = height\n",
    "\n",
    "while i >= 1:\n",
    "    print (\"* \" * i)\n",
    "    i -= 1\n",
    "\n"
   ]
  },
  {
   "cell_type": "code",
   "execution_count": 3,
   "id": "734de608-68b9-4bf3-a200-80767abd30a1",
   "metadata": {},
   "outputs": [
    {
     "name": "stdin",
     "output_type": "stream",
     "text": [
      "Please input height of triangle:  5\n"
     ]
    },
    {
     "name": "stdout",
     "output_type": "stream",
     "text": [
      "* * * * *\n",
      "* * * *\n",
      "* * *\n",
      "* *\n",
      "*\n"
     ]
    }
   ],
   "source": [
    "height = int(input(\"Please input height of triangle: \"))\n",
    "i = height\n",
    "# làm 1 vòng lặp\n",
    "\n",
    "while i >= 1:\n",
    "    print (\"* \" * (i - 1) + '*')\n",
    "    i -= 1"
   ]
  },
  {
   "cell_type": "code",
   "execution_count": null,
   "id": "bd17e085",
   "metadata": {},
   "outputs": [],
   "source": [
    "'''\n",
    "Bài 3: Viết chương trình nhập vào chiều cao tam giác vuông và in ra tam giác có hình dạng như sau:\n",
    "* - * - *\n",
    "* - * -\n",
    "* - *\n",
    "* -\n",
    "*\n",
    "'''"
   ]
  },
  {
   "cell_type": "code",
   "execution_count": 5,
   "id": "0ba00535-e507-44d4-9487-b6c97aafcd53",
   "metadata": {},
   "outputs": [
    {
     "name": "stdin",
     "output_type": "stream",
     "text": [
      "Please input height:  7\n"
     ]
    },
    {
     "name": "stdout",
     "output_type": "stream",
     "text": [
      "* - * - * - *\n",
      "* - * - * -\n",
      "* - * - *\n",
      "* - * -\n",
      "* - *\n",
      "* -\n",
      "*\n"
     ]
    }
   ],
   "source": [
    "# làm 1 vòng lặp, hay gặp trong thực tế\n",
    "\n",
    "height = int(input(\"Please input height: \"))\n",
    "\n",
    "i = height\n",
    "\n",
    "while i >= 1:\n",
    "    print(('* - ' * (i // 2) + '*' * (i % 2)).strip())\n",
    "\n",
    "    i -= 1"
   ]
  },
  {
   "cell_type": "code",
   "execution_count": 19,
   "id": "7746d768-ad47-4238-8a2f-2d990bd6fe13",
   "metadata": {},
   "outputs": [
    {
     "name": "stdin",
     "output_type": "stream",
     "text": [
      "Please input height of triangle:  5\n"
     ]
    },
    {
     "name": "stdout",
     "output_type": "stream",
     "text": [
      "* _* _* _* _* _\n",
      "* _* _* _* _\n",
      "* _* _* _\n",
      "* _* _\n",
      "* _\n"
     ]
    }
   ],
   "source": [
    "# cái code này mình thấy là sai rồi, nhưng mình vẫn để code lại để so sánh :(  \n",
    "height = int(input(\"Please input height of triangle: \"))\n",
    "i = 1\n",
    "\n",
    "while height >= i:\n",
    "    print(height * \"* _\")\n",
    "    height -= 1"
   ]
  },
  {
   "cell_type": "code",
   "execution_count": 2,
   "id": "a960cd13-73e4-4a50-b431-c7568bd945da",
   "metadata": {},
   "outputs": [
    {
     "name": "stdin",
     "output_type": "stream",
     "text": [
      "Please input height of triangle:  5\n"
     ]
    },
    {
     "name": "stdout",
     "output_type": "stream",
     "text": [
      "* - * - *\n",
      "* - * _\n",
      "* - *\n",
      "* _\n",
      "*\n"
     ]
    }
   ],
   "source": [
    "# Cách làm của anh Phương ở lớp\n",
    "\n",
    "height = int(input(\"Please input height of triangle: \"))\n",
    "i = 1\n",
    "\n",
    "while height >= 1:\n",
    "    if height % 2 == 0:\n",
    "        print('* - ' * (height // 2 - 1) + \"* _\")\n",
    "    else:\n",
    "        print('* - ' * ((height - 1) // 2) + \"*\")\n",
    "    height -= 1"
   ]
  },
  {
   "cell_type": "code",
   "execution_count": null,
   "id": "105b66bc",
   "metadata": {},
   "outputs": [],
   "source": [
    "'''\n",
    "Bài 4: Viết chương trình nhập vào một số nguyên n và in ra các số từ 1 đến n với các trường hợp ngoại lệ như sau:\n",
    "- Nếu số đó chia hết cho 3 thì in \"py\"\n",
    "- Nếu số đó chia hết cho 7 thì in \"thon\"\n",
    "- Nếu số đó chia hết cho cả 3 và 4 thì in \"python\"\n",
    "\n",
    "Ví dụ: n = 25\n",
    "1\n",
    "2\n",
    "py\n",
    "4\n",
    "5\n",
    "py\n",
    "thon\n",
    "8\n",
    "py\n",
    "10\n",
    "11\n",
    "py\n",
    "13\n",
    "thon\n",
    "py\n",
    "16\n",
    "17\n",
    "py\n",
    "19\n",
    "20\n",
    "python\n",
    "22\n",
    "23\n",
    "py\n",
    "25\n",
    "'''"
   ]
  },
  {
   "cell_type": "code",
   "execution_count": 30,
   "id": "9469b86a-71ee-483a-9e59-8163c6ec64f2",
   "metadata": {},
   "outputs": [
    {
     "name": "stdin",
     "output_type": "stream",
     "text": [
      "Nhập vào một số nguyên n:  25\n"
     ]
    },
    {
     "name": "stdout",
     "output_type": "stream",
     "text": [
      "1\n",
      "2\n",
      "py\n",
      "4\n",
      "5\n",
      "py\n",
      "thon\n",
      "8\n",
      "py\n",
      "10\n",
      "11\n",
      "py\n",
      "13\n",
      "thon\n",
      "py\n",
      "16\n",
      "17\n",
      "py\n",
      "19\n",
      "20\n",
      "py\n",
      "22\n",
      "23\n",
      "py\n",
      "25\n"
     ]
    }
   ],
   "source": [
    "n = int(input(\"Nhập vào một số nguyên n: \"))\n",
    "i = 1\n",
    "\n",
    "'''- Nếu số đó chia hết cho 3 thì in \"py\"\n",
    "- Nếu số đó chia hết cho 7 thì in \"thon\"\n",
    "- Nếu số đó chia hết cho cả 3 và 4 thì in \"python\" '''\n",
    "\n",
    "while i <= n:\n",
    "    if i % 3 == 0:\n",
    "        print(\"py\")\n",
    "    elif i % 7 == 0:\n",
    "        print(\"thon\")\n",
    "    elif i % 3 == 0 and i % 4 == 0:\n",
    "        print(\"python\")\n",
    "    else:\n",
    "        print(i)\n",
    "    \n",
    "    i += 1\n",
    "        "
   ]
  },
  {
   "cell_type": "code",
   "execution_count": null,
   "id": "3689744c",
   "metadata": {},
   "outputs": [],
   "source": [
    "'''\n",
    "Bài 5: Viết chương trình nhập vào một số và kiểm tra xem số đó có phải là số nguyên tố hay không\n",
    "Note: Số nguyên tố là số chỉ chia hết cho 1 và chính nó\n",
    "'''"
   ]
  },
  {
   "cell_type": "code",
   "execution_count": 6,
   "id": "43da70dc-a07b-4412-a262-301009890190",
   "metadata": {},
   "outputs": [
    {
     "name": "stdin",
     "output_type": "stream",
     "text": [
      "Nhập vào một số:  7\n"
     ]
    },
    {
     "name": "stdout",
     "output_type": "stream",
     "text": [
      "7 chính là số nguyên tố.\n"
     ]
    }
   ],
   "source": [
    "# đây là một bài dùng vòng lặp nhưng không có dấu hiệu biểu thị có vòng lặp\n",
    "# nếu số vừa nhập chia hết cho 1 số không phải 1 và chính nó thì số đó không phải là số nguyên tố\n",
    "# kiểm tra tất cả các số nguyên từ 2 cho đến (n -1) xem có tồn tại ước của n không\n",
    "\n",
    "n = int(input(\"Nhập vào một số: \"))\n",
    "\n",
    "count = 0 # biến đếm kết quả phép chia\n",
    "i = 1\n",
    "\n",
    "while i <= n:\n",
    "    if n % i == 0:\n",
    "        count += 1\n",
    "    i += 1\n",
    "\n",
    "if count > 2:\n",
    "    print(f\"{n} không phải là số nguyên tố.\")\n",
    "else:\n",
    "    print(f\"{n} chính là số nguyên tố.\")"
   ]
  },
  {
   "cell_type": "code",
   "execution_count": 8,
   "id": "28283338-774a-4c14-8370-f07615e35da4",
   "metadata": {},
   "outputs": [
    {
     "name": "stdin",
     "output_type": "stream",
     "text": [
      "Nhập vào một số:  7\n"
     ]
    },
    {
     "name": "stdout",
     "output_type": "stream",
     "text": [
      "7 chính là số nguyên tố.\n"
     ]
    }
   ],
   "source": [
    "n = int(input(\"Nhập vào một số: \"))\n",
    "\n",
    "i = 2\n",
    "\n",
    "is_prime_number = True # đặt 1 biến giả định n là số nguyên tố\n",
    "\n",
    "while i < n:\n",
    "    if n % i == 0:\n",
    "        print(f\"{n} không phải là số nguyên tố.\")\n",
    "        is_prime_number = False\n",
    "        break\n",
    "    i += 1\n",
    "\n",
    "if is_prime_number == True: # giá trị is_prime_number không bị thay đổi trong suốt quá trình lặp\n",
    "    # kết luận n là số nguyên tố\n",
    "    \n",
    "    print(f\"{n} chính là số nguyên tố.\")"
   ]
  },
  {
   "cell_type": "code",
   "execution_count": null,
   "id": "d76fa311",
   "metadata": {},
   "outputs": [],
   "source": [
    "'''\n",
    "Bài 6: Viết chương trình mô phỏng trò chơi kéo búa bao theo luật chơi như sau:\n",
    "Quy ước: 1 - búa, 2 - kéo, 3 - bao\n",
    "Khi trò chơi bắt đầu, yêu cầu người chơi nhập 1 số từ bàn phím đại diện cho kéo, búa, bao\n",
    "Chương trình tự random ra một lựa chọn từ 1 đến 3.\n",
    "Nếu người chơi thua thì tiếp tục chơi cho đến khi thắng thì kết thúc chương trình.\n",
    "Ví dụ:\n",
    "\n",
    "Mời lựa chọn(1 - búa, 2 - kéo, 3 - bao): 1\n",
    "Máy tính chọn: 3\n",
    "Người chơi thua.\n",
    "\n",
    "Mời lựa chọn(1 - búa, 2 - kéo, 3 - bao): 2\n",
    "Máy tính chọn: 1\n",
    "Người chơi thua.\n",
    "\n",
    "Mời lựa chọn(1 - búa, 2 - kéo, 3 - bao): 1\n",
    "Máy tính chọn: 2\n",
    "Người chơi thắng.\n",
    "'''"
   ]
  },
  {
   "cell_type": "code",
   "execution_count": 12,
   "id": "47febc67-b45c-4843-b705-10fc563504f4",
   "metadata": {},
   "outputs": [
    {
     "name": "stdin",
     "output_type": "stream",
     "text": [
      "Mời lựa chọn (1 - búa, 2 - kéo, 3 - bao):  1\n"
     ]
    },
    {
     "name": "stdout",
     "output_type": "stream",
     "text": [
      "Máy tính chọn: 1\n",
      "Người chơi thua.\n"
     ]
    },
    {
     "name": "stdin",
     "output_type": "stream",
     "text": [
      "Mời lựa chọn (1 - búa, 2 - kéo, 3 - bao):  2\n"
     ]
    },
    {
     "name": "stdout",
     "output_type": "stream",
     "text": [
      "Máy tính chọn: 2\n",
      "Người chơi thua.\n"
     ]
    },
    {
     "name": "stdin",
     "output_type": "stream",
     "text": [
      "Mời lựa chọn (1 - búa, 2 - kéo, 3 - bao):  3\n"
     ]
    },
    {
     "name": "stdout",
     "output_type": "stream",
     "text": [
      "Máy tính chọn: 1\n",
      "Người chơi thắng.\n"
     ]
    }
   ],
   "source": [
    "import random\n",
    "\n",
    "is_win = False\n",
    "\n",
    "while is_win == False:\n",
    "    \n",
    "    player_choice = int(input(\"Mời lựa chọn (1 - búa, 2 - kéo, 3 - bao): \"))\n",
    "    computer_choice = random.randint(1, 3) # how to random number in python\n",
    "\n",
    "    print (f\"Máy tính chọn: {computer_choice}\")\n",
    "\n",
    "    if (player_choice == 1 and computer_choice == 2) or (player_choice == 2 and computer_choice == 3) or \\\n",
    "        (player_choice == 3 and computer_choice == 1):\n",
    "        print(f\"Người chơi thắng.\")\n",
    "        is_win = True\n",
    "\n",
    "    else:\n",
    "        print(f\"Người chơi thua.\")"
   ]
  }
 ],
 "metadata": {
  "kernelspec": {
   "display_name": "Python 3 (ipykernel)",
   "language": "python",
   "name": "python3"
  },
  "language_info": {
   "codemirror_mode": {
    "name": "ipython",
    "version": 3
   },
   "file_extension": ".py",
   "mimetype": "text/x-python",
   "name": "python",
   "nbconvert_exporter": "python",
   "pygments_lexer": "ipython3",
   "version": "3.11.4"
  }
 },
 "nbformat": 4,
 "nbformat_minor": 5
}
