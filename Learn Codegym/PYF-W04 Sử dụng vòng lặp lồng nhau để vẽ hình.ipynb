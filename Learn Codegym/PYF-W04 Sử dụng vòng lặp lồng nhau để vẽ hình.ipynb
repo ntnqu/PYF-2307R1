{
 "cells": [
  {
   "cell_type": "markdown",
   "id": "7b94bbae-dcc0-461b-9204-646e30f6d734",
   "metadata": {},
   "source": [
    "Mục tiêu\r\n",
    "Luyện tập với các lệnh for…in, vòng lặp lồng nhau trong lập trình\r\n",
    "\r\n",
    "Mô tả bài toán\r\n",
    "Viết chương trình sử dụng thư viện turtle và hàm lặp for…in để vẽ ngôi sao với màu sắc cho sẵn, sử dụng vòng lặp lồng nhau để vẽ thêm n ngôi sao xoay quanh tâm cửa số màn hình và cách nhau bên trái 5px\r\n",
    "\r\n",
    "Hướng dẫn thực hiện\r\n",
    "Bước 1: Import thư viện Turtle\r\n",
    "\r\n",
    "import turtle\r\n",
    "\r\n",
    "Bước 2: Cài đặt cửa số hiển thị\r\n",
    "\r\n",
    "Sử dụng bgcolor(“color”) để cài đặt màu nền của cửa số giao diện, giá trị color là tên của màu sắc mong muốn\r\n",
    "wn = turtle.Screen()\r\n",
    "wn.bgcolor(\"black\")\r\n",
    "wn.title(\"Star\")\r\n",
    "Bước 3: Cài đặt màu sắc và tốc độ của hình vẽ\r\n",
    "\r\n",
    "Sử dụng speed(speed=None) để cài đặt tốc độ của bút vẽ turtle, có thể sử dụng lại để thay đổi tốc độ ở phía bên dưới hàm.\r\n",
    "Sử dụng color(“color”) để cài đặt màu của bút vẽ turtle, có thể sử dụng lại để thay đổi tốc độ ở phía bên dưới hàm, giá trị của color có thể là tên hoặc là mã màu mong muốn\r\n",
    "myPen = turtle.Turtle()\r\n",
    "myPen.speed(0)\r\n",
    "myPen.color(\"#FF0000\")\r\n",
    "Bước 4: Sử dụng for..in và hàm range() để quy định tổng số ngôi sao được vẽ, qua mỗi vòng lặp, sử dụng hàm left() để điều hướng hình vẽ theo góc 5 độ\r\n",
    "\r\n",
    "        for j in range (1,100):\r\n",
    "\t\t…\r\n",
    "\tmyPen.left(5)\r\n",
    "Bước 5: Trong mỗi vòng lặp ở trên, chúng ta sẽ sử dụng hàm for…in và range() để vẽ các cạnh ngôi sao. Sử dụng hàm left và forward để điều hướng và vẽ độ dài của mỗi cánh sao\r\n",
    "\r\n",
    "for i in range (1,6):\r\n",
    "      myPen.left(144)\r\n",
    "      myPen.forward(200)\r\n",
    "Bước 6: . Sửu dụng hàm turtle.done() để bắt đầu vẽ hình\r\n",
    "\r\n",
    "turtle.done()\r\n",
    "\r\n",
    "Tổng kết\r\n",
    "Qua bài tập này bạn đã luyện tập:\r\n",
    "\r\n",
    "Sử dụng vòng lặp để vẽ các hình dạng theo ý muốn"
   ]
  },
  {
   "cell_type": "code",
   "execution_count": 1,
   "id": "3356b58d-e457-49d0-b562-37dccce0904d",
   "metadata": {},
   "outputs": [],
   "source": [
    "import turtle\n",
    "\n",
    "wn = turtle.Screen()\n",
    "wn.bgcolor(\"black\")\n",
    "wn.title(\"Star\")\n",
    "\n",
    "myPen = turtle.Turtle()\n",
    "myPen.speed(0)\n",
    "myPen.color(\"#FF0000\")\n",
    "\n",
    "for j in range (1,100):\n",
    "    for i in range (1,6):\n",
    "        myPen.left(144)\n",
    "        myPen.forward(200)\n",
    "    myPen.left(5)\n",
    "\n",
    "turtle.done()"
   ]
  }
 ],
 "metadata": {
  "kernelspec": {
   "display_name": "Python 3 (ipykernel)",
   "language": "python",
   "name": "python3"
  },
  "language_info": {
   "codemirror_mode": {
    "name": "ipython",
    "version": 3
   },
   "file_extension": ".py",
   "mimetype": "text/x-python",
   "name": "python",
   "nbconvert_exporter": "python",
   "pygments_lexer": "ipython3",
   "version": "3.11.4"
  }
 },
 "nbformat": 4,
 "nbformat_minor": 5
}
