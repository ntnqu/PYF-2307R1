{
 "cells": [
  {
   "cell_type": "markdown",
   "id": "d39a2cdc-07cf-4a97-818f-1a1041c2362c",
   "metadata": {},
   "source": [
    "3. Thay đổi giá trị của các phần tử trong list: Dùng chỉ số để thay đổi giá trị của một phần tử cụ thể nào đó hoặc chúng ta cũng có thể thay đổi cùng lúc nhiều giá trị bằng cách dùng khoảng chỉ số."
   ]
  },
  {
   "cell_type": "code",
   "execution_count": 1,
   "id": "67c011fe-08b2-437b-bcbb-b1b4818f67a7",
   "metadata": {},
   "outputs": [
    {
     "name": "stdout",
     "output_type": "stream",
     "text": [
      "List trước khi thay đổi =  ['PHP', 'Python', 'C#', 'Java', 'Android']\n",
      "List sau khi thay đổi =  ['PHP', 'Javascript', 'C#', 'Java', 'Android']\n",
      "List sau khi thay đổi nhiều phần tử =  ['PHP', 'Javascript', 'Swift', 'Java', 'Android']\n"
     ]
    }
   ],
   "source": [
    "languages = [\"PHP\", \"Python\", \"C#\", \"Java\", \"Android\"]\n",
    "\n",
    "print(\"List trước khi thay đổi = \", languages)\n",
    "# Thay đổi giá trị của phần tử thứ 2\n",
    "languages[1] = \"Javascript\"\n",
    "print(\"List sau khi thay đổi = \", languages)\n",
    "\n",
    "# Thay đổi một lúc nhiều giá trị của list\n",
    "languages = [\"PHP\", \"Python\", \"C#\", \"Java\", \"Android\"]\n",
    "languages[1:3] = [\"Javascript\", \"Swift\"]\n",
    "print(\"List sau khi thay đổi nhiều phần tử = \", languages)"
   ]
  },
  {
   "cell_type": "markdown",
   "id": "b4eb22d8-d2f6-4daf-b708-8066f57b9160",
   "metadata": {},
   "source": [
    "Thêm phần tử mới vào list: Để thêm phần tử vào list, dùng phương thức append khi thêm phần tử vào cuối list. Phương thức insert để thêm phần tử vào một vị trí chỉ định nào đó trong list."
   ]
  },
  {
   "cell_type": "code",
   "execution_count": 2,
   "id": "3cc92924-d561-4931-aaba-e388efb5721e",
   "metadata": {},
   "outputs": [
    {
     "name": "stdout",
     "output_type": "stream",
     "text": [
      "List trước khi thêm phần tử =  ['PHP', 'Python', 'C#', 'Java', 'Android']\n",
      "List sau khi thêm phần tử =  ['PHP', 'Python', 'C#', 'Java', 'Android', 'C++']\n",
      "List sau khi thêm phần tử =  ['PHP', 'Swift', 'Python', 'C#', 'Java', 'Android', 'C++']\n"
     ]
    }
   ],
   "source": [
    "languages = [\"PHP\", \"Python\", \"C#\", \"Java\", \"Android\"]\n",
    "\n",
    "print(\"List trước khi thêm phần tử = \", languages)\n",
    "\n",
    "# Dùng phương thức append để thêm vào cuối list\n",
    "languages.append(\"C++\")\n",
    "print(\"List sau khi thêm phần tử = \", languages)\n",
    "\n",
    "# Dùng phương thức insert để thêm vào một vị trí bất kỳ trong list\n",
    "languages.insert(1, \"Swift\")\n",
    "print(\"List sau khi thêm phần tử = \", languages)"
   ]
  },
  {
   "cell_type": "markdown",
   "id": "e567efa7-090f-40a1-8afb-6948331215c6",
   "metadata": {},
   "source": [
    "Ngoài ra, phương thức extend() cũng được dùng để thêm vào list các phần tử của list khác. (Toán tử + có chức năng tương tự extend())"
   ]
  },
  {
   "cell_type": "code",
   "execution_count": 4,
   "id": "eedef0a5-0956-4e48-94d9-666d1b9eebab",
   "metadata": {},
   "outputs": [
    {
     "name": "stdout",
     "output_type": "stream",
     "text": [
      "List trước khi thêm phần tử =  ['PHP', 'Python', 'C#', 'Java', 'Android']\n",
      "List sau khi mở rộng bằng extend() =  ['PHP', 'Python', 'C#', 'Java', 'Android', 'Swift', 'C++']\n",
      "List sau khi mở rộng bằng toán tử + =  ['PHP', 'Python', 'C#', 'Java', 'Android', 'Swift', 'C++']\n"
     ]
    }
   ],
   "source": [
    "languages = [\"PHP\", \"Python\", \"C#\", \"Java\", \"Android\"]\n",
    "\n",
    "print(\"List trước khi thêm phần tử = \", languages)\n",
    "\n",
    "languages_extend = [\"Swift\", \"C++\"]\n",
    "\n",
    "# Nối hai list bằng extend()\n",
    "languages.extend(languages_extend)\n",
    "print(\"List sau khi mở rộng bằng extend() = \", languages)\n",
    "\n",
    "languages = [\"PHP\", \"Python\", \"C#\", \"Java\", \"Android\"]\n",
    "\n",
    "# Nối hai list bằng toán tử +\n",
    "languages_joint = languages + languages_extend\n",
    "print(\"List sau khi mở rộng bằng toán tử + = \", languages_joint)"
   ]
  },
  {
   "cell_type": "markdown",
   "id": "e7d8fcc4-8a98-4f17-bb8e-e35c07170441",
   "metadata": {},
   "source": [
    "4. Xóa phần tử của list: Phương thức remove() dùng để xóa một phần tử cụ thể nào đó trong list. Ngoài remove(), phương thức pop() cũng được sử dụng để xóa một phần tử ở trong list."
   ]
  },
  {
   "cell_type": "code",
   "execution_count": 5,
   "id": "ec40661a-36e7-4d84-a1dc-d052e1bbe4ad",
   "metadata": {},
   "outputs": [
    {
     "name": "stdout",
     "output_type": "stream",
     "text": [
      "List trước khi xóa =  ['PHP', 'Python', 'C#', 'Java', 'Android']\n",
      "List sau khi xóa bởi phương thức remove()=  ['PHP', 'Python', 'Java', 'Android']\n",
      "List sau khi xóa bởi phương thức pop() =  ['PHP', 'Java', 'Android']\n"
     ]
    }
   ],
   "source": [
    "languages = [\"PHP\", \"Python\", \"C#\", \"Java\", \"Android\"]\n",
    "\n",
    "print(\"List trước khi xóa = \", languages)\n",
    "\n",
    "# Dùng phương thức remove()\n",
    "\n",
    "languages.remove(\"C#\")\n",
    "print(\"List sau khi xóa bởi phương thức remove()= \", languages)\n",
    "\n",
    "# Dùng phương thức pop() để xóa phần tử thứ 2 trong list\n",
    "# Lưu ý: Khi dùng pop không có tham số, phần tử cuối cùng của list sẽ\n",
    "# được xóa khỏi list\n",
    "\n",
    "languages.pop(1)\n",
    "print(\"List sau khi xóa bởi phương thức pop() = \", languages)"
   ]
  },
  {
   "cell_type": "markdown",
   "id": "52ad08c2-3592-4e6f-aa11-dd6fccd4413d",
   "metadata": {},
   "source": [
    "Ngoài 2 phương pháp trên, từ khóa del cũng được dùng để xóa một phần tử trong list thông qua chỉ số của nó hoặc xóa toàn bộ list."
   ]
  },
  {
   "cell_type": "code",
   "execution_count": 6,
   "id": "cf90bc76-e2d5-49f0-9c8d-2c1d08dc6d05",
   "metadata": {},
   "outputs": [
    {
     "name": "stdout",
     "output_type": "stream",
     "text": [
      "List trước khi xóa =  ['PHP', 'Python', 'C#', 'Java', 'Android']\n",
      "List sau khi xóa bởi del=  ['PHP', 'C#', 'Java', 'Android']\n"
     ]
    }
   ],
   "source": [
    "languages = [\"PHP\", \"Python\", \"C#\", \"Java\", \"Android\"]\n",
    "\n",
    "print(\"List trước khi xóa = \", languages)\n",
    "\n",
    "# Dùng từ khóa del xóa phần tử thứ 2 của list\n",
    "\n",
    "del languages[1]\n",
    "print(\"List sau khi xóa bởi del= \", languages)\n",
    "\n",
    "# Xóa toàn bộ list, sau khi xóa, language không tồn taị\n",
    "\n",
    "del languages"
   ]
  },
  {
   "cell_type": "markdown",
   "id": "df4541b4-a57f-4766-b11a-b32df7f7b45f",
   "metadata": {},
   "source": [
    "5. Làm rỗng list: Để làm rỗng list dùng phương thức clear()"
   ]
  },
  {
   "cell_type": "code",
   "execution_count": 7,
   "id": "957e3d05-6d09-4b9a-9430-ffeaa059ffed",
   "metadata": {},
   "outputs": [
    {
     "name": "stdout",
     "output_type": "stream",
     "text": [
      "List trước khi làm rỗng =  ['PHP', 'Python', 'C#', 'Java', 'Android']\n",
      "List sau khi làm rỗng =  []\n"
     ]
    }
   ],
   "source": [
    "languages = [\"PHP\", \"Python\", \"C#\", \"Java\", \"Android\"]\n",
    "\n",
    "print(\"List trước khi làm rỗng = \", languages)\n",
    "\n",
    "# Làm rỗng list với phương thức clear()\n",
    "\n",
    "languages.clear()\n",
    "print(\"List sau khi làm rỗng = \", languages)"
   ]
  },
  {
   "cell_type": "markdown",
   "id": "74b3681f-9ae9-4463-972f-a5b047c3a156",
   "metadata": {},
   "source": [
    "6. Sắp xếp list: Dùng phương thức sort() để sắp xếp các phần tử trong list theo thứ tự mặc định là tăng dần. Khi muốn sắp xếp theo thứ tự ngược lại, dùng sort() với tham số reverse = True."
   ]
  },
  {
   "cell_type": "code",
   "execution_count": 9,
   "id": "a3f99fca-68a2-4690-bcd9-0a0256b81527",
   "metadata": {},
   "outputs": [
    {
     "name": "stdout",
     "output_type": "stream",
     "text": [
      "List trước khi sắp xếp =  ['PHP', 'Python', 'C#', 'Java', 'Android']\n",
      "List sau khi sắp xếp reverse = False =  ['Android', 'C#', 'Java', 'PHP', 'Python']\n",
      "List sau khi sắp xếp reverse = True =  ['Python', 'PHP', 'Java', 'C#', 'Android']\n"
     ]
    }
   ],
   "source": [
    "languages = [\"PHP\", \"Python\", \"C#\", \"Java\", \"Android\"]\n",
    "\n",
    "print(\"List trước khi sắp xếp = \", languages)\n",
    "\n",
    "# Sắp xếp list với sort()\n",
    "\n",
    "languages.sort()\n",
    "print(\"List sau khi sắp xếp reverse = False = \", languages)\n",
    "\n",
    "# Sắp xếp list với sort() theo thứ tự ngược lại\n",
    "\n",
    "languages.sort(reverse=True)\n",
    "print(\"List sau khi sắp xếp reverse = True = \", languages)"
   ]
  },
  {
   "cell_type": "markdown",
   "id": "1d163b69-feb4-40f3-92a2-16a4c377c716",
   "metadata": {},
   "source": [
    "7. Copy list: Để tạo một list là copy của một list khác, chúng ta không thể thực hiện bằng phương pháp gán list2 = list1 bởi vì list là kiểu dữ liệu tham chiếu. Khi list1 thay đổi thì list2 cũng thay đổi theo. Do vậy để tạo một list copy chúng ta sử dụng phương thức copy()"
   ]
  },
  {
   "cell_type": "code",
   "execution_count": 10,
   "id": "fb952ece-03b4-47bc-aeb6-6fdd9a79e6d8",
   "metadata": {},
   "outputs": [
    {
     "name": "stdout",
     "output_type": "stream",
     "text": [
      "List 1 =  ['PHP', 'Python', 'C#', 'Java', 'Android']\n",
      "List 2 =  ['PHP', 'Python', 'C#', 'Java', 'Android']\n"
     ]
    }
   ],
   "source": [
    "languages = [\"PHP\", \"Python\", \"C#\", \"Java\", \"Android\"]\n",
    "\n",
    "print(\"List 1 = \", languages)\n",
    "\n",
    "# Tạo list 2 là từ list 1 bằng phương thức copy()\n",
    "\n",
    "languages2 = languages.copy()\n",
    "print(\"List 2 = \", languages2)"
   ]
  },
  {
   "cell_type": "code",
   "execution_count": null,
   "id": "16c8516d-8819-4843-a6eb-d4c55d7fd55d",
   "metadata": {},
   "outputs": [],
   "source": []
  },
  {
   "cell_type": "code",
   "execution_count": null,
   "id": "dfb01053-b5eb-4469-ad86-0ea224a28fc4",
   "metadata": {},
   "outputs": [],
   "source": []
  },
  {
   "cell_type": "code",
   "execution_count": null,
   "id": "ae967821-b66f-43c3-af98-6305bd106455",
   "metadata": {},
   "outputs": [],
   "source": []
  }
 ],
 "metadata": {
  "kernelspec": {
   "display_name": "Python 3 (ipykernel)",
   "language": "python",
   "name": "python3"
  },
  "language_info": {
   "codemirror_mode": {
    "name": "ipython",
    "version": 3
   },
   "file_extension": ".py",
   "mimetype": "text/x-python",
   "name": "python",
   "nbconvert_exporter": "python",
   "pygments_lexer": "ipython3",
   "version": "3.11.4"
  }
 },
 "nbformat": 4,
 "nbformat_minor": 5
}
