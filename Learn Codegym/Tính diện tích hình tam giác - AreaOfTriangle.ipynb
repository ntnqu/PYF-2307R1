{
 "cells": [
  {
   "cell_type": "markdown",
   "id": "55459a6e-751d-4af1-87ad-4c950c269e77",
   "metadata": {},
   "source": [
    "# Mục tiêu\r\n",
    "Luyện tập sử dụng  biến và toán tử\r\n",
    "\r\n",
    "Mô tả\r\n",
    "Trong phần này chúng ta sẽ:\r\n",
    "\r\n",
    "Luyện tập nhập xuất dữ liệu\r\n",
    "Luyện tập sử dụng biến và t\n",
    "oán tử\r\n",
    "Hư\n",
    " - ớng dẫn\r\n",
    "Bước 1: Tạo dự án mới\r\n",
    "\r\n",
    "Trên thanh công cụ, chọn New, chọn Python 3, sau đó đổi tên dự án AreaOfTriangle và import thư viện Math\r\n",
    "\r\n",
    "\n",
    " - \n",
    "import math\r\n",
    "Bước 2: Nhập dữ liệu từ bàn phím và lưu vào 3 biến a, b, c\r\n",
    "\r\n",
    "a = float(input(\"Enter the length of side a: \"))\r\n",
    "b = float(input(\"Enter the length of side b: \"))\r\n",
    "c = float(input(\"Enter the leng\n",
    " - th of side c: \"))\r\n",
    "Bước 3: Tính diện tích tam giác bằng công thức: area = math.sqrt(s*\n",
    "(s-a)*(s-b)*(s-c))\r\n",
    "\r\n",
    "Trong đó:\r\n",
    "\r\n",
    "s là chu vi của tam giác, được tính với công\n",
    "\n",
    " thức: “s = (a+b+c)/2”\r\n",
    "math.sqrt là hàm tính căn bậc hai\r\n",
    "s = (a+b+c)/2\r\n",
    "area = math.\n",
    "\n",
    " - sqrt(s*(s-a)*(s-b)*(s-c))\r\n",
    "Bước 4: In kết quả ra màn hình bằng lệnh print(” Area of the triangle is: “, area)\r\n",
    "\r\n",
    "Ta có\n",
    " đoạn mã hoàn\n",
    " thiện như sau:\r\n",
    "\r\n",
    "import math\r\n",
    "a = float(input(\n",
    "Enter the length of side a: \"))\r\n",
    "b = float(input\n",
    "\"Enter the length of side b: \"))\r\n",
    "c = float(inpu\n",
    "(\"Enter the l\n",
    "ngth of side c: \"))\r\n",
    "s = (a+b+c)/2\r\n",
    "ar\n",
    "ea = math.sqrt(s*(s-a)*(s-b)*(s-c))\r\n",
    "print(\" Area of the triangle is: \", area)"
   ]
  },
  {
   "cell_type": "code",
   "execution_count": 2,
   "id": "4945dc3a-d5b5-4069-9f98-9e6434a65948",
   "metadata": {},
   "outputs": [
    {
     "name": "stdin",
     "output_type": "stream",
     "text": [
      "Enter the length of side a:  4\n",
      "Enter the length of side b:  6\n",
      "Enter the length of side c:  8\n"
     ]
    },
    {
     "name": "stdout",
     "output_type": "stream",
     "text": [
      " Area of the triangle is:  11.61895003862225\n"
     ]
    }
   ],
   "source": [
    "# Demo\n",
    "\n",
    "import math\n",
    "\n",
    "a = float(input(\"Enter the length of side a: \"))\n",
    "b = float(input(\"Enter the length of side b: \"))\n",
    "c = float(input(\"Enter the length of side c: \"))\n",
    "\n",
    "s = (a+b+c)/2\n",
    "area = math.sqrt(s*(s-a)*(s-b)*(s-c))\n",
    "\n",
    "print(\" Area of the triangle is: \", area)"
   ]
  }
 ],
 "metadata": {
  "kernelspec": {
   "display_name": "Python 3 (ipykernel)",
   "language": "python",
   "name": "python3"
  },
  "language_info": {
   "codemirror_mode": {
    "name": "ipython",
    "version": 3
   },
   "file_extension": ".py",
   "mimetype": "text/x-python",
   "name": "python",
   "nbconvert_exporter": "python",
   "pygments_lexer": "ipython3",
   "version": "3.11.4"
  }
 },
 "nbformat": 4,
 "nbformat_minor": 5
}
