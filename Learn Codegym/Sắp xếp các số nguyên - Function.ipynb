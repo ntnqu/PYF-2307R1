{
 "cells": [
  {
   "cell_type": "markdown",
   "id": "39a0efbc-51ac-4b0a-910d-eec6683ccfd8",
   "metadata": {},
   "source": [
    "# Mục tiêu\r\n",
    "\r\n",
    "Luyện tập viết và sử dụng các hàm trong lập trình, ôn lại hàm if…elif…else và chuyển kiểu dữ liệu cho biến\r\n",
    "\r\n",
    "Mô tả\r\n",
    "\r\n",
    "Viết chương trình cho người dùng nhập vào 3 số nguyên bất kỳ, sau đó sẽ in ra thứ tự tăng dần của 3 số nguyên được nhập vào.\r\n",
    "\r\n",
    "Hướng dẫn\r\n",
    "\r\n",
    "Bước 1: Khởi tạo hàm so sánh và sắp xếp lại các số nguyên, hàm này sẽ nhận ba tham số truyền vào tạm gọi là num1, num2 -  và num3\r\n",
    "\r\n",
    "Khởi tạo biến temp với giá trị khởi tạo bằng 0, biến này sẽ là biến lưu tạm các giá trị khi chuyển đổi th\n",
    "\n",
    "ứ tự các s - ố\r\n",
    "temp = 0\r\n",
    "\r\n",
    "Dùng if…elif để kiểm tra hai trường hợp nếu num2 hoặc num3 là số bé nhất để trao đổi giá trị num2 hoặc num3 cho num1 (số bé nhất sẽ đượ  + c đưa lên đầu)\r\n",
    "Nếu num2 < num1 và num2 < num3 thì gán giá trị num1 cho temp, sau đó num1 sẽ nhận giá trị của num2, và num2 sẽ nhận lại giá trị của temp"
   ]
  },
  {
   "cell_type": "code",
   "execution_count": null,
   "id": "e3bbc70c-6486-4c93-a54f-891a462b137b",
   "metadata": {},
   "outputs": [],
   "source": [
    "if num2 < num1 and num2 < num3:\n",
    "        temp = num1\n",
    "        num1 = num2\n",
    "        num2 = temp"
   ]
  },
  {
   "cell_type": "markdown",
   "id": "14896dfd-d08f-487a-a0a8-159467e8602c",
   "metadata": {},
   "source": [
    "Nếu num3 < num1 và num3 < num2 thì gán giá trị num1 cho temp, sau đó num1 sẽ nhận giá trị của num3, và num3 sẽ nhận lại giá trị của temp"
   ]
  },
  {
   "cell_type": "code",
   "execution_count": null,
   "id": "188d780d-1850-4386-afee-62338df7b6c5",
   "metadata": {},
   "outputs": [],
   "source": [
    "elif num3 < num1 and num3 < num2:\n",
    "        temp = num1\n",
    "        num1 = num3\n",
    "        num3 = temp"
   ]
  },
  {
   "cell_type": "markdown",
   "id": "5b768c00-e1fd-45e8-bc73-2814e7f5a7b5",
   "metadata": {},
   "source": [
    " - Sau khi gán được giá trị bé nhất cho num1, dùng if để kiểm tra số bé thứ nhì trong num2 và num3.\n",
    " - Nếu num3 < num2 thì gán giá trị num2 cho temp, sau đó num2 sẽ nhận giá trị của num3, và num3 sẽ nhận lại giá trị của temp"
   ]
  },
  {
   "cell_type": "code",
   "execution_count": null,
   "id": "6b356c1b-2133-4e76-871e-deeb026d213a",
   "metadata": {},
   "outputs": [],
   "source": [
    "if num3 < num2:\n",
    "        temp = num2\n",
    "        num2 = num3\n",
    "        num3 = temp"
   ]
  },
  {
   "cell_type": "markdown",
   "id": "87ce82ff-92fe-43e7-8dbf-6a4878106e7b",
   "metadata": {},
   "source": [
    "Sau khi gán lại giá trị num1, num2 và num3 theo thứ tự từ bé đến lớn, trả về chuỗi số đã được sắp xếp\n",
    "\n",
    "return (num1, num2, num3)\n",
    "\n",
    "Bước 2: Nhận chuỗi số muốn đếm của người dùng\n",
    "\n",
    "Dùng input() để nhận giá trị là chuỗi là các số mà người dùng muốn sắp xếp và gán cho các biến x, y, z\n",
    "Lưu ý khi cho các biến làm tham số của hàm sắp xếp thì cần chuyển giá trị về kiểu int bằng hàm int()"
   ]
  },
  {
   "cell_type": "code",
   "execution_count": null,
   "id": "5d4a764f-115c-49f3-89aa-2b081383549b",
   "metadata": {},
   "outputs": [],
   "source": [
    "x = int(input(\"Enter first number: \"))\n",
    "y = int(input(\"Enter second number: \"))\n",
    "z = int(input(\"Enter third number: \"))"
   ]
  },
  {
   "cell_type": "markdown",
   "id": "468849e5-9780-40b0-b6fc-7e102bc70cc6",
   "metadata": {},
   "source": [
    "Bước 3: Gọi hàm sắp xếp và in ra kết quả cho người dùng"
   ]
  },
  {
   "cell_type": "code",
   "execution_count": null,
   "id": "881b89c6-23ff-4794-a67a-665b4c129092",
   "metadata": {},
   "outputs": [],
   "source": [
    "a, b, c = sort_numbers(x, y, z)\n",
    "print(\"Original numbers: \", x, y, z)\n",
    "print(\"Sorted numbers: \", a, b, c)"
   ]
  },
  {
   "cell_type": "code",
   "execution_count": 6,
   "id": "37d08714-8aab-40e3-8e7e-4a4572bc474b",
   "metadata": {},
   "outputs": [
    {
     "name": "stdin",
     "output_type": "stream",
     "text": [
      "Enter first number:  456\n",
      "Enter second number:  34688\n",
      "Enter third number:  23\n"
     ]
    },
    {
     "name": "stdout",
     "output_type": "stream",
     "text": [
      "Original numbers:  456 34688 23\n",
      "Sorted numbers:  23 456 34688\n"
     ]
    }
   ],
   "source": [
    "# Demo\n",
    "def sort_numbers(num1, num2, num3):\n",
    "    temp = 0\n",
    "    if num2 < num1 and num2 < num3:\n",
    "        temp = num1\n",
    "        num1 = num2\n",
    "        num2 = temp\n",
    "    elif num3 < num1 and num3 < num2:\n",
    "        temp = num1\n",
    "        num1 = num3\n",
    "        num3 = temp\n",
    "        \n",
    "    if num3 < num2:\n",
    "        temp = num2\n",
    "        num2 = num3\n",
    "        num3 = temp\n",
    "    return (num1, num2, num3)\n",
    "\n",
    "num1 = int(input(\"Enter first number: \"))\n",
    "num2 = int(input(\"Enter second number: \"))\n",
    "num3 = int(input(\"Enter third number: \"))\n",
    "\n",
    "a, b, c = sort_numbers(num1, num2, num3)\n",
    "\n",
    "print(\"Original numbers: \", num1, num2, num3)\n",
    "print(\"Sorted numbers: \", a, b, c)"
   ]
  }
 ],
 "metadata": {
  "kernelspec": {
   "display_name": "Python 3 (ipykernel)",
   "language": "python",
   "name": "python3"
  },
  "language_info": {
   "codemirror_mode": {
    "name": "ipython",
    "version": 3
   },
   "file_extension": ".py",
   "mimetype": "text/x-python",
   "name": "python",
   "nbconvert_exporter": "python",
   "pygments_lexer": "ipython3",
   "version": "3.11.4"
  }
 },
 "nbformat": 4,
 "nbformat_minor": 5
}
