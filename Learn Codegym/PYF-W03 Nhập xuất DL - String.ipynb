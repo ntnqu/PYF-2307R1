{
 "cells": [
  {
   "cell_type": "code",
   "execution_count": 2,
   "id": "b0d954a4-4f17-4b8f-9b88-728f4154e7f5",
   "metadata": {},
   "outputs": [
    {
     "name": "stdout",
     "output_type": "stream",
     "text": [
      "tôi có 1 cái bánh tôi có 3 cái bánh"
     ]
    }
   ],
   "source": [
    "print('tôi có 1 cái bánh', end = ' ')\n",
    "print('tôi có 3 cái bánh', end = '')"
   ]
  },
  {
   "cell_type": "code",
   "execution_count": 4,
   "id": "164b0edc-36f4-4bbc-8cf0-c07ecbfb600a",
   "metadata": {},
   "outputs": [
    {
     "name": "stdout",
     "output_type": "stream",
     "text": [
      "This is a \n",
      "good example\n",
      "This is \\x61 \\ngood example\n"
     ]
    }
   ],
   "source": [
    "# Raw String\n",
    "\n",
    "print(\"This is \\x61 \\ngood example\")\n",
    "\n",
    "print(r\"This is \\x61 \\ngood example\")"
   ]
  },
  {
   "cell_type": "code",
   "execution_count": 11,
   "id": "2dab5bf1-a271-4783-900e-a23efc4eb4cd",
   "metadata": {},
   "outputs": [
    {
     "name": "stdout",
     "output_type": "stream",
     "text": [
      "I am Not in if\n"
     ]
    }
   ],
   "source": [
    "# Câu lệnh if\n",
    "\n",
    "i = 10\n",
    "if (i > 15):\n",
    "   print (\"10 is less than 15\")\n",
    "print (\"I am Not in if\")"
   ]
  },
  {
   "cell_type": "code",
   "execution_count": 10,
   "id": "088dfb53-639b-4221-974c-183e3151135c",
   "metadata": {},
   "outputs": [
    {
     "name": "stdout",
     "output_type": "stream",
     "text": [
      "i is greater than 15\n",
      "i'm in else Block\n",
      "i'm not in if and not in else Block\n"
     ]
    }
   ],
   "source": [
    "# Câu lệnh if…else\n",
    "\n",
    "i = 20;\n",
    "if (i < 15):\n",
    "    print (\"i is smaller than 15\")\n",
    "    print (\"i'm in if Block\")\n",
    "else:\n",
    "    print (\"i is greater than 15\")\n",
    "    print (\"i'm in else Block\")\n",
    "print (\"i'm not in if and not in else Block\")"
   ]
  },
  {
   "cell_type": "code",
   "execution_count": 8,
   "id": "492e1fc5-3392-494c-ad36-c877733ae410",
   "metadata": {},
   "outputs": [
    {
     "name": "stdout",
     "output_type": "stream",
     "text": [
      "i is smaller than 15\n",
      "i is smaller than 12 too\n"
     ]
    }
   ],
   "source": [
    "# Câu lệnh if lồng nhau\n",
    "\n",
    "i = 10\n",
    "\n",
    "if (i == 10):\n",
    "    #  First if statement\n",
    "    if (i < 15):\n",
    "        print (\"i is smaller than 15\")\n",
    "    # Nested - if statement\n",
    "    # Will only be executed if statement above\n",
    "    # it is true\n",
    "    if (i < 12):\n",
    "        print (\"i is smaller than 12 too\")\n",
    "    else:\n",
    "        print (\"i is greater than 15\")"
   ]
  },
  {
   "cell_type": "code",
   "execution_count": 12,
   "id": "c5cc3185-f147-45ac-b8ff-f686acea518f",
   "metadata": {},
   "outputs": [
    {
     "name": "stdout",
     "output_type": "stream",
     "text": [
      "i is 20\n"
     ]
    }
   ],
   "source": [
    "# Câu lệnh if…elif…else hay còn gọi là if bậc thang\n",
    "\n",
    "i = 20\n",
    "if (i == 10):\n",
    "    print (\"i is 10\")\n",
    "elif (i == 15):\n",
    "    print (\"i is 15\")\n",
    "elif (i == 20):\n",
    "    print (\"i is 20\")\n",
    "else:\n",
    "    print (\"i is not present\")"
   ]
  },
  {
   "cell_type": "markdown",
   "id": "6b800a86-de9d-474c-83b3-269cf5261f50",
   "metadata": {},
   "source": [
    "# Các lỗi thường gặp trong câu lệnh if-else\n",
    "\n",
    "Lỗi 1: Sai cú pháp\r\n",
    "\r\n",
    "Ví dụ:\r\n",
    "\r\n",
    "num = int(input(\"Give me a number: \"))\r\n",
    "if num > 0:\r\n",
    "print(num, \"is posit\n",
    "\n",
    "ive\")\r\n",
    "Kết quả: \r\n",
    "\r\n",
    "File \"main.py\", line 3\r\n",
    "    print(num, \"is positive\")\r\n",
    "    ^\r\n",
    "IndentationError: expected an ind\n",
    "\n",
    "ented block\r\n",
    "Kết luận:\r\n",
    "\r\n",
    "Như chúng ta đã biết, python sử dụng thụt đầu dòng để xác định một khối. Vì vậy, hãy chắc chắn rằng khối bên dưới câu lệnh if đã được viết đúng cú pháp:\r\n",
    "\r\n",
    "if conditio:           \r\n",
    "   # Statements to execute if condition is true"
   ]
  },
  {
   "cell_type": "code",
   "execution_count": 1,
   "id": "544528fc-ea09-485b-8d1f-118644638ba3",
   "metadata": {},
   "outputs": [
    {
     "ename": "IndentationError",
     "evalue": "expected an indented block after 'if' statement on line 4 (767680033.py, line 5)",
     "output_type": "error",
     "traceback": [
      "\u001b[1;36m  Cell \u001b[1;32mIn[1], line 5\u001b[1;36m\u001b[0m\n\u001b[1;33m    print(num, \"is positive\")\u001b[0m\n\u001b[1;37m    ^\u001b[0m\n\u001b[1;31mIndentationError\u001b[0m\u001b[1;31m:\u001b[0m expected an indented block after 'if' statement on line 4\n"
     ]
    }
   ],
   "source": [
    "# Lỗi 1: Sai cú pháp\n",
    "\n",
    "num = int(input(\"Give me a number: \"))\n",
    "if num > 0:\n",
    "print(num, \"is positive\")"
   ]
  },
  {
   "cell_type": "markdown",
   "id": "8b6bd055-f037-4a2d-9056-13a900ee4600",
   "metadata": {},
   "source": [
    "# Lỗi 2: Sai cú pháp toán tử quan hệ\r\n",
    "\r\n",
    "Ví dụ:\r\n",
    "\r\n",
    "num = int(input(\"Give me a number: \"))\r\n",
    "if num = 0:\r\n",
    "    print(\"You entere\n",
    "\n",
    "d 0\")\r\n",
    "Kết quả:\r\n",
    "\r\n",
    "File \"main.py\", line 2\r\n",
    "    if num = 0:\r\n",
    "           ^\r\n",
    "SyntaxError: inv\n",
    "\n",
    "alid syntax\r\n",
    "Kết luận:\r\n",
    "\r\n",
    "Câu lệnh if được sử dụng để quyết định xem một câu lệnh hoặc khối câu lệnh nhất định sẽ được thực thi hay không, tức là nếu một điều kiện nhất định là đúng thì một khối câu lệnh được thực thi hoặc không. Vì vậy, hãy chắc chắn rằng điều kiện đã được viết đúng cú pháp."
   ]
  },
  {
   "cell_type": "code",
   "execution_count": 2,
   "id": "72e246b1-3fd0-426c-a1fa-3eb714147b75",
   "metadata": {},
   "outputs": [
    {
     "ename": "SyntaxError",
     "evalue": "invalid syntax. Maybe you meant '==' or ':=' instead of '='? (3122980015.py, line 2)",
     "output_type": "error",
     "traceback": [
      "\u001b[1;36m  Cell \u001b[1;32mIn[2], line 2\u001b[1;36m\u001b[0m\n\u001b[1;33m    if num = 0:\u001b[0m\n\u001b[1;37m       ^\u001b[0m\n\u001b[1;31mSyntaxError\u001b[0m\u001b[1;31m:\u001b[0m invalid syntax. Maybe you meant '==' or ':=' instead of '='?\n"
     ]
    }
   ],
   "source": [
    "num = int(input(\"Give me a number: \"))\n",
    "if num = 0:\n",
    "    print(\"You entered 0\")"
   ]
  },
  {
   "cell_type": "markdown",
   "id": "d8042125-9db5-44b1-91d0-b2d4e415740b",
   "metadata": {},
   "source": [
    "# Lỗi 3: Không viết đầy đủ các điều kiện cho câu lệnh if\r\n",
    "\r\n",
    "Ví dụ:\r\n",
    "\r\n",
    "num = int(input(\"Give me a number: \"))\r\n",
    "if num > 0:\r\n",
    "    print(num, \"is posit\n",
    "\n",
    "ive\")\r\n",
    "Kết quả: \r\n",
    "\r\n",
    "Give me a number: 0\r\n",
    ">\r\n",
    "Không trả về kết quả đối với nhữ\n",
    "ng số <= 0\r\n",
    "Kết luận:\r\n",
    "\r\n",
    "Hãy lường trước được những trường hợp có thể sẽ xảy ra và viết nó một cách chặt chẽ nhất để kết quả sẽ luôn được trả về."
   ]
  },
  {
   "cell_type": "code",
   "execution_count": 3,
   "id": "b05871e0-4879-4cc9-a6eb-23403c16c7f4",
   "metadata": {},
   "outputs": [
    {
     "name": "stdin",
     "output_type": "stream",
     "text": [
      "Give me a number:  5\n"
     ]
    },
    {
     "name": "stdout",
     "output_type": "stream",
     "text": [
      "5 is positive\n"
     ]
    }
   ],
   "source": [
    "num = int(input(\"Give me a number: \"))\n",
    "if num > 0:\n",
    "    print(num, \"is positive\")"
   ]
  },
  {
   "cell_type": "markdown",
   "id": "8330a429-0a77-4b40-8212-d9c59d7c77d0",
   "metadata": {},
   "source": [
    "# Lỗi 4: Viết quá nhiều câu lệnh if"
   ]
  },
  {
   "cell_type": "code",
   "execution_count": 5,
   "id": "91b8c929-65b4-449c-842e-e612cc20460b",
   "metadata": {},
   "outputs": [
    {
     "name": "stdin",
     "output_type": "stream",
     "text": [
      "Give me a number:  56\n"
     ]
    },
    {
     "name": "stdout",
     "output_type": "stream",
     "text": [
      "56 is positive\n"
     ]
    }
   ],
   "source": [
    "num = int(input(\"Give me a number: \"))\n",
    "if num > 0:\n",
    "    print(num, \"is positive\")\n",
    "if num < 0:\n",
    "    print(num, \"is negative\")\n",
    "if num == 0:\n",
    "    print(num, \"is zero\")"
   ]
  },
  {
   "cell_type": "code",
   "execution_count": 6,
   "id": "6a80e4d1-7786-4797-8eb3-a23c02975798",
   "metadata": {},
   "outputs": [
    {
     "name": "stdin",
     "output_type": "stream",
     "text": [
      "What type of gas do you want?  gas\n"
     ]
    },
    {
     "name": "stdout",
     "output_type": "stream",
     "text": [
      "Invalid Gas Type\n"
     ]
    }
   ],
   "source": [
    "gas = input(\"What type of gas do you want? \")\n",
    "if gas == \"regular\":\n",
    "\tprint(\"Regular Gas:\", 3.89*17)\n",
    "if gas == \"plus\":\n",
    "\tprint(\"Plus Gas:\", 4.09*17)\n",
    "if gas == \"premium\":\n",
    "\tprint(\"Premium Gas:\", 4.19*17)\n",
    "if gas == \"diesel\":\n",
    "\tprint(\"Diesel Gas:\", 4.59*17)\n",
    "else:\n",
    "\tprint(\"Invalid Gas Type\")"
   ]
  },
  {
   "cell_type": "markdown",
   "id": "7adcd000-4495-48ff-8a08-4f815874c860",
   "metadata": {},
   "source": [
    "Kết luận:\r\n",
    "\r\n",
    "Python sẽ đánh giá tất cả các câu lệnh if để xác định xem chúng có đúng không. \r\n",
    "\r\n",
    "Trong khi một điều kiện trong câu lệnh if elif else đúng, Python sẽ ngừng đánh giá các điều kiện khác. Do đó, if elif else nhanh hơn các lệnh if."
   ]
  },
  {
   "cell_type": "markdown",
   "id": "4bb9c683-275b-47e7-a1bf-3d2e495beec4",
   "metadata": {},
   "source": [
    "# Lỗi 5: Viết quá nhiều điều kiện lồng nhau\n",
    "\n",
    "Nếu có thể, hãy tận dụng các toán tử logic để có được những dòng code gọn gàng và hiệu quả nhất.\r\n",
    "\r\n",
    "Thay vì:"
   ]
  },
  {
   "cell_type": "code",
   "execution_count": 7,
   "id": "51c51873-8a0e-467b-80c2-b6479b7b5cd3",
   "metadata": {},
   "outputs": [
    {
     "name": "stdin",
     "output_type": "stream",
     "text": [
      "How many days in a row have you sent your friend a message? 567\n",
      "How many days in a row has your friend sent you a message?  34\n"
     ]
    }
   ],
   "source": [
    "dayssent = int(input(\"How many days in a row have you sent your friend a message?\"))\n",
    "daysreceived = int(input(\"How many days in a row has your friend sent you a message? \"))\n",
    "if dayssent >= 100:\n",
    "\tif daysreceived >= 100:\n",
    "\t\tprint(\"you receive a hundred emoji\")\n",
    "else:\n",
    "\tprint(\"not there yet\")"
   ]
  },
  {
   "cell_type": "code",
   "execution_count": 8,
   "id": "fb100730-ac8e-49ff-a323-54c0f8199ded",
   "metadata": {},
   "outputs": [
    {
     "name": "stdin",
     "output_type": "stream",
     "text": [
      "How many days in a row have you sent your friend a message?  56\n",
      "How many days in a row has your friend sent you a message?  45\n"
     ]
    },
    {
     "name": "stdout",
     "output_type": "stream",
     "text": [
      "not there yet\n"
     ]
    }
   ],
   "source": [
    "# Nên viết thành:\n",
    "\n",
    "dayssent = int(input(\"How many days in a row have you sent your friend a message? \"))\n",
    "daysreceived = int(input(\"How many days in a row has your friend sent you a message? \"))\n",
    "if dayssent >= 100 and daysreceived >= 100:\n",
    "\tprint(\"you receive a hundred emoji\")\n",
    "else:\n",
    "\tprint(\"not there yet\")"
   ]
  },
  {
   "cell_type": "markdown",
   "id": "6a395b0e-aa7c-4fe3-a23a-88497127f2c0",
   "metadata": {},
   "source": [
    "# Toán tử điều kiện (ba ngôi) – Tenary Operator"
   ]
  },
  {
   "cell_type": "markdown",
   "id": "2b5993d5-b056-4a3a-b140-d61da680d1f1",
   "metadata": {},
   "source": [
    "Giới thiệu\n",
    "Toán tử ba ngôi là một loại biểu thức điều kiện trong Python, được sử dụng để chọn một trong hai giá trị dựa trên một điều kiện. Nó là bản thu nhỏ và ngắn gọn hơn câu lệnh if… else truyền thống.\n",
    "\n",
    "Cú pháp:\n",
    "\n",
    "statement_1 if expression else statement_2\n",
    "\n",
    "\n",
    "statement_1 được chọn nếu biểu thức kết quả là True. Nếu biểu thức kết quả là False, statement_2 được chọn. \n",
    "\n",
    "Bạn có thể cung cấp một giá trị, biến hoặc câu lệnh cho statement_1 statement_2"
   ]
  },
  {
   "cell_type": "code",
   "execution_count": 10,
   "id": "fc45aefb-fb15-450e-b4e6-1851eaec9eb4",
   "metadata": {},
   "outputs": [
    {
     "name": "stdout",
     "output_type": "stream",
     "text": [
      "5\n"
     ]
    }
   ],
   "source": [
    "# Ví dụ 1: Tìm số lớn trong hai số,\n",
    "\n",
    "a, b = 2, 5\n",
    "max = a if a > b else b \n",
    "print(max)"
   ]
  },
  {
   "cell_type": "markdown",
   "id": "8f2a3c28-ad2d-4c6e-80c2-cd800f0ba6e3",
   "metadata": {},
   "source": [
    "Toán tử ba ngôi trong ví dụ, chọn a hoặc b dựa trên điều kiện a>b đánh giá True hoặc False tương ứng. Vì a>b trả về False, nên lấy b là 5\r\n",
    "\r\n",
    "Ví dụ 2: Viết các câu lệnh print dựa trên giá trị trả về của điều kiện, Python thực thi một trong các câu lệnh print."
   ]
  },
  {
   "cell_type": "code",
   "execution_count": 11,
   "id": "62682ebd-dc5a-4bc4-bb17-d001efc4df07",
   "metadata": {},
   "outputs": [
    {
     "name": "stdout",
     "output_type": "stream",
     "text": [
      "Python\n"
     ]
    }
   ],
   "source": [
    "a, b = 2, 5\n",
    "\n",
    "print('Python') if a < b else print('Examples')"
   ]
  },
  {
   "cell_type": "markdown",
   "id": "f4b12086-f3ee-464f-9f0e-01e9d415d830",
   "metadata": {},
   "source": [
    "Chạy chương trình, dựa trên điều kiện a <b trả về True nên câu lệnh đầu tiên được thực hiện.\r\n",
    "\r\n",
    "Bạn có thể lồng một toán tử điều kiện ba ngôi trong một câu lệnh khác cũng sử dụng toán tử điều kiện ba ngôi.\n",
    "\r\n",
    "\r\n",
    "Ví dụ 3: Trong ví dụ sau, chúng ta sẽ sử dụng toán tử điều kiện ba ngôi lồng nhau và tìm số lớn nhất."
   ]
  },
  {
   "cell_type": "code",
   "execution_count": 12,
   "id": "ea1db520-e623-4923-b925-77df90bbe268",
   "metadata": {},
   "outputs": [
    {
     "name": "stdout",
     "output_type": "stream",
     "text": [
      "100\n"
     ]
    }
   ],
   "source": [
    "a, b, c = 15, 100, 22\n",
    "\n",
    "max = a if a > b and a>c else b if b>c else c\n",
    "\n",
    "print(max)"
   ]
  },
  {
   "cell_type": "markdown",
   "id": "ec6cdba9-1b2c-4aa1-8e9a-4821103c1c8d",
   "metadata": {},
   "source": [
    "Chạy chương trình, sau mỗi keyword else, sẽ thực hiện toán tử ba ngôi  để trả kết quả thỏa mãn với các điều kiện"
   ]
  },
  {
   "cell_type": "markdown",
   "id": "9f4fb659-52dd-4f05-ab33-1f5e9d19e1f2",
   "metadata": {},
   "source": [
    "Giới thiệu\r\n",
    "Coding Convention hiểu đơn giản là một tập các quy tắc chuẩn khi lập trình một ngôn ngữ cụ thể. Những quy tắc này bao gồm: cách tổ chức file, thụt lề, hướng dẫn comment, khai báo biến, quy tắc viết câu lệnh, khoảng trắng, quy tắc đặt tên, nguyên tắc lập trình phần mềm, …\r\n",
    "\r\n",
    "Tiêu chuẩn viết code Python chính thức là PEP 8 (Python Enhancements Proposal 8 )\r\n",
    "\r\n",
    "PEP8 là gì ?\r\n",
    "\r\n",
    "PEP-8 là một chuẩn code dùng trong ngôn ngữ lập trình python. Chúng được viết vào năm 2001 bởi Guido van Rossum, Barry Warsaw và Nick Coghlan. PEP 8 là tài liệu dành cho lập trình viên mới bắt đầu hoặc trình độ trung cấp mà đây không phải topic cho lập trình viên cao cấp\r\n",
    "\r\n",
    "1. Quy tắc đặt tên\r\n",
    "\r\n",
    "Tên Class nên viết hoa mỗi chữ cái đầu tiên của từ.Cách viết này gọi là camel case\r\n",
    "Vd:  MyClass, SomeExampleClass\r\n",
    "\r\n",
    "Tên hàm và biến nên viết thường và tách từ bằng ký tự _\r\n",
    "Vd:  function, my_function, my_variable\r\n",
    "\r\n",
    "Tên hằng số viết chữ in hoa, tách từ bằng ký tự _\r\n",
    "Vd:  CONSTANT, MY_CONSTANT\r\n",
    "\r\n",
    "Tên module viết thường, ngắn gọn, dễ hiểu\r\n",
    "Vd:  support.py\r\n",
    "\r\n",
    "2. Thụt lề : Sử dụng 4 khoảng trắng liên tiếp cho mỗi cấp lùi đầu dòng\r\n",
    "\r\n",
    "3. Import: \r\n",
    "\r\n",
    "Mỗi dòng chỉ nên import 1 thư viện.\r\n",
    "Các lệnh import nên được đặt ở đâu file , trước khi bạn khai báo các module, các biến và hằng số\r\n",
    "Thứ tự các nhóm import như sau:\r\n",
    "Import các thư viện chuẩn\r\n",
    "Import các thư viện của nhà cung cấp thứ ba\r\n",
    "Import các thư viện và ứng dụng cục bộ\r\n",
    "Nên viết:\r\n",
    "\r\n",
    "import  flask\r\n",
    "\r\n",
    "import  app\r\n",
    "\r\n",
    "Không nên viết:\r\n",
    "\r\n",
    "import  flask,  app\r\n",
    "\r\n",
    "Tuy nhiên, nếu import 2 module con từ 1 thư viện, bạn có thể import trong 1 dòng\r\n",
    "from Flask import  flask,   app \r\n",
    "\r\n",
    "4. Chiều dài tối đa của 1 dòng code :     \r\n",
    "\r\n",
    "Chiều dài tối đa của 1 dòng code là 79 kí tự\r\n",
    "Đối với khối văn bản dài(comment) : nên giới hạn chỉ 72 kí tự\r\n",
    "Sử dụng 1 câu comment hoàn chỉnh, bắt đầu bằng chữ cái viết hoa, thay đổi nội dung comment khi thay đổi  đoạn code\r\n",
    "Đối với dòng code dài thì nên ngắt ra thành nhiều dòng ngắn : bằng cách đưa các biểu thức vào các cặp ngoặc đơn, cắt  dòng khi hoàn thành biểu thức và thêm dấu “\\” rồi xuống dòng viết tiếp\r\n",
    "Nên viết:\r\n",
    "\r\n",
    "with open(‘/path/to/some/file/you/want/to/read’)  as  file_1,  \\\r\n",
    "\t\t\r\n",
    "\t          open(‘/path/to/some/file/being/written’ ,   ‘w’)  as  file_2:  \r\n",
    "\r\n",
    "\t          file_2.write(file_1.read() )\r\n",
    "Không nên viết:\r\n",
    "\r\n",
    "with open(‘/path/to/some/file/you/want/to/read’)  as  file_1,  \\\r\n",
    "\topen(‘/path/to/some/file/being/written’ ,   ‘w’)  as  file_2:  \r\n",
    "\tfile_2.write(file_1.read() )\r\n",
    "Nên viết:\r\n",
    "\r\n",
    "income =  (gross_wages\r\n",
    "\t\t+ taxable_interest\r\n",
    "\t\t+  (dividends   -   qualified_dividends)\r\n",
    "\t\t -  ira_decuction\r\n",
    "\t\t -  student_loan_interest)\r\n",
    "Không nên viết:\r\n",
    "\r\n",
    "income =  (gross_wages +\r\n",
    "\t\t taxable_interest +\r\n",
    "\t\t(dividends   -   qualified_dividends)  -\r\n",
    "\t\t ira_decuction  -\r\n",
    "\t\t student_loan_interest)\r\n",
    "5. Tab hay Space\r\n",
    "\r\n",
    "Trong Python thì Space (dấu cách) được ưu tiên hơn. Còn dấu Tab nên sử dụng trong các trường hợp mà code đã sử dụng sẵn Tab rồi. \r\n",
    "\r\n",
    "*Lưu ý:  Python 3 không cho phép sử dụng Tab và Space lẫn lộn trong cùng 1 file\r\n",
    "\r\n",
    "6. Sử dụng dấu cách\r\n",
    "\r\n",
    "Bạn nên tránh các dấu thừa trong các trường hợp sau:\r\n",
    "\r\n",
    "Ngay trong ngoặc\r\n",
    "Ví dụ:\r\n",
    "\r\n",
    "Sai      foo= (bar, buz   )\r\n",
    "\r\n",
    "Đúng foo= (bar, buz)\r\n",
    "\r\n",
    "Ở sau dấu phẩy hoặc trước ngoặc đóng\r\n",
    "Ví dụ:\r\n",
    "\r\n",
    "Sai       foo= (bar,   )\r\n",
    "\r\n",
    "Đúng  foo= (bar,)\r\n",
    "\r\n",
    "Ngay trước dấu chấm phẩy , dấu phẩy hoặc hai chấm\r\n",
    "Ví dụ:\r\n",
    "\r\n",
    "Sai      if a is True  :  print(1  ,2);  x  ,  y   = 1  ,  2\r\n",
    "\r\n",
    "Đúng if a is True:  print(1 , 2);  x ,  y   = 1 ,  2\r\n",
    "\r\n",
    "Mỗi lần gán biến, chỉ cần một dấu cách\r\n",
    "Ví dụ:\r\n",
    "\r\n",
    "Sai    foo                                                      = 1\r\n",
    "\r\n",
    "          bar                                                      = 2\r\n",
    "\r\n",
    "                                this_is_a_really_long_name = 3    \r\n",
    "\r\n",
    "Đúng    foo = 1\r\n",
    "\r\n",
    "             bar = 2\r\n",
    "\r\n",
    "              this_is_a_really_long_name = 3\r\n",
    "\r\n",
    "7. Sử dụng dấu nháy đơn / đôi cho chuỗi\r\n",
    "\r\n",
    "Trong Python, việc để nội dung chuỗi trong nháy đơn hoặc nháy đôi là như nhau\r\n",
    "\r\n",
    "Tuy nhiên khi viết comment code thì nên sử dụng nháy đôi nội dung\r\n",
    "\r\n",
    "Tổng kết\r\n",
    "Qua bài viết này chúng ta đã tìm hiểu:\r\n",
    "\r\n",
    "Cách đặt tên class, biến, function, module\r\n",
    "Cách thụt lề , import 1 thư viện  \r\n",
    "Chiều dài 1 dòng code \r\n",
    "Sử dụng dấu cách, dâu nháy đơn, đôi"
   ]
  },
  {
   "cell_type": "code",
   "execution_count": null,
   "id": "74054d04-48ea-4b02-a8f0-125a55f601fa",
   "metadata": {},
   "outputs": [],
   "source": []
  }
 ],
 "metadata": {
  "kernelspec": {
   "display_name": "Python 3 (ipykernel)",
   "language": "python",
   "name": "python3"
  },
  "language_info": {
   "codemirror_mode": {
    "name": "ipython",
    "version": 3
   },
   "file_extension": ".py",
   "mimetype": "text/x-python",
   "name": "python",
   "nbconvert_exporter": "python",
   "pygments_lexer": "ipython3",
   "version": "3.11.4"
  }
 },
 "nbformat": 4,
 "nbformat_minor": 5
}
