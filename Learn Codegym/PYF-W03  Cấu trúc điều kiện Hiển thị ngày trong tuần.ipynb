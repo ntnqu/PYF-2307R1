{
 "cells": [
  {
   "cell_type": "markdown",
   "id": "5c2ad1ec-8fa3-438e-b519-4692c9242637",
   "metadata": {},
   "source": [
    "# Mục tiêu\r\n",
    "\r\n",
    "Luyện tập sử dụng khối lệnh if…elif…else trong lập trình.\r\n",
    "\r\n",
    "Mô tả\r\n",
    "Viết chương trình yêu cầu người dùng nhập một số trong phạm vi từ 1 đến 7. Sau đó hãy in ra ngày tương ứng: \r\n",
    "\r\n",
    "1: Monday\r\n",
    "\r\n",
    "2: Tuesday\r\n",
    "\r\n",
    "3: Wednesday\r\n",
    "\r\n",
    "4: Thursday\r\n",
    "\r\n",
    "5: Friday\r\n",
    "\r\n",
    "6: Saturday\r\n",
    "\r\n",
    "7: Sunday\r\n",
    "\r\n",
    "Nếu người dùng nhập số ngoài phạm vi từ 1 đến 7 thì hãy in ra “error, out of range”.\r\n",
    "\r\n",
    "Hướng dẫn\r\n",
    "Sử dụng function: input() để nhập một số bất kì, sau đó chuyển kiểu về int. Kiểm tra số nhập vào có thoã các điều kiện hay không?\r\n",
    "\r\n",
    "Nếu bẳng 1: Monday,\r\n",
    "Hoặc nếu bằng 2: Tuesday,\r\n",
    "…\r\n",
    "Hoặc nếu bằng 7: Sunday,\r\n",
    "Ngoài ra: “error, out of range”"
   ]
  },
  {
   "cell_type": "code",
   "execution_count": 1,
   "id": "9959f46e-3b73-42ac-b470-5af11fb3767b",
   "metadata": {},
   "outputs": [
    {
     "name": "stdin",
     "output_type": "stream",
     "text": [
      " 8\n"
     ]
    },
    {
     "name": "stdout",
     "output_type": "stream",
     "text": [
      "error, out of range\n"
     ]
    }
   ],
   "source": [
    "a = input()\n",
    "a = int(a)\n",
    "\n",
    "if a == 1:\n",
    "    print('Monday')\n",
    "\n",
    "elif a == 2:\n",
    "    print('Tuesday')\n",
    "\n",
    "elif a == 3:\n",
    "    print('Wednesday')\n",
    "\n",
    "elif a == 4:\n",
    "    print('Thursday')\n",
    "\n",
    "elif a == 5:\n",
    "    print('Friday')\n",
    "\n",
    "elif a == 6:\n",
    "    print('Saturday')\n",
    "\n",
    "elif a == 7:\n",
    "    print('Sunday')\n",
    "\n",
    "else:\n",
    "    print('error, out of range')"
   ]
  }
 ],
 "metadata": {
  "kernelspec": {
   "display_name": "Python 3 (ipykernel)",
   "language": "python",
   "name": "python3"
  },
  "language_info": {
   "codemirror_mode": {
    "name": "ipython",
    "version": 3
   },
   "file_extension": ".py",
   "mimetype": "text/x-python",
   "name": "python",
   "nbconvert_exporter": "python",
   "pygments_lexer": "ipython3",
   "version": "3.11.4"
  }
 },
 "nbformat": 4,
 "nbformat_minor": 5
}
