{
 "cells": [
  {
   "cell_type": "markdown",
   "id": "1383fe28-8f73-431b-a4e9-6f84b1f30c22",
   "metadata": {},
   "source": [
    "# Mục tiêu\r\n",
    "\r\n",
    "Luyện tập viết các hàm trong lập trình với tham số truyền vào là tham chiếu và tham trị.\r\n",
    "\r\n",
    "Mô tả bài toán\r\n",
    "\r\n",
    "Viết chương trình thêm một loại quả vào danh sách quả có sẵn bằng cách khai báo một hàm.\r\n",
    "\r\n",
    "Hướng dẫn thực hiện\r\n",
    "\r\n",
    "Bước 1: Khai báo danh sách quả yêu thích của người dùng\r\n",
    "\r\n",
    "fruits = [\"Orange\", \"Apple\", \"Grapes\"]\r\n",
    "\r\n",
    "Bước 2: Tạo hàm để thực hiện việc hêm quả vào d\n",
    "anh sách quả, trong đó tham số của hàm sẽ là danh sách quả (tạm gọi là fruits) và quả sẽ được thêm (tạm gọi là fruit_to_add). Ta sẽ thêm quả mới vào fruits, có thể in danh sách fruits đễ xem quả đã đượố với tham trị và tham chiếu."
   ]
  },
  {
   "cell_type": "code",
   "execution_count": null,
   "id": "12f0c4c5-06be-43dc-b8f1-575c0b99681d",
   "metadata": {},
   "outputs": [],
   "source": [
    "def add_fruit(fruits, fruit_to_add):\n",
    "    fruits.append(fruit_to_add)\n",
    "    print('Fruits inside function', fruits)"
   ]
  },
  {
   "cell_type": "markdown",
   "id": "f7f99da1-e956-4795-bce3-baf419b732c8",
   "metadata": {},
   "source": [
    "Bước 3: Khai báo quả mới với tên fruit_to_add với giá trị: ‘Mango’. \n",
    "Gọi hàm add_fruit và truyền fruits và fruit_to_add vào làm tham số\n",
    "\n",
    "fruit_to_add = \"Mango\" \n",
    "\n",
    "add_fruit(fruits, fruit_to_add) \n",
    "\n",
    "Bước 4: Dùng hàm print() để hiển thị danh sách quả sau khi add.\n",
    "\n",
    "print('Fruits outside function', fruits)\n",
    "\n",
    "Tổng kết\n",
    "\n",
    "Qua bài tập này bạn đã luyện tập cách tạo và sử dụng hàm và truyền tham số với tham trị và tham chiếu."
   ]
  },
  {
   "cell_type": "code",
   "execution_count": 2,
   "id": "9cdf75e3-9135-4121-a52b-7c25284c5f62",
   "metadata": {},
   "outputs": [
    {
     "name": "stdout",
     "output_type": "stream",
     "text": [
      "Fruits inside function ['Orange', 'Apple', 'Grapes', 'Mango']\n",
      "Fruits outside function ['Orange', 'Apple', 'Grapes', 'Mango']\n"
     ]
    }
   ],
   "source": [
    "fruits = [\"Orange\", \"Apple\", \"Grapes\"]\n",
    "\n",
    "def add_fruit(fruits, fruit_to_add):    \n",
    "    fruits.append(fruit_to_add)    \n",
    "    print('Fruits inside function', fruits)\n",
    "\n",
    "fruit_to_add = \"Mango\"\n",
    "add_fruit(fruits, fruit_to_add)\n",
    "print('Fruits outside function', fruits)"
   ]
  }
 ],
 "metadata": {
  "kernelspec": {
   "display_name": "Python 3 (ipykernel)",
   "language": "python",
   "name": "python3"
  },
  "language_info": {
   "codemirror_mode": {
    "name": "ipython",
    "version": 3
   },
   "file_extension": ".py",
   "mimetype": "text/x-python",
   "name": "python",
   "nbconvert_exporter": "python",
   "pygments_lexer": "ipython3",
   "version": "3.11.4"
  }
 },
 "nbformat": 4,
 "nbformat_minor": 5
}
