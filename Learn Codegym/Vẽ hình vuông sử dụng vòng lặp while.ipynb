{
 "cells": [
  {
   "cell_type": "code",
   "execution_count": 1,
   "id": "b5173581-4b6e-40c2-b364-8bc3accc7bb4",
   "metadata": {},
   "outputs": [
    {
     "name": "stdin",
     "output_type": "stream",
     "text": [
      "Nhập độ dài các cạnh của hình vuông:  100\n"
     ]
    }
   ],
   "source": [
    "import turtle\n",
    "a = int(input(\"Nhập độ dài các cạnh của hình vuông: \"))\n",
    "\n",
    "t = turtle.Turtle()\n",
    "t.hideturtle()\n",
    "t.pencolor(\"red\")\n",
    "edge = 0\n",
    "while edge < 4:\n",
    "    # Vẽ 1 cạnh của hình vuông\n",
    "    t.forward(a)\n",
    "    t.right(90)\n",
    "    # Câu lệnh này đặt trong vòng lặp while\n",
    "    # số lần lặp là 4, nên được hình vuông yêu cầu\n",
    "    edge += 1\n",
    "turtle.done()\n"
   ]
  }
 ],
 "metadata": {
  "kernelspec": {
   "display_name": "Python 3 (ipykernel)",
   "language": "python",
   "name": "python3"
  },
  "language_info": {
   "codemirror_mode": {
    "name": "ipython",
    "version": 3
   },
   "file_extension": ".py",
   "mimetype": "text/x-python",
   "name": "python",
   "nbconvert_exporter": "python",
   "pygments_lexer": "ipython3",
   "version": "3.11.4"
  }
 },
 "nbformat": 4,
 "nbformat_minor": 5
}
