{
 "cells": [
  {
   "cell_type": "code",
   "execution_count": 1,
   "id": "10305ac6-523d-4a5f-84e3-3aa3369c6a5c",
   "metadata": {},
   "outputs": [
    {
     "name": "stdout",
     "output_type": "stream",
     "text": [
      "Hàm khởi tạo mặc định được gọi khi tạo đối tượng\n"
     ]
    }
   ],
   "source": [
    "class Car:\n",
    "    # Liệt kê các thuộc tính của lớp ô tô\n",
    "    engine = \"V8\"\n",
    "    color = \"black\"\n",
    "    max_speed = 100\n",
    "\n",
    "    # Hàm khởi tạo mặc định\n",
    "    def __init__(self):\n",
    "        self.color = \"default: white color\"\n",
    "        print(\"Hàm khởi tạo mặc định được gọi khi tạo đối tượng\")\n",
    " \n",
    "# Hàm khởi tạo mặc định được gọi\n",
    "# khi khởi tạo đối tượng\n",
    "sonata = Car()"
   ]
  },
  {
   "cell_type": "code",
   "execution_count": 9,
   "id": "77f5fcfb-c7a9-4c3b-b395-d41baae883fd",
   "metadata": {},
   "outputs": [],
   "source": [
    "class Car:\n",
    "\n",
    "    # Hàm khởi tạo mặc định\n",
    "    def __init__(self, engine, color, max_speed):\n",
    "        self.engine = engine\n",
    "        self.color = color\n",
    "        self.max_speed = max_speed\n",
    "\n",
    "    def show(self):\n",
    "        print(\"Màu của ô tô = \", self.color)\n",
    "        print(\"Động cơ ô tô = \", self.engine)\n",
    "        print(\"Vận tốc tối đa ô tô = \", self.max_speed)\n"
   ]
  },
  {
   "cell_type": "code",
   "execution_count": 10,
   "id": "03c74b27-1252-4e80-b442-aee40bb76c6b",
   "metadata": {},
   "outputs": [
    {
     "name": "stdout",
     "output_type": "stream",
     "text": [
      "Màu của ô tô =  yellow\n",
      "Động cơ ô tô =  V8.1\n",
      "Vận tốc tối đa ô tô =  300\n"
     ]
    }
   ],
   "source": [
    " \n",
    "# Tạo đối tượng bằng hàm khởi tạo có\n",
    "# tham số\n",
    "sonata = Car(\"V8.1\", \"yellow\", 300)\n",
    "sonata.show()"
   ]
  },
  {
   "cell_type": "code",
   "execution_count": 11,
   "id": "0012c688-2dc5-41c4-b503-6d40e7e11379",
   "metadata": {},
   "outputs": [
    {
     "name": "stdout",
     "output_type": "stream",
     "text": [
      "Màu của ô tô =  yellow\n",
      "Động cơ ô tô =  V8.1\n",
      "Vận tốc tối đa ô tô =  300\n"
     ]
    }
   ],
   "source": [
    "class Car:\n",
    "    # Liệt kê các thuộc tính của lớp ô tô\n",
    "    engine = \"V8\"\n",
    "    color = \"black\"\n",
    "    max_speed = 100\n",
    "\n",
    "    # Hàm khởi tạo mặc định\n",
    "    def __init__(self, engine, color, max_speed):\n",
    "        self.engine = engine\n",
    "        self.color = color\n",
    "        self.max_speed = max_speed\n",
    "    def show(self):\n",
    "        print(\"Màu của ô tô = \", self.color)\n",
    "        print(\"Động cơ ô tô = \", self.engine)\n",
    "        print(\"Vận tốc tối đa ô tô = \", self.max_speed)\n",
    "# Tạo đối tượng bằng hàm khởi tạo có\n",
    "# tham số\n",
    "sonata = Car(\"V8.1\", \"yellow\", 300)\n",
    "sonata.show()"
   ]
  }
 ],
 "metadata": {
  "kernelspec": {
   "display_name": "Python 3 (ipykernel)",
   "language": "python",
   "name": "python3"
  },
  "language_info": {
   "codemirror_mode": {
    "name": "ipython",
    "version": 3
   },
   "file_extension": ".py",
   "mimetype": "text/x-python",
   "name": "python",
   "nbconvert_exporter": "python",
   "pygments_lexer": "ipython3",
   "version": "3.11.4"
  }
 },
 "nbformat": 4,
 "nbformat_minor": 5
}
