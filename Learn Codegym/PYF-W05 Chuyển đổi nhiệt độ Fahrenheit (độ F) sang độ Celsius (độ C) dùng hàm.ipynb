{
 "cells": [
  {
   "cell_type": "code",
   "execution_count": 1,
   "id": "da360b31-59ab-46c1-b648-d0fb92313178",
   "metadata": {},
   "outputs": [
    {
     "name": "stdout",
     "output_type": "stream",
     "text": [
      "23.333333333333332\n",
      "37.77777777777778\n",
      "0.0\n"
     ]
    }
   ],
   "source": [
    "# Mô tả bài toán\n",
    "\n",
    "# Xây dựng hàm chuyển đổi nhiệt độ Fahrenheit (độ F) sang độ Celsius (độ C). \n",
    "# Sau khi hàm được xây dựng xong, tiến hành gọi hàm với các giá trị tham số khác nhau.\n",
    "\n",
    "'''Hướng dẫn thực hiện\n",
    "Bước 1: Xây dựng hàm'''\n",
    "\n",
    "def trans(f):\n",
    "    \"\"\"Hàm chuyển đổi độ Fahrenheit sang độ Celsius\n",
    "    f - giá trị độ F\n",
    "    \"\"\"\n",
    "    # Vì nhiệt độ đông của nước trong thang đo Fahrenheit là 32\n",
    "    # và trong thang đo Celsius là 0,\n",
    "    # bước 1: chuyển đổi giá trị bằng cách lấy độ Fahrenheit trừ 32\n",
    "    # Khoảng cách từ điểm đông đến điểm sôi của nước trong thang đo Celsius là 0-100,\n",
    "    # còn trong thang đo Fahrenheit là 32-212.\n",
    "    # Điều đó có thể hiểu là khoảng cách 180° (= 212 - 32) trong thang đo Fahrenheit\n",
    "    # tương đương 100° trong thang đo Celsius.\n",
    "    # Như vậy, bạn sẽ có tỷ lệ 180/100, sau khi tối giản phân số còn 1,8\n",
    "    # Bước 2: lấy kết quả bước 1 chia cho 1.8, kết quả thu được là độ Celsius\n",
    "    return (f - 32) / 1.8\n",
    "    \n",
    "# Bước 2: Gọi hàm\n",
    "\n",
    "print(trans(74))\n",
    "print(trans(100))\n",
    "print(trans(32))"
   ]
  }
 ],
 "metadata": {
  "kernelspec": {
   "display_name": "Python 3 (ipykernel)",
   "language": "python",
   "name": "python3"
  },
  "language_info": {
   "codemirror_mode": {
    "name": "ipython",
    "version": 3
   },
   "file_extension": ".py",
   "mimetype": "text/x-python",
   "name": "python",
   "nbconvert_exporter": "python",
   "pygments_lexer": "ipython3",
   "version": "3.11.4"
  }
 },
 "nbformat": 4,
 "nbformat_minor": 5
}
