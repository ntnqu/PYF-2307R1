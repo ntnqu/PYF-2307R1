{
 "cells": [
  {
   "cell_type": "markdown",
   "id": "5fb84364-37c6-4e6c-a9ce-3aef0b715b14",
   "metadata": {},
   "source": [
    "# Mục tiêu\r\n",
    "Luyện tập sử dụng khối lệnh while và if…elif..else trong lập trình\r\n",
    "\r\n",
    "Mô tả\r\n",
    "Trò chơi 21 là trò chơi số đếm được bắt đầu từ 0, hai người chơi lần lượt có thể thêm 1, 2 hoặc 3, vào tổng số. Tổng số không được vượt quá 21 và người chơi đếm tới 21 sẽ thua. Ở bài tập này, chúng ta sẽ giả định cho máy làm người chơi thứ 2.\r\n",
    "\r\n",
    "Hướng dẫn\r\n",
    "Bước 1: Khởi tạo vòng lặp\r\n",
    "\r\n",
    "Dùng while để khởi tạo vòng lặp, điều kiện kiểm tra sẽ là True => trò chơi sẽ luôn được tiếp tục lại cho đến khi người dùng nhập giá trị để kết thúc.\r\n",
    "Bước 2: Sử lý trong vòng lặp\r\n",
    "\r\n",
    "Bước 2.1:  Khai báo biến tổng số đếm với giá trị khởi tạo = 0 (tạm gọi là current_number) \r\n",
    "\r\n",
    "Bước 2.2:  Dùng randint(0, 1) lấy ra một con số ngẫu nhiên để quyết định ai sẽ là người chơi hiện tại. (tạm gọi biến là current_player)\r\n",
    "\r\n",
    "Nếu bằng 0 thì current_player  = “human”, \r\n",
    "Nếu bằng 1 thì current_player  = “computer”\r\n",
    "Bước 2.3:\r\n",
    "\r\n",
    "Dùng while để tạo vòng lặp đếm số, điều kiện kiểm tra sẽ là current_number <= 21. Tiếp theo sẽ tạo hàm xử lý bên trong mỗi vòng lặp.\r\n",
    "In ra giá trị current_number cho người dùng\r\n",
    "Dùng if…else để bắt đầu kiểm tra lượt chơi:\r\n",
    "Nếu là lượt chơi của người\r\n",
    "Khai báo biến player_choice mang giá trị khởi tạo là chuỗi rỗng, biến này sẽ mang giá trị mà người chơi nhập vào. \r\n",
    "Dùng while để tạo vòng lặp kiểm tra giá trị player_choice có thuộc danh sách [‘1’, ‘2’, ‘3’] hay không, vòng lặp sẽ kết thúc khi người dùng nhập player_choice có giá trị phù hợp.\r\n",
    "Dùng hàm int() để chuyển biến player_choice sang kiểu int\r\n",
    "Giá trị current_number hiện tại sẽ được cộng thêm player_choice\r\n",
    "Dùng hàm if để kiểm tra giá trị của current_number đã lớn hơn hoặc bằng 21 chưa:\r\n",
    "Nếu đúng thì in ra số hiện tại, thông báo rằng người dùng đã thua và kết thúc vòng lập. \r\n",
    "Nếu sai thì gán giá trị mới cho current_player = ‘computer’ => lượt chơi tiếp theo sẽ là máy.\r\n",
    "Nếu là lượt chơi của máy\r\n",
    "Khai báo biến computer_choice, mang giá trị số mà máy sẽ chọn \r\n",
    "Dùng hàm randint(1,3) để lấy giá trị ngẫu nhiên từ 1 đến 3 rồi gán cho biến computer_choice\r\n",
    "In computer_choice ra để thông báo cho người chơi biết.\r\n",
    "Giá trị current_number lúc này sẽ được cộng thêm computer_choice.\r\n",
    "Dùng hàm if để kiểm tra giá trị của current_number đã lớn hơn hoặc bằng 21 chưa:  \r\n",
    "Nếu đúng thì in ra số hiện tại, thông báo rằng người chơi đã thắng và kết thúc vòng lập. \r\n",
    "Nếu sai thì thì gán giá trị mới cho current_player = ‘human’ => lượt chơi tiếp theo sẽ là người dùng.\r\n",
    "Bước 3: Khi vòng lặp kết thúc, Dùng input() để hỏi người chơi có muốn chơi lại không và gán giá trị cho biến play_again\r\n",
    "\r\n",
    "Bước 4: Dùng if…else để kiểm tra giá trị play_again:\r\n",
    "\r\n",
    "Nếu play_again bắt đầu bằng “y” thì dùng continue cho vòng lặp tiếp tục\r\n",
    "Nếu không thì dùng break kết thúc vòng lặp."
   ]
  },
  {
   "cell_type": "code",
   "execution_count": null,
   "id": "09f55909-f2aa-4e92-b0b0-d1bf57f7ee37",
   "metadata": {},
   "outputs": [],
   "source": [
    "\n",
    "while True:\n",
    "    current_number = 0\n",
    "    current_player = randint(0, 1)\n",
    "    if current_player = 0:\n",
    "         current_player  = 'human'\n",
    "    else:\n",
    "        current_player  = 'computer'\n",
    "        \n",
    "    \n",
    "while current_number <= 21:\n",
    "    print(current_number)\n",
    "    if current_player  == 'human':\n",
    "        player_choice = input('Người chơi nhập giá trị vào: ')\n",
    "        while \n",
    "        \n",
    "        \n",
    "    "
   ]
  },
  {
   "cell_type": "code",
   "execution_count": null,
   "id": "aa2c8d3a-2d73-48a4-a2be-72d9b7f9d165",
   "metadata": {},
   "outputs": [],
   "source": [
    "while True:\n",
    "    current_number = 0\n",
    "    current_player = randint(0, 1)\n",
    "    if current_player = 0:\n",
    "         print(f'current_player  = human')\n",
    "    else:\n",
    "        print(f'current_player  = computer')\n",
    "        \n",
    "    \n",
    "while current_number <= 21:\n",
    "    print(current_number)\n",
    "    if current_player  == 'human':\n",
    "        player_choice = input('Người chơi nhập giá trị vào: ')\n",
    "        while "
   ]
  }
 ],
 "metadata": {
  "kernelspec": {
   "display_name": "Python 3 (ipykernel)",
   "language": "python",
   "name": "python3"
  },
  "language_info": {
   "codemirror_mode": {
    "name": "ipython",
    "version": 3
   },
   "file_extension": ".py",
   "mimetype": "text/x-python",
   "name": "python",
   "nbconvert_exporter": "python",
   "pygments_lexer": "ipython3",
   "version": "3.11.4"
  }
 },
 "nbformat": 4,
 "nbformat_minor": 5
}
