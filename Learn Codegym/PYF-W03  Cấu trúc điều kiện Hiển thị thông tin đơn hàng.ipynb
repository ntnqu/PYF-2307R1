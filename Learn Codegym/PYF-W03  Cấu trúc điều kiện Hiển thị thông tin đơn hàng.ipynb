{
 "cells": [
  {
   "cell_type": "markdown",
   "id": "8b90888d-148a-4fd3-a03e-721b1adebec6",
   "metadata": {},
   "source": [
    "# Mục tiêu\r\n",
    "\r\n",
    "Luyện tập sử dụng khối lệnh if…elif…else trong lập trình.\r\n",
    "\r\n",
    "Mô tả\r\n",
    "Viết chương trình hỏi người dùng đã chi bao nhiêu tiền tại cửa hàng.\r\n",
    "\r\n",
    "Nếu họ chi ít hơn 75$, họ sẽ không được giảm giá.\r\n",
    "\r\n",
    "Nếu họ chi 75$ trở lên, họ sẽ được giảm giá 15$.\r\n",
    "\r\n",
    "Nếu người dùng chi từ 100$ trở lên, họ sẽ được giảm giá 25$.\r\n",
    "\r\n",
    "Nếu người dùng chi từ 150$ trở lên, họ sẽ được giảm giá 50$.\r\n",
    "Sau đó in ra tổng số tiền mà người dùng phải thanh toán.\r\n",
    "\r\n",
    "Hướng dẫn\r\n",
    "Sử dụng function: input() để nhập một số tiền bất kì, sau đó chuyển kiểu về int. Dựa vào số tiền đã nhập, chúng ta sẽ tìm và in ra số tiền người dùng phải thanh toán thông qua các mức giảm giá:\r\n",
    "\r\n",
    "Nếu chi từ 150$ trở lên:  số tiền thanh toán = số tiền nhập – 50,\r\n",
    "Nếu chi từ 100$ trở lên:  số tiền thanh toán = số tiền nhập – 25,\r\n",
    "Nếu chi từ 75$ trở lên:  số tiền thanh toán = số tiền nhập – 15,\r\n",
    "Nếu chi ít hơn 75$:  số tiền thanh toán = số tiền nhập,"
   ]
  },
  {
   "cell_type": "code",
   "execution_count": 3,
   "id": "8e13ebed-b26d-4019-894e-f154669e5eff",
   "metadata": {},
   "outputs": [
    {
     "name": "stdin",
     "output_type": "stream",
     "text": [
      " 150\n"
     ]
    },
    {
     "name": "stdout",
     "output_type": "stream",
     "text": [
      "Số tiền giảm giá là: 50\n",
      "Số tiền thanh toán là: 100\n"
     ]
    }
   ],
   "source": [
    "a = input()\n",
    "a = int(a)\n",
    "\n",
    "discount = 0\n",
    "total = 0\n",
    "\n",
    "if a < 75:\n",
    "    print(f'Số tiền giảm giá là: {discount}')\n",
    "    print(f'Số tiền thanh toán là: {total}')\n",
    "\n",
    "elif a < 100:\n",
    "    discount = 15\n",
    "    total = a - discount\n",
    "    print(f'Số tiền giảm giá là: {discount}')\n",
    "    print(f'Số tiền thanh toán là: {total}')\n",
    "\n",
    "elif a < 150:\n",
    "    discount = 25\n",
    "    total = a - discount\n",
    "    print(f'Số tiền giảm giá là: {discount}')\n",
    "    print(f'Số tiền thanh toán là: {total}')\n",
    "\n",
    "else:\n",
    "    discount = 50\n",
    "    total = a- discount\n",
    "    print(f'Số tiền giảm giá là: {discount}')\n",
    "    print(f'Số tiền thanh toán là: {total}')"
   ]
  }
 ],
 "metadata": {
  "kernelspec": {
   "display_name": "Python 3 (ipykernel)",
   "language": "python",
   "name": "python3"
  },
  "language_info": {
   "codemirror_mode": {
    "name": "ipython",
    "version": 3
   },
   "file_extension": ".py",
   "mimetype": "text/x-python",
   "name": "python",
   "nbconvert_exporter": "python",
   "pygments_lexer": "ipython3",
   "version": "3.11.4"
  }
 },
 "nbformat": 4,
 "nbformat_minor": 5
}
