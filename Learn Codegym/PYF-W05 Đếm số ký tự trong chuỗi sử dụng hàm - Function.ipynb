{
 "cells": [
  {
   "cell_type": "markdown",
   "id": "66eaa762-b393-45ce-84a1-bbdcad05e939",
   "metadata": {},
   "source": [
    "# Mô tả\r\n",
    "\r\n",
    "Viết chương trình cho phép người dùng nhập chuỗi và và hiển thị số ký tự trong chuỗi vừa nhập vào.\r\n",
    "\r\n",
    "Hướng dẫn\r\n",
    "\r\n",
    "Bước 1: Khởi tạo hàm đếm số ký tự trong chuỗi, tham số đầu vào sẽ là chuỗi được +  đếm\r\n",
    "\r\n",
    "Khởi tạo biến result mang kết quả số ký tự đếm được trong chuỗi, giá trị khởi tạo  + bằng 0.\r\n",
    "Dùng for…in để tạo vòng lặp lặp qua chuỗi được đếm, qua mỗi vòng lặp thì result sẽ được cộn + g thêm 1\r\n",
    "Kết thúc vòng lặp sẽ trả về kết quả đếm được"
   ]
  },
  {
   "cell_type": "code",
   "execution_count": null,
   "id": "ce37825f-e040-49fc-8fe0-c8db7c920937",
   "metadata": {},
   "outputs": [],
   "source": [
    "def count_chars(txt):\n",
    "    result = 0\n",
    "    for char in txt:\n",
    "        result += 1\n",
    "    return result"
   ]
  },
  {
   "cell_type": "markdown",
   "id": "7efeaa48-9fad-4e57-a1cf-ffc5f35c7d47",
   "metadata": {},
   "source": [
    "Bước 2: Nhận chuỗi muốn đếm của người dùng\n",
    "\n",
    "Dùng input() để nhận giá trị là chuỗi string mà người dùng muốn đếm, tạm gán cho biến input_str\n",
    "\n",
    "input_str = input('Your string: ')\n",
    "\n",
    "Bước 3: Gọi hàm đếm và in ra kết quả cho người dùng\n",
    "\n",
    "\n",
    "print('Length: ', count_chars(input_str))"
   ]
  },
  {
   "cell_type": "code",
   "execution_count": 1,
   "id": "506c0024-5ade-4185-b8ae-5e8c39066272",
   "metadata": {},
   "outputs": [
    {
     "name": "stdin",
     "output_type": "stream",
     "text": [
      "Your string:  Hôm nay tôi đi học.\n"
     ]
    },
    {
     "name": "stdout",
     "output_type": "stream",
     "text": [
      "Length:  19\n"
     ]
    }
   ],
   "source": [
    "def count_chars(txt):\n",
    "    result = 0\n",
    "    for char in txt:\n",
    "        result += 1\n",
    "    return result\n",
    "\n",
    "input_str = input('Your string: ')\n",
    "print('Length: ', count_chars(input_str))"
   ]
  }
 ],
 "metadata": {
  "kernelspec": {
   "display_name": "Python 3 (ipykernel)",
   "language": "python",
   "name": "python3"
  },
  "language_info": {
   "codemirror_mode": {
    "name": "ipython",
    "version": 3
   },
   "file_extension": ".py",
   "mimetype": "text/x-python",
   "name": "python",
   "nbconvert_exporter": "python",
   "pygments_lexer": "ipython3",
   "version": "3.11.4"
  }
 },
 "nbformat": 4,
 "nbformat_minor": 5
}
