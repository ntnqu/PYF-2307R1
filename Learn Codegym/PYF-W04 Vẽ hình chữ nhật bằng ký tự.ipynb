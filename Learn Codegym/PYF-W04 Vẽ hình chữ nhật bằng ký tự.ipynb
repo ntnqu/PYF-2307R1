{
 "cells": [
  {
   "cell_type": "markdown",
   "id": "80ac336b-a1ce-457b-9643-5109ec632cb8",
   "metadata": {},
   "source": [
    "# Mục tiêu\r\n",
    "Luyện tập với các lệnh for…in, nested loops, if…elif…else trong lập trình\r\n",
    "\r\n",
    "Mô tả bài toán\r\n",
    "Viết chương trình cho phép người dùng nhập ký tự muốn dùng để vẽ, chiều cao và chiều rộng của hình. Sau đó in ra hình tứ giác được vẽ bằng ký tự vừa nhập, với chiều cao và chiều rộng tương ứng (lưu ý chỉ các cạnh hình được vẽ bằng ký tự, bên trong hình sẽ được thay thế bằng dấu space ‘  ‘) \r\n",
    "\r\n",
    "Hướng dẫn thực hiện\r\n",
    "Bước 1: Khởi tạo ký tự dùng để vẽ hình.\r\n",
    "\r\n",
    "Dùng input() để lấy giá trị ký tự từ người dùng, ký tự ở đây tuỳ ý người dùng quyết định.\r\n",
    "char = input('Your char?: ')\r\n",
    "\r\n",
    "Bước 2: Khởi tạo chiều dài của hình\r\n",
    "\r\n",
    "Dùng input() để lấy giá trị chiều dài từ người dùng\r\n",
    "Dùng int() chuyển giá trị về kiểu int\r\n",
    "width = int(input('Width?: '))\r\n",
    "\r\n",
    "Bước 3: Khởi tạo chiều cao của hình\r\n",
    "\r\n",
    "Dùng input() để lấy giá trị chiều cao từ người dùng\r\n",
    "Dùng int() chuyển giá trị về kiểu int\r\n",
    "height = int(input('Height?: '))\r\n",
    "\r\n",
    "Bước 4: Khởi tạo vòng lặp vẽ hình từ trên xuống dưới\r\n",
    "\r\n",
    "Dùng for…in range(start, end) để bắt đầu vòng lặp\r\n",
    "Để vẽ đến cạnh cuối cùng của hình thì giá trị start và end của range sẽ lần lượt là 1 và chiều cao của hình + 1.\r\n",
    "for i in range(1,height + 1):\r\n",
    "\r\n",
    "Trong mỗi vòng lặp trên, khai báo chuỗi sẽ được in ra qua mỗi vòng lặp, giá trị ban đầu sẽ là chuỗi rỗng.\r\n",
    "     print_str = ''”\r\n",
    "\r\n",
    "Bước 5: Tạo vòng lặp tính toán chuỗi in\r\n",
    "\r\n",
    " Sử dụng for…in và hàm range(start, end) để tạo vòng lặp \r\n",
    "Để vẽ được đến cạnh cuối cùng của hình thì giá trị start và end của range sẽ lần lượt là 1 và chiều dài của hình +. \r\n",
    "for j in range(1,width + 1):      \r\n",
    "\r\n",
    "Bước 6: Tính toán chuỗi in\r\n",
    "\r\n",
    "Sử dụng if…else kiểm tra vị trí đang vẽ hiện tại:\r\n",
    "Nếu là hàng đầu tiên hoặc hàng cuối cùng thì chuỗi in sẽ được cộng thêm ký tự in\r\n",
    "Nếu không thì chuỗi in sẽ được cộng ký tự ở những vị trí thuộc cạnh bên trái và cạnh bên phải hình, những vị trí còn lại sẽ được cộng với ký tự space\r\n",
    "                        if i == 1 or i == height:\r\n",
    "            \t\t\tprint_str += char\r\n",
    "        \t\telse:\r\n",
    "            \t\t\tif j == 1 or j == width:\r\n",
    "                \t\t\tprint_str += char\r\n",
    "           \t \t\telse:\r\n",
    "                \t\t\tprint_str += ' '\r\n",
    "Bước 7: Kết thúc vòng lập chiều dài của hình, ta tiến hành in print_str\r\n",
    "\r\n",
    "\r\n",
    "Tổng kết\r\n",
    "Qua bài tập này bạn đã luyện tập:\r\n",
    "\r\n",
    "Sử dụng vòng lặp\r\n",
    "Sử dụng if…else"
   ]
  },
  {
   "cell_type": "code",
   "execution_count": 1,
   "id": "72a53b9e-0b2a-40ce-b696-2bab543bff9b",
   "metadata": {},
   "outputs": [
    {
     "name": "stdin",
     "output_type": "stream",
     "text": [
      "Your char?:  u\n",
      "Width?:  5\n",
      "Height?:  7\n"
     ]
    },
    {
     "name": "stdout",
     "output_type": "stream",
     "text": [
      "uuuuu\n",
      "u   u\n",
      "u   u\n",
      "u   u\n",
      "u   u\n",
      "u   u\n",
      "uuuuu\n"
     ]
    }
   ],
   "source": [
    "char = input('Your char?: ')\n",
    "width = int(input('Width?: '))\n",
    "height = int(input('Height?: '))\n",
    "\n",
    "for i in range(1,height + 1):\n",
    "    print_str = ''\n",
    "    for j in range(1,width + 1):\n",
    "        if i == 1 or i == height:\n",
    "            print_str += char\n",
    "        else:\n",
    "            if j == 1 or j == width:\n",
    "                print_str += char\n",
    "            else:\n",
    "                print_str += ' '\n",
    "    print(print_str)"
   ]
  }
 ],
 "metadata": {
  "kernelspec": {
   "display_name": "Python 3 (ipykernel)",
   "language": "python",
   "name": "python3"
  },
  "language_info": {
   "codemirror_mode": {
    "name": "ipython",
    "version": 3
   },
   "file_extension": ".py",
   "mimetype": "text/x-python",
   "name": "python",
   "nbconvert_exporter": "python",
   "pygments_lexer": "ipython3",
   "version": "3.11.4"
  }
 },
 "nbformat": 4,
 "nbformat_minor": 5
}
