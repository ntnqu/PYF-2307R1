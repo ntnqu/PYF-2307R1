{
 "cells": [
  {
   "cell_type": "markdown",
   "id": "65ade872-eb36-4704-9e96-ac89f82af835",
   "metadata": {},
   "source": [
    "# Mục tiêu\r\n",
    "Luyện tập sử dụng khối lệnh if…elif…else trong lập trình.\r\n",
    "\r\n",
    "Mô tả bài toán\r\n",
    "Lấy một số ngẫu nhiên kiểu float từ 0 đến 3, sau đó chuyển về kiểu int. Dựa vào số vừa chuyển, in ra hình tròn với màu sắc tương ứng như sau:\r\n",
    "\r\n",
    "Bé hơn 1 ⇒ màu xanh\r\n",
    "Bé hơn 2 ⇒  màu vàng\r\n",
    "Bé hơn 3 ⇒  màu đỏ\r\n",
    "Hướng dẫn thực hiện\r\n",
    "Bước 1: import thư viện turtle và random\r\n",
    "\r\n",
    "import turtle\r\n",
    "import random\r\n",
    "Bước 2: Sử dụng hàm uniform(‘from’, ‘to’) của thư viện random để lấy ra số ngẫu nhiên và gán giá trị đó cho biến “number”\r\n",
    "\r\n",
    "number = random.uniform(0, 3)\r\n",
    "\r\n",
    "Bước 3: Sử dụng hàm int(‘float number’) để chuyển số về kiểu int và gán giá trị vào biến “intNumber”\r\n",
    "\r\n",
    " intNumber = int(number)\r\n",
    "\r\n",
    "Bước 4: Setup cửa sổ terminal\r\n",
    "\r\n",
    "        wn = turtle.Screen()\r\n",
    "        wn.bgcolor(\"black\")\r\n",
    "        wn.title(\"Circle\")\r\n",
    "Bước 7: Setup hình dạng của khối tròn\r\n",
    "\r\n",
    "        ball = turtle.Turtle()\r\n",
    "        ball.shape(‘cricle’)\r\n",
    "Bước 8: Kiểm tra giá trị biến “intNumber” để xét màu tương ứng cho khối tròn. Sau đó tiến hành vẽ khối tròn\r\n",
    "\r\n",
    "if intNumber < 1:\r\n",
    "    ball.color('green')\r\n",
    "elif intNumber < 2:\r\n",
    "    ball.color('yellow')\r\n",
    "elif intNumber < 3:\r\n",
    "    ball.color('red')\r\n",
    " \r\n",
    "turtle.done()\r\n",
    "Tổng kết\r\n",
    "Qua bài tập này bạn đã luyện tập:\r\n",
    "\r\n",
    "Sử dụng câu lệnh if..elif…else "
   ]
  },
  {
   "cell_type": "code",
   "execution_count": 1,
   "id": "6ad90edc-7bfa-4a28-8a9e-f02715198efb",
   "metadata": {},
   "outputs": [],
   "source": [
    "import turtle\n",
    "import random\n",
    " \n",
    "number = random.uniform(0, 3)\n",
    "intNumber = int(number)\n",
    " \n",
    "wn = turtle.Screen()\n",
    "wn.bgcolor(\"black\")\n",
    "wn.title(\"Circle\")\n",
    " \n",
    "ball = turtle.Turtle()\n",
    "ball.shape('circle')\n",
    " \n",
    "if intNumber < 1:\n",
    "    ball.color('green')\n",
    "elif intNumber < 2:\n",
    "    ball.color('yellow')\n",
    "elif intNumber < 3:\n",
    "    ball.color('red')\n",
    "turtle.done()"
   ]
  }
 ],
 "metadata": {
  "kernelspec": {
   "display_name": "Python 3 (ipykernel)",
   "language": "python",
   "name": "python3"
  },
  "language_info": {
   "codemirror_mode": {
    "name": "ipython",
    "version": 3
   },
   "file_extension": ".py",
   "mimetype": "text/x-python",
   "name": "python",
   "nbconvert_exporter": "python",
   "pygments_lexer": "ipython3",
   "version": "3.11.4"
  }
 },
 "nbformat": 4,
 "nbformat_minor": 5
}
