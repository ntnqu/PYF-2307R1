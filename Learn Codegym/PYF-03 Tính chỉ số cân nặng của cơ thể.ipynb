{
 "cells": [
  {
   "cell_type": "markdown",
   "id": "a35cf9af-cc8f-47c9-9763-e7a01a1b8e5c",
   "metadata": {},
   "source": [
    "# Mục tiêu\r\n",
    "\r\n",
    "Luyện tập sử dụng khối lệnh if…elif…else trong lập trình.\r\n",
    "\r\n",
    "Mô tả\r\n",
    "Viết chương trình cho người dùng nhập cân nặng và chiều cao của mình. Sau đó hãy in ra chỉ số BMI (Body mass index), và tình trạng cơ thể của họ dựa theo công thức và bảng giá trị sau:\r\n",
    "\r\n",
    "BMI = cân nặng / (chiều cao ^ 2)\r\n",
    "\r\n",
    "Trong đó cân nặng tính bằng kg và chiều cao tính bằng m\r\n",
    "\r\n",
    "Chỉ số BMI đối với người trên 20 tuổi được phân loại và diễn giải theo bảng sau:\r\n",
    "\r\n",
    "BMI < 16: Gầy cấp độ III\r\n",
    "16 <= BMI < 17:  Gầy cấp độ II\r\n",
    "17<= BMI < 18.5: Gầy cấp độ I\r\n",
    "18.5 <= BMI < 25: Bình thường\r\n",
    "25 <= BMI < 30: Thừa cân\r\n",
    "30 <= BMI < 35 : Béo phì cấp độ I\r\n",
    "35 <= BMI < 40: Béo phì cấp độ II\r\n",
    "BMI > 40: Béo phì cấp độ III\r\n",
    "Hướng dẫn\r\n",
    "Sử dụng function: input() để người dùng nhập chiều cao, sau đó chuyển kiểu về int. Sử dụng thêm function: input() nữa để người dùng nhập cân nặng, sau đó chuyển kiểu về int. \r\n",
    "\r\n",
    "Sau đó dựa vào chiều cao và cân nặng để tính ra chỉ số BMI.\r\n",
    "\r\n",
    "Dùng chỉ số BMI vừa được tính để in ra kết quả phù hợp\r\n",
    "\r\n",
    "Nếu BMI > 40: in ra béo phì cấp độ III\r\n",
    "Hoặc nếu 35 <= BMI < 40: in ra béo phì cấp độ II\r\n",
    "Hoặc nếu 30 <= BMI < 35: in ra béo phì cấp độ I\r\n",
    "Hoặc nếu 25 <= BMI < 30: in ra thừa cân\r\n",
    "Hoặc nếu 18.5 <= BMI < 25: in ra bình thường\r\n",
    "Hoặc nếu 17 <= BMI < 18.5: in ra gầy cấp độ I\r\n",
    "Hoặc nếu 16 <= BMI < 17: in ra gầy cấp độ II\r\n",
    "Hoặc BMI < 16: in ra gầy cấp độ III"
   ]
  },
  {
   "cell_type": "code",
   "execution_count": 6,
   "id": "0376a16e-9290-4d32-88d6-fd5bd216af3e",
   "metadata": {},
   "outputs": [
    {
     "name": "stdin",
     "output_type": "stream",
     "text": [
      "Nhập cân nặng kg:  46\n",
      "Nhập chiều cao cm:  155\n"
     ]
    },
    {
     "name": "stdout",
     "output_type": "stream",
     "text": [
      "Bình thường\n"
     ]
    }
   ],
   "source": [
    "kg = int(input('Nhập cân nặng kg: '))\n",
    "m = int (input('Nhập chiều cao cm: '))\n",
    "\n",
    "bmi = kg / ((m/100) ** 2)\n",
    "\n",
    "if bmi < 16:\n",
    "    print(f'Gầy cấp độ III')\n",
    "    \n",
    "elif bmi < 17:\n",
    "    print(f'Gầy cấp độ II')\n",
    "\n",
    "elif bmi < 18.5:\n",
    "    print(f'Gầy cấp độ I')\n",
    "\n",
    "elif bmi < 25:\n",
    "    print(f'Bình thường')\n",
    "\n",
    "elif bmi < 30:\n",
    "    print(f'Thừa cân')\n",
    "\n",
    "elif bmi < 35:\n",
    "    print(f'Béo phì cấp độ I')\n",
    "\n",
    "elif bmi < 40:\n",
    "    print(f'Béo phì cấp độ II')\n",
    "\n",
    "else:\n",
    "    print(f'Béo phì cấp độ III')\n"
   ]
  }
 ],
 "metadata": {
  "kernelspec": {
   "display_name": "Python 3 (ipykernel)",
   "language": "python",
   "name": "python3"
  },
  "language_info": {
   "codemirror_mode": {
    "name": "ipython",
    "version": 3
   },
   "file_extension": ".py",
   "mimetype": "text/x-python",
   "name": "python",
   "nbconvert_exporter": "python",
   "pygments_lexer": "ipython3",
   "version": "3.11.4"
  }
 },
 "nbformat": 4,
 "nbformat_minor": 5
}
