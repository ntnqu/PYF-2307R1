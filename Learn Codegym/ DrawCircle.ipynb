{
 "cells": [
  {
   "cell_type": "code",
   "execution_count": 1,
   "id": "a059680c-2d6f-4dda-995a-183e6cc8e2b5",
   "metadata": {},
   "outputs": [
    {
     "data": {
      "text/plain": [
       "<function turtle.mainloop()>"
      ]
     },
     "execution_count": 1,
     "metadata": {},
     "output_type": "execute_result"
    }
   ],
   "source": [
    "# Vẽ hình tròn\n",
    "\n",
    "import turtle\n",
    "\n",
    "#đặt kích thước viền cho hình tròn là 5\n",
    "turtle.pensize (5)\n",
    " \n",
    "#đặt màu sắc cho viền hình tròn là màu đỏ\n",
    "turtle.pencolor (\"red\")\n",
    "\n",
    "#đặt màu nền cho hình tròn là màu xanh\n",
    "turtle.fillcolor (\"blue\")\n",
    "turtle.begin_fill()\n",
    "\n",
    "#đặt bán kính của hình tròn là 100\n",
    "turtle.circle (100)\n",
    "turtle.end_fill()\n",
    "turtle.done"
   ]
  },
  {
   "cell_type": "code",
   "execution_count": 1,
   "id": "3c9c8462-baf1-4030-828e-48d24f9bcf60",
   "metadata": {},
   "outputs": [
    {
     "data": {
      "text/plain": [
       "<function turtle.mainloop()>"
      ]
     },
     "execution_count": 1,
     "metadata": {},
     "output_type": "execute_result"
    }
   ],
   "source": [
    "import turtle\n",
    "\n",
    "#đặt kích thước viền cho hình tròn là 5\n",
    "turtle.pensize (5)\n",
    "\n",
    "#đặt màu sắc cho viền hình tròn là màu xanh\n",
    "turtle.pencolor (\"blue\")\n",
    "\n",
    "#for outer bigger circle\n",
    "#đặt màu nền cho hình tròn là màu đỏ\n",
    "turtle.fillcolor (\"red\")\n",
    "turtle.begin_fill()\n",
    "\n",
    "#đặt bán kính của hình tròn là 150\n",
    "turtle.circle (150)\n",
    "turtle.end_fill()\n",
    "turtle.done\n"
   ]
  },
  {
   "cell_type": "code",
   "execution_count": 1,
   "id": "4a2e909d-e9ad-476d-afd6-1b4ffdd9b2d1",
   "metadata": {},
   "outputs": [],
   "source": [
    "# điểm bắt đầu vẽ hình tròn là tâm của màn hình. \n",
    "# Nếu muốn tùy chỉnh thay đổi điểm bắt đầu các bạn thay đổi bằng lệnh turtle.Turtle().goto(-40, 120)\n",
    "\n",
    "import turtle\n",
    "\n",
    "\n",
    "turtle.pensize (5)\n",
    "\n",
    "turtle.pencolor (\"red\")\n",
    "\n",
    "\n",
    "turtle.Turtle().goto(-40, 120)\n",
    "\n",
    "turtle.fillcolor (\"red\")\n",
    "turtle.begin_fill()\n",
    "\n",
    "turtle.circle (150)\n",
    "turtle.end_fill()"
   ]
  }
 ],
 "metadata": {
  "kernelspec": {
   "display_name": "Python 3 (ipykernel)",
   "language": "python",
   "name": "python3"
  },
  "language_info": {
   "codemirror_mode": {
    "name": "ipython",
    "version": 3
   },
   "file_extension": ".py",
   "mimetype": "text/x-python",
   "name": "python",
   "nbconvert_exporter": "python",
   "pygments_lexer": "ipython3",
   "version": "3.11.4"
  }
 },
 "nbformat": 4,
 "nbformat_minor": 5
}
