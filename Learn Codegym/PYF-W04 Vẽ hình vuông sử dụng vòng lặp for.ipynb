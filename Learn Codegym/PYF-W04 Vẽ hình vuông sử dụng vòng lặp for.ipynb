{
 "cells": [
  {
   "cell_type": "markdown",
   "id": "a54aaddd-5641-4c9b-94df-dd384a70b36f",
   "metadata": {},
   "source": [
    "# Mô tả bài toán\r\n",
    "Viết chương trình khi chạy sẽ vẽ ra cho nguời dùng được hình vuông.\r\n",
    "\r\n",
    "Hướng dẫn thực hiện\r\n",
    "Bước 1: Import thư viện turtle \r\n",
    "\r\n",
    "Bước 2: Dùng turtle.Screen() để cài đặt cửa số và gán cho biến wn\r\n",
    "\r\n",
    "Bước 3: Cài đặt cửa sổ\r\n",
    "\r\n",
    "wn.bgcolor(\"black\")\r\n",
    "wn.title(\"Square\")\r\n",
    "Bước 4: Cài đặt bút vẽ hình vuông\r\n",
    "\r\n",
    "myPen = turtle.Turtle()\r\n",
    "myPen.speed(0)\r\n",
    "myPen.color(\"#FF0000\")\r\n",
    "Bước 5: Tạo vòng lặp để vẽ hình.\r\n",
    "\r\n",
    "Dùng for và range(number) để tạo vòng lặp, number ở hàm range() sẽ có giá trị bằng 4 vì hình vuông có 4 cạnh.\r\n",
    "Xử lý bên trong vòng lặp\r\n",
    "Dùng forward() để vẽ cạnh dài hình vuông\r\n",
    "Dùng left() để điều hướng góc vẽ tiếp theo\r\n",
    "for i in range(4):\r\n",
    "myPen.forward(100)\r\n",
    "myPen.left(90)\r\n",
    "Bước 6: Kết thúc vẽ hình\r\n",
    "\r\n",
    "turtle.done()"
   ]
  },
  {
   "cell_type": "code",
   "execution_count": 1,
   "id": "2b567fe0-a7d7-41fe-8404-cc5de282ab86",
   "metadata": {},
   "outputs": [],
   "source": [
    "import turtle\n",
    "\n",
    "wn = turtle.Screen()\n",
    "wn.bgcolor(\"black\")\n",
    "wn.title(\"Square\")\n",
    "\n",
    "myPen = turtle.Turtle()\n",
    "myPen.speed(0)\n",
    "myPen.color(\"#FF0000\")\n",
    "\n",
    "for i in range(4):\n",
    "  myPen.forward(100)\n",
    "  myPen.left(90)\n",
    "\n",
    "turtle.done()"
   ]
  }
 ],
 "metadata": {
  "kernelspec": {
   "display_name": "Python 3 (ipykernel)",
   "language": "python",
   "name": "python3"
  },
  "language_info": {
   "codemirror_mode": {
    "name": "ipython",
    "version": 3
   },
   "file_extension": ".py",
   "mimetype": "text/x-python",
   "name": "python",
   "nbconvert_exporter": "python",
   "pygments_lexer": "ipython3",
   "version": "3.11.4"
  }
 },
 "nbformat": 4,
 "nbformat_minor": 5
}
