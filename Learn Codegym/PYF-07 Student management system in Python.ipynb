{
 "cells": [
  {
   "cell_type": "code",
   "execution_count": null,
   "id": "2a3ab54c-59ac-41f7-8b0f-a4bf9af8b189",
   "metadata": {},
   "outputs": [],
   "source": [
    "'''Xây dựng ứng dụng quản lý sinh viên với các chức năng cơ bản sau:\r",
    "1. \n",
    "Xem danh mục sinh viên2. \r\n",
    "Thêm sinh viên mới vào danh mụ3. c\r\n",
    "Cập nhật thông tin của sinh viên trong danh m4. ục\r\n",
    "Xóa thông tin sinh viên khỏi danh 5. mục\r\n",
    "Tìm kiếm thông tin sinh viên trong danh mục theo từ 6. khóa\r\n",
    "Sắp xếp thông tin sinh viên trong da\n",
    "\n",
    "Xây dựng lớp Student với các thuộc tính như:\n",
    "mã sinh viên, họ tên, ngày tháng năm sinh, quê quán, chuyên ngành, lớp…\n",
    "Chức năng chính của lớp này là lưu giữ thông tin của 1 sinh viên\n",
    "\n",
    "Xây dựng lớp danh mục sinh viên (Student_List) với thuộc tính là:\n",
    "một List các đối tượng của lớp Student vừa xây dựng ở trên. \n",
    "Lớp này có các hàm thành viên tương ứng với các chức năng như đề bài yêu cầu. \n",
    "Mỗi hàm chức năng đều thao tác trên thuộc tính List sinh viên của lớp này. \n",
    "'''nh mục"
   ]
  },
  {
   "cell_type": "code",
   "execution_count": 2,
   "id": "27e320b0-e153-435f-a1e2-bcc55ce26f17",
   "metadata": {},
   "outputs": [
    {
     "name": "stdout",
     "output_type": "stream",
     "text": [
      "Sinh viên: 1005, họ tên: Nguyễn A, năm sinh: 1990, giới tính: True\n",
      "Sinh viên: 1055, họ tên: Nguyễn B, năm sinh: 1990, giới tính: False\n"
     ]
    }
   ],
   "source": [
    "class Student:\n",
    "    # Thuộc tính (property)\n",
    "    msv: str = ''\n",
    "    name: str = ''\n",
    "    year: int = 1990\n",
    "    gioi_tinh: bool = True # True: Nữ. False: Nam\n",
    "    major: str = None\n",
    "    mark: float = 0\n",
    "\n",
    "\n",
    "    def __init__(self, msv, name, year, gioi_tinh, major, mark):\n",
    "        self.msv = msv\n",
    "        self.name = name\n",
    "        self.year = year\n",
    "        self.gioi_tinh = gioi_tinh\n",
    "        self.major = major\n",
    "        self.mark = mark\n",
    "\n",
    "    \n",
    "    # dùng khi print(obj)\n",
    "    def __str__(self):\n",
    "        return f\"Sinh viên: {self.msv}, họ tên: {self.name}, năm sinh: {self.year}, giới tính: {self.gioi_tinh}\"\n",
    "\n",
    "# Demo\n",
    "\n",
    "sv1 = Student('1005','Nguyễn A', 1990, True, 'CNTT', 8.9)\n",
    "sv2 = Student('1055','Nguyễn B', 1990, False, 'KT', 7.9)\n",
    "\n",
    "print(sv1)\n",
    "print(str(sv2))\n",
    "    "
   ]
  },
  {
   "cell_type": "code",
   "execution_count": 5,
   "id": "c224ca62-a1c6-4561-92b5-beba30478693",
   "metadata": {},
   "outputs": [
    {
     "name": "stdout",
     "output_type": "stream",
     "text": [
      "\n",
      "    1. Xem danh mục sinh viên\n",
      "    2. Thêm sinh viên mới vào danh mục\n",
      "    3. Cập nhật thông tin của sinh viên trong danh mục\n",
      "    4. Xóa thông tin sinh viên khỏi danh mục\n",
      "    5. Tìm kiếm thông tin sinh viên trong danh mục theo từ khóa\n",
      "    6. Sắp xếp thông tin sinh viên trong danh mục\n",
      "    Chọn:\n",
      "    \n"
     ]
    },
    {
     "name": "stdin",
     "output_type": "stream",
     "text": [
      "Bạn đưa ra lựa chọn:  1\n"
     ]
    },
    {
     "name": "stdout",
     "output_type": "stream",
     "text": [
      "1\n",
      "Sinh viên: 1005, họ tên: Nguyễn A, năm sinh: 1990, giới tính: True\n",
      "Sinh viên: 1055, họ tên: Nguyễn B, năm sinh: 1990, giới tính: False\n"
     ]
    }
   ],
   "source": [
    "class Student:\n",
    "    # Thuộc tính (property)\n",
    "    msv: str = ''\n",
    "    name: str = ''\n",
    "    year: int = 1990\n",
    "    gioi_tinh: bool = True # True: Nữ. False: Nam\n",
    "    major: str = None\n",
    "    mark: float = 0\n",
    "\n",
    "\n",
    "    def __init__(self, msv, name, year, gioi_tinh, major, mark):\n",
    "        self.msv = msv\n",
    "        self.name = name\n",
    "        self.year = year\n",
    "        self.gioi_tinh = gioi_tinh\n",
    "        self.major = major\n",
    "        self.mark = mark\n",
    "\n",
    "    \n",
    "    # dùng khi print(obj)\n",
    "    def __str__(self):\n",
    "        return f\"Sinh viên: {self.msv}, họ tên: {self.name}, năm sinh: {self.year}, giới tính: {self.gioi_tinh}\"\n",
    "\n",
    "\n",
    "def lua_chon():\n",
    "    print('''\n",
    "    1. Xem danh mục sinh viên\n",
    "    2. Thêm sinh viên mới vào danh mục\n",
    "    3. Cập nhật thông tin của sinh viên trong danh mục\n",
    "    4. Xóa thông tin sinh viên khỏi danh mục\n",
    "    5. Tìm kiếm thông tin sinh viên trong danh mục theo từ khóa\n",
    "    6. Sắp xếp thông tin sinh viên trong danh mục\n",
    "    Chọn:\n",
    "    ''')\n",
    "    try:\n",
    "        chon = int(input('Bạn đưa ra lựa chọn: '))\n",
    "        return chon if 1 <= chon <= 6 else 0\n",
    "    except:\n",
    "        return 0\n",
    "\n",
    "\n",
    "# Tạo mảng danh sách sinh viên\n",
    "dssv = []\n",
    "\n",
    "print(lua_chon())\n",
    "# Demo\n",
    "# sv1 = Student('1005','Nguyễn A', 1990, True, 'CNTT', 8.9)\n",
    "# sv2 = Student('1055','Nguyễn B', 1990, False, 'KT', 7.9)\n",
    "\n",
    "# print(sv1)\n",
    "# print(str(sv2))\n",
    "    "
   ]
  },
  {
   "cell_type": "code",
   "execution_count": 7,
   "id": "77504017-b695-45d9-98bb-49a4f6fc6e33",
   "metadata": {},
   "outputs": [
    {
     "name": "stdout",
     "output_type": "stream",
     "text": [
      "\n",
      "    1. Xem danh mục sinh viên\n",
      "    2. Thêm sinh viên mới vào danh mục\n",
      "    3. Cập nhật thông tin của sinh viên trong danh mục\n",
      "    4. Xóa thông tin sinh viên khỏi danh mục\n",
      "    5. Tìm kiếm thông tin sinh viên trong danh mục theo từ khóa\n",
      "    6. Sắp xếp thông tin sinh viên trong danh mục\n",
      "    Chọn:\n",
      "    \n"
     ]
    },
    {
     "name": "stdin",
     "output_type": "stream",
     "text": [
      "Bạn đưa ra lựa chọn:  5\n"
     ]
    },
    {
     "name": "stdout",
     "output_type": "stream",
     "text": [
      "Tiếp tục đưa ra lựa chọn.\n",
      "\n",
      "    1. Xem danh mục sinh viên\n",
      "    2. Thêm sinh viên mới vào danh mục\n",
      "    3. Cập nhật thông tin của sinh viên trong danh mục\n",
      "    4. Xóa thông tin sinh viên khỏi danh mục\n",
      "    5. Tìm kiếm thông tin sinh viên trong danh mục theo từ khóa\n",
      "    6. Sắp xếp thông tin sinh viên trong danh mục\n",
      "    Chọn:\n",
      "    \n"
     ]
    },
    {
     "name": "stdin",
     "output_type": "stream",
     "text": [
      "Bạn đưa ra lựa chọn:  0\n"
     ]
    },
    {
     "name": "stdout",
     "output_type": "stream",
     "text": [
      "Bye Bye\n"
     ]
    }
   ],
   "source": [
    "class Student:\n",
    "    # Thuộc tính (property)\n",
    "    msv: str = ''\n",
    "    name: str = ''\n",
    "    year: int = 1990\n",
    "    gioi_tinh: bool = True # True: Nữ. False: Nam\n",
    "    major: str = None\n",
    "    mark: float = 0\n",
    "\n",
    "\n",
    "    def __init__(self, msv, name, year, gioi_tinh, major, mark):\n",
    "        self.msv = msv\n",
    "        self.name = name\n",
    "        self.year = year\n",
    "        self.gioi_tinh = gioi_tinh\n",
    "        self.major = major\n",
    "        self.mark = mark\n",
    "\n",
    "    \n",
    "    # dùng khi print(obj)\n",
    "    def __str__(self):\n",
    "        return f\"Sinh viên: {self.msv}, họ tên: {self.name}, năm sinh: {self.year}, giới tính: {self.gioi_tinh}\"\n",
    "\n",
    "\n",
    "def lua_chon():\n",
    "    print('''\n",
    "    1. Xem danh mục sinh viên\n",
    "    2. Thêm sinh viên mới vào danh mục\n",
    "    3. Cập nhật thông tin của sinh viên trong danh mục\n",
    "    4. Xóa thông tin sinh viên khỏi danh mục\n",
    "    5. Tìm kiếm thông tin sinh viên trong danh mục theo từ khóa\n",
    "    6. Sắp xếp thông tin sinh viên trong danh mục\n",
    "    Chọn:\n",
    "    ''')\n",
    "    try:\n",
    "        chon = int(input('Bạn đưa ra lựa chọn: '))\n",
    "        return chon if 1 <= chon <= 6 else 0\n",
    "    except:\n",
    "        return 0\n",
    "\n",
    "\n",
    "# Tạo mảng danh sách sinh viên\n",
    "dssv = []\n",
    "\n",
    "while lua_chon() != 0:\n",
    "    print(\"Tiếp tục đưa ra lựa chọn.\")\n",
    "\n",
    "print(\"Bye Bye\")\n",
    "\n",
    "    "
   ]
  },
  {
   "cell_type": "code",
   "execution_count": 18,
   "id": "48a671b8-abbc-4a6c-b86f-a96694876333",
   "metadata": {},
   "outputs": [
    {
     "name": "stdout",
     "output_type": "stream",
     "text": [
      "______DANH SÁCH SINH VIÊN______\n",
      "______THÊM SINH VIÊN______\n"
     ]
    },
    {
     "name": "stdin",
     "output_type": "stream",
     "text": [
      "Nhập vào mã số sinh viên:  123\n",
      "Nhập vào họ và tên sinh viên:  TR\n",
      "Nhập vào năm sinh của sinh viên:  1990\n",
      "Giới tính:  NAM\n",
      "Ngành học:  KY\n",
      "Nhập điểm:  6\n"
     ]
    },
    {
     "name": "stdout",
     "output_type": "stream",
     "text": [
      "______DANH SÁCH SINH VIÊN______\n",
      "Sinh viên: 123, họ tên: TR, năm sinh: 1990, giới tính: False, chuyên ngành: KY, điểm: 6.0\n"
     ]
    }
   ],
   "source": [
    "class Student:\n",
    "    # Thuộc tính (property)\n",
    "    msv: str = ''\n",
    "    name: str = ''\n",
    "    year: int = 1990\n",
    "    gioi_tinh: bool = True # True: Nữ. False: Nam\n",
    "    major: str = None\n",
    "    mark: float = 0\n",
    "\n",
    "\n",
    "    def __init__(self, msv, name, year, gioi_tinh, major, mark):\n",
    "        self.msv = msv\n",
    "        self.name = name\n",
    "        self.year = year\n",
    "        self.gioi_tinh = gioi_tinh\n",
    "        self.major = major\n",
    "        self.mark = mark\n",
    "\n",
    "    \n",
    "    # dùng khi print(obj)\n",
    "    def __str__(self):\n",
    "        return f\"Sinh viên: {self.msv}, họ tên: {self.name}, năm sinh: {self.year}, giới tính: {self.gioi_tinh}, chuyên ngành: {self.major}, điểm: {self.mark}\"\n",
    "\n",
    "# Định nghĩa lớp danh sách sinh viên\n",
    "\n",
    "class MangSinhVien:\n",
    "    danh_sach: list[Student] = []\n",
    "\n",
    "    def xem_danh_sach(self):\n",
    "        print('______DANH SÁCH SINH VIÊN______')\n",
    "        for sv in self.danh_sach:\n",
    "            print(sv)\n",
    "        \n",
    "\n",
    "    def them_sinh_vien(self):\n",
    "        print('______THÊM SINH VIÊN______')\n",
    "        ma_so = input(\"Nhập vào mã số sinh viên: \")\n",
    "        name = input(\"Nhập vào họ và tên sinh viên: \")\n",
    "        year = int(input(\"Nhập vào năm sinh của sinh viên: \"))\n",
    "        gioitinh = True if input(\"Giới tính: \").lower() == \"Nữ\" else False\n",
    "        major = input(\"Ngành học: \")\n",
    "        diem = float(input(\"Nhập điểm: \"))\n",
    "        \n",
    "        # sinh viên tạm\n",
    "        sv_temp = Student(msv=ma_so, name=name, year=year, gioi_tinh=gioitinh,\n",
    "                         major=major, mark= diem)\n",
    "        self.danh_sach.append(sv_temp)\n",
    "\n",
    "# demo listStudent\n",
    "\n",
    "dssv = MangSinhVien()\n",
    "dssv.xem_danh_sach()\n",
    "dssv.them_sinh_vien()\n",
    "\n",
    "dssv.xem_danh_sach()\n",
    "\n",
    "\n",
    "\n",
    "def lua_chon():\n",
    "    print('''\n",
    "    1. Xem danh mục sinh viên\n",
    "    2. Thêm sinh viên mới vào danh mục\n",
    "    3. Cập nhật thông tin của sinh viên trong danh mục\n",
    "    4. Xóa thông tin sinh viên khỏi danh mục\n",
    "    5. Tìm kiếm thông tin sinh viên trong danh mục theo từ khóa\n",
    "    6. Sắp xếp thông tin sinh viên trong danh mục\n",
    "    Chọn:\n",
    "    ''')\n",
    "    try:\n",
    "        chon = int(input('Bạn đưa ra lựa chọn: '))\n",
    "        return chon if 1 <= chon <= 6 else 0\n",
    "    except:\n",
    "        return 0\n",
    "\n",
    "\n",
    "# Tạo mảng danh sách sinh viên\n",
    "# main\n",
    "\n",
    "# dssv = []\n",
    "\n",
    "# while lua_chon() != 0:\n",
    "#     print(\"Tiếp tục đưa ra lựa chọn.\")\n",
    "\n",
    "# print(\"Bye Bye\")\n",
    "\n",
    "\n",
    "# Demo\n",
    "# sv1 = Student('1005','Nguyễn A', 1990, True, 'CNTT', 8.9)\n",
    "# sv2 = Student('1055','Nguyễn B', 1990, False, 'KT', 7.9)\n",
    "\n",
    "# print(sv1)\n",
    "# print(str(sv2))\n",
    "    "
   ]
  },
  {
   "cell_type": "code",
   "execution_count": 20,
   "id": "463342a1-ddec-4d05-a13b-b7d03729d44b",
   "metadata": {},
   "outputs": [
    {
     "name": "stdout",
     "output_type": "stream",
     "text": [
      "\n",
      "    1. Xem danh mục sinh viên\n",
      "    2. Thêm sinh viên mới vào danh mục\n",
      "    3. Cập nhật thông tin của sinh viên trong danh mục\n",
      "    4. Xóa thông tin sinh viên khỏi danh mục\n",
      "    5. Tìm kiếm thông tin sinh viên trong danh mục theo từ khóa\n",
      "    6. Sắp xếp thông tin sinh viên trong danh mục\n",
      "    Chọn:\n",
      "    \n"
     ]
    },
    {
     "name": "stdin",
     "output_type": "stream",
     "text": [
      "Bạn đưa ra lựa chọn:  1\n"
     ]
    },
    {
     "name": "stdout",
     "output_type": "stream",
     "text": [
      "______DANH SÁCH SINH VIÊN______\n",
      "\n",
      "    1. Xem danh mục sinh viên\n",
      "    2. Thêm sinh viên mới vào danh mục\n",
      "    3. Cập nhật thông tin của sinh viên trong danh mục\n",
      "    4. Xóa thông tin sinh viên khỏi danh mục\n",
      "    5. Tìm kiếm thông tin sinh viên trong danh mục theo từ khóa\n",
      "    6. Sắp xếp thông tin sinh viên trong danh mục\n",
      "    Chọn:\n",
      "    \n"
     ]
    },
    {
     "name": "stdin",
     "output_type": "stream",
     "text": [
      "Bạn đưa ra lựa chọn:  3\n"
     ]
    },
    {
     "name": "stdout",
     "output_type": "stream",
     "text": [
      "\n",
      "    1. Xem danh mục sinh viên\n",
      "    2. Thêm sinh viên mới vào danh mục\n",
      "    3. Cập nhật thông tin của sinh viên trong danh mục\n",
      "    4. Xóa thông tin sinh viên khỏi danh mục\n",
      "    5. Tìm kiếm thông tin sinh viên trong danh mục theo từ khóa\n",
      "    6. Sắp xếp thông tin sinh viên trong danh mục\n",
      "    Chọn:\n",
      "    \n"
     ]
    },
    {
     "name": "stdin",
     "output_type": "stream",
     "text": [
      "Bạn đưa ra lựa chọn:  4\n"
     ]
    },
    {
     "name": "stdout",
     "output_type": "stream",
     "text": [
      "\n",
      "    1. Xem danh mục sinh viên\n",
      "    2. Thêm sinh viên mới vào danh mục\n",
      "    3. Cập nhật thông tin của sinh viên trong danh mục\n",
      "    4. Xóa thông tin sinh viên khỏi danh mục\n",
      "    5. Tìm kiếm thông tin sinh viên trong danh mục theo từ khóa\n",
      "    6. Sắp xếp thông tin sinh viên trong danh mục\n",
      "    Chọn:\n",
      "    \n"
     ]
    },
    {
     "name": "stdin",
     "output_type": "stream",
     "text": [
      "Bạn đưa ra lựa chọn:  2\n"
     ]
    },
    {
     "name": "stdout",
     "output_type": "stream",
     "text": [
      "______THÊM SINH VIÊN______\n"
     ]
    },
    {
     "name": "stdin",
     "output_type": "stream",
     "text": [
      "Nhập vào mã số sinh viên:  123\n",
      "Nhập vào họ và tên sinh viên:  tèo\n",
      "Nhập vào năm sinh của sinh viên:  1990\n",
      "Giới tính:  ke toan\n",
      "Ngành học:  15\n",
      "Nhập điểm:  678\n"
     ]
    },
    {
     "name": "stdout",
     "output_type": "stream",
     "text": [
      "\n",
      "    1. Xem danh mục sinh viên\n",
      "    2. Thêm sinh viên mới vào danh mục\n",
      "    3. Cập nhật thông tin của sinh viên trong danh mục\n",
      "    4. Xóa thông tin sinh viên khỏi danh mục\n",
      "    5. Tìm kiếm thông tin sinh viên trong danh mục theo từ khóa\n",
      "    6. Sắp xếp thông tin sinh viên trong danh mục\n",
      "    Chọn:\n",
      "    \n"
     ]
    },
    {
     "name": "stdin",
     "output_type": "stream",
     "text": [
      "Bạn đưa ra lựa chọn:  1\n"
     ]
    },
    {
     "name": "stdout",
     "output_type": "stream",
     "text": [
      "______DANH SÁCH SINH VIÊN______\n",
      "Sinh viên: 123, họ tên: tèo, năm sinh: 1990, giới tính: False, chuyên ngành: 15, điểm: 678.0\n",
      "\n",
      "    1. Xem danh mục sinh viên\n",
      "    2. Thêm sinh viên mới vào danh mục\n",
      "    3. Cập nhật thông tin của sinh viên trong danh mục\n",
      "    4. Xóa thông tin sinh viên khỏi danh mục\n",
      "    5. Tìm kiếm thông tin sinh viên trong danh mục theo từ khóa\n",
      "    6. Sắp xếp thông tin sinh viên trong danh mục\n",
      "    Chọn:\n",
      "    \n"
     ]
    },
    {
     "name": "stdin",
     "output_type": "stream",
     "text": [
      "Bạn đưa ra lựa chọn:  2\n"
     ]
    },
    {
     "name": "stdout",
     "output_type": "stream",
     "text": [
      "______THÊM SINH VIÊN______\n"
     ]
    },
    {
     "name": "stdin",
     "output_type": "stream",
     "text": [
      "Nhập vào mã số sinh viên:  346\n",
      "Nhập vào họ và tên sinh viên:  Ty\n",
      "Nhập vào năm sinh của sinh viên:  1998\n",
      "Giới tính:  nữ\n",
      "Ngành học:  cntt\n",
      "Nhập điểm:  8\n"
     ]
    },
    {
     "name": "stdout",
     "output_type": "stream",
     "text": [
      "\n",
      "    1. Xem danh mục sinh viên\n",
      "    2. Thêm sinh viên mới vào danh mục\n",
      "    3. Cập nhật thông tin của sinh viên trong danh mục\n",
      "    4. Xóa thông tin sinh viên khỏi danh mục\n",
      "    5. Tìm kiếm thông tin sinh viên trong danh mục theo từ khóa\n",
      "    6. Sắp xếp thông tin sinh viên trong danh mục\n",
      "    Chọn:\n",
      "    \n"
     ]
    },
    {
     "name": "stdin",
     "output_type": "stream",
     "text": [
      "Bạn đưa ra lựa chọn:  1\n"
     ]
    },
    {
     "name": "stdout",
     "output_type": "stream",
     "text": [
      "______DANH SÁCH SINH VIÊN______\n",
      "Sinh viên: 123, họ tên: tèo, năm sinh: 1990, giới tính: False, chuyên ngành: 15, điểm: 678.0\n",
      "Sinh viên: 346, họ tên: Ty, năm sinh: 1998, giới tính: False, chuyên ngành: cntt, điểm: 8.0\n",
      "\n",
      "    1. Xem danh mục sinh viên\n",
      "    2. Thêm sinh viên mới vào danh mục\n",
      "    3. Cập nhật thông tin của sinh viên trong danh mục\n",
      "    4. Xóa thông tin sinh viên khỏi danh mục\n",
      "    5. Tìm kiếm thông tin sinh viên trong danh mục theo từ khóa\n",
      "    6. Sắp xếp thông tin sinh viên trong danh mục\n",
      "    Chọn:\n",
      "    \n"
     ]
    },
    {
     "name": "stdin",
     "output_type": "stream",
     "text": [
      "Bạn đưa ra lựa chọn:  0\n"
     ]
    },
    {
     "name": "stdout",
     "output_type": "stream",
     "text": [
      "Bye Bye\n"
     ]
    }
   ],
   "source": [
    "class Student:\n",
    "    # Thuộc tính (property)\n",
    "    msv: str = ''\n",
    "    name: str = ''\n",
    "    year: int = 1990\n",
    "    gioi_tinh: bool = True # True: Nữ. False: Nam\n",
    "    major: str = None\n",
    "    mark: float = 0\n",
    "\n",
    "\n",
    "    def __init__(self, msv, name, year, gioi_tinh, major, mark):\n",
    "        self.msv = msv\n",
    "        self.name = name\n",
    "        self.year = year\n",
    "        self.gioi_tinh = gioi_tinh\n",
    "        self.major = major\n",
    "        self.mark = mark\n",
    "\n",
    "    \n",
    "    # dùng khi print(obj)\n",
    "    def __str__(self):\n",
    "        return f\"Sinh viên: {self.msv}, họ tên: {self.name}, năm sinh: {self.year}, giới tính: {self.gioi_tinh}, chuyên ngành: {self.major}, điểm: {self.mark}\"\n",
    "\n",
    "# Định nghĩa lớp danh sách sinh viên\n",
    "\n",
    "class MangSinhVien:\n",
    "    danh_sach: list[Student] = []\n",
    "\n",
    "    def xem_danh_sach(self):\n",
    "        print('______DANH SÁCH SINH VIÊN______')\n",
    "        for sv in self.danh_sach:\n",
    "            print(sv)\n",
    "        \n",
    "\n",
    "    def them_sinh_vien(self):\n",
    "        print('______THÊM SINH VIÊN______')\n",
    "        ma_so = input(\"Nhập vào mã số sinh viên: \")\n",
    "        name = input(\"Nhập vào họ và tên sinh viên: \")\n",
    "        year = int(input(\"Nhập vào năm sinh của sinh viên: \"))\n",
    "        gioitinh = True if input(\"Giới tính: \").lower() == \"Nữ\" else False\n",
    "        major = input(\"Ngành học: \")\n",
    "        diem = float(input(\"Nhập điểm: \"))\n",
    "        \n",
    "        # sinh viên tạm\n",
    "        sv_temp = Student(msv=ma_so, name=name, year=year, gioi_tinh=gioitinh,\n",
    "                         major=major, mark= diem)\n",
    "        self.danh_sach.append(sv_temp)\n",
    "\n",
    "# demo listStudent\n",
    "\n",
    "# dssv = MangSinhVien()\n",
    "# dssv.xem_danh_sach()\n",
    "# dssv.them_sinh_vien()\n",
    "\n",
    "# dssv.xem_danh_sach()\n",
    "\n",
    "\n",
    "\n",
    "def lua_chon():\n",
    "    print('''\n",
    "    1. Xem danh mục sinh viên\n",
    "    2. Thêm sinh viên mới vào danh mục\n",
    "    3. Cập nhật thông tin của sinh viên trong danh mục\n",
    "    4. Xóa thông tin sinh viên khỏi danh mục\n",
    "    5. Tìm kiếm thông tin sinh viên trong danh mục theo từ khóa\n",
    "    6. Sắp xếp thông tin sinh viên trong danh mục\n",
    "    Chọn:\n",
    "    ''')\n",
    "    try:\n",
    "        chon = int(input('Bạn đưa ra lựa chọn: '))\n",
    "        return chon if 1 <= chon <= 6 else 0\n",
    "    except:\n",
    "        return 0\n",
    "\n",
    "\n",
    "# Tạo mảng danh sách sinh viên\n",
    "# main\n",
    "\n",
    "mang_sv = MangSinhVien()\n",
    "menu_chon = lua_chon()\n",
    "while menu_chon != 0:\n",
    "    if menu_chon == 1:\n",
    "        mang_sv.xem_danh_sach()\n",
    "\n",
    "    elif menu_chon == 2:\n",
    "        mang_sv.them_sinh_vien()\n",
    "    \n",
    "\n",
    "    # Hiện menu\n",
    "    menu_chon = lua_chon()\n",
    "\n",
    "print(\"Bye Bye\")\n",
    "\n",
    "    "
   ]
  }
 ],
 "metadata": {
  "kernelspec": {
   "display_name": "Python 3 (ipykernel)",
   "language": "python",
   "name": "python3"
  },
  "language_info": {
   "codemirror_mode": {
    "name": "ipython",
    "version": 3
   },
   "file_extension": ".py",
   "mimetype": "text/x-python",
   "name": "python",
   "nbconvert_exporter": "python",
   "pygments_lexer": "ipython3",
   "version": "3.11.4"
  }
 },
 "nbformat": 4,
 "nbformat_minor": 5
}
