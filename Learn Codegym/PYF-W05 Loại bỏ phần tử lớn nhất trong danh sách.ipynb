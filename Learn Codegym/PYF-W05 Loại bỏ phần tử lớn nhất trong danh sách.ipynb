{
 "cells": [
  {
   "cell_type": "markdown",
   "id": "546130b8-81bb-44a9-87bb-63ad836e0845",
   "metadata": {},
   "source": [
    "# Mô tả bài toán\r\n",
    "\r\n",
    "Viết chương trình loại bỏ phần tử lớn nhất trong mảng cho sẵn.\r\n",
    "\r\n",
    "Hướng dẫn thực hiện\r\n",
    "\r\n",
    "Bước 1: Khai báo hàm xoá số lớn nhất (tạm gọi hàm này là remove_largest_number()), nhận tham số đầu vào là mảng các số. Hàm này sẽ thực hiện việc tìm số lớn nhất trong mảng đầu vào. Sau đó sẽ xoá số đó khỏi mảng."
   ]
  },
  {
   "cell_type": "code",
   "execution_count": 1,
   "id": "ff1bbf3f-ae78-4525-a000-10a4b87623e6",
   "metadata": {},
   "outputs": [
    {
     "ename": "NameError",
     "evalue": "name 'numbers' is not defined",
     "output_type": "error",
     "traceback": [
      "\u001b[1;31m---------------------------------------------------------------------------\u001b[0m",
      "\u001b[1;31mNameError\u001b[0m                                 Traceback (most recent call last)",
      "Cell \u001b[1;32mIn[1], line 10\u001b[0m\n\u001b[0;32m      6\u001b[0m     numbers\u001b[38;5;241m.\u001b[39mremove(largest)\n\u001b[0;32m      8\u001b[0m \u001b[38;5;66;03m#Bước 2: Cho chạy hàm remove_largest_number () với tham số truyền vào sẽ là mảng số cho sẵn numbers\u001b[39;00m\n\u001b[1;32m---> 10\u001b[0m remove_largest_number(\u001b[43mnumbers\u001b[49m)\n\u001b[0;32m     12\u001b[0m \u001b[38;5;66;03m# Bước 3: In ra mảng numbers sau khi đã được loại bỏ phần tử lớn nhất\u001b[39;00m\n\u001b[0;32m     14\u001b[0m \u001b[38;5;28mprint\u001b[39m(numbers)\n",
      "\u001b[1;31mNameError\u001b[0m: name 'numbers' is not defined"
     ]
    }
   ],
   "source": [
    "def remove_largest_number(numbers):\n",
    "    largest = 0\n",
    "    for number in numbers:\n",
    "        if number > largest:\n",
    "            largest = number\n",
    "    numbers.remove(largest)\n",
    "\n",
    "#Bước 2: Cho chạy hàm remove_largest_number () với tham số truyền vào sẽ là mảng số cho sẵn numbers\n",
    "\n",
    "remove_largest_number(numbers)\n",
    "\n",
    "# Bước 3: In ra mảng numbers sau khi đã được loại bỏ phần tử lớn nhất\n",
    "\n",
    "print(numbers)\n"
   ]
  },
  {
   "cell_type": "code",
   "execution_count": 2,
   "id": "a7f21088-c21f-4dc9-bb0b-8d23c81abc7f",
   "metadata": {},
   "outputs": [
    {
     "name": "stdout",
     "output_type": "stream",
     "text": [
      "[1, 2, 22, 45, 33, 3]\n"
     ]
    }
   ],
   "source": [
    "numbers = [1, 2, 66, 22, 45, 33, 3]\n",
    "\n",
    "def remove_largest_number(numbers):\n",
    "    largest = 0\n",
    "    for number in numbers:\n",
    "        if number > largest:\n",
    "            largest = number\n",
    "    numbers.remove(largest)\n",
    "\n",
    "\n",
    "remove_largest_number(numbers)\n",
    "print(numbers)"
   ]
  }
 ],
 "metadata": {
  "kernelspec": {
   "display_name": "Python 3 (ipykernel)",
   "language": "python",
   "name": "python3"
  },
  "language_info": {
   "codemirror_mode": {
    "name": "ipython",
    "version": 3
   },
   "file_extension": ".py",
   "mimetype": "text/x-python",
   "name": "python",
   "nbconvert_exporter": "python",
   "pygments_lexer": "ipython3",
   "version": "3.11.4"
  }
 },
 "nbformat": 4,
 "nbformat_minor": 5
}
