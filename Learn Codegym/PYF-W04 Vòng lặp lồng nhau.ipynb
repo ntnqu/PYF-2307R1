{
 "cells": [
  {
   "cell_type": "markdown",
   "id": "6e280632-8c58-4d6e-9e48-890a282971b6",
   "metadata": {},
   "source": [
    "Vòng lặp lồng nhau là một vòng lặp xảy ra trong một vòng lặp khác, có cấu trúc tương tự như các câu lệnh if lồng vào nhau.\n",
    "\n",
    "Cú pháp\n",
    "\n",
    "for [first iterating variable] in [outer loop]: \n",
    "    [do something]\n",
    "    for [second iterating variable] in [nested loop]: \n",
    "        [do something]\n",
    "Chương trình khi chạy sẽ bắt đầu từ vòng lặp bên ngoài, thực hiện lần lặp đầu tiên. Lần lặp đầu tiên này sẽ kích hoạt vòng lặp nằm bên trong nó, vòng lặp này sẽ chạy cho đến khi hoàn thành. Sau đó chương trình sẽ quay lại vòng lặp phía ngoài cùng, hoàn thành lần lặp thứ 2 và kích hoạt lại lần nữa vòng lặp bên trong. Chương trình cứ lặp đi lặp lại thao tác này cho đến khi trình tự hoàn tất hoặc có câu lệnh ngắt trình tự này"
   ]
  },
  {
   "cell_type": "code",
   "execution_count": 1,
   "id": "e51bb24e-7720-4820-a549-5596d3b85c29",
   "metadata": {},
   "outputs": [
    {
     "name": "stdout",
     "output_type": "stream",
     "text": [
      "1\n",
      "a\n",
      "b\n",
      "c\n",
      "2\n",
      "a\n",
      "b\n",
      "c\n",
      "3\n",
      "a\n",
      "b\n",
      "c\n"
     ]
    }
   ],
   "source": [
    "num_list = [1, 2, 3]\n",
    "alpha_list = ['a', 'b', 'c']\n",
    "\n",
    "for number in num_list:\n",
    "    print(number)\n",
    "    for letter in alpha_list:\n",
    "       print(letter)"
   ]
  },
  {
   "cell_type": "markdown",
   "id": "ba9db957-9207-4c67-9a84-d62d312e7368",
   "metadata": {},
   "source": [
    "Chương trình sẽ hoàn thành lần lặp đầu tiên của vòng lặp bên ngoài và in ra 1, sau đó kích hoạt vòng lặp bên trong in ra a,b,c . Khi vòng lặp bên trong hoàn thành, sẽ quay lại vòng lặp bên ngoài in ra 2, sau đó lại kích hoạt in ra vòng lặp a,b,c , cứ tiếp tục in ra kết quả cho đến khi kết thúc vòng lặp \r\n",
    "\r\n",
    "Ví dụ: In ra từng phần tử trong mảng lồng nhau"
   ]
  },
  {
   "cell_type": "code",
   "execution_count": 2,
   "id": "e73fcc52-dd6a-48f8-a64f-4024ecd54dd8",
   "metadata": {},
   "outputs": [
    {
     "name": "stdout",
     "output_type": "stream",
     "text": [
      "hammerhead\n",
      "great white\n",
      "dogfish\n",
      "0\n",
      "1\n",
      "2\n",
      "9.9\n",
      "8.8\n",
      "7.7\n"
     ]
    }
   ],
   "source": [
    "list_of_lists = [['hammerhead', 'great white', 'dogfish'], [0, 1, 2], [9.9, 8.8, 7.7]]\n",
    "\n",
    "for list in list_of_lists:\n",
    "    for item in list:\n",
    "        print(item)"
   ]
  },
  {
   "cell_type": "markdown",
   "id": "3e292592-9cc7-4f55-afa8-da6623499027",
   "metadata": {},
   "source": [
    "Khi sử dụng vòng lặp for lồng nhau, ta có thể in ra từng phần tử riêng lẻ trong mảng"
   ]
  },
  {
   "cell_type": "code",
   "execution_count": null,
   "id": "b70ba86f-4cd7-4e37-9ce8-2ab3aa3f4859",
   "metadata": {},
   "outputs": [],
   "source": []
  },
  {
   "cell_type": "code",
   "execution_count": null,
   "id": "7548989b-9e05-4add-81c2-39b387d9e23b",
   "metadata": {},
   "outputs": [],
   "source": []
  },
  {
   "cell_type": "code",
   "execution_count": null,
   "id": "24a30ec1-ee70-4c5f-9e6f-05914b229d0c",
   "metadata": {},
   "outputs": [],
   "source": []
  }
 ],
 "metadata": {
  "kernelspec": {
   "display_name": "Python 3 (ipykernel)",
   "language": "python",
   "name": "python3"
  },
  "language_info": {
   "codemirror_mode": {
    "name": "ipython",
    "version": 3
   },
   "file_extension": ".py",
   "mimetype": "text/x-python",
   "name": "python",
   "nbconvert_exporter": "python",
   "pygments_lexer": "ipython3",
   "version": "3.11.4"
  }
 },
 "nbformat": 4,
 "nbformat_minor": 5
}
