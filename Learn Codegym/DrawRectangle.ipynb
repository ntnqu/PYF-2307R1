{
 "cells": [
  {
   "cell_type": "code",
   "execution_count": 1,
   "id": "bb91edef-3ce8-49c1-8ad9-9b5f4f1750ef",
   "metadata": {},
   "outputs": [],
   "source": [
    "import turtle\n",
    "t = turtle.Turtle()\n",
    "\n",
    "m = 100;\n",
    "n = 150;\n",
    " \n",
    "# vẽ cạnh đầu tiên\n",
    "t.forward(m) # đi thẳng với m đơn vị\n",
    "t.left(90)   # quay một góc 90 độ\n",
    " \n",
    "# vẽ cạnh thứ hai\n",
    "t.forward(n) # đi thẳng với n đơn vị\n",
    "t.left(90)   # quay một góc 90 độ\n",
    " \n",
    "# vẽ cạnh thứ ba\n",
    "t.forward(m) \n",
    "t.left(90)   \n",
    " \n",
    "# vẽ cạnh thứ tư\n",
    "t.forward(n) \n",
    "t.left(90)   \n",
    "\n",
    "turtle.done()"
   ]
  }
 ],
 "metadata": {
  "kernelspec": {
   "display_name": "Python 3 (ipykernel)",
   "language": "python",
   "name": "python3"
  },
  "language_info": {
   "codemirror_mode": {
    "name": "ipython",
    "version": 3
   },
   "file_extension": ".py",
   "mimetype": "text/x-python",
   "name": "python",
   "nbconvert_exporter": "python",
   "pygments_lexer": "ipython3",
   "version": "3.11.4"
  }
 },
 "nbformat": 4,
 "nbformat_minor": 5
}
