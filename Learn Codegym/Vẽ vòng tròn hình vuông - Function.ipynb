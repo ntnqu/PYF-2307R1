{
 "cells": [
  {
   "cell_type": "markdown",
   "id": "ada4804e-f6bf-4b93-9726-e02c7413bec3",
   "metadata": {},
   "source": [
    "# Mục tiêu\r\n",
    "Luyện tập khai báo và sử dụng hàm với tham số truyền vào là tham trị.\r\n",
    "\r\n",
    "Mô tả bài toán\r\n",
    "\r\n",
    "Viết chương trình vẽ hình tròn bằng các hình vuông xoay quanh tâm điểm.\r\n",
    "\r\n",
    "Hướng dẫn th\n",
    "\n",
    "Bước 1: Cài thư viện turtle\r\n",
    "\r\n",
    "import turtle\r\n",
    "\r\n",
    "Bước 2: Khởi tạo biến square\r\n",
    "\r\n",
    "square = turtle.Turtle()\r\n",
    "\r\n",
    "Bước 3: Khai báo hàm vẽ hình vuông. \r\n",
    "\r\n",
    "Dùng forward(width) để vẽ cạnh góc vuông, giá trị width hiện tại sẽ là 100\r\n",
    "Dùng right(angle) để chuyển hướng bút vẽ, vì hình vuông có góc 90 nên angle ở đây sẽ mang giá trị là 90\r\n",
    "Dùng for…in range(step) để tạo vòng lặp vẽ hình vuông, vì góc vẽ cuối cùng sẽ thay đổi giá trị \n",
    "= 90 +angle để tạo hiệu ứng vòng tròn của hình vuông nên vòng lặp chỉ cần chạy 3 lần => step sẽ có \n",
    "giá trị = 3\r\n",
    "Kết thúc vòng lặp, vẽ cạnh cuối cùng của hình vuông và chuyển hướng bút vẽ một góc angleực hiện"
   ]
  },
  {
   "cell_type": "markdown",
   "id": "39054536-4f22-46b5-9273-6c170524fa0b",
   "metadata": {},
   "source": [
    "def draw_square(angle):\n",
    "    \tfor i in range(3):\n",
    "        square.forward(100)\n",
    "        square.right(90)    \n",
    "\n",
    "square.forward(100)\n",
    "square.right(90 + angle)"
   ]
  },
  {
   "cell_type": "markdown",
   "id": "88e915f5-f307-4dd9-9b02-5035b21081b9",
   "metadata": {},
   "source": [
    "Bước 4: Bắt đầu vẽ hình vuông\r\n",
    "\r\n",
    "Khai báo biến step mang giá trị là số lần vẽ hình vuông\r\n",
    "Khai báo biến angle mang giá trị góc giữa hình vuông vẽ hiện tại và hình vuông tiếp theo. Vì hình tròn có góc là 360° => angle =. 60 / step\r\n",
    "Dùng for…in range(step) khởi tạo vòng lặp vẽ các hình vuông, mỗi vòng lặp sẽ gọi hàm vẽ hình"
   ]
  },
  {
   "cell_type": "code",
   "execution_count": null,
   "id": "0feb4314-f2ec-4ac1-9dee-7209ca5b59b2",
   "metadata": {},
   "outputs": [],
   "source": [
    "step = 36\n",
    "angle = 360 / step\n",
    "for i in range(step):\n",
    "    draw_square(angle)\n",
    "    \n",
    "# Bước 5: Kết thúc vẽ hình\n",
    "\n",
    "turtle.done()"
   ]
  },
  {
   "cell_type": "code",
   "execution_count": 3,
   "id": "b1ad17c9-7dbd-4438-b333-28ce22c9b120",
   "metadata": {},
   "outputs": [],
   "source": [
    "# Demo\n",
    "\n",
    "import turtle\n",
    "square = turtle.Turtle()\n",
    "\n",
    "def draw_square(angle):\n",
    "    for i in range(3):\n",
    "        square.forward(100)\n",
    "        square.right(90)    \n",
    "\n",
    "    square.forward(100)\n",
    "    square.right(90 + angle)\n",
    "    \n",
    "step = 36\n",
    "angle = 360 / step\n",
    "for i in range(step):\n",
    "    draw_square(angle) \n",
    "\n",
    "turtle.done()"
   ]
  }
 ],
 "metadata": {
  "kernelspec": {
   "display_name": "Python 3 (ipykernel)",
   "language": "python",
   "name": "python3"
  },
  "language_info": {
   "codemirror_mode": {
    "name": "ipython",
    "version": 3
   },
   "file_extension": ".py",
   "mimetype": "text/x-python",
   "name": "python",
   "nbconvert_exporter": "python",
   "pygments_lexer": "ipython3",
   "version": "3.11.4"
  }
 },
 "nbformat": 4,
 "nbformat_minor": 5
}
