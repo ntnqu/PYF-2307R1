{
 "cells": [
  {
   "cell_type": "markdown",
   "id": "d00ca46c-1793-4c50-9f4f-cdf7c3a26d77",
   "metadata": {},
   "source": [
    "# Lệnh break\r\n",
    "\r\n",
    "Lệnh break trong Python được sử dụng để điều khiển thoát khỏi vòng lặp khi thỏa mãn một điều kiện bên ngoài nào đó. Lệnh break được đặt ở trong vòng lặp\r\n",
    "\r\n",
    "Cú pháp\r\n",
    "\r\n",
    "break\r\n",
    "\r\n",
    "Ví dụ: Dùng vòng lặp while để kiểm tra trong chuỗi có kí tự ‘a’ hay không?"
   ]
  },
  {
   "cell_type": "code",
   "execution_count": 2,
   "id": "22808401-8458-4580-bea4-050376228f60",
   "metadata": {},
   "outputs": [
    {
     "name": "stdin",
     "output_type": "stream",
     "text": [
      "Nhập vào một chuỗi:  Hôm nay tôi đi học\n"
     ]
    },
    {
     "name": "stdout",
     "output_type": "stream",
     "text": [
      "Chuỗi nhập vào có chứa kí tự a\n"
     ]
    }
   ],
   "source": [
    "text = input(\"Nhập vào một chuỗi: \")\n",
    "index = 0\n",
    "answer = False\n",
    "while index < len(text):\n",
    "    if (text[index] == 'a' or text[index] == 'A'):\n",
    "        answer = True\n",
    "        break\n",
    "    index += 1\n",
    "if answer:\n",
    "    print('Chuỗi nhập vào có chứa kí tự a')\n",
    "else:\n",
    "    print('Chuỗi không chứa kí tự a')"
   ]
  },
  {
   "cell_type": "markdown",
   "id": "37a21a77-b03f-49ea-829b-db1725033920",
   "metadata": {},
   "source": [
    "Nhận xét: Ta thấy rằng, yêu cầu đề bài chỉ kiểm tra sự tồn tại của a hoặc A trong chuỗi, nên khi phát hiện thỏa mãn điều kiện là tìm thấy a hoặc A, thì break ra khỏi vòng lặp, không cần kiểm tra các kí tự khác sau đó của chuỗi nữa. Trong trường hợp này, break làm cho chương trình xử lý nhanh hơn, tiết kiệm tài nguyên, đặc biệt trong các bài toán xử lý tính toán phức tạp, số vòng lặp lớn."
   ]
  },
  {
   "cell_type": "markdown",
   "id": "2168550f-ede4-4452-bde2-3e49512fcbaa",
   "metadata": {},
   "source": [
    "# Lệnh continue\n",
    "\n",
    "Lệnh continue cũng là một lệnh điều khiển vòng lặp giống như break. Chỉ khác ở chỗ, continue thay vì thoát ra khỏi vòng lặp như break thì continue bỏ qua vòng lặp hiện tại và tiến hành thực thi ở bước lặp kế tiếp.\n",
    "\n",
    "Cú pháp\n",
    "\n",
    "continue\n",
    "\n",
    "Ví dụ: Chương trình in ra các số chẵn từ 1 đến 10 sử dụng continue"
   ]
  },
  {
   "cell_type": "code",
   "execution_count": 4,
   "id": "01753be3-806b-4703-a22c-7a5f53a34682",
   "metadata": {},
   "outputs": [],
   "source": [
    "count = 0\n",
    "while count < 10:\n",
    "    count += 1\n",
    "    if count % 2 == 1:\n",
    "        continue"
   ]
  },
  {
   "cell_type": "markdown",
   "id": "96cbe1ae-3e0a-4b13-a7d3-c78fed2f98dd",
   "metadata": {},
   "source": [
    "Ta thấy rằng ở ví dụ trên, khi count là các số lẻ thì thỏa mãn điều kiện if, do đó lệnh continue được thực thi, các câu lệnh sau continue được bỏ qua, không được thực thi trong bước hiện tại (nghĩa là không in ra số lẻ). Chương trình tiếp tục với bước tiếp theo của vòng lặp while."
   ]
  },
  {
   "cell_type": "code",
   "execution_count": null,
   "id": "9cc1a200-386d-4f71-8b24-af3979c938e5",
   "metadata": {},
   "outputs": [],
   "source": []
  }
 ],
 "metadata": {
  "kernelspec": {
   "display_name": "Python 3 (ipykernel)",
   "language": "python",
   "name": "python3"
  },
  "language_info": {
   "codemirror_mode": {
    "name": "ipython",
    "version": 3
   },
   "file_extension": ".py",
   "mimetype": "text/x-python",
   "name": "python",
   "nbconvert_exporter": "python",
   "pygments_lexer": "ipython3",
   "version": "3.11.4"
  }
 },
 "nbformat": 4,
 "nbformat_minor": 5
}
