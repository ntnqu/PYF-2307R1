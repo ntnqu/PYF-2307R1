{
 "cells": [
  {
   "cell_type": "markdown",
   "id": "d207eebb-58d2-48ed-818d-fbe6e4948c59",
   "metadata": {},
   "source": [
    "# Mục tiêu\r\n",
    "Luyện tập sử dụng khối lệnh if…elif…else trong lập trình.\r\n",
    "\r\n",
    "Mô tả bài toán\r\n",
    "Viết chương trình cho người dùng nhập vào kiểu dáng hình vẽ và màu sắc mong muốn. \r\n",
    "\r\n",
    "Hình dáng: vuông hoặc tròn.\r\n",
    "\r\n",
    "Màu sắc: Vàng, đỏ và xanh dương.\r\n",
    "\r\n",
    "Sau đó in ra hình vẽ tương ứng\r\n",
    "\r\n",
    "Hướng dẫn thực hiện\r\n",
    "Bước 1: import thư viện turtle\r\n",
    "\r\n",
    "import turtle\r\n",
    "\r\n",
    "Bước 2: Khai báo biến shapeInput bằng giá trị người dùng nhập vào:\r\n",
    "\r\n",
    "shapeInput = raw_input('Circle and square, what is your favorite shape?:')\r\n",
    "Bước 3: Kiểm tra biến shapeInput có thuộc hình dáng mặc định đã cho hay không, nếu không thì in ra thông báo cho người dùng.\r\n",
    "\r\n",
    "if shapeInput == 'circle' or shapeInput == 'square':\r\n",
    "\t...\r\n",
    "else:\r\n",
    "\tprint(\"Sorry, I don't have this shape :(\")\r\n",
    "Bước 4: Nếu biến shapeInput thoã điều kiện, tiếp tục khai báo biến colorInput bằng giá trị người dùng nhập vào. \r\n",
    "\r\n",
    "colorInput = raw_input('What color will it be?, yellow, red or blue? :')\r\n",
    "Bước 5: Kiểm tra biến “colorInput” có thuộc hình dáng mặc định đã cho hay không, nếu không thì in ra thông báo cho người dùng.\r\n",
    "\r\n",
    "if colorInput == 'yellow' or colorInput == 'red' or colorInput == 'blue': \r\n",
    "\t…\r\n",
    "else:\r\n",
    "\tprint(\"Sorry, I don't have this color :(\")\r\n",
    "Bước 6: : Nếu biến “colorInput” thoã điều kiện, ta sẽ bắt đầu thực hiện việc in hình vẽ dựa theo các biến mà người dùng vừa nhập vào. Trước tiên sẽ setup cửa sổ terminal\r\n",
    "\r\n",
    "\twn = turtle.Screen()\r\n",
    "\twn.bgcolor(\"black\")\r\n",
    "\twn.title(\"Your shape\")\r\n",
    "Bước 7: Setup hình dạng của khối theo giá trị “shapeInput” và “colorInput” và xuất ra kết quả\r\n",
    "\r\n",
    "        displayShape = turtle.Turtle()\r\n",
    "        displayShape.shape(shapeInput)\r\n",
    "        displayShape.color(colorInput)\r\n",
    "        turtle.done()"
   ]
  },
  {
   "cell_type": "code",
   "execution_count": 2,
   "id": "3cdd762c-d24c-41f9-803b-fa9a88a98924",
   "metadata": {},
   "outputs": [
    {
     "name": "stdin",
     "output_type": "stream",
     "text": [
      "Circle and square, what is your favorite shape?: s\n"
     ]
    },
    {
     "name": "stdout",
     "output_type": "stream",
     "text": [
      "Sorry, I don't have this shape :(\n"
     ]
    }
   ],
   "source": [
    "import turtle\n",
    "\n",
    "shapeInput = input('Circle and square, what is your favorite shape?:')\n",
    "\n",
    "if shapeInput == 'circle' or shapeInput == 'square':\n",
    "    colorInput = input('What color will it be?, yellow, red or blue? :')\n",
    "    \n",
    "    if colorInput == 'yellow' or colorInput == 'red' or colorInput == 'blue':\n",
    "        wn = turtle.Screen()\n",
    "        wn.bgcolor(\"black\")\n",
    "        wn.title(\"Your shape\")\n",
    "\n",
    "        displayShape = turtle.Turtle()\n",
    "        displayShape.shape(shapeInput)\n",
    "        displayShape.color(colorInput)\n",
    "        \n",
    "        turtle.done()\n",
    "        \n",
    "    else:\n",
    "        print(\"Sorry, I don't have this color :(\")\n",
    "else:\n",
    "      print(\"Sorry, I don't have this shape :(\")"
   ]
  }
 ],
 "metadata": {
  "kernelspec": {
   "display_name": "Python 3 (ipykernel)",
   "language": "python",
   "name": "python3"
  },
  "language_info": {
   "codemirror_mode": {
    "name": "ipython",
    "version": 3
   },
   "file_extension": ".py",
   "mimetype": "text/x-python",
   "name": "python",
   "nbconvert_exporter": "python",
   "pygments_lexer": "ipython3",
   "version": "3.11.4"
  }
 },
 "nbformat": 4,
 "nbformat_minor": 5
}
