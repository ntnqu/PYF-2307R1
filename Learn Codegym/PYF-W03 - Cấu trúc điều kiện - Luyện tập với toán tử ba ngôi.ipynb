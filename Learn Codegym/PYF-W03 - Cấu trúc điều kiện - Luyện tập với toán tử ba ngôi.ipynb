{
 "cells": [
  {
   "cell_type": "markdown",
   "id": "eca1369f-0247-43c1-aef0-84a9ddad30cc",
   "metadata": {},
   "source": [
    "# Mục tiêu\r\n",
    "\r\n",
    "Luyện tập sử dụng toán tử điều kiện ba ngôi (Tenary Operator)\r\n",
    "\r\n",
    "Mô tả\r\n",
    "Kiểm tra số nhập vào là số chẳn hoặc lẻ, sử dụng toán tử điều kiện ba ngôi\r\n",
    "\r\n",
    "Hướng dẫn\r\n",
    "Nhập vào 1 số nguyên bất kì. Kiểm tra số nguyên nhập vào có chia hết cho 2 hay không?\r\n",
    "\r\n",
    "Nếu chia hết cho 2: số chẵn\r\n",
    "Nếu không chia hết cho 2 có dư : số lẻ"
   ]
  },
  {
   "cell_type": "code",
   "execution_count": 1,
   "id": "3e26aaf1-342a-479c-bbcf-33e5bdac9988",
   "metadata": {},
   "outputs": [
    {
     "name": "stdin",
     "output_type": "stream",
     "text": [
      "Plesase enter a number:  56\n"
     ]
    },
    {
     "name": "stdout",
     "output_type": "stream",
     "text": [
      "Even\n"
     ]
    }
   ],
   "source": [
    "num_check = int(input(\"Plesase enter a number: \"))\n",
    "\n",
    "# USING TERNARY OPERATOR\n",
    "msg = \"Even\" if num_check % 2 == 0 else \"Odd\"\n",
    "print(msg)"
   ]
  },
  {
   "cell_type": "code",
   "execution_count": 3,
   "id": "304ecd58-d90f-44a3-be0e-d9e5f13dbc07",
   "metadata": {},
   "outputs": [
    {
     "name": "stdin",
     "output_type": "stream",
     "text": [
      "Plesase enter a number:  45\n"
     ]
    },
    {
     "name": "stdout",
     "output_type": "stream",
     "text": [
      "Odd\n"
     ]
    }
   ],
   "source": [
    "num_check = int(input(\"Plesase enter a number: \"))\n",
    "\n",
    "# USING USUAL IF-ELSE\n",
    "msg = \"\"\n",
    "if(num_check % 2  == 0):\n",
    "    msg = \"Even\"\n",
    "\n",
    "else:\n",
    "    msg = \"Odd\"\n",
    "    \n",
    "print(msg)"
   ]
  }
 ],
 "metadata": {
  "kernelspec": {
   "display_name": "Python 3 (ipykernel)",
   "language": "python",
   "name": "python3"
  },
  "language_info": {
   "codemirror_mode": {
    "name": "ipython",
    "version": 3
   },
   "file_extension": ".py",
   "mimetype": "text/x-python",
   "name": "python",
   "nbconvert_exporter": "python",
   "pygments_lexer": "ipython3",
   "version": "3.11.4"
  }
 },
 "nbformat": 4,
 "nbformat_minor": 5
}
