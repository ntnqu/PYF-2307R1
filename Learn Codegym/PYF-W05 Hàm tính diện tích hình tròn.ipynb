{
 "cells": [
  {
   "cell_type": "code",
   "execution_count": 1,
   "id": "daddd7ce-d614-4383-b1d5-f7e51f837f67",
   "metadata": {},
   "outputs": [
    {
     "name": "stdin",
     "output_type": "stream",
     "text": [
      "Nhập vào bán kính:  10\n"
     ]
    },
    {
     "name": "stdout",
     "output_type": "stream",
     "text": [
      "Diện tích của hình tròn có bán kính = 10.0 là: 314.1592653589793\n"
     ]
    }
   ],
   "source": [
    "'''Mô tả bài toán\n",
    "Xây dựng hàm vẽ hình tròn với tham số là bán kính. \n",
    "Xây dựng tiếp hàm tính diện tích hình tròn với tham số là bán kính hình tròn. \n",
    "Sau khi các hàm được xây dựng xong, tiến hành gọi các hàm với giá trị bán kính được nhập bởi người dùng.\n",
    "\n",
    "Hướng dẫn thực hiện\n",
    "\n",
    "Bước 1: Import thư viện turtle, math'''\n",
    "\n",
    "import turtle\n",
    "import math\n",
    "\n",
    "# Bước 2: Xây dựng hàm vẽ hình tròn\n",
    "\n",
    "def draw(r):\n",
    "    \"\"\"Hàm vẽ hình tròn với bán kính r\"\"\"\n",
    "    t = turtle.Turtle()\n",
    "    t.hideturtle()\n",
    "    t.pencolor('red')\n",
    "    t.circle(r)\n",
    "    turtle.done\n",
    "    \n",
    "# Bước 3: Xây dựng hàm tính diện tích\n",
    "\n",
    "def area(r):\n",
    "    \"\"\"Hàm tính diện tích hình tròn với bán kính r\"\"\"\n",
    "    return math.pi * r * r\n",
    "\n",
    "# Bước 4: Sử dụng hàm\n",
    "\n",
    "r = float(input(\"Nhập vào bán kính: \"))\n",
    "draw(r)\n",
    "s = area(r)\n",
    "print(\"Diện tích của hình tròn có bán kính = {} là: {}\".format(r, s))"
   ]
  }
 ],
 "metadata": {
  "kernelspec": {
   "display_name": "Python 3 (ipykernel)",
   "language": "python",
   "name": "python3"
  },
  "language_info": {
   "codemirror_mode": {
    "name": "ipython",
    "version": 3
   },
   "file_extension": ".py",
   "mimetype": "text/x-python",
   "name": "python",
   "nbconvert_exporter": "python",
   "pygments_lexer": "ipython3",
   "version": "3.11.4"
  }
 },
 "nbformat": 4,
 "nbformat_minor": 5
}
