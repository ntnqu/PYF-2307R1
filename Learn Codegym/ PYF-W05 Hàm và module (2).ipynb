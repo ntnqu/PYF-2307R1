{
 "cells": [
  {
   "cell_type": "markdown",
   "id": "f4d6cf68-c467-49a3-99d6-13fb8286463d",
   "metadata": {},
   "source": [
    "# Truyền tham chiếu là gì\n",
    "\n",
    "Theo mặc định, Python truyền tham số cho một hàm dưới dạng tham chiếu.\n",
    "Trong kỹ thuật này, vị trí bộ nhớ của biến được gửi đến hàm.\n",
    "Trong trường hợp tham số là một đối tượng kiểu Mutable,\n",
    "hàm có thể thay đổi giá trị ban đầu của biến bằng cách gán một giá trị mới, \n",
    "nhưng định danh của tham số không thay đổi. Chúng ta  gọi đó là truyền tham chiếu.\n",
    "\n",
    "Lưu ý: Một kiểu dữ liệu phải là Mutable mới có thể thay đổi dữ liệu gốc.\n",
    "\n",
    "Ví dụ :"
   ]
  },
  {
   "cell_type": "code",
   "execution_count": 16,
   "id": "2958a027-ea44-49de-a7ca-4fae8dbbcdc6",
   "metadata": {},
   "outputs": [
    {
     "name": "stdout",
     "output_type": "stream",
     "text": [
      "id of myList 1864070652544\n",
      "id of myTempList 1864070652544\n",
      "['Orange', 'Apple', 'Grapes', 'Mango']\n",
      "['Orange', 'Apple', 'Grapes', 'Mango']\n",
      "<class 'list'>\n"
     ]
    }
   ],
   "source": [
    "\n",
    "# Một danh sách được tạo sẵn\n",
    "myList = [\"Orange\", \"Apple\",\"Grapes\"]\n",
    "\n",
    "# Hàm sẽ thêm 1 phần tử vào danh sách\n",
    "\n",
    "def addItem(myTempList):\n",
    "    print('id of myTempList', id(myTempList))\n",
    "    myTempList += [\"Mango\"]\n",
    "    print(myTempList)\n",
    "    \n",
    "#In ra kết quả\n",
    "\n",
    "print('id of myList', id(myList))\n",
    "addItem(myList)\n",
    "print(myList)\n",
    "print(type(myList))\n"
   ]
  },
  {
   "cell_type": "markdown",
   "id": "5e19ef25-6f80-46b0-8151-c34700139224",
   "metadata": {},
   "source": [
    "Kết quả cho thấy rằng myList gốc và myTempList giống nhau. \n",
    "Vì cả hai cùng lưu đến cùng một vị trí bộ nhớ. \n",
    "Đây là kết quả của việc truyền tham chiếu vì nó thay đổi dữ liệu ban đầu.\n"
   ]
  },
  {
   "cell_type": "markdown",
   "id": "937a005a-157a-44d1-b62b-70a9510e2ade",
   "metadata": {},
   "source": [
    "# Truyền tham trị là gì\n",
    "\n",
    "Trong trường hợp tham số là một đối tượng kiểu Immutable, hàm không thể thay đổi giá trị của tham số. \n",
    "Do đó, Python tạo ra một biến số mới với một định danh mới để nhận giá trị được gán. \n",
    "Kĩ thuật này sẽ không thay đổi giá trị của tham số truyền vào hàm.\n",
    "Ví dụ:\n",
    "\n"
   ]
  },
  {
   "cell_type": "code",
   "execution_count": 9,
   "id": "c2c6ebed-7ef1-4b66-b4b0-525e684caf93",
   "metadata": {},
   "outputs": [
    {
     "name": "stdout",
     "output_type": "stream",
     "text": [
      "myInt 45\n",
      "id of myInt 140731519396008\n",
      "[addInt] myTempInt= 45\n",
      "[addInt] id of myTempInt= 140731519396008\n",
      "[addInt] myTempInt after add= 50\n",
      "[addInt] id of myTempInt after add= 140731519396168\n",
      "myInt 45\n",
      "id of myInt 140731519396008\n",
      "<class 'int'>\n"
     ]
    }
   ],
   "source": [
    "def addInt(myTempInt):\n",
    "    print(\"[addInt] myTempInt=\", myTempInt)\n",
    "    print(\"[addInt] id of myTempInt=\", id(myTempInt))\n",
    "    myTempInt += 5\n",
    "    print(\"[addInt] myTempInt after add=\", myTempInt)\n",
    "    print(\"[addInt] id of myTempInt after add=\", id(myTempInt))\n",
    "\n",
    "myInt = 45\n",
    "print(\"myInt\", myInt)\n",
    "print(\"id of myInt\", id(myInt))\n",
    "addInt(myInt)\n",
    "print(\"myInt\", myInt)\n",
    "print(\"id of myInt\", id(myInt))\n",
    "print(type(myInt))"
   ]
  },
  {
   "cell_type": "markdown",
   "id": "4ab1abd0-8e29-490c-832b-b9cbd1db0f4d",
   "metadata": {},
   "source": [
    "\n",
    "Ở ví dụ khai báo một số nguyên, ta sẽ thấy có sự thay đổi id của giá trị trước và sau khi gán giá trị mới ở bên trong hàm. \n",
    "Tuy nhiên id giá trị ban đầu (ở bên ngoài hàm) vẫn giữ nguyên không thay đổi. \n",
    "\n",
    "Ta có thể thấy khi thay đổi giá trị thì hàm đã tạo ra 1 id mới, \n",
    "lưu giá trị mới ở một địa chỉ mới khác với địa chỉ lưu giá trị ban đầu \n",
    "\n",
    "Ta cũng biết đây là truyền tham trị khi kiểm tra kiểu của đối tượng, int (Imutable Object)\n",
    "\n",
    "Sự khác nhau của truyền tham chiếu và tham trị\n",
    "\n",
    " Tham chiếu\t Tham trị \n",
    "Thay đổi trong biến cũng ảnh hưởng đến biến toàn cục ngoài hàm\t\n",
    "Cho phép thực hiện thay đổi các giá trị của biến bằng cách sử dụng các lệnh gọi hàm\t\n",
    "Giá trị ban đầu thay đổi\n",
    "\n",
    "Tham trị\n",
    "Thay đổi chỉ ảnh hưởng trên bản sao của biến, không ảnh hưởng đến biến ngoài hàm\n",
    "Không cho phép thực hiện bất kì sự thay đổi  trên giá trị các biến\n",
    "Giá trị ban đầu không thay đổi\n",
    "\n",
    "\n",
    "Python sẽ sử dụng hàm phụ thuộc vào đối số được truyền vào :\n",
    "\n",
    "Nếu đối tượng không thay đổi khi được truyền vào thì dùng tham trị\n",
    "Nếu đối tượng thay đổi khi được truyền vào thì dùng tham chiếu.\n",
    "\"\"\"\n"
   ]
  },
  {
   "cell_type": "markdown",
   "id": "d37102a6-bf65-455a-8396-c13e7a5fe4a3",
   "metadata": {},
   "source": [
    "# Code convention là gì?\r\n",
    "\r\n",
    "Code convention (hay Code standards) hiểu đơn giản là một tập các quy tắc chuẩn khi lập trình một ngôn ngữ cụ thể. Những quy tắc này bao gồm: cách tổ chức file, thụt lề, hướng dẫn comment, khai báo biến, quy tắc viết câu lệnh, khoảng trắng, quy tắc đặt tên, nguyên tắc lập trình phần mền, …\r\n",
    "\r\n",
    "Khi một lập trình viên tham gia một dự án lớn bắt buộc phải có một chuẩn code rõ ràng giúp team có thể đọc và sửa code lẫn nhau. Các quy ước có thể được cụ thể hóa trong một bộ tài liệu mà nhóm hoặc công ty phải tuân theo.\r\n",
    "\r\n",
    "Các quy tắc lập trình giúp nâng cao hiệu suất làm việc cá nhân từ đó giúp nâng cao hiệu suất làm việc của tập thể. \r\n",
    "\r\n",
    "Code convention đối với hàm\r\n",
    "\r\n",
    "Quy tắc đặt tên của hàm: Sử dụng chữ cái thường, không sử dụng chữ in hoa. Phân tách các từ bởi dấu gạch dưới.\r\n",
    "Ví dụ: function, my_function\r\n",
    "\r\n",
    "Khi đặt tên ta nên đặt tên ngắn gọn, dễ hiểu, đúng với mục đích sử dụng hàm\r\n",
    "\r\n",
    "Blank lines (Dòng trống): Khoảng trắng hoặc dòng trống có thể cải thiện đáng kể khả năng đọc code của bạn. Code mà chụm lại với nhau có thể rất khó đọc. Tương tự, quá nhiều dòng trống trong code của bạn làm cho nó trông rất thưa thớt và người đọc có thể cần phải cuộn màn hình nhiều hơn cần thiết.\r\n",
    "Các hàm liên tiếp nhau thì nên cách giữa chúng bằng một dòng trống \r\n",
    "\r\n",
    "Ví dụ: "
   ]
  },
  {
   "cell_type": "code",
   "execution_count": 17,
   "id": "d1d94ce3-d837-471e-bf9a-fdd262d73462",
   "metadata": {},
   "outputs": [],
   "source": [
    "def first_method(self):\n",
    "    return None\n",
    "    \n",
    "def second_method(self):\n",
    "    return None"
   ]
  },
  {
   "cell_type": "markdown",
   "id": "354cc30c-fb41-4b9a-8250-e648639b0923",
   "metadata": {},
   "source": [
    "# Độ dài một dòng và thụt lề: \n",
    "giới hạn tối đa là 79 kí tự, khi vượt quá số kí tự chúng ta nên ngắt dòng và bắt đầu dòng kế tiếp thụt vào 4 khoảng trắng liên tiếp\r\n",
    "Ví dụ:"
   ]
  },
  {
   "cell_type": "code",
   "execution_count": 18,
   "id": "159e9197-a0ab-4498-81eb-43fdab4ac9cb",
   "metadata": {},
   "outputs": [],
   "source": [
    "def function(arg_one, arg_two,\n",
    "             \targ_three, arg_four):\n",
    "    \treturn arg_one"
   ]
  },
  {
   "cell_type": "markdown",
   "id": "c852b9e3-44b7-4c6c-99c0-d13c11f552d5",
   "metadata": {},
   "source": [
    "# Comment (bình luận): \n",
    "Bạn nên viết bình luận cho các dòng code của bạn trước khi viết chúng. Việc đưa dẫn chứng cho bài code của bạn rất quan trọng, điều này giúp không chỉ bạn mà bất kỳ cộng sự nào của bạn có thể hiểu nó. Khi bạn hay ai đó đọc một lời bình, họ sẽ dễ dàng hiểu được đoạn code mà bạn bổ sung lời bình luận và cách mà lời bình đó hỗ trợ phần còn lại của đoạn code.\r\n",
    "Lưu ý khi viết bình luận:\r\n",
    "\r\n",
    "Giới hạn độ dài của dòng bình luận và chuỗi văn bản tối đa 72 kí tự.\r\n",
    "Sử dụng một câu hoàn chỉnh, bắt đầu với chữ viết hoa.\r\n",
    "Thụt lề của khối bình luận cùng mức với đoạn code mà nó miêu tả.\r\n",
    "Bắt đầu mỗi dòng với kí tự #, theo sau nó là một dấu cách đơn.\r\n",
    "Tách các đoạn trong khối bình luận bằng một dòng chỉ chứa kí tự #."
   ]
  },
  {
   "cell_type": "code",
   "execution_count": 20,
   "id": "017ee24c-c91a-447b-88dd-f93ed8ea245d",
   "metadata": {},
   "outputs": [],
   "source": [
    "# Ví dụ:   \n",
    "\n",
    "def   quadratic(a, b, c, x):\n",
    "    # Tính toán nghiệm của một phương trình bậc hai bằng cách sử dụng bậc hai\n",
    "    # Công thức\n",
    "    #\n",
    "    # Luôn có hai nghiệm của phương trình bậc hai, x_1 và x_2.\n",
    "    x_1 = (- b+(b**2-4*a*c)**(1/2)) / (2*a)\n",
    "    x_2 = (- b-(b**2-4*a*c)**(1/2)) / (2*a)\n",
    "    return x_1, x_2"
   ]
  },
  {
   "cell_type": "markdown",
   "id": "ab4ecc6d-4cee-4390-b7ad-92720b9d5f47",
   "metadata": {},
   "source": [
    "# Khoảng trắng trong biểu thức, câu lệnh:\r\n",
    "Khi thực hiện gán dữ liệu mặc định cho tham số truyền vào function thì không đặt khoảng trắng bao quanh dấu ="
   ]
  },
  {
   "cell_type": "code",
   "execution_count": 21,
   "id": "d04ae706-83a9-4076-8529-6e842348a4e1",
   "metadata": {},
   "outputs": [],
   "source": [
    "# Sai:\n",
    "\n",
    "def    sum_number_v1(number1, number2  =  0):\n",
    "\ttotal  = number1 + number2\n",
    "\treturn total\n",
    "\n",
    "# Đúng:\n",
    "\n",
    "def    sum_number_v1(number1, number2=0):\n",
    "\ttotal  = number1 + number2\n",
    "\treturn total"
   ]
  },
  {
   "cell_type": "markdown",
   "id": "77d58576-d145-4814-94f2-d096311d83cd",
   "metadata": {},
   "source": [
    "Với các toán tử số học +, -, *, /, // lựa chọn bao xung quanh các toán tử bằng khoảng trắng (ở cả hai bên) hoặc không có khoảng trắng nào."
   ]
  },
  {
   "cell_type": "code",
   "execution_count": 22,
   "id": "d3100f9c-c99d-4b83-9475-172571826686",
   "metadata": {},
   "outputs": [],
   "source": [
    "# Sai:\n",
    "\n",
    "def  calulate_number_v1():\n",
    "\tnumber1 = 10\n",
    "\tnumber2 = 20\n",
    "\ttotal = number1   +number2\n",
    "\tminus = number1-  number2\n",
    "\treturn total,  minus\n",
    "\n",
    "# Đúng:\n",
    "\n",
    "def  calulate_number_v1():\n",
    "\tnumber1 = 10\n",
    "\tnumber2 = 20\n",
    "\ttotal = number1 + number2\n",
    "\tminus = number1-number2\n",
    "\treturn total,  minus"
   ]
  }
 ],
 "metadata": {
  "kernelspec": {
   "display_name": "Python 3 (ipykernel)",
   "language": "python",
   "name": "python3"
  },
  "language_info": {
   "codemirror_mode": {
    "name": "ipython",
    "version": 3
   },
   "file_extension": ".py",
   "mimetype": "text/x-python",
   "name": "python",
   "nbconvert_exporter": "python",
   "pygments_lexer": "ipython3",
   "version": "3.11.4"
  }
 },
 "nbformat": 4,
 "nbformat_minor": 5
}
