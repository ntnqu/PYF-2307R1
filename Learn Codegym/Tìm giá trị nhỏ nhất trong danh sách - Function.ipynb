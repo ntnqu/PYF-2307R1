{
 "cells": [
  {
   "cell_type": "markdown",
   "id": "e8f6dd3b-5419-4374-9643-5d1a41374b5a",
   "metadata": {},
   "source": [
    "# Mục tiêu\r\n",
    "\r\n",
    "Luyện tập viết và sử dụng các hàm trong lập trình, ôn lại hàm if…else và  vòng lặp for…in\r\n",
    "\r\n",
    "Mô tả\r\n",
    "\r\n",
    "Viết chương trình tìm giá trị nhỏ nhất trong mảng số cho trước\r\n",
    "\r\n",
    "Hướng dẫn\r\n",
    "\r\n",
    "Bước 1: Khởi tạo hàm tìm số nhỏ nhất trong mảng, nhận tham số đầu vào sẽ là mảng các số (tạm gọi là  - numbers)\r\n",
    "\r\n",
    "Khởi tạo biến result với giá trị khởi tạo ban đầu là phần tử đầu của numbers, biến này sẽ mang giá trị của phần \n",
    "\n",
    "\n",
    "tử nhỏ nhất\r\n",
    "result = -  numbers[0]\r\n",
    "\r\n",
    "Dùng for…in để tạo vòng lặp lặp qua mảng numbers, giá trị lặp sẽ  - tạm gọi là num\r\n",
    "Qua mỗi vòng lặp sẽ sử dụng if để kiểm tra giá trị lặp num và result xem giá trị nào nhỏ hơn, nếu result > num thì gán lại giá trị mới cho result = num"
   ]
  },
  {
   "cell_type": "code",
   "execution_count": null,
   "id": "a9623bf7-d7eb-418b-97c8-dbdade67858a",
   "metadata": {},
   "outputs": [],
   "source": [
    "for num in numbers:\n",
    "        if result > num:\n",
    "            result = num"
   ]
  },
  {
   "cell_type": "markdown",
   "id": "1e668746-df2b-40e6-9997-af40b4f0bfbf",
   "metadata": {},
   "source": [
    " - Kết thúc vòng lặp thì trả về result mang giá trị là số nhỏ nhất của numbers\n",
    "\n",
    "\n",
    "   return result"
   ]
  },
  {
   "cell_type": "markdown",
   "id": "c7977dab-40db-4a54-b5b0-5d2ef2855a2f",
   "metadata": {},
   "source": [
    "Bước 2: Gọi hàm get_min_number đã viết ở bước 1 để tìm số nhỏ nhất và gán vào biến min_number, sau đó dùng hàm print() để in ra kết quả"
   ]
  },
  {
   "cell_type": "code",
   "execution_count": null,
   "id": "efcfdae8-0f13-40d6-a972-73af190bcb6a",
   "metadata": {},
   "outputs": [],
   "source": [
    "min_number = get_min_numbers(numbers)\n",
    "print(\"Min number: \", min_number)"
   ]
  },
  {
   "cell_type": "code",
   "execution_count": 3,
   "id": "b3588782-3fc8-4206-a599-1b99a913a703",
   "metadata": {},
   "outputs": [
    {
     "name": "stdout",
     "output_type": "stream",
     "text": [
      "Min number:  12\n"
     ]
    }
   ],
   "source": [
    "numbers = [80, 890, 345, 12]\n",
    "\n",
    "def get_min_numbers(numbers):\n",
    "    result = numbers[0]\n",
    "    \n",
    "    for num in numbers:\n",
    "        if result > num:\n",
    "            result = num\n",
    "    \n",
    "    return result\n",
    "\n",
    "min_number = get_min_numbers(numbers)\n",
    "print(\"Min number: \", min_number)"
   ]
  }
 ],
 "metadata": {
  "kernelspec": {
   "display_name": "Python 3 (ipykernel)",
   "language": "python",
   "name": "python3"
  },
  "language_info": {
   "codemirror_mode": {
    "name": "ipython",
    "version": 3
   },
   "file_extension": ".py",
   "mimetype": "text/x-python",
   "name": "python",
   "nbconvert_exporter": "python",
   "pygments_lexer": "ipython3",
   "version": "3.11.4"
  }
 },
 "nbformat": 4,
 "nbformat_minor": 5
}
