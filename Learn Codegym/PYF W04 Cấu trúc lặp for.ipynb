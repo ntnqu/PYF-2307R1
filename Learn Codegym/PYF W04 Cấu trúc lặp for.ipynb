{
 "cells": [
  {
   "cell_type": "markdown",
   "id": "f88db0ed-4b4f-4015-824e-c5427f7b715e",
   "metadata": {},
   "source": [
    "# Vòng lặp for lồng nhau\n",
    "\n",
    "Vòng lặp for lồng nhau là  một vòng lặp bên trong một vòng lặp khác. Trong đó “Vòng lặp bên trong” sẽ thực hiện một lần sau mỗi lần lặp lại “vòng lặp bên ngoài”."
   ]
  },
  {
   "cell_type": "code",
   "execution_count": 1,
   "id": "e8c5bfc3-0bef-4ad9-9324-3534c16760c8",
   "metadata": {},
   "outputs": [
    {
     "name": "stdout",
     "output_type": "stream",
     "text": [
      "1\n",
      "a\n",
      "b\n",
      "c\n",
      "2\n",
      "a\n",
      "b\n",
      "c\n",
      "3\n",
      "a\n",
      "b\n",
      "c\n"
     ]
    }
   ],
   "source": [
    "num_list = [1, 2, 3]\n",
    "alpha_list = ['a', 'b', 'c']\n",
    "\n",
    "for number in num_list:\n",
    "    print(number)\n",
    "    for letter in alpha_list:\n",
    "        print(letter)"
   ]
  },
  {
   "cell_type": "markdown",
   "id": "d6a87223-f3d9-49aa-8c3a-da88d188cb99",
   "metadata": {},
   "source": [
    "# Một số keyword trong vòng lặp : Break, Continue,Pass and Else\n",
    "\r\n",
    "Break: là từ khóa dùng để dừng và thoát khỏi vòng lặp\r\n",
    "\r\n",
    "Ví dụ:"
   ]
  },
  {
   "cell_type": "code",
   "execution_count": 2,
   "id": "ccd2742b-9104-45d2-8adc-78c6a5e0c741",
   "metadata": {},
   "outputs": [
    {
     "name": "stdout",
     "output_type": "stream",
     "text": [
      "apple\n",
      "banana\n"
     ]
    }
   ],
   "source": [
    "fruits = [\"apple\", \"banana\", \"cherry\"]\n",
    "for x in fruits:\n",
    "  print(x)\n",
    "  if x == \"banana\":\n",
    "    break"
   ]
  },
  {
   "cell_type": "markdown",
   "id": "f4f36f21-bed7-4d66-88aa-8268a2fb0be6",
   "metadata": {},
   "source": [
    "# Continue :  là từ khóa bỏ qua lần lặp 1 hàng hoặc các hàng cụ thể, và chuyển sang bước tiếp theo"
   ]
  },
  {
   "cell_type": "code",
   "execution_count": 3,
   "id": "27e46258-a83d-41c2-854b-0a5f2ebff960",
   "metadata": {},
   "outputs": [
    {
     "name": "stdout",
     "output_type": "stream",
     "text": [
      "apple\n",
      "cherry\n"
     ]
    }
   ],
   "source": [
    "fruits = [\"apple\", \"banana\", \"cherry\"]\n",
    "for x in fruits:\n",
    "  if x == \"banana\":\n",
    "    continue\n",
    "  print(x)"
   ]
  },
  {
   "cell_type": "markdown",
   "id": "c54b8091-0e3e-4974-91ae-9f9799f3e731",
   "metadata": {},
   "source": [
    "# Pass: Vòng lặp for không được để trống, nhưng trong trường hợp vì lý do nào đó vòng lặp không có nội dung, để tránh xảy ra lỗi thì ta dùng pass\r\n",
    "\r\n",
    "Ví dụ:\r\n",
    "\r\n",
    "for i in s:\r\n",
    "    # Không có lỗi xảy ra\r\n",
    "    pass"
   ]
  },
  {
   "cell_type": "code",
   "execution_count": 4,
   "id": "730cfaef-82f1-43f7-8cda-9a992639102e",
   "metadata": {},
   "outputs": [
    {
     "name": "stdout",
     "output_type": "stream",
     "text": [
      "Current Letter : P\n",
      "Current Letter : y\n",
      "Current Letter : t\n",
      "This is pass block\n",
      "Current Letter : h\n",
      "Current Letter : o\n",
      "Current Letter : n\n",
      "Good bye!\n"
     ]
    }
   ],
   "source": [
    "for letter in 'Python': \n",
    "   if letter == 'h':\n",
    "      pass\n",
    "      print ('This is pass block')\n",
    "   print ('Current Letter :' ,letter)\n",
    "print (\"Good bye!\")"
   ]
  },
  {
   "cell_type": "markdown",
   "id": "7835a4e2-0fcf-4b60-96c9-ac8a90476a42",
   "metadata": {},
   "source": [
    "# Else:  là từ khóa trong vòng lặp chỉ định 1 đoạn lệnh sẽ thực hiện khi kết thúc vòng lặp.\n",
    "\n",
    "Ví dụ:"
   ]
  },
  {
   "cell_type": "code",
   "execution_count": 6,
   "id": "8ba148a5-5b15-4d06-a945-4ad9af9b48bc",
   "metadata": {},
   "outputs": [
    {
     "name": "stdout",
     "output_type": "stream",
     "text": [
      "1\n",
      "2\n",
      "3\n",
      "Finally finished!\n"
     ]
    }
   ],
   "source": [
    "for x in [1, 2 ,3]:\n",
    "  print(x)\n",
    "else:\n",
    "  print(\"Finally finished!\")"
   ]
  },
  {
   "cell_type": "markdown",
   "id": "660e00d2-58a8-42f7-aaae-4738f4ccf0f9",
   "metadata": {},
   "source": [
    "# Chú ý : Else sẽ không thực hiện nếu vòng lặp kết thúc bằng break\r\n",
    "\r\n",
    "Ví dụ:"
   ]
  },
  {
   "cell_type": "code",
   "execution_count": 7,
   "id": "89e7c21b-1a22-46ab-a841-4a75fcfaad6e",
   "metadata": {},
   "outputs": [
    {
     "name": "stdout",
     "output_type": "stream",
     "text": [
      "1\n",
      "2\n",
      "Outside the for loop\n"
     ]
    }
   ],
   "source": [
    "for i in [1,2,3,4,5]:\n",
    "    if i==3:\n",
    "        break\n",
    "    print (i)\n",
    "else:\n",
    "    print (\"for loop is done\")\n",
    "\n",
    "print (\"Outside the for loop\")"
   ]
  },
  {
   "cell_type": "code",
   "execution_count": null,
   "id": "7c2b9d8a-768d-4556-8420-a256f55cac7f",
   "metadata": {},
   "outputs": [],
   "source": []
  }
 ],
 "metadata": {
  "kernelspec": {
   "display_name": "Python 3 (ipykernel)",
   "language": "python",
   "name": "python3"
  },
  "language_info": {
   "codemirror_mode": {
    "name": "ipython",
    "version": 3
   },
   "file_extension": ".py",
   "mimetype": "text/x-python",
   "name": "python",
   "nbconvert_exporter": "python",
   "pygments_lexer": "ipython3",
   "version": "3.11.4"
  }
 },
 "nbformat": 4,
 "nbformat_minor": 5
}
