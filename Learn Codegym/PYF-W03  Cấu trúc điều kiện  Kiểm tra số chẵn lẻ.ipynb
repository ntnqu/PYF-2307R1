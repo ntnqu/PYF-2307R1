{
 "cells": [
  {
   "cell_type": "markdown",
   "id": "67794296-f393-4a89-961d-9abaa6979798",
   "metadata": {},
   "source": [
    "# Mục tiêu\r\n",
    "\r\n",
    "Luyện tập sử dụng khối lệnh if…elif…else trong lập trình.\r\n",
    "\r\n",
    "Mô tả\r\n",
    "Viết chương trình có khả năng kiểm tra tính chất chẵn lẻ của một số nhập vào. In ra màn hình số nhập vào là số chẵn, số lẽ hay không phải là các trường hợp trên.\r\n",
    "\r\n",
    "Hướng dẫn\r\n",
    "Sử dụng function: input() để nhập một số bất kì sau đó chuyển kiểu về float. Kiểm tra số nhập vào có chia hết cho 2 hay không?\r\n",
    "\r\n",
    "Nếu chia hết cho 2: số chẵn\r\n",
    "Nếu không chia hết cho 2 dư 1: số lẽ\r\n",
    "Ngoài ra: không phải số tự nhiên."
   ]
  },
  {
   "cell_type": "code",
   "execution_count": 2,
   "id": "82f6dcf8-947c-4b88-b770-77dac28b6dda",
   "metadata": {},
   "outputs": [
    {
     "name": "stdin",
     "output_type": "stream",
     "text": [
      " 456\n"
     ]
    },
    {
     "name": "stdout",
     "output_type": "stream",
     "text": [
      "số chẵn\n"
     ]
    }
   ],
   "source": [
    "a = input()\n",
    "a = float(a)\n",
    "if a % 2 == 0:\n",
    "    print('số chẵn')\n",
    "elif a % 2 == 1:\n",
    "    print('số lẻ')\n",
    "else:\n",
    "    print('không phải số tự nhiên')"
   ]
  }
 ],
 "metadata": {
  "kernelspec": {
   "display_name": "Python 3 (ipykernel)",
   "language": "python",
   "name": "python3"
  },
  "language_info": {
   "codemirror_mode": {
    "name": "ipython",
    "version": 3
   },
   "file_extension": ".py",
   "mimetype": "text/x-python",
   "name": "python",
   "nbconvert_exporter": "python",
   "pygments_lexer": "ipython3",
   "version": "3.11.4"
  }
 },
 "nbformat": 4,
 "nbformat_minor": 5
}
