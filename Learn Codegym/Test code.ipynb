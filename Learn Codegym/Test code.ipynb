{
 "cells": [
  {
   "cell_type": "code",
   "execution_count": 1,
   "id": "a59f7d81-b14b-4763-a60b-1de068fffd3c",
   "metadata": {},
   "outputs": [
    {
     "ename": "SyntaxError",
     "evalue": "invalid character '‘' (U+2018) (3022781211.py, line 13)",
     "output_type": "error",
     "traceback": [
      "\u001b[1;36m  Cell \u001b[1;32mIn[1], line 13\u001b[1;36m\u001b[0m\n\u001b[1;33m    insert(‘Apple’)\u001b[0m\n\u001b[1;37m           ^\u001b[0m\n\u001b[1;31mSyntaxError\u001b[0m\u001b[1;31m:\u001b[0m invalid character '‘' (U+2018)\n"
     ]
    }
   ],
   "source": [
    "total={}\n",
    "\n",
    "def insert(items):\n",
    "\n",
    "    if items in total:\n",
    "\n",
    "        total[items] += 1\n",
    "\n",
    "    else:\n",
    "\n",
    "        total[items] = 1\n",
    "\n",
    "insert(‘Apple’)\n",
    "\n",
    "insert(‘Ball’)\n",
    "\n",
    "insert(‘Apple’)\n",
    "\n",
    "print (len(total))"
   ]
  },
  {
   "cell_type": "code",
   "execution_count": 3,
   "id": "5e8baaae-9b23-4f62-af77-bf5083ac3b1c",
   "metadata": {},
   "outputs": [
    {
     "name": "stdout",
     "output_type": "stream",
     "text": [
      "6\n"
     ]
    }
   ],
   "source": [
    "a = {}\n",
    "\n",
    "a[1] = 1\n",
    "\n",
    "a['1'] = 2\n",
    "\n",
    "a[1.0]=4\n",
    "\n",
    "count = 0\n",
    "\n",
    "for i in a:\n",
    "\n",
    "    count += a[i]\n",
    "\n",
    "print(count)"
   ]
  }
 ],
 "metadata": {
  "kernelspec": {
   "display_name": "Python 3 (ipykernel)",
   "language": "python",
   "name": "python3"
  },
  "language_info": {
   "codemirror_mode": {
    "name": "ipython",
    "version": 3
   },
   "file_extension": ".py",
   "mimetype": "text/x-python",
   "name": "python",
   "nbconvert_exporter": "python",
   "pygments_lexer": "ipython3",
   "version": "3.11.4"
  }
 },
 "nbformat": 4,
 "nbformat_minor": 5
}
