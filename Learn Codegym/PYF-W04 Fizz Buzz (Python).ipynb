{
 "cells": [
  {
   "cell_type": "markdown",
   "id": "d08bb4b5-3238-403f-8c34-1c43fd135ec0",
   "metadata": {},
   "source": [
    "Mục tiêu\n",
    "Luyện tập sử dụng khối lệnh for và if…elif…else trong lập trình\n",
    "\n",
    "Mô tả\n",
    "Fizz Buzz là một bài toán lập trình cổ điển. Đây là phiên bản sửa đổi nhẹ của nó.\n",
    "Viết chương trình lấy đầu vào là hai số nguyên: đầu và cuối khoảng (cả hai số đều thuộc khoảng).\n",
    "Chương trình sẽ in ra các số trong khoảng này. Nhưng nếu số đó chia hết cho 3, bạn sẽ in ra “Fizz” thay vì nó, nếu số đó chia hết cho 5, in ra “Buzz” và nếu số đó chia hết cho cả 3 và 5, hãy in ra “FizzBuzz”.\n",
    "\n",
    "Hướng dẫn\n",
    "Bước 1: Cho người dùng nhập biến\n",
    "\n",
    " Dùng hàm input() để nhập hai số bất kì. \n",
    "Dùng hàm split() để tách chuỗi số vừa nhập để lấy được số bất đầu và số kết thúc.\n",
    "Dùng hàm int() để chuyển số bắt đầu và kết thúc về kiểu int.\n",
    "Bước 2: Kiểm tra biến nhập\n",
    "\n",
    "Dùng if…else để xử lý hai trường hợp có thể xảy ra:\n",
    "Nếu số kết thúc bé hơn số bắt đầu thì thông báo số kết thúc cần lớn hơn số bắt    đầu\n",
    "Nếu số bắt đầu lớn hơn hoặc bằng số kết thúc thì bắt đầu xử lý việc in kết quả\n",
    "Bước 3: Bắt đầu xử lý việc in kết quả\n",
    "\n",
    "Dùng for…in range(start, end) để khởi tạo vòng lặp. \n",
    "Lưu ý: vòng lặp sẽ bắt đầu từ startNumber và kết thúc ở endNumber + 1 (để vòng lặp sẽ lặp qua được endNumber )\n",
    "\n",
    "Trong mỗi vòng lặp sẽ dùng khổi lệnh if…elif…else để kiểm tra biến lặp và in ra kết quả phù hợp: \n",
    "Chia hết cho 3 và 5 thì in ra “FizzBuzz”\n",
    "Hoặc chia hết cho 3 thì in ra “Fizz”\n",
    "Hoặc chia hết cho 5 thì in ra “Buzz”\n",
    "Không thuộc 3 trường hợp trên thì ra chính giá trị của biến lặp"
   ]
  },
  {
   "cell_type": "code",
   "execution_count": 5,
   "id": "4f3aa60e-02e4-443d-84f5-057a5a74345a",
   "metadata": {},
   "outputs": [
    {
     "name": "stdin",
     "output_type": "stream",
     "text": [
      "Nhập vào số khởi đầu:  2\n",
      "Nhập vào số kết thúc:  45\n"
     ]
    },
    {
     "name": "stdout",
     "output_type": "stream",
     "text": [
      "2\n",
      "Fizz\n",
      "4\n",
      "Buzz\n",
      "Fizz\n",
      "7\n",
      "8\n",
      "Fizz\n",
      "Buzz\n",
      "11\n",
      "Fizz\n",
      "13\n",
      "14\n",
      "FizzBuzz\n",
      "16\n",
      "17\n",
      "Fizz\n",
      "19\n",
      "Buzz\n",
      "Fizz\n",
      "22\n",
      "23\n",
      "Fizz\n",
      "Buzz\n",
      "26\n",
      "Fizz\n",
      "28\n",
      "29\n",
      "FizzBuzz\n",
      "31\n",
      "32\n",
      "Fizz\n",
      "34\n",
      "Buzz\n",
      "Fizz\n",
      "37\n",
      "38\n",
      "Fizz\n",
      "Buzz\n",
      "41\n",
      "Fizz\n",
      "43\n",
      "44\n",
      "FizzBuzz\n"
     ]
    }
   ],
   "source": [
    "num_start = int(input(\"Nhập vào số khởi đầu: \"))\n",
    "num_end = int(input(\"Nhập vào số kết thúc: \"))\n",
    "\n",
    "if num_start > num_end:\n",
    "    print(f'Số kết thúc cần lớn hơn số khởi đầu.')\n",
    "\n",
    "else:\n",
    "    for i in range (num_start, num_end + 1):\n",
    "        if (i % 5 == 0 and i % 3 == 0):\n",
    "            print(f'FizzBuzz')\n",
    "        elif i % 3 == 0:\n",
    "            print(f'Fizz')\n",
    "        elif i % 5 == 0:\n",
    "            print(f'Buzz')\n",
    "        else:\n",
    "            print(i)\n",
    "\n"
   ]
  }
 ],
 "metadata": {
  "kernelspec": {
   "display_name": "Python 3 (ipykernel)",
   "language": "python",
   "name": "python3"
  },
  "language_info": {
   "codemirror_mode": {
    "name": "ipython",
    "version": 3
   },
   "file_extension": ".py",
   "mimetype": "text/x-python",
   "name": "python",
   "nbconvert_exporter": "python",
   "pygments_lexer": "ipython3",
   "version": "3.11.4"
  }
 },
 "nbformat": 4,
 "nbformat_minor": 5
}
