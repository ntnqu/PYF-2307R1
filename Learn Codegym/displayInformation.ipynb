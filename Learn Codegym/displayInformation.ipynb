{
 "cells": [
  {
   "cell_type": "code",
   "execution_count": 3,
   "id": "da449bc5-a6de-4ebc-970c-684ac67e9d25",
   "metadata": {},
   "outputs": [
    {
     "name": "stdout",
     "output_type": "stream",
     "text": [
      "My information\n",
      "Name: Nguyen Thi Nhu Quynh\n",
      "Course: Python\n"
     ]
    }
   ],
   "source": [
    "print(f'My information')\n",
    "print(f'Name: Nguyen Thi Nhu Quynh')\n",
    "print(f'Course: Python')"
   ]
  }
 ],
 "metadata": {
  "kernelspec": {
   "display_name": "Python 3 (ipykernel)",
   "language": "python",
   "name": "python3"
  },
  "language_info": {
   "codemirror_mode": {
    "name": "ipython",
    "version": 3
   },
   "file_extension": ".py",
   "mimetype": "text/x-python",
   "name": "python",
   "nbconvert_exporter": "python",
   "pygments_lexer": "ipython3",
   "version": "3.11.4"
  }
 },
 "nbformat": 4,
 "nbformat_minor": 5
}
