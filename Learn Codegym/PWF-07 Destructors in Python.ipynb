{
 "cells": [
  {
   "cell_type": "code",
   "execution_count": 1,
   "id": "53d89c88-1925-4df9-98ec-d7748e579709",
   "metadata": {},
   "outputs": [
    {
     "name": "stdout",
     "output_type": "stream",
     "text": [
      "Hàm khởi tạo mặc định được gọi khi tạo đối tượng\n",
      "Hủy đối tượng\n"
     ]
    }
   ],
   "source": [
    "class Car:\n",
    "    # Liệt kê các thuộc tính của lớp ô tô\n",
    "    engine = \"V8\"\n",
    "    color = \"black\"\n",
    "    max_speed = 100\n",
    "\n",
    "    # Hàm khởi tạo mặc định\n",
    "    def __init__(self):\n",
    "        self.color = \"default: white color\"\n",
    "        print(\"Hàm khởi tạo mặc định được gọi khi tạo đối tượng\")\n",
    "\n",
    "    def __del__(self):\n",
    "        print(\"Hủy đối tượng\")\n",
    " \n",
    "# Tạo đối tượng\n",
    "sonata = Car()\n",
    "del sonata"
   ]
  }
 ],
 "metadata": {
  "kernelspec": {
   "display_name": "Python 3 (ipykernel)",
   "language": "python",
   "name": "python3"
  },
  "language_info": {
   "codemirror_mode": {
    "name": "ipython",
    "version": 3
   },
   "file_extension": ".py",
   "mimetype": "text/x-python",
   "name": "python",
   "nbconvert_exporter": "python",
   "pygments_lexer": "ipython3",
   "version": "3.11.4"
  }
 },
 "nbformat": 4,
 "nbformat_minor": 5
}
