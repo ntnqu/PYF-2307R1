{
 "cells": [
  {
   "cell_type": "markdown",
   "id": "cbcb385f-83e1-4fbf-b9c1-92641702558f",
   "metadata": {},
   "source": [
    "Mục tiêu:\r\n",
    "\r\n",
    "Luyện tập với cách thức khai báo và sử dụng tuples\r\n",
    "\r\n",
    "Mô tả bài toán\r\n",
    "\r\n",
    "Nhập vào một dãy số. In dãy số ra dưới dạng chữ. Ví dụ: Nhập 4390 thì in ra “bốn ba chín không”\r\n",
    "\r\n",
    "Hướng dẫn thực hiện\r\n",
    "\r\n",
    "Bước 1: Nhập dãy chữ số từ người dùng\r\n",
    "\r\n",
    "numbers = input(\"Nhập dãy chữ số: \")\r\n",
    "\r\n",
    "Bước 2: Khai báo tuples để lưu chữ từ không đến chín\r\n",
    "\r\n",
    "text = (\"không\", \"một\", \"hai\", \"ba\", \"bốn\", \"năm\", \"sáu\", \"bảy\", \"tám\", \"chín\")\r\n",
    "\r\n",
    "Để ý rằng, trong tuples trên các chữ có chỉ số tương ứng với ý nghĩa của các chữ lưu trong tuple. Do đó, các chữ số trong dãy số nhập trên thực chất là chỉ số của tuple trên.\r\n",
    "\r\n",
    "Bước 3: In kết quả ra dùng vòng lặp\r\n",
    "\r\n",
    "for num in numbers:\r\n",
    "      print(text[int(num)], end=' ')\r\n",
    "\r\n",
    "Tổng kết:\r\n",
    "\r\n",
    "Qua bài tập này, các bạn đã luyện tập:\r\n",
    "\r\n",
    "Cách thức khai báo và sử dụng tuples"
   ]
  },
  {
   "cell_type": "code",
   "execution_count": 1,
   "id": "7d085e01-62d0-4842-b185-07f2c5ada3fe",
   "metadata": {},
   "outputs": [
    {
     "name": "stdin",
     "output_type": "stream",
     "text": [
      "Nhập dãy chữ số:  4567\n"
     ]
    },
    {
     "name": "stdout",
     "output_type": "stream",
     "text": [
      "bốn năm sáu bảy "
     ]
    }
   ],
   "source": [
    "numbers = input(\"Nhập dãy chữ số: \")\n",
    "text = (\"không\", \"một\", \"hai\", \"ba\", \"bốn\", \"năm\", \"sáu\", \"bảy\", \"tám\", \"chín\")\n",
    "\n",
    "for num in numbers:\n",
    "      print(text[int(num)], end=' ')"
   ]
  }
 ],
 "metadata": {
  "kernelspec": {
   "display_name": "Python 3 (ipykernel)",
   "language": "python",
   "name": "python3"
  },
  "language_info": {
   "codemirror_mode": {
    "name": "ipython",
    "version": 3
   },
   "file_extension": ".py",
   "mimetype": "text/x-python",
   "name": "python",
   "nbconvert_exporter": "python",
   "pygments_lexer": "ipython3",
   "version": "3.11.4"
  }
 },
 "nbformat": 4,
 "nbformat_minor": 5
}
