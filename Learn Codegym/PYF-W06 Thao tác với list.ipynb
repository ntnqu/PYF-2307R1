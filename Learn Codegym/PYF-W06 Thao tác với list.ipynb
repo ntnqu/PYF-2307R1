{
 "cells": [
  {
   "cell_type": "markdown",
   "id": "9191ef57-fee8-4dc9-9543-b461732dc164",
   "metadata": {},
   "source": [
    "# Mục tiêu:\r\n",
    "\r\n",
    "Luyện tập với các thao tác trên list\r\n",
    "\r\n",
    "Mô tả bài toán\r\n",
    "\r\n",
    "Cho một list như bên sau:\r\n",
    "\r\n",
    "gadgets = [“Mobile”, “Laptop”, 100, “Camera”, 310.28, “Speakers”, 27.00, “Television”, 1000, “Laptop Case”, “Camera Lens”]\r\n",
    "\r\n",
    "Thực hiện các thao tác sau:\r\n",
    "\r\n",
    " – Tạo hai list, một list chỉ chứa chuỗi và một list chỉ chứa số từ list cho ở trên.\r\n",
    "\r\n",
    " – Sắp xếp list chứa chuỗi theo thứ tự tăng dần \r\n",
    "\r\n",
    " – Sắp xếp list chứa chuỗi theo thứ tự giảm dần\r\n",
    "\r\n",
    " – Sắp xếp list chứa số theo thứ tự tăng dần\r\n",
    "\r\n",
    " – Sắp xếp list chứa số theo thứ tự giảm dần\r\n",
    "\r\n",
    "Hướng dẫn thực hiện\r\n",
    "\r\n",
    "Bước 1: Khai báo list và tiến hành tách số và chuỗi lưu vào 2 list riêng biệt. Sử dụng phương thức isinstance để phân biệt chữ và số.\r\n",
    "\r\n",
    "gadgets = [\"Mobile\", \"Laptop\", 100, \"Camera\", 310.28, \"Speakers\", 27.00,\r\n",
    "           \"Television\", 1000, \"Laptop Case\", \"Camera Lens\"]\r\n",
    "\r\n",
    "# Tạo hai list chứa số và chuỗi từ list đã cho\r\n",
    "text = []\r\n",
    "numbers = []\r\n",
    "for i in gadgets:\r\n",
    "    if isinstance(i, str):\r\n",
    "        text.append(i)\r\n",
    "    else:\r\n",
    "        numbers.append(i)\r\n",
    "print(\"List chứa chuỗi = \", text)\r\n",
    "print(\"List chứa số = \", numbers)\r\n",
    "Bước 2: Sắp xếp list chuỗi\r\n",
    "\r\n",
    "# Sắp xếp list chứa chuỗi\r\n",
    "text.sort()\r\n",
    "print(\"List chứa chuỗi theo thứ tự tăng dần= \", text)\r\n",
    "text.sort(reverse=True)\r\n",
    "print(\"List chứa chuỗi theo thứ tự giảm dần= \", text)\r\n",
    "Bước 3: Sắp xếp list số\r\n",
    "\r\n",
    "# Sắp xếp list chứa số\r\n",
    "numbers.sort()\r\n",
    "print(\"List chứa số theo thứ tự tăng dần= \", numbers)\r\n",
    "numbers.sort(reverse=True)\r\n",
    "print(\"List chứa số theo thứ tự giảm dần= \", numbers)\r\n",
    "Tổng kết:\r\n",
    "\r\n",
    "Qua bài tập này, các bạn đã luyện tập:\r\n",
    "\r\n",
    "Cách thức khai báo và thao tác trên list"
   ]
  },
  {
   "cell_type": "code",
   "execution_count": 1,
   "id": "eddd0a20-6e31-4309-9bd7-53dbf0583f8d",
   "metadata": {},
   "outputs": [
    {
     "name": "stdout",
     "output_type": "stream",
     "text": [
      "List chứa chuỗi =  ['Mobile', 'Laptop', 'Camera', 'Speakers', 'Television', 'Laptop Case', 'Camera Lens']\n",
      "List chứa số =  [100, 310.28, 27.0, 1000]\n"
     ]
    }
   ],
   "source": [
    "gadgets = [\"Mobile\", \"Laptop\", 100, \"Camera\", 310.28, \"Speakers\", 27.00,\n",
    "           \"Television\", 1000, \"Laptop Case\", \"Camera Lens\"]\n",
    "\n",
    "# Tạo hai list chứa số và chuỗi từ list đã cho\n",
    "text = []\n",
    "numbers = []\n",
    "for i in gadgets:\n",
    "    if isinstance(i, str):\n",
    "        text.append(i)\n",
    "    else:\n",
    "        numbers.append(i)\n",
    "print(\"List chứa chuỗi = \", text)\n",
    "print(\"List chứa số = \", numbers)"
   ]
  },
  {
   "cell_type": "code",
   "execution_count": 2,
   "id": "656b2eb9-e951-4632-869e-e45a9add6145",
   "metadata": {},
   "outputs": [
    {
     "name": "stdout",
     "output_type": "stream",
     "text": [
      "List chứa chuỗi =  ['Mobile', 'Laptop', 'Camera', 'Speakers', 'Television', 'Laptop Case', 'Camera Lens']\n",
      "List chứa số =  [100, 310.28, 27.0, 1000]\n",
      "List chứa chuỗi theo thứ tự tăng dần=  ['Camera', 'Camera Lens', 'Laptop', 'Laptop Case', 'Mobile', 'Speakers', 'Television']\n",
      "List chứa chuỗi theo thứ tự giảm dần=  ['Television', 'Speakers', 'Mobile', 'Laptop Case', 'Laptop', 'Camera Lens', 'Camera']\n",
      "List chứa số theo thứ tự tăng dần=  [27.0, 100, 310.28, 1000]\n",
      "List chứa số theo thứ tự giảm dần=  [1000, 310.28, 100, 27.0]\n"
     ]
    }
   ],
   "source": [
    "gadgets = [\"Mobile\", \"Laptop\", 100, \"Camera\", 310.28, \"Speakers\", 27.00,\n",
    "           \"Television\", 1000, \"Laptop Case\", \"Camera Lens\"]\n",
    "\n",
    "# Tạo hai list chứa số và chuỗi từ list đã cho\n",
    "text = []\n",
    "numbers = []\n",
    "for i in gadgets:\n",
    "    if isinstance(i, str):\n",
    "        text.append(i)\n",
    "    else:\n",
    "        numbers.append(i)\n",
    "print(\"List chứa chuỗi = \", text)\n",
    "print(\"List chứa số = \", numbers)\n",
    "\n",
    "# Sắp xếp list chứa chuỗi\n",
    "text.sort()\n",
    "print(\"List chứa chuỗi theo thứ tự tăng dần= \", text)\n",
    "text.sort(reverse=True)\n",
    "print(\"List chứa chuỗi theo thứ tự giảm dần= \", text)\n",
    "\n",
    "# Sắp xếp list chứa số\n",
    "numbers.sort()\n",
    "print(\"List chứa số theo thứ tự tăng dần= \", numbers)\n",
    "numbers.sort(reverse=True)\n",
    "print(\"List chứa số theo thứ tự giảm dần= \", numbers)"
   ]
  }
 ],
 "metadata": {
  "kernelspec": {
   "display_name": "Python 3 (ipykernel)",
   "language": "python",
   "name": "python3"
  },
  "language_info": {
   "codemirror_mode": {
    "name": "ipython",
    "version": 3
   },
   "file_extension": ".py",
   "mimetype": "text/x-python",
   "name": "python",
   "nbconvert_exporter": "python",
   "pygments_lexer": "ipython3",
   "version": "3.11.4"
  }
 },
 "nbformat": 4,
 "nbformat_minor": 5
}
