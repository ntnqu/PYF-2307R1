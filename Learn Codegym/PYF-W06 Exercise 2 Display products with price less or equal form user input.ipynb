{
 "cells": [
  {
   "cell_type": "markdown",
   "id": "b6e25d9d-6641-4a00-8ff1-285c056fee56",
   "metadata": {},
   "source": [
    "# Mục tiêu\r\n",
    "\r\n",
    "Luyện tập:\r\n",
    "\r\n",
    "Cách thao tác với đối tượng dictionary, \r\n",
    "Viết và sử dụng các hàm trong lập trình, \r\n",
    "Sử dụng hàm if…elif…else\r\n",
    "Sử dụng vòng lặp for…in\r\n",
    "Mô tả bài toán\r\n",
    "\r\n",
    "Viết chương trình hiển thị các sản phẩm có giá bé hơn hoặc bằng so với giá tiền mà người dùng nhập (database đã được cho sẵn).\r\n",
    "\r\n",
    "Hướng dẫn thực hiện\r\n",
    "\r\n",
    "Bước 1: Khai báo hàm in ra các sản phẩm có giá bé hơn hoặc bằng với tham số giá truyền vào.\r\n",
    "\r\n",
    "Hàm nhận hai tham số truyền vào là data danh sách sản phẩm và mức giá để so sánh\r\n",
    "Dùng for…in để lặp qua danh sách sản phẩm, giá trị lặp là thông tin sản phẩm\r\n",
    "Dùng hàm if để kiểm giá của sản phẩm lặp có bé hơn hoặc bằng giá truyền vào hay không:\r\n",
    "Nếu đúng thì in ra sản phẩm kèm giá sản phẩm\r\n",
    "def display_product(products_db, price):\r\n",
    "    for item in products_db:\r\n",
    "        if products_db[item] <= price:\r\n",
    "            print(item, \" : \",products_db[item])\r\n",
    "Bước 2: Khai báo biến input_price, mang giá trị mức tiền mà người dùng nhập vào\r\n",
    "\r\n",
    "Sử dụng hàm input() để người dùng nhập số tiền, sau đó sử dụng hàm int() để chuyển giá trị về kiểu int\r\n",
    "input_price = int(input(\"Enter the price :\"))\r\n",
    "\r\n",
    "Bước 3: In sản phẩm có giá bé hơn hoặc bằng mức giá mà người dùng nhập\r\n",
    "\r\n",
    "Gọi hàm display_product() và truyền tham số đầu vào là products (databse sản phẩm được cho sẵn)  và input_price.\r\n",
    "display_product(products, input_price)\r\n",
    "\r\n",
    "Tổng kết\r\n",
    "\r\n",
    "Qua bài tập này bạn đã luyện tập cách thao tác với đối tượng Iterator, viết và sử dụng các hàm trong lập trình, ôn lại kiến thức hàm if…elif…else và sử dụng vòng lập for…in"
   ]
  },
  {
   "cell_type": "code",
   "execution_count": 3,
   "id": "6365b480-02d4-453a-bfcb-fb1b0ae5a6e9",
   "metadata": {},
   "outputs": [
    {
     "name": "stdin",
     "output_type": "stream",
     "text": [
      "Enter the price : 1400\n"
     ]
    },
    {
     "name": "stdout",
     "output_type": "stream",
     "text": [
      "SMART WATCH  :  550\n",
      "PHONE  :  1000\n",
      "PLAYSTATION  :  500\n",
      "MUSIC PLAYER  :  600\n",
      "TABLET  :  400\n"
     ]
    }
   ],
   "source": [
    "products = {\n",
    "            'SMART WATCH': 550,\n",
    "            'PHONE' : 1000,\n",
    "            'PLAYSTATION': 500,\n",
    "            'LAPTOP' : 1550,\n",
    "            'MUSIC PLAYER' : 600,\n",
    "            'TABLET' : 400 \n",
    "           }\n",
    "\n",
    "def display_product(products_db, price):\n",
    "    for item in products_db:\n",
    "        if products_db[item] <= price:\n",
    "            print(item, \" : \",products_db[item])\n",
    "    \n",
    "input_price = int(input(\"Enter the price :\"))\n",
    "\n",
    "display_product(products, input_price)"
   ]
  }
 ],
 "metadata": {
  "kernelspec": {
   "display_name": "Python 3 (ipykernel)",
   "language": "python",
   "name": "python3"
  },
  "language_info": {
   "codemirror_mode": {
    "name": "ipython",
    "version": 3
   },
   "file_extension": ".py",
   "mimetype": "text/x-python",
   "name": "python",
   "nbconvert_exporter": "python",
   "pygments_lexer": "ipython3",
   "version": "3.11.4"
  }
 },
 "nbformat": 4,
 "nbformat_minor": 5
}
