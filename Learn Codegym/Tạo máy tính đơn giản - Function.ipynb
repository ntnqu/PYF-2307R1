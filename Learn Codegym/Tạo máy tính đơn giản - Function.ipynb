{
 "cells": [
  {
   "cell_type": "markdown",
   "id": "af104cab-082f-4cfc-bf96-a1fae1741317",
   "metadata": {},
   "source": [
    "## Mục tiêu\r\n",
    "\r\n",
    "Luyện tập viết và sử dụng các hàm trong lập trình, ôn lại kiến thức hàm if…elif…else\r\n",
    "\r\n",
    "Mô tả bài toán\r\n",
    "\r\n",
    "Viết chương trình cho phép người dùng nhập hai số và chọn toán tử (cộng, trừ, nhân, chia) để thực hiện phép tính, sau đó sẽ in ra cho người dùng kết quả của phép tính.\r\n",
    "\r\n",
    "Hướng dẫn thực hiện\r\n",
    "\r\n",
    "Bước 1: Tạo hàm thực hiện phép toán cộng (tạm gọi là add). Hàm này sẽ nhận hai tham số là num1 và num2 và trả về giá trị num1 +  num2."
   ]
  },
  {
   "cell_type": "code",
   "execution_count": null,
   "id": "65fd35fe-5584-445a-9fe4-661abc924e30",
   "metadata": {},
   "outputs": [],
   "source": [
    "def add(num1, num2):\n",
    "    return num1 + num2"
   ]
  },
  {
   "cell_type": "markdown",
   "id": "890ddac8-b0c4-4284-9d56-811dfc60720b",
   "metadata": {},
   "source": [
    "Bước 2: Tạo hàm thực hiện phép toán trừ (tạm gọi là subtract). Hàm này sẽ nhận hai tham số là num1 và num2 và trả về giá trị num1 –  num2"
   ]
  },
  {
   "cell_type": "code",
   "execution_count": null,
   "id": "009d4ebd-a2f1-4bc6-bb13-555b7e9f1988",
   "metadata": {},
   "outputs": [],
   "source": [
    "def subtract(num1, num2):\n",
    "    return num1 - num2"
   ]
  },
  {
   "cell_type": "markdown",
   "id": "1d9561be-a2db-4f8e-9ac7-fe3f6f34a92c",
   "metadata": {},
   "source": [
    "Bước 3: Tạo hàm thực hiện phép toán nhân (tạm gọi là multiply). Hàm này sẽ nhận hai tham số là num1 và num2 và trả về giá trị num1 *  num2\r",
    "number: \"))"
   ]
  },
  {
   "cell_type": "code",
   "execution_count": null,
   "id": "3d625032-b67b-40ef-ae99-f07506716ade",
   "metadata": {},
   "outputs": [],
   "source": [
    "def multiply(num1, num2): \n",
    "    return num1 * num2 "
   ]
  },
  {
   "cell_type": "markdown",
   "id": "f761f7c9-acc5-493d-a5c2-c8a4331288b1",
   "metadata": {},
   "source": [
    "Bước 4: Tạo hàm thực hiện phép toán chia (tạm gọi là divide). Hàm này sẽ nhận hai tham số là num1 và num2 và trả về giá trị num1 /  num2"
   ]
  },
  {
   "cell_type": "code",
   "execution_count": null,
   "id": "25db0b8f-7b44-49f8-854e-2997f51c5bbc",
   "metadata": {},
   "outputs": [],
   "source": [
    "def divide(num1, num2): \n",
    "    return num1 / num2"
   ]
  },
  {
   "cell_type": "markdown",
   "id": "48c03559-5184-4f97-b145-b30b708d14a8",
   "metadata": {},
   "source": [
    "Bước 5: Sử dụng hàm input() để người dùng nhập hai số để thực hiện phép tính (tạm gọi hai số là number_1 và number_2), sau đó sử dụng hàm int() chuyển giá trị về kiểu int.\n"
   ]
  },
  {
   "cell_type": "code",
   "execution_count": 2,
   "id": "d80e695c-0b40-47e1-957c-6ececbdc22c9",
   "metadata": {},
   "outputs": [
    {
     "name": "stdin",
     "output_type": "stream",
     "text": [
      "Enter first number:  3\n",
      "Enter second number:  4\n"
     ]
    }
   ],
   "source": [
    "number_1 = int(input(\"Enter first number: \")) \n",
    "number_2 = int(input(\"Enter second number: \"))"
   ]
  },
  {
   "cell_type": "markdown",
   "id": "b5d4826c-ffb1-4cc8-a581-57d24c80856b",
   "metadata": {},
   "source": [
    "Bước 6: Sử dụng hàm input() để người dùng nhập phép tính muốn thực hiện (tạm gọi giá trị vừa nhập là option), sau đó sử dụng hàm int() chuyển giá trị về kiểu int.\r\n",
    "\r\n",
    "option = input(\"Enter the operation +, -, *, / :\")\r\n",
    "\r\n",
    "Bước 7: Sử dụng hàm if…elif…else để quyết định hàm phép tính nào sẽ được thực hiện dựa theo giá trị của biến select. In ra kết quả của phép tính nếu người dùng chọn 1 trong 4 phép tính, nếu người dùng chọn ngoài phạm vi thì thông báo đầu vào không hợp lệ."
   ]
  },
  {
   "cell_type": "code",
   "execution_count": null,
   "id": "9869789a-4b10-42bd-b882-26ea4b951d00",
   "metadata": {},
   "outputs": [],
   "source": [
    "if option == '+':\n",
    "    print(number_1, \"+\", number_2, \"=\", add(number_1, number_2))\n",
    "  \n",
    "elif option == '-':\n",
    "    print(number_1, \"-\", number_2, \"=\", subtract(number_1, number_2))\n",
    "  \n",
    "elif option == '*':\n",
    "    print(number_1, \"*\", number_2, \"=\", multiply(number_1, number_2))\n",
    "  \n",
    "elif option == '/':\n",
    "    print(number_1, \"/\", number_2, \"=\", divide(number_1, number_2))\n",
    "    \n",
    "else:\n",
    "    print(\"Invalid input\")\n"
   ]
  },
  {
   "cell_type": "markdown",
   "id": "d48659a5-f521-4f45-8d1f-f54172f7bcf7",
   "metadata": {},
   "source": [
    "Tổng kết\n",
    "\n",
    "Qua bài tập này bạn đã luyện tập cách tạo và sử dụng hàm, đồng thời ôn lại hàm if…elif…else"
   ]
  },
  {
   "cell_type": "code",
   "execution_count": 3,
   "id": "52db8443-39b7-4fcf-b3f8-1cb3d4526631",
   "metadata": {},
   "outputs": [
    {
     "name": "stdin",
     "output_type": "stream",
     "text": [
      "Enter first number:  4\n",
      "Enter second number:  7\n",
      "Enter the operation +, -, *, / : /\n"
     ]
    },
    {
     "name": "stdout",
     "output_type": "stream",
     "text": [
      "4 / 7 = 0.5714285714285714\n"
     ]
    }
   ],
   "source": [
    "# Demo\n",
    "\n",
    "def add(num1, num2):\n",
    "    return num1 + num2\n",
    "  \n",
    "def subtract(num1, num2):\n",
    "    return num1 - num2\n",
    "  \n",
    "def multiply(num1, num2):\n",
    "    return num1 * num2\n",
    "\n",
    "def divide(num1, num2):\n",
    "    return num1 / num2\n",
    "    \n",
    "number_1 = int(input(\"Enter first number: \"))\n",
    "number_2 = int(input(\"Enter second number: \"))\n",
    "option = input(\"Enter the operation +, -, *, / :\")\n",
    "\n",
    "if option == '+':\n",
    "    print(number_1, \"+\", number_2, \"=\", add(number_1, number_2))\n",
    "  \n",
    "elif option == '-':\n",
    "    print(number_1, \"-\", number_2, \"=\", subtract(number_1, number_2))\n",
    "  \n",
    "elif option == '*':\n",
    "    print(number_1, \"*\", number_2, \"=\", multiply(number_1, number_2))\n",
    "  \n",
    "elif option == '/':\n",
    "    print(number_1, \"/\", number_2, \"=\", divide(number_1, number_2))\n",
    "    \n",
    "else:\n",
    "    print(\"Invalid input\")"
   ]
  }
 ],
 "metadata": {
  "kernelspec": {
   "display_name": "Python 3 (ipykernel)",
   "language": "python",
   "name": "python3"
  },
  "language_info": {
   "codemirror_mode": {
    "name": "ipython",
    "version": 3
   },
   "file_extension": ".py",
   "mimetype": "text/x-python",
   "name": "python",
   "nbconvert_exporter": "python",
   "pygments_lexer": "ipython3",
   "version": "3.11.4"
  }
 },
 "nbformat": 4,
 "nbformat_minor": 5
}
