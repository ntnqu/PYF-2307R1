{
 "cells": [
  {
   "cell_type": "code",
   "execution_count": 17,
   "id": "90298b15-4291-48c1-a6b0-3b792f00ca90",
   "metadata": {},
   "outputs": [
    {
     "name": "stdin",
     "output_type": "stream",
     "text": [
      "Nhập vào số tiền dolla cần đổi:  300\n",
      "Nhập tỷ giá:  23800\n"
     ]
    },
    {
     "name": "stdout",
     "output_type": "stream",
     "text": [
      "Số tiền VND nhận được là: 23800.0 * 300.0 = 7140000.0\n"
     ]
    }
   ],
   "source": [
    "usd = float(input(\"Nhập vào số tiền dolla cần đổi: \"))\n",
    "rate_of_exchange = float(input (\"Nhập tỷ giá: \"))\n",
    "\n",
    "result = rate_of_exchange * usd\n",
    "\n",
    "print(f'Số tiền VND nhận được là: {rate_of_exchange} * {usd} = {result}')\n"
   ]
  }
 ],
 "metadata": {
  "kernelspec": {
   "display_name": "Python 3 (ipykernel)",
   "language": "python",
   "name": "python3"
  },
  "language_info": {
   "codemirror_mode": {
    "name": "ipython",
    "version": 3
   },
   "file_extension": ".py",
   "mimetype": "text/x-python",
   "name": "python",
   "nbconvert_exporter": "python",
   "pygments_lexer": "ipython3",
   "version": "3.11.4"
  }
 },
 "nbformat": 4,
 "nbformat_minor": 5
}
