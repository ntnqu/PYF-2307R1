{
 "cells": [
  {
   "cell_type": "markdown",
   "id": "401cca6b-0f54-410c-b143-afb21b248b5f",
   "metadata": {},
   "source": [
    "Mô tả\r\n",
    "Viết chương trình nhập một giá trị là độ 0C (Celsius) và chuyển nó sang độ 0F (Fahrenheit).\r\n",
    "\r\n",
    "Gợi ý\r\n",
    "Các bước thực hiện:\r\n",
    "\r\n",
    "Nhập vào giá trị độ °C muốn chuyển đổi\r\n",
    "Tính độ °F tương ứng qua công thức:\r\n",
    "°F  =  ( °C × 1.8 ) +  32\r\n",
    "Hiển thị độ °F (In ra màn hình)"
   ]
  },
  {
   "cell_type": "code",
   "execution_count": 2,
   "id": "0f8a6666-b9b3-4b7e-aa99-42cc7636d7cd",
   "metadata": {},
   "outputs": [
    {
     "name": "stdin",
     "output_type": "stream",
     "text": [
      "Nhập vào giá trị độ °C:  33\n"
     ]
    },
    {
     "name": "stdout",
     "output_type": "stream",
     "text": [
      "Giá trị chuyển đổi sang độ °F là:  91.4\n"
     ]
    }
   ],
   "source": [
    "c = int(input(\"Nhập vào giá trị độ °C: \"))\n",
    "\n",
    "f = ( c * 1.8 ) + 32\n",
    "\n",
    "print(f\"Giá trị chuyển đổi sang độ °F là: \",f)"
   ]
  }
 ],
 "metadata": {
  "kernelspec": {
   "display_name": "Python 3 (ipykernel)",
   "language": "python",
   "name": "python3"
  },
  "language_info": {
   "codemirror_mode": {
    "name": "ipython",
    "version": 3
   },
   "file_extension": ".py",
   "mimetype": "text/x-python",
   "name": "python",
   "nbconvert_exporter": "python",
   "pygments_lexer": "ipython3",
   "version": "3.11.4"
  }
 },
 "nbformat": 4,
 "nbformat_minor": 5
}
