{
 "cells": [
  {
   "cell_type": "code",
   "execution_count": 1,
   "id": "a90177b5-c737-4c41-87af-b41f59f0d226",
   "metadata": {},
   "outputs": [],
   "source": [
    "from tkinter import *\n",
    "\n",
    "# tạo cửa sổ ứng dụng\n",
    "window = Tk()\n",
    "\n",
    "# setup thông tin cho window\n",
    "\n",
    "window.title(\"Ingredient Management System\")\n",
    "window.geometry('500x300')\n",
    "\n",
    "# setup các widget\n",
    "# tạo ra các label\n",
    "#label name\n",
    "name_lbl = Label(window, text = 'Name: ')\n",
    "quantity_lbl = Label(window, text = 'Quantity: ')\n",
    "\n",
    "# entry\n",
    "name = Entry(window)\n",
    "quantity = Entry(window)\n",
    "search_name = Entry(window)\n",
    "\n",
    "\n",
    "#tạo button\n",
    "add_btn = Button(window, text = 'Add')\n",
    "search_btn = Button(window, text = 'Search')\n",
    "update_btn = Button(window, text = 'Update')\n",
    "delete_btn = Button(window, text = 'Delete')\n",
    "reset_btn = Button(window, text = 'Reset')\n",
    "\n",
    "# dán các widget lên window\n",
    "\n",
    "# chạy ứng dụng\n",
    "window.mainloop()"
   ]
  }
 ],
 "metadata": {
  "kernelspec": {
   "display_name": "Python 3 (ipykernel)",
   "language": "python",
   "name": "python3"
  },
  "language_info": {
   "codemirror_mode": {
    "name": "ipython",
    "version": 3
   },
   "file_extension": ".py",
   "mimetype": "text/x-python",
   "name": "python",
   "nbconvert_exporter": "python",
   "pygments_lexer": "ipython3",
   "version": "3.11.4"
  }
 },
 "nbformat": 4,
 "nbformat_minor": 5
}
