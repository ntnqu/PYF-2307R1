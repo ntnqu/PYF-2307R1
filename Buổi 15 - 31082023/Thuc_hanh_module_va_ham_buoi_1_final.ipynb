{
 "cells": [
  {
   "cell_type": "markdown",
   "id": "a2a38651",
   "metadata": {},
   "source": [
    "## Bài 1:\n",
    "Viết hàm my_info() nhận vào 2 tham số `name` và `course`, sau đó in ra thông tin tương ứng. Ví dụ: \n",
    "```\n",
    "my_info('Long', 'Python')\n",
    "\n",
    "Output: \n",
    "My name is Long.\n",
    "I'm studying Python.\n",
    "```"
   ]
  },
  {
   "cell_type": "code",
   "execution_count": null,
   "id": "392f869d",
   "metadata": {},
   "outputs": [],
   "source": [
    "def my_info(...parameter here...):\n",
    "    # code below this line\n",
    "    pass\n",
    "    # code above this line\n",
    "    \n",
    "my_info('Long', 'Python')"
   ]
  },
  {
   "cell_type": "code",
   "execution_count": 1,
   "id": "cc567f73-04c6-47bc-ba11-fce1ae7ed546",
   "metadata": {},
   "outputs": [],
   "source": [
    "def my_info(name, course):\n",
    "    print(f'My name is {name}.')\n",
    "    print(f\"I'm studying {course}.\")\n",
    "    "
   ]
  },
  {
   "cell_type": "code",
   "execution_count": 2,
   "id": "7f393806-05f7-445e-ba45-c2a40dd48a6e",
   "metadata": {},
   "outputs": [
    {
     "name": "stdout",
     "output_type": "stream",
     "text": [
      "My name is Quynh.\n",
      "I'm studying Python.\n"
     ]
    }
   ],
   "source": [
    "my_info ('Quynh', 'Python')"
   ]
  },
  {
   "cell_type": "markdown",
   "id": "7390cb06",
   "metadata": {},
   "source": [
    "## Bài 2:\n",
    "Viết hàm sum_even() nhận vào một số `n` và in ra tổng các số chẵn từ 2 đến n.\n",
    "Ví dụ:\n",
    "```\n",
    "sum_even(10)\n",
    "\n",
    "Output:\n",
    "30\n",
    "```"
   ]
  },
  {
   "cell_type": "code",
   "execution_count": null,
   "id": "df52dd4b",
   "metadata": {},
   "outputs": [],
   "source": [
    "def sum_even(...parameter here...):\n",
    "    # code below this line\n",
    "    pass\n",
    "    # code above this line\n",
    "\n",
    "sum_even(10)"
   ]
  },
  {
   "cell_type": "code",
   "execution_count": 15,
   "id": "b7f954a3-bfcc-4f7c-951b-eae3a7dc7f8a",
   "metadata": {},
   "outputs": [
    {
     "data": {
      "text/plain": [
       "30"
      ]
     },
     "execution_count": 15,
     "metadata": {},
     "output_type": "execute_result"
    }
   ],
   "source": [
    "def sum_even(number):\n",
    "    s = 0\n",
    "    for i in range (0, number + 1):\n",
    "        if i % 2 == 0:\n",
    "            s += i\n",
    "    \n",
    "    return s\n",
    "    \n",
    "sum_even(10)"
   ]
  },
  {
   "cell_type": "code",
   "execution_count": 3,
   "id": "258bea6e-7361-4301-ab42-8503f7c4caef",
   "metadata": {},
   "outputs": [
    {
     "data": {
      "text/plain": [
       "55"
      ]
     },
     "execution_count": 3,
     "metadata": {},
     "output_type": "execute_result"
    }
   ],
   "source": [
    "# không tính chẵn lẻ\n",
    "\n",
    "def sum_even (number):\n",
    "    s = 0\n",
    "    for i in range (number +1):\n",
    "        s += i\n",
    "\n",
    "    return s\n",
    "\n",
    "sum_even(10)"
   ]
  },
  {
   "cell_type": "markdown",
   "id": "0f69e7f2",
   "metadata": {},
   "source": [
    "## Bài 3:\n",
    "Viết hàm easy_math() nhận vào 3 tham số `num1`, `op`, `num 2` để thực hiện phép tính tương ứng và in ra kết quả. \n",
    "Ví dụ:\n",
    "```\n",
    "easy_math(5, '+', 5)\n",
    "\n",
    "Output:\n",
    "10\n",
    "```\n"
   ]
  },
  {
   "cell_type": "code",
   "execution_count": null,
   "id": "ce6058ca",
   "metadata": {},
   "outputs": [],
   "source": [
    "def easy_math(...parameter here...):\n",
    "    # code below this line\n",
    "    pass\n",
    "    # code above this line\n",
    "\n",
    "easy_math(5, '+', 5)"
   ]
  },
  {
   "cell_type": "code",
   "execution_count": 11,
   "id": "cb977866-264c-4006-87c1-9340ba45beb0",
   "metadata": {},
   "outputs": [
    {
     "name": "stdout",
     "output_type": "stream",
     "text": [
      "10\n"
     ]
    }
   ],
   "source": [
    "def easy_math(num1, op, num2):\n",
    "    if op == '+':\n",
    "        print(num1 + num2)\n",
    "    elif op == '-':\n",
    "        print(num1 - num2)\n",
    "    elif op == '*':\n",
    "        print(num1 * num2)\n",
    "    elif op == '/':\n",
    "        print(num1 / num2)\n",
    "\n",
    "easy_math(5, '+', 5)    "
   ]
  },
  {
   "cell_type": "code",
   "execution_count": 14,
   "id": "a8bd498c-a492-4174-8869-2f2e49aed8d7",
   "metadata": {},
   "outputs": [
    {
     "name": "stdout",
     "output_type": "stream",
     "text": [
      "10\n",
      "5.0\n",
      "0\n"
     ]
    }
   ],
   "source": [
    "# cách 2\n",
    "\n",
    "def easy_math(num1, op, num2):\n",
    "    print(eval(f'{num1} {op} {num2}'))\n",
    "\n",
    "easy_math(5, '+', 5)\n",
    "easy_math(25, '/', 5)\n",
    "easy_math(25, '%', 5)"
   ]
  },
  {
   "cell_type": "markdown",
   "id": "3239a01d",
   "metadata": {},
   "source": [
    "## Bài 4:\n",
    "Viết hàm check_even() nhận vào tham số `number` và kiểm tra xem `number` có phải là số chẵn hay không.\n",
    "Ví dụ:\n",
    "```\n",
    "check_even(5)\n",
    "\n",
    "Output:\n",
    "5 là số lẻ\n",
    "```"
   ]
  },
  {
   "cell_type": "code",
   "execution_count": null,
   "id": "f6a0918a",
   "metadata": {},
   "outputs": [],
   "source": [
    "def check_even(...parameter here...):\n",
    "    # code below this line\n",
    "    pass\n",
    "    # code above this line\n",
    "\n",
    "check_even(5)"
   ]
  },
  {
   "cell_type": "code",
   "execution_count": 16,
   "id": "ab7c9192-0631-4351-8bf9-d1818e9170bb",
   "metadata": {},
   "outputs": [
    {
     "name": "stdout",
     "output_type": "stream",
     "text": [
      "5 là số lẻ\n"
     ]
    }
   ],
   "source": [
    "def check_even (number):\n",
    "    if number % 2 == 0:\n",
    "        print (f'{number} là số chẵn')\n",
    "\n",
    "    else:\n",
    "        print (f'{number} là số lẻ')\n",
    "\n",
    "    return\n",
    "\n",
    "check_even(5)"
   ]
  },
  {
   "cell_type": "code",
   "execution_count": 15,
   "id": "b1696729-e537-4932-8348-547f1cb487c7",
   "metadata": {},
   "outputs": [
    {
     "name": "stdout",
     "output_type": "stream",
     "text": [
      "5 là số lẻ\n",
      "20 là số chẵn\n",
      "15 là số lẻ\n"
     ]
    }
   ],
   "source": [
    "def check_even (number):\n",
    "    if number % 2 == 0:\n",
    "        print (f'{number} là số chẵn')\n",
    "\n",
    "    else:\n",
    "        print (f'{number} là số lẻ')\n",
    "\n",
    "check_even(5)\n",
    "check_even(20)\n",
    "check_even(15)"
   ]
  },
  {
   "cell_type": "markdown",
   "id": "27a4bd3b",
   "metadata": {},
   "source": [
    "## Bài 5:\n",
    "Viết hàm transform_str() nhận vào tham số `string` và in ra `string` ở dạng uppercase và lowercase. Ví dụ:\n",
    "```\n",
    "transform_str('Function Is Magic!')\n",
    "\n",
    "Output:\n",
    "Lowercase: function is magic!\n",
    "Uppercase: FUNCTION IS MAGIC!\n",
    "```"
   ]
  },
  {
   "cell_type": "code",
   "execution_count": null,
   "id": "ae2891a8",
   "metadata": {},
   "outputs": [],
   "source": [
    "def transform_str(...parameter here...):\n",
    "    # code below this line\n",
    "    pass\n",
    "    # code above this line\n",
    "\n",
    "transform_str('Function Is Magic!')"
   ]
  },
  {
   "cell_type": "code",
   "execution_count": 22,
   "id": "42f1fa1d-0b1b-4233-8c10-5326f9571bb4",
   "metadata": {},
   "outputs": [
    {
     "name": "stdout",
     "output_type": "stream",
     "text": [
      "Lowercase: function is magic!\n",
      "Uppercase: FUNCTION IS MAGIC!\n"
     ]
    }
   ],
   "source": [
    "def transform_str(string):\n",
    "    print(f'Lowercase: {string.lower()}')\n",
    "    print(f'Uppercase: {string.upper()}')\n",
    "\n",
    "    return\n",
    "transform_str('Function Is Magic!')\n"
   ]
  },
  {
   "cell_type": "markdown",
   "id": "163331db",
   "metadata": {},
   "source": [
    "## Bài 6:\n",
    "Viết hàm calculate_factorial() nhận vào tham số `number` và in ra giai thừa của tham số đó. Ví dụ:\n",
    "```\n",
    "calculate_factorial(5)\n",
    "\n",
    "Output: 120\n",
    "```"
   ]
  },
  {
   "cell_type": "code",
   "execution_count": null,
   "id": "0047ec9d",
   "metadata": {},
   "outputs": [],
   "source": [
    "def calculate_factorial(...parameter here...):\n",
    "    # code below this line\n",
    "    pass\n",
    "    # code above this line\n",
    "\n",
    "calculate_factorial(5)"
   ]
  },
  {
   "cell_type": "code",
   "execution_count": 21,
   "id": "f645264f-a820-4567-a130-8c66b42a984d",
   "metadata": {},
   "outputs": [
    {
     "name": "stdout",
     "output_type": "stream",
     "text": [
      "120\n"
     ]
    },
    {
     "data": {
      "text/plain": [
       "120"
      ]
     },
     "execution_count": 21,
     "metadata": {},
     "output_type": "execute_result"
    }
   ],
   "source": [
    "def calculate_factorial(number):\n",
    "    factorial = 1\n",
    "    \n",
    "    for i in range (1, number + 1):\n",
    "        factorial *= i\n",
    "        \n",
    "    print(factorial)\n",
    "    \n",
    "    return factorial\n",
    "       \n",
    "calculate_factorial(5)"
   ]
  },
  {
   "cell_type": "code",
   "execution_count": 19,
   "id": "4c72584e-8c17-472d-8ec3-3bbc7ac2c343",
   "metadata": {},
   "outputs": [
    {
     "name": "stdout",
     "output_type": "stream",
     "text": [
      "120\n",
      "720\n"
     ]
    }
   ],
   "source": [
    "def calculate_factorial(number):\n",
    "    factorial = 1\n",
    "    \n",
    "    for i in range (1, number + 1):\n",
    "        factorial *= i\n",
    "\n",
    "    print(factorial)\n",
    "       \n",
    "calculate_factorial(5)\n",
    "calculate_factorial(6)"
   ]
  },
  {
   "cell_type": "markdown",
   "id": "6d381154",
   "metadata": {},
   "source": [
    "## Bài 7:\n",
    "Dãy Fibonacci là dãy vô hạn các số tự nhiên bắt đầu bằng 1 và 1, sau đó các số tiếp theo sẽ bằng tổng của 2 số liền trước nó. \n",
    "\n",
    "Cụ thể, các số đầu tiên của dãy Fibonacci là 1, 1, 2, 3, 5, 8, 13, 21, 34, 55, 89, 144, 233, 377, 610... \n",
    "\n",
    "Nhiệm vụ: Viết chương trình find_fibo() nhận vào tham số `index` và in ra số Fibonacci ở vị trí `index`. Nếu `index` bằng 0 thì in ra 0. Ví dụ:\n",
    "\n",
    "```\n",
    "find_fibo(1)\n",
    "\n",
    "Output:\n",
    "1\n",
    "```\n",
    "-------------------\n",
    "```\n",
    "find_fibo(6)\n",
    "\n",
    "Output:\n",
    "8\n",
    "```\n",
    "-------------------\n",
    "```\n",
    "find_fibo(0)\n",
    "\n",
    "Output:\n",
    "0\n",
    "```"
   ]
  },
  {
   "cell_type": "code",
   "execution_count": null,
   "id": "0b8b2dc3",
   "metadata": {},
   "outputs": [],
   "source": [
    "def find_fibo(...parameter here...):\n",
    "    # code below this line\n",
    "    pass\n",
    "    # code above this line\n",
    "\n",
    "find_fibo(0)"
   ]
  },
  {
   "cell_type": "code",
   "execution_count": 1,
   "id": "8d7190e6-5920-4b2a-82bb-14ca58811f69",
   "metadata": {},
   "outputs": [
    {
     "name": "stdout",
     "output_type": "stream",
     "text": [
      "0\n",
      "8\n",
      "1\n"
     ]
    }
   ],
   "source": [
    "def find_fibo(index):\n",
    "    \n",
    "    if index == 0 or index == 1:\n",
    "        print(index)\n",
    "    else:\n",
    "        f1 = 0\n",
    "        f2 = 1\n",
    "\n",
    "        for i in range (index - 1):\n",
    "            f3 = f1 + f2\n",
    "            f1 = f2 # quy tắc cuốn chiếu\n",
    "            f2 = f3\n",
    "\n",
    "        print(f3)\n",
    "\n",
    "find_fibo(0)\n",
    "find_fibo(6)\n",
    "find_fibo(1)"
   ]
  },
  {
   "cell_type": "markdown",
   "id": "65db4551",
   "metadata": {},
   "source": [
    "## Bài 8:\n",
    "Viết hàm find_divisors() nhận vào một số nguyên dương `number` và in ra tất cả các ước của `number`. Ví dụ:\n",
    "```\n",
    "find_divisors(24)\n",
    "\n",
    "Output:\n",
    "Ước của 24 là: 1, 2, 3, 4, 6, 8, 12, 24\n",
    "```"
   ]
  },
  {
   "cell_type": "code",
   "execution_count": null,
   "id": "d9b20c10",
   "metadata": {},
   "outputs": [],
   "source": [
    "def find_divisors(...parameter here...):\n",
    "    # code below this line\n",
    "    pass\n",
    "    # code above this line\n",
    "\n",
    "find_divisors(24)"
   ]
  },
  {
   "cell_type": "code",
   "execution_count": 4,
   "id": "6a159233-9a64-43e5-90e2-a2e859be588b",
   "metadata": {},
   "outputs": [
    {
     "name": "stdout",
     "output_type": "stream",
     "text": [
      "Ước của 24 là: 1\n",
      "Ước của 24 là: 2\n",
      "Ước của 24 là: 3\n",
      "Ước của 24 là: 4\n",
      "Ước của 24 là: 6\n",
      "Ước của 24 là: 8\n",
      "Ước của 24 là: 12\n",
      "Ước của 24 là: 24\n"
     ]
    },
    {
     "data": {
      "text/plain": [
       "<function __main__.find_divisors(number)>"
      ]
     },
     "execution_count": 4,
     "metadata": {},
     "output_type": "execute_result"
    }
   ],
   "source": [
    "def find_divisors(number):\n",
    "  \n",
    "    count = 0\n",
    "    \n",
    "    for i in range (1, number + 1):\n",
    "        if number % i == 0:\n",
    "            count += 1\n",
    "            print (f\"Ước của {number} là: {i}\")\n",
    "\n",
    "    return find_divisors\n",
    "\n",
    "find_divisors(24)\n"
   ]
  },
  {
   "cell_type": "code",
   "execution_count": 5,
   "id": "67fb72ad-279c-4ab2-a854-18ebd9b9fcc9",
   "metadata": {},
   "outputs": [
    {
     "name": "stdout",
     "output_type": "stream",
     "text": [
      "Ước của 24 là: 1, 2, 3, 4, 6, 8, 12, 24, "
     ]
    }
   ],
   "source": [
    "def find_divisors(number):\n",
    "    print (f\"Ước của {number} là: \", end = '')\n",
    "    \n",
    "    for i in range (1, number + 1):\n",
    "        if number % i == 0:\n",
    "            print (i, end = ', ') # output khi in ra vẫn hiện thị dấu phẩy cuối cùng, không giống với output yêu cầu\n",
    "\n",
    "find_divisors(24)"
   ]
  },
  {
   "cell_type": "code",
   "execution_count": 4,
   "id": "4ac1d035-5f74-48c5-b4f4-b21a12bcb16a",
   "metadata": {},
   "outputs": [
    {
     "name": "stdout",
     "output_type": "stream",
     "text": [
      "Ước của 24 là: 1, 2, 3, 4, 6, 8, 12, 24\n"
     ]
    }
   ],
   "source": [
    "def find_divisors(number):\n",
    "    print (f\"Ước của {number} là: \", end = '')\n",
    "    \n",
    "    for i in range (1, number): #hiển nhiên number sẽ chia hết cho chính nó nên mình chỉ cho chạy đến number thôi\n",
    "        if number % i == 0:\n",
    "            print (i, end = ', ')\n",
    "\n",
    "    print(number)\n",
    "\n",
    "find_divisors(24)"
   ]
  },
  {
   "cell_type": "markdown",
   "id": "37000ab2",
   "metadata": {},
   "source": [
    "## Bài 9:\n",
    "Viết hàm solve_equation() để giải phương trình bậc nhất ax + b = 0 với `a` và `b` là 2 tham số đầu vào. Ví dụ:\n",
    "```\n",
    "solve_equation(2, -4)\n",
    "\n",
    "Output: \n",
    "x = 2\n",
    "```\n",
    "---\n",
    "```\n",
    "solve_equation(0, 0)\n",
    "\n",
    "Output: \n",
    "Phương trình vô số nghiệm\n",
    "```\n",
    "---\n",
    "```\n",
    "solve_equation(0, -4)\n",
    "\n",
    "Output: \n",
    "Phương trình vô nghiệm\n",
    "```"
   ]
  },
  {
   "cell_type": "code",
   "execution_count": null,
   "id": "abfc5589",
   "metadata": {},
   "outputs": [],
   "source": [
    "def solve_equation(...parameter here...):\n",
    "    # code below this line\n",
    "    pass\n",
    "    # code above this line\n",
    "\n",
    "solve_equation(2, -4)"
   ]
  },
  {
   "cell_type": "code",
   "execution_count": 6,
   "id": "040ec75e-2ec0-41d5-b1a1-2e60fa7a7d85",
   "metadata": {},
   "outputs": [
    {
     "name": "stdout",
     "output_type": "stream",
     "text": [
      "Nghiệm của phương trình là: x = 2.0\n"
     ]
    },
    {
     "data": {
      "text/plain": [
       "<function __main__.solve_equation(num1, num2)>"
      ]
     },
     "execution_count": 6,
     "metadata": {},
     "output_type": "execute_result"
    }
   ],
   "source": [
    "def solve_equation(num1, num2):\n",
    "    \n",
    "    if num1 == 0 and num2 == 0:\n",
    "        print(f\"Phương trình vô số nghiệm.\")\n",
    "\n",
    "    elif num1 == 0 and num2 != 0:\n",
    "        print(f\"Phương trình vô nghiệm.\")\n",
    "\n",
    "    else:\n",
    "        print(f\"Nghiệm của phương trình là: x = {-num2 / num1}\")\n",
    "\n",
    "    return solve_equation\n",
    "\n",
    "solve_equation(2, -4)\n",
    "    "
   ]
  },
  {
   "cell_type": "code",
   "execution_count": 8,
   "id": "a128e8d8-05f7-4376-88f6-5d4e53de968a",
   "metadata": {},
   "outputs": [
    {
     "name": "stdout",
     "output_type": "stream",
     "text": [
      "Nghiệm của phương trình là: x = 2.0\n",
      "Phương trình vô nghiệm.\n",
      "Phương trình vô nghiệm.\n"
     ]
    }
   ],
   "source": [
    "def solve_equation(num1, num2):\n",
    "    \n",
    "    if num1 == 0: \n",
    "        print(f\"Phương trình vô nghiệm.\")\n",
    "# thiếu trường hợp vô số nghiệm\n",
    "    else:\n",
    "        print(f\"Nghiệm của phương trình là: x = {-num2 / num1}\")\n",
    "\n",
    "solve_equation(2, -4)\n",
    "solve_equation(0, -4)\n",
    "solve_equation(0, 0)\n",
    "\n"
   ]
  },
  {
   "cell_type": "code",
   "execution_count": 7,
   "id": "c0b0e4ae-8d49-452c-b476-c5ce0bf34580",
   "metadata": {},
   "outputs": [
    {
     "name": "stdout",
     "output_type": "stream",
     "text": [
      "Nghiệm của phương trình là: x = 2.0\n",
      "Phương trình vô nghiệm.\n",
      "Phương trình vô số nghiệm.\n"
     ]
    }
   ],
   "source": [
    "def solve_equation(num1, num2):\n",
    "    \n",
    "    if num1 == 0 and num2 == 0:\n",
    "        print(f\"Phương trình vô số nghiệm.\")\n",
    "\n",
    "    elif num1 == 0 and num2 != 0:\n",
    "        print(f\"Phương trình vô nghiệm.\")\n",
    "\n",
    "    else:\n",
    "        print(f\"Nghiệm của phương trình là: x = {-num2 / num1}\")\n",
    "\n",
    "solve_equation(2, -4)\n",
    "solve_equation(0, -4)\n",
    "solve_equation(0, 0)"
   ]
  },
  {
   "cell_type": "markdown",
   "id": "a483ed69",
   "metadata": {},
   "source": [
    "## Bài 10:\n",
    "Viết hàm find_distance() nhận vào 4 tham số `x1`, `y1`, `x2`, `y2` là tọa độ của 2 điểm trên trục tọa độ và in ra khoảng cách của 2 điểm đó theo công thức:\n",
    "```\n",
    "distance = sqrt((x1-x2)^2 + (y1-y2)^2)\n",
    "```\n",
    "Tham khảo: https://toanthaydinh.com/cong-thuc-tinh-khoang-cach-giua-2-diem/\n",
    "Khoảng cách được làm tròn 2 chữ số thập phân.\n",
    "\n",
    "Ví dụ:\n",
    "```\n",
    "find_distance(5, 2, 1, 3)\n",
    "\n",
    "Output:\n",
    "4.12\n",
    "```"
   ]
  },
  {
   "cell_type": "code",
   "execution_count": null,
   "id": "b6d3fa21-c3ef-4dc4-9ce4-93bfc8ac4fdd",
   "metadata": {},
   "outputs": [],
   "source": [
    "def find_distance(...parameter here...):\n",
    "    # code below this line\n",
    "    pass\n",
    "    # code above this line\n",
    "\n",
    "find_distance(5, 2, 1, 3)"
   ]
  },
  {
   "cell_type": "code",
   "execution_count": 24,
   "id": "2dcf614e",
   "metadata": {},
   "outputs": [
    {
     "name": "stdout",
     "output_type": "stream",
     "text": [
      "4.12\n"
     ]
    },
    {
     "data": {
      "text/plain": [
       "4.123105625617661"
      ]
     },
     "execution_count": 24,
     "metadata": {},
     "output_type": "execute_result"
    }
   ],
   "source": [
    "def find_distance(x1, y1, x2, y2):\n",
    "    # cách dùng hàm sqrt: trả về căn bậc hai của x, với x > 0.\n",
    "\n",
    "    a= (x1 - x2) ** 2 + (y1 - y2) ** 2\n",
    "    import math\n",
    "    distance = math.sqrt(a)\n",
    "    print(round(distance, 2))\n",
    "    \n",
    "    return distance\n",
    "\n",
    "find_distance(5, 2, 1, 3)"
   ]
  },
  {
   "cell_type": "code",
   "execution_count": 27,
   "id": "5fea1850-114e-4e67-9d86-a4b64ba5cc78",
   "metadata": {},
   "outputs": [
    {
     "name": "stdout",
     "output_type": "stream",
     "text": [
      "4.12\n"
     ]
    }
   ],
   "source": [
    "def find_distance(x1, y1, x2, y2):\n",
    "\n",
    "    a= ((x1 - x2) ** 2 + (y1 - y2) ** 2) ** 0.5\n",
    "    \n",
    "    print(round(a, 2))\n",
    "\n",
    "find_distance(5, 2, 1, 3)"
   ]
  },
  {
   "cell_type": "code",
   "execution_count": 31,
   "id": "13d38cf5-6c41-4f76-aa41-6e007fafdef0",
   "metadata": {},
   "outputs": [
    {
     "name": "stdout",
     "output_type": "stream",
     "text": [
      "4.12\n",
      "5.1\n"
     ]
    }
   ],
   "source": [
    "def find_distance(x1, y1, x2, y2):\n",
    "    \n",
    "    print(round(((x1 - x2) ** 2 + (y1 - y2) ** 2) ** 0.5, 2))\n",
    "    \n",
    "find_distance(5, 2, 1, 3)\n",
    "find_distance(9, 2, 4, 3)"
   ]
  },
  {
   "cell_type": "markdown",
   "id": "6236743e",
   "metadata": {},
   "source": [
    "## Bài 11(bonus):\n",
    "Viết hàm test_password() nhận vào một chuỗi(xem như là mật khẩu của người dùng).\n",
    "Sau đó kiểm tra xem đây có phải là mật khẩu mạnh hay không theo quy tắc sau:\n",
    "- Mật khẩu mạnh là mật khẩu phải có ít nhất 1 chữ hoa, 1 chữ thường, 1 số và 1 ký tự đặc biệt"
   ]
  },
  {
   "cell_type": "code",
   "execution_count": null,
   "id": "b24922e7",
   "metadata": {},
   "outputs": [],
   "source": [
    "def test_password(...parameter here...):\n",
    "    # code below this line\n",
    "    pass\n",
    "    # code above this line\n",
    "\n",
    "test_password(\"aW12R@_bc\")"
   ]
  }
 ],
 "metadata": {
  "kernelspec": {
   "display_name": "Python 3 (ipykernel)",
   "language": "python",
   "name": "python3"
  },
  "language_info": {
   "codemirror_mode": {
    "name": "ipython",
    "version": 3
   },
   "file_extension": ".py",
   "mimetype": "text/x-python",
   "name": "python",
   "nbconvert_exporter": "python",
   "pygments_lexer": "ipython3",
   "version": "3.11.4"
  }
 },
 "nbformat": 4,
 "nbformat_minor": 5
}
