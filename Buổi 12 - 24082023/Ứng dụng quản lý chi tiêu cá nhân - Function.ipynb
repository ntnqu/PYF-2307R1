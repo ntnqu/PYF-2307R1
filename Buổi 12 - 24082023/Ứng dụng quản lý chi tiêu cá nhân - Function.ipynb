{
 "cells": [
  {
   "cell_type": "markdown",
   "id": "115332f1-87bb-44ed-92fb-2c617e84a768",
   "metadata": {},
   "source": [
    "# Mục tiêu\r\n",
    "\r\n",
    "Luyện tập cách tạo và sử dụng hàm trong lập trình, ôn lại hàm if…elif..else\r\n",
    "\r\n",
    "Mô tả\r\n",
    "\r\n",
    "Viết chương trình cho phép người dùng thêm hoặc xoá các mục chi tiêu cá nhân và in ra các mục chi tiêu đó. Mục chi tiêu bao gồm: tên, giá trị chi và ngày chi\r\n",
    "\r\n",
    "Hướng dẫn\r\n",
    "\r\n",
    "Bước 1: Khởi tạo hàm thêm mục chi tiêu, nhận hai tham số là mảng chi tiêu hiện tại và mục chi tiêu mới.\r\n",
    "\r\n",
    "Dùng hàm append() để thêm item mới vào mảng"
   ]
  },
  {
   "cell_type": "code",
   "execution_count": null,
   "id": "e1b889de-5918-40ab-a104-7d5ae1b9baa6",
   "metadata": {},
   "outputs": [],
   "source": [
    "def add_item(myTempList, item):    \n",
    "    myTempList.append(item)"
   ]
  },
  {
   "cell_type": "markdown",
   "id": "19a801cd-638d-441d-908a-759ea4f9121a",
   "metadata": {},
   "source": [
    "Bước 2: Khởi tạo hàm tìm index của phần tử trong mảng, nhận hai tham số là mảng chi tiêu hiện tại và tên của khoản chi tiêu cần tìm\n",
    "\n",
    " - Để thực hiện được việc xoá khoản chi tiêu, cần phải tìm được vị trí index của phần tử đó trong mảng trước thông qua tên của phần \n",
    " - Khởi tạo biến result với giá trị khởi tạo bằng -1, giá trị này sẽ mang kết quả là vị trí index của phần tử cần tìm.\n",
    " - Dùng hàm len() để lấy độ dài của mảng, sau đó gán giá trị này cho biến length\n",
    " - Dùng hàm for…in range() để taọ vòng lặp lặp qua từng phần tử của mảng chi tiêu. Giá trị lặp tạm gọi là i, giá trị này tương ứng với vị trí index của phần tử trong mảng.\n",
    " - Trong mỗi vòng lặp, dùng if để kiểm tra tên của phần tử đang được lấy có bằng với tên phần tử được nhập vào hay không. Nếu đúng thì gán giá trị i cho biến result\n",
    " - myTempList[i] là phần tử tương ứng tại vị trí i\n",
    " - myTempList[i][‘name’] là tên của phần tử đang được gọi trong vòng lặp\n",
    "  - Kết thúc vòng lặp trả về biến result"
   ]
  },
  {
   "cell_type": "code",
   "execution_count": null,
   "id": "2319fce4-7f67-4e44-ae64-8222d3710b47",
   "metadata": {},
   "outputs": [],
   "source": [
    "def find_index_item(myTempList, item_name):\n",
    "    result = -1\n",
    "    length = len(myTempList)\n",
    "    for i in range(length):\n",
    "        if myTempList[i]['name'] == item_name:\n",
    "            result = i\n",
    "    return result"
   ]
  },
  {
   "cell_type": "markdown",
   "id": "d30dfcfe-fbcb-4ac4-8542-f8c8c79df716",
   "metadata": {},
   "source": [
    "Bước 3: Khởi tạo hàm xoá phần tử khỏi mảng chi tiêu, nhận hai tham số là mảng hiện tại và tên của khoản chi tiêu muốn xoá\n",
    "\n",
    " - Dùng if…else để kiểm tra hai trường hợp:\n",
    " - Gọi hàm tìm index của khoản chi tiêu muốn xoá và kết quả hàm trả về  lớn hơn -1 (tìm thấy phần tử trong mảng)\n",
    " - Gọi hàm tìm index của khoản chi tiêu muốn xoá và kết quả hàm trả về bé hơn hoặc bằng -1 (không tìm thấy phần tử trong mảng)\n",
    " - Nếu trường hợp tìm thấy phần tử trong mảng thì dùng phương thức del để xoá phần tử đó khỏi mảng chi tiêu.\n",
    " - Nếu không tìm thấy thì dùng hàm print() in ra thông báo không có phần tử trong mảng"
   ]
  },
  {
   "cell_type": "code",
   "execution_count": null,
   "id": "01c43687-0c0c-4a50-a764-c10b8b5a6b8a",
   "metadata": {},
   "outputs": [],
   "source": [
    "def remove_item(myTempList, item_name):\n",
    "    if find_index_item(myTempList, item_name) > -1:\n",
    "        del myTempList[find_index_item(myTempList, item_name)]\n",
    "    else:\n",
    "        print(item_name + \" not in list\")"
   ]
  },
  {
   "cell_type": "markdown",
   "id": "8f979f9b-d0f6-47b4-a55e-f837d90979c0",
   "metadata": {},
   "source": [
    "Bước 4: In mảng chi tiêu hiện tại và lấy yêu cầu muốn thêm hay xoá của người dùng\n",
    "\n",
    " - Dùng hàm print() để in ra mảng chi tiêu hiện tại\n",
    "print(\"Your expenses:\", expenses)\n",
    "\n",
    " - Dùng hàm print() để in ra các phương thức mà người dùng có thể chọn"
   ]
  },
  {
   "cell_type": "code",
   "execution_count": null,
   "id": "c71e3f50-2c52-4868-9305-1338ee9bc083",
   "metadata": {},
   "outputs": [],
   "source": [
    "print(\"What do you want to do? -\\n\"\\\n",
    "        \"1. Add\\n\" \\\n",
    "        \"2. Remove\")"
   ]
  },
  {
   "cell_type": "markdown",
   "id": "651b1558-d15b-4dee-92dd-f3edb91c9a7b",
   "metadata": {},
   "source": [
    " - Dùng hàm input() để lấy yêu cầu từ người dùng, sau đó dùng int() để chuyển giá trị về kiểu int, \n",
    "sau đó gán giá trị cho biến option\n",
    "\n",
    "option = int(input(\"Select option 1 or 2: \"))\n",
    "\n",
    " - Dùng hàm input() để lấy tên khoản chi từ người dùng, sau đó gán giá trị cho biến name_ input\n",
    "\n",
    "name_input = input(\"Item name: \")"
   ]
  },
  {
   "cell_type": "markdown",
   "id": "b2677af6-b3b4-4fa2-ad74-f2b61dd0b39d",
   "metadata": {},
   "source": [
    "Bước 5: Kiểm tra yêu cầu của người dùng và gọi hàm tương ứng\n",
    "\n",
    " - Dùng if…elif…else để kiểm tra giá trị biến option và chia thành ba trường hợp\n",
    "   * Trường hợp 1: giá trị option bằng 1\n",
    "   * Trường hợp 2: giá trị option bằng 2\n",
    "   * Trường hợp 3: giá trị option khác 1 và 2\n",
    " - Đối với trường hợp 1: Thực hiện việc thêm item vào mảng chi tiêu cho sẵn\n",
    "   * Dùng hàm input() để lấy giá trị chi của khoản chi mới, dùng int() để chuyển về kiểu int và gán giá trị cho biến cost_input\n",
    "   * Dùng hàm input() để lấy ngày chi của khoản chi mới và gán giá trị cho biến date_ input\n",
    "   * Tạo giá trị kiểu dictionary và gán giá trị cho biến item, keyword argument sẽ lần lượt là name:name_ input, cost:cost_ input, date:date_ input\n",
    "   * Gọi hàm add_item(), truyền mảng chi tiêu hiện tại và biến item làm tham số\n",
    "   * Dùng hàm print() in ra mảng chi tiêu sau khi đã cập nhật\n",
    "\n",
    " - Đối với trường hợp 2: Thực hiện việc xoá phần tử khỏi mảng chi tiêu hiện tại\n",
    "   * Gọi hàm remove_item(), truyền mảng chi tiêu hiện tại và biến name_input làm tham số\n",
    "   * Dùng hàm print() in ra mảng chi tiêu sau khi đã cập nhật\n",
    "\n",
    " - Đối với trường hợp 3: Yêu cầu người dùng không tồn tại\n",
    "   * Dùng print() in ra thông báo đầu vào không hợp lệ"
   ]
  },
  {
   "cell_type": "code",
   "execution_count": null,
   "id": "822d0818-7eae-4ac7-b435-a6639de395b7",
   "metadata": {},
   "outputs": [],
   "source": [
    "if option == 1:\n",
    "    cost_input = int(input(\"Item cost: \"))\n",
    "    date_input = input(\"Date: \")\n",
    "    item = {'name': name_input, 'cost':cost_input, 'date':date_input}\n",
    "    add_item(expenses, item)\n",
    "    print(\"Your expenses: \", expenses)\n",
    "elif option == 2:\n",
    "    remove_item(expenses, name_input)\n",
    "    print(\"Your expenses: \", expenses)\n",
    "else:\n",
    "    print(\"Invalid input\")"
   ]
  },
  {
   "cell_type": "code",
   "execution_count": 2,
   "id": "32729ed0-e7d9-4409-bf9a-d7cf78a491b1",
   "metadata": {},
   "outputs": [
    {
     "ename": "NameError",
     "evalue": "name 'expenses' is not defined",
     "output_type": "error",
     "traceback": [
      "\u001b[1;31m---------------------------------------------------------------------------\u001b[0m",
      "\u001b[1;31mNameError\u001b[0m                                 Traceback (most recent call last)",
      "Cell \u001b[1;32mIn[2], line 18\u001b[0m\n\u001b[0;32m     15\u001b[0m     \u001b[38;5;28;01melse\u001b[39;00m:\n\u001b[0;32m     16\u001b[0m         \u001b[38;5;28mprint\u001b[39m(item_name \u001b[38;5;241m+\u001b[39m \u001b[38;5;124m\"\u001b[39m\u001b[38;5;124m not in list\u001b[39m\u001b[38;5;124m\"\u001b[39m)\n\u001b[1;32m---> 18\u001b[0m \u001b[38;5;28mprint\u001b[39m(\u001b[38;5;124m\"\u001b[39m\u001b[38;5;124mYour expenses:\u001b[39m\u001b[38;5;124m\"\u001b[39m, \u001b[43mexpenses\u001b[49m)\n\u001b[0;32m     20\u001b[0m \u001b[38;5;28mprint\u001b[39m(\u001b[38;5;124m\"\u001b[39m\u001b[38;5;124mWhat do you want to do? -\u001b[39m\u001b[38;5;130;01m\\n\u001b[39;00m\u001b[38;5;124m\"\u001b[39m\\\n\u001b[0;32m     21\u001b[0m         \u001b[38;5;124m\"\u001b[39m\u001b[38;5;124m1. Add\u001b[39m\u001b[38;5;130;01m\\n\u001b[39;00m\u001b[38;5;124m\"\u001b[39m \\\n\u001b[0;32m     22\u001b[0m         \u001b[38;5;124m\"\u001b[39m\u001b[38;5;124m2. Remove\u001b[39m\u001b[38;5;124m\"\u001b[39m)\n\u001b[0;32m     24\u001b[0m option \u001b[38;5;241m=\u001b[39m \u001b[38;5;28mint\u001b[39m(\u001b[38;5;28minput\u001b[39m(\u001b[38;5;124m\"\u001b[39m\u001b[38;5;124mSelect option 1 or 2: \u001b[39m\u001b[38;5;124m\"\u001b[39m))\n",
      "\u001b[1;31mNameError\u001b[0m: name 'expenses' is not defined"
     ]
    }
   ],
   "source": [
    "# code hoàn chỉnh\n",
    "\n",
    "def add_item(myTempList, item):    \n",
    "    myTempList.append(item)\n",
    "\n",
    "def find_index_item(myTempList, item_name):\n",
    "    result = -1\n",
    "    length = len(myTempList)\n",
    "    for i in range(length):\n",
    "        if myTempList[i]['name'] == item_name:\n",
    "            result = i\n",
    "    return result\n",
    "\n",
    "def remove_item(myTempList, item_name):\n",
    "    if find_index_item(myTempList, item_name) > -1:\n",
    "        del myTempList[find_index_item(myTempList, item_name)]\n",
    "    else:\n",
    "        print(item_name + \" not in list\")\n",
    "\n",
    "print(\"Your expenses:\", expenses)\n",
    "\n",
    "print(\"What do you want to do? -\\n\"\\\n",
    "        \"1. Add\\n\" \\\n",
    "        \"2. Remove\")\n",
    "\n",
    "option = int(input(\"Select option 1 or 2: \"))\n",
    "\n",
    "name_input = input(\"Item name: \")\n",
    "\n",
    "if option == 1:\n",
    "    cost_input = int(input(\"Item cost: \"))\n",
    "    date_input = input(\"Date: \")\n",
    "    item = {'name': name_input, 'cost':cost_input, 'date':date_input}\n",
    "    add_item(expenses, item)\n",
    "    print(\"Your expenses: \", expenses)\n",
    "\n",
    "elif option == 2:\n",
    "    remove_item(expenses, name_input)\n",
    "    print(\"Your expenses: \", expenses)\n",
    "\n",
    "else:\n",
    "    print(\"Invalid input\")\n",
    "\n"
   ]
  },
  {
   "cell_type": "code",
   "execution_count": null,
   "id": "2a3a0795-aea5-462e-b100-555d940d7737",
   "metadata": {},
   "outputs": [],
   "source": []
  }
 ],
 "metadata": {
  "kernelspec": {
   "display_name": "Python 3 (ipykernel)",
   "language": "python",
   "name": "python3"
  },
  "language_info": {
   "codemirror_mode": {
    "name": "ipython",
    "version": 3
   },
   "file_extension": ".py",
   "mimetype": "text/x-python",
   "name": "python",
   "nbconvert_exporter": "python",
   "pygments_lexer": "ipython3",
   "version": "3.11.4"
  }
 },
 "nbformat": 4,
 "nbformat_minor": 5
}
