{
 "cells": [
  {
   "cell_type": "code",
   "execution_count": 29,
   "id": "6f288143-2ace-4720-9479-79e201c0d377",
   "metadata": {
    "scrolled": true
   },
   "outputs": [
    {
     "ename": "IndexError",
     "evalue": "string index out of range",
     "output_type": "error",
     "traceback": [
      "\u001b[1;31m---------------------------------------------------------------------------\u001b[0m",
      "\u001b[1;31mIndexError\u001b[0m                                Traceback (most recent call last)",
      "Cell \u001b[1;32mIn[29], line 6\u001b[0m\n\u001b[0;32m      3\u001b[0m count_char \u001b[38;5;241m=\u001b[39m \u001b[38;5;241m0\u001b[39m\n\u001b[0;32m      4\u001b[0m i \u001b[38;5;241m=\u001b[39m \u001b[38;5;241m0\u001b[39m\n\u001b[1;32m----> 6\u001b[0m \u001b[38;5;28;01mwhile\u001b[39;00m \u001b[43mcontent\u001b[49m\u001b[43m[\u001b[49m\u001b[43mi\u001b[49m\u001b[43m]\u001b[49m:\n\u001b[0;32m      7\u001b[0m     count_char \u001b[38;5;241m+\u001b[39m\u001b[38;5;241m=\u001b[39m \u001b[38;5;241m1\u001b[39m\n\u001b[0;32m      8\u001b[0m     i \u001b[38;5;241m+\u001b[39m\u001b[38;5;241m=\u001b[39m \u001b[38;5;241m1\u001b[39m\n",
      "\u001b[1;31mIndexError\u001b[0m: string index out of range"
     ]
    }
   ],
   "source": [
    "content = 'Python Fundamental'\n",
    "\n",
    "count_char = 0\n",
    "i = 0\n",
    "\n",
    "while content[i]:\n",
    "    count_char += 1\n",
    "    i += 1\n",
    "\n",
    "# phần code này khi chạy sẽ bị lỗi"
   ]
  },
  {
   "cell_type": "markdown",
   "id": "05948314",
   "metadata": {},
   "source": [
    "# Function"
   ]
  },
  {
   "cell_type": "markdown",
   "id": "3b68247e",
   "metadata": {},
   "source": [
    "## Function(hàm) là gì?"
   ]
  },
  {
   "cell_type": "markdown",
   "id": "cf84a685",
   "metadata": {},
   "source": [
    "Hàm (function) là một khối lệnh đặc biệt, nó được đặt tên, giúp mã chương trình dễ đọc hơn, và có thể gọi để sử dụng ở các nơi khác nhau trong chương trình. Hàm chính là khối lệnh có thể tái sử dụng (reuseable)."
   ]
  },
  {
   "cell_type": "markdown",
   "id": "3636c8b1",
   "metadata": {},
   "source": [
    "### Hàm\n",
    "\n",
    "Cú pháp:\n",
    "\n",
    "`def <tên hàm>(<tham số)>:\n",
    "    //Nội dung hàm`\n",
    "\n",
    "Gọi hàm:\n",
    "`<tên hàm>(<giá trị đầu vào>)`"
   ]
  },
  {
   "cell_type": "markdown",
   "id": "18f95aa8",
   "metadata": {},
   "source": [
    "### Ví dụ: Hàm in"
   ]
  },
  {
   "cell_type": "code",
   "execution_count": 30,
   "id": "0753ca43",
   "metadata": {},
   "outputs": [
    {
     "name": "stdout",
     "output_type": "stream",
     "text": [
      "Hello World\n"
     ]
    }
   ],
   "source": [
    "print(\"Hello World\")"
   ]
  },
  {
   "cell_type": "markdown",
   "id": "29c55e2b",
   "metadata": {},
   "source": [
    "### Ví dụ: Hàm tính giá trị tuyệt đối"
   ]
  },
  {
   "cell_type": "code",
   "execution_count": 31,
   "id": "e492700a",
   "metadata": {},
   "outputs": [
    {
     "data": {
      "text/plain": [
       "5"
      ]
     },
     "execution_count": 31,
     "metadata": {},
     "output_type": "execute_result"
    }
   ],
   "source": [
    "abs(-5)"
   ]
  },
  {
   "cell_type": "markdown",
   "id": "07fa617d",
   "metadata": {},
   "source": [
    "### Ví dụ: Hàm vẽ hình tròn"
   ]
  },
  {
   "cell_type": "code",
   "execution_count": null,
   "id": "2a2dec85",
   "metadata": {},
   "outputs": [],
   "source": []
  },
  {
   "cell_type": "markdown",
   "id": "c4575e29",
   "metadata": {},
   "source": [
    "## Xây dựng và sử dụng hàm trong python"
   ]
  },
  {
   "cell_type": "markdown",
   "id": "00ac6720",
   "metadata": {},
   "source": [
    "### Hàm say_hello"
   ]
  },
  {
   "cell_type": "code",
   "execution_count": 32,
   "id": "47575691",
   "metadata": {},
   "outputs": [],
   "source": [
    "def say_hello():\n",
    "    print(\"Hello Python\")"
   ]
  },
  {
   "cell_type": "code",
   "execution_count": 33,
   "id": "b4db21ea-fa5d-4a7f-a191-4bce166997d5",
   "metadata": {},
   "outputs": [
    {
     "name": "stdout",
     "output_type": "stream",
     "text": [
      "Hello Python\n"
     ]
    }
   ],
   "source": [
    "say_hello()"
   ]
  },
  {
   "cell_type": "markdown",
   "id": "f9b6f894",
   "metadata": {},
   "source": [
    "### Hàm vẽ cây thông"
   ]
  },
  {
   "cell_type": "code",
   "execution_count": null,
   "id": "0994ceed",
   "metadata": {},
   "outputs": [],
   "source": []
  },
  {
   "attachments": {
    "image.png": {
     "image/png": "[encoded data removed]"
    }
   },
   "cell_type": "markdown",
   "id": "08fa2b6b",
   "metadata": {},
   "source": [
    "### Thực hành: Viết hàm vẽ ra hình ảnh như dưới đây:\n",
    "![image.png](attachment:image.png)"
   ]
  },
  {
   "cell_type": "code",
   "execution_count": 1,
   "id": "b3161e2c",
   "metadata": {},
   "outputs": [],
   "source": [
    "import turtle\n",
    "\n",
    "def draw_circle():\n",
    "    pen = turtle.Turtle()\n",
    "\n",
    "    for i in range (6):\n",
    "        pen.circle(10 + 10 * i)\n",
    "\n",
    "    turtle.done() # load hàm vào chương trình, rồi sau đó gọi hàm"
   ]
  },
  {
   "cell_type": "code",
   "execution_count": 35,
   "id": "135ade69-f098-48c4-a32a-97a044aae5f5",
   "metadata": {},
   "outputs": [],
   "source": [
    "draw_circle()"
   ]
  },
  {
   "cell_type": "code",
   "execution_count": 40,
   "id": "254c28e0-e5db-49c4-b28c-b11bfb421d11",
   "metadata": {},
   "outputs": [],
   "source": [
    "import turtle\n",
    "\n",
    "def draw():\n",
    "    pen = turtle.Turtle()\n",
    "\n",
    "    for i in range (6):\n",
    "        pen.circle(10 + 10 * i)\n",
    "        pen.penup()\n",
    "        pen.goto(0, -10 * i)\n",
    "        pen.pendown()\n",
    "\n",
    "    turtle.done()"
   ]
  },
  {
   "cell_type": "code",
   "execution_count": 41,
   "id": "c3eea536-838a-4a1d-a8fa-28e308d4bda4",
   "metadata": {},
   "outputs": [],
   "source": [
    "draw()"
   ]
  },
  {
   "cell_type": "code",
   "execution_count": 1,
   "id": "6a578030-6ba5-4ea2-a972-b076dd650d9a",
   "metadata": {},
   "outputs": [],
   "source": [
    "# đáp án của bạn Pháp ở lớp\n",
    "\n",
    "def ve_vong_tron():\n",
    "    import turtle\n",
    "    t = turtle.Turtle()\n",
    "    t.pensize(1)\n",
    "    i = 0\n",
    "    j = 10\n",
    "    k = 0\n",
    "    for i in range (6):\n",
    "        t.penup()\n",
    "        t.goto(0, k)\n",
    "        t.pendown()\n",
    "        t.circle(j)\n",
    "        i += 1\n",
    "        j += 10\n",
    "        k -= 10\n",
    "\n",
    "    turtle.done()\n",
    "    "
   ]
  },
  {
   "cell_type": "code",
   "execution_count": 2,
   "id": "4ada097f-d506-472a-8987-5ad7f1b5cb57",
   "metadata": {},
   "outputs": [],
   "source": [
    "ve_vong_tron()"
   ]
  },
  {
   "cell_type": "code",
   "execution_count": 1,
   "id": "70671ceb-8e5b-487c-a35d-d2fe2a04feda",
   "metadata": {},
   "outputs": [],
   "source": [
    "# đáp án của Vũ ở lớp\n",
    "\n",
    "def cricle():\n",
    "    import turtle\n",
    "    a = turtle.Turtle()\n",
    "    i = 0\n",
    "    while i <= 50:\n",
    "        a.circle(i)\n",
    "        i += 10\n",
    "        a.up()\n",
    "        a.sety(i *(-1))\n",
    "        a.down()\n",
    "    turtle.done()\n",
    "    "
   ]
  },
  {
   "cell_type": "code",
   "execution_count": 2,
   "id": "53855198-84f6-4958-8171-575edbb88198",
   "metadata": {},
   "outputs": [],
   "source": [
    "cricle()"
   ]
  },
  {
   "cell_type": "markdown",
   "id": "77fa1ef1",
   "metadata": {},
   "source": [
    "## doc_string cho hàm"
   ]
  },
  {
   "cell_type": "code",
   "execution_count": null,
   "id": "8dcf448b",
   "metadata": {},
   "outputs": [],
   "source": [
    "# Hàm tính chu vi hình chữ nhật"
   ]
  },
  {
   "cell_type": "code",
   "execution_count": 5,
   "id": "a7dc57e9",
   "metadata": {},
   "outputs": [],
   "source": [
    "# Hàm xếp loại học sinh"
   ]
  },
  {
   "cell_type": "markdown",
   "id": "0c5f3f35",
   "metadata": {},
   "source": [
    "## Phạm vi biến"
   ]
  },
  {
   "cell_type": "code",
   "execution_count": 6,
   "id": "b332222c",
   "metadata": {},
   "outputs": [],
   "source": [
    "# Hàm tính tổng các số từ 1 đến 10"
   ]
  },
  {
   "cell_type": "code",
   "execution_count": 15,
   "id": "6e1718e0-447a-4a6a-8ecc-32521455a769",
   "metadata": {},
   "outputs": [
    {
     "name": "stdout",
     "output_type": "stream",
     "text": [
      "30\n"
     ]
    }
   ],
   "source": [
    "# hàm tìm giá trị lớn nhất giữa 2 số a và b\n",
    "def find_max (a, b):\n",
    "    \n",
    "    if a > b:\n",
    "        max_value = a\n",
    "    else:\n",
    "        max_value = b\n",
    "    print(max_value)\n",
    "\n",
    "\n",
    "find_max (30, 20)"
   ]
  },
  {
   "cell_type": "code",
   "execution_count": 16,
   "id": "83404970-d13f-4ed0-9eac-6f9f8eb0f945",
   "metadata": {},
   "outputs": [
    {
     "name": "stdout",
     "output_type": "stream",
     "text": [
      "30\n"
     ]
    },
    {
     "ename": "NameError",
     "evalue": "name 'max_value' is not defined",
     "output_type": "error",
     "traceback": [
      "\u001b[1;31m---------------------------------------------------------------------------\u001b[0m",
      "\u001b[1;31mNameError\u001b[0m                                 Traceback (most recent call last)",
      "Cell \u001b[1;32mIn[16], line 12\u001b[0m\n\u001b[0;32m      8\u001b[0m     \u001b[38;5;28mprint\u001b[39m(max_value)\n\u001b[0;32m     11\u001b[0m find_max (\u001b[38;5;241m30\u001b[39m, \u001b[38;5;241m20\u001b[39m)\n\u001b[1;32m---> 12\u001b[0m \u001b[38;5;28mprint\u001b[39m(\u001b[38;5;124mf\u001b[39m\u001b[38;5;124m\"\u001b[39m\u001b[38;5;124mGiá trọ lớn nhất là: \u001b[39m\u001b[38;5;132;01m{\u001b[39;00m\u001b[43mmax_value\u001b[49m\u001b[38;5;132;01m}\u001b[39;00m\u001b[38;5;124m\"\u001b[39m)\n",
      "\u001b[1;31mNameError\u001b[0m: name 'max_value' is not defined"
     ]
    }
   ],
   "source": [
    "# hàm tìm giá trị lớn nhất giữa 2 số a và b\n",
    "def find_max (a, b):\n",
    "    \n",
    "    if a > b:\n",
    "        max_value = a\n",
    "    else:\n",
    "        max_value = b\n",
    "    print(max_value)\n",
    "\n",
    "\n",
    "find_max (30, 20)\n",
    "print(f\"Giá trọ lớn nhất là: {max_value}\") # câu lệnh lỗi vì biến tạo ra bên trong hàm thì chỉ dùng bên trong hàm thôi, \n",
    "                                            # khi chạy xong sẽ bị huỷ, không gọi ra được nữa"
   ]
  },
  {
   "cell_type": "code",
   "execution_count": 19,
   "id": "8d9a6b98-cd2c-4716-9c8d-5810e3c5a25b",
   "metadata": {},
   "outputs": [
    {
     "name": "stdout",
     "output_type": "stream",
     "text": [
      "30\n"
     ]
    }
   ],
   "source": [
    "def find_max (a, b):\n",
    "\n",
    "    if a > b:\n",
    "        max_value = a\n",
    "    else:\n",
    "        max_value = b\n",
    "    print(max_value)\n",
    "\n",
    "num1 = 20\n",
    "num2 = 30\n",
    "find_max(num1, num2)\n"
   ]
  },
  {
   "cell_type": "code",
   "execution_count": 18,
   "id": "97649907-c8f8-4ed1-a556-10cfa62f2ae3",
   "metadata": {},
   "outputs": [
    {
     "name": "stdout",
     "output_type": "stream",
     "text": [
      "20\n",
      "30\n"
     ]
    }
   ],
   "source": [
    "def find_max (a, b):\n",
    "    print (num1) # muốn lấy giá trị của num1 bên trong hàm ra ngoài\n",
    "    if a > b:\n",
    "        max_value = a\n",
    "    else:\n",
    "        max_value = b\n",
    "    print(max_value)\n",
    "\n",
    "num1 = 20\n",
    "num2 = 30\n",
    "find_max(num1, num2)\n"
   ]
  },
  {
   "cell_type": "markdown",
   "id": "7407e8fe",
   "metadata": {},
   "source": [
    "## Đối số của hàm"
   ]
  },
  {
   "cell_type": "code",
   "execution_count": 42,
   "id": "f5787950",
   "metadata": {},
   "outputs": [
    {
     "name": "stdout",
     "output_type": "stream",
     "text": [
      "Thể tích của hình lập phương là: 1000\n"
     ]
    }
   ],
   "source": [
    "# Hàm tính thể tích hình lập phương\n",
    "\n",
    "def calc_cube_volumne(side):\n",
    "    volumne = side ** 3\n",
    "    print(f\"Thể tích của hình lập phương là: {volumne}\")\n",
    "\n",
    "calc_cube_volumne(10)\n",
    "    \n"
   ]
  },
  {
   "cell_type": "code",
   "execution_count": 43,
   "id": "8d1bc23b",
   "metadata": {},
   "outputs": [
    {
     "name": "stdout",
     "output_type": "stream",
     "text": [
      "Granding: Excelent.\n"
     ]
    }
   ],
   "source": [
    "# Hàm xếp loại học sinh\n",
    "\n",
    "def grade_student(literature, math, english):\n",
    "    avg_mark = (literature + math + english) / 3\n",
    "\n",
    "    if avg_mark >= 8:\n",
    "        print(f\"Granding: Excelent.\")\n",
    "    else:\n",
    "        print(f\"Granding: Good.\")\n",
    "\n",
    "grade_student(7.9, 8 , 9)    "
   ]
  },
  {
   "cell_type": "markdown",
   "id": "1eee19a7",
   "metadata": {},
   "source": [
    "### Thực hành: Viết hàm nhận vào một số nguyên và kiểm tra xem số đó có phải là số nguyên tố hay không.\n"
   ]
  },
  {
   "cell_type": "code",
   "execution_count": 3,
   "id": "d3c5d3a9",
   "metadata": {},
   "outputs": [
    {
     "name": "stdout",
     "output_type": "stream",
     "text": [
      "5 is a prime number.\n",
      "6 is not a prime number.\n",
      "7 is a prime number.\n"
     ]
    }
   ],
   "source": [
    "# is_prime_num có thể là tên hàm\n",
    "def check_prime_num(number):\n",
    "    is_prime_num = True\n",
    "    \n",
    "    for i in range (2, number):\n",
    "        if number % i == 0:\n",
    "            is_prime_num = False\n",
    "            break\n",
    "            \n",
    "    if is_prime_num == True:\n",
    "        print(f'{number} is a prime number.')\n",
    "\n",
    "    else:\n",
    "        print(f'{number} is not a prime number.')\n",
    "\n",
    "check_prime_num(5)\n",
    "check_prime_num(6)\n",
    "check_prime_num(7)"
   ]
  },
  {
   "cell_type": "code",
   "execution_count": 3,
   "id": "262f3ed2-c183-49ef-b01e-7d629dd76ecb",
   "metadata": {},
   "outputs": [
    {
     "name": "stdin",
     "output_type": "stream",
     "text": [
      "Please enter a number:  7\n"
     ]
    },
    {
     "data": {
      "text/plain": [
       "'Number \"7\" prime number'"
      ]
     },
     "execution_count": 3,
     "metadata": {},
     "output_type": "execute_result"
    }
   ],
   "source": [
    "# dap an cua anh Phuong o lop\n",
    "\n",
    "def prime_num(n):\n",
    "    result = \"prime number\"\n",
    "    for i in range (2, n):\n",
    "        if n % i == 0:\n",
    "            result = \"is not a prime number\"\n",
    "            break\n",
    "    return (\"Number \\\"\"+ str (n) + \"\\\" \" + result)\n",
    "\n",
    "n = int(input(\"Please enter a number: \"))\n",
    "prime_num(n)"
   ]
  },
  {
   "cell_type": "code",
   "execution_count": 5,
   "id": "554b4487-1f30-45e2-b95f-24797b48f663",
   "metadata": {},
   "outputs": [
    {
     "ename": "ImportError",
     "evalue": "cannot import name 'math' from 're' (C:\\Users\\Admin\\AppData\\Local\\Programs\\Python\\Python311\\Lib\\re\\__init__.py)",
     "output_type": "error",
     "traceback": [
      "\u001b[1;31m---------------------------------------------------------------------------\u001b[0m",
      "\u001b[1;31mImportError\u001b[0m                               Traceback (most recent call last)",
      "Cell \u001b[1;32mIn[5], line 4\u001b[0m\n\u001b[0;32m      1\u001b[0m \u001b[38;5;66;03m# dap an cua ban Kiet o lop\u001b[39;00m\n\u001b[0;32m      3\u001b[0m \u001b[38;5;28;01mimport\u001b[39;00m \u001b[38;5;21;01mmath\u001b[39;00m\n\u001b[1;32m----> 4\u001b[0m \u001b[38;5;28;01mfrom\u001b[39;00m \u001b[38;5;21;01mre\u001b[39;00m \u001b[38;5;28;01mimport\u001b[39;00m math\n\u001b[0;32m      7\u001b[0m \u001b[38;5;28;01mdef\u001b[39;00m \u001b[38;5;21mso_nguyen_to\u001b[39m(num):\n\u001b[0;32m      8\u001b[0m     \u001b[38;5;28;01mif\u001b[39;00m num \u001b[38;5;241m<\u001b[39m \u001b[38;5;241m2\u001b[39m:\n",
      "\u001b[1;31mImportError\u001b[0m: cannot import name 'math' from 're' (C:\\Users\\Admin\\AppData\\Local\\Programs\\Python\\Python311\\Lib\\re\\__init__.py)"
     ]
    }
   ],
   "source": [
    "# dap an cua ban Kiet o lop\n",
    "\n",
    "import math\n",
    "from re import math\n",
    "\n",
    "\n",
    "def so_nguyen_to(num):\n",
    "    if num < 2:\n",
    "        return False\n",
    "    \n",
    "   \n",
    "    for i in range (2, math.sprt(num) + 1):\n",
    "        if num % i == 0:\n",
    "            return False\n",
    "            \n",
    "    return True\n",
    "\n",
    "num = int(input(\"Please enter a number: \"))\n",
    "\n",
    "if so_nguyen_to(num):\n",
    "    print(num, \"la so nguyen to.\")\n",
    "\n",
    "else:\n",
    "    print(num, \"khong phai la so nguyen to.\")"
   ]
  },
  {
   "cell_type": "markdown",
   "id": "dea3b237",
   "metadata": {},
   "source": [
    "## Đối số có giá trị mặc định"
   ]
  },
  {
   "cell_type": "code",
   "execution_count": 4,
   "id": "8e871a22",
   "metadata": {},
   "outputs": [],
   "source": [
    "def intro(name, course):\n",
    "    print(f'My name is {name}. My course is {course}.')\n",
    "    "
   ]
  },
  {
   "cell_type": "code",
   "execution_count": 6,
   "id": "bb44715a",
   "metadata": {},
   "outputs": [
    {
     "name": "stdout",
     "output_type": "stream",
     "text": [
      "My name is Long. My course is python.\n"
     ]
    }
   ],
   "source": [
    "intro('Long', 'python')"
   ]
  },
  {
   "cell_type": "code",
   "execution_count": 7,
   "id": "fae93aa2-9a4e-4839-9bcf-ff14fb8623a8",
   "metadata": {},
   "outputs": [],
   "source": [
    "# default value of parameter = giá trị mặc định của tham số, nếu khi không truyền giá trị cho tham số \n",
    "# thì sẽ lấy giá trị mặc định đó để output"
   ]
  },
  {
   "cell_type": "code",
   "execution_count": 8,
   "id": "6ce40960-ca6b-422b-99a3-118391cf9250",
   "metadata": {},
   "outputs": [
    {
     "ename": "TypeError",
     "evalue": "intro() missing 1 required positional argument: 'course'",
     "output_type": "error",
     "traceback": [
      "\u001b[1;31m---------------------------------------------------------------------------\u001b[0m",
      "\u001b[1;31mTypeError\u001b[0m                                 Traceback (most recent call last)",
      "Cell \u001b[1;32mIn[8], line 1\u001b[0m\n\u001b[1;32m----> 1\u001b[0m \u001b[43mintro\u001b[49m\u001b[43m(\u001b[49m\u001b[38;5;124;43m'\u001b[39;49m\u001b[38;5;124;43mLong\u001b[39;49m\u001b[38;5;124;43m'\u001b[39;49m\u001b[43m)\u001b[49m\n",
      "\u001b[1;31mTypeError\u001b[0m: intro() missing 1 required positional argument: 'course'"
     ]
    }
   ],
   "source": [
    "intro('Long') # câu lệnh lỗi đang thiếu dữ liệu khoá học"
   ]
  },
  {
   "cell_type": "code",
   "execution_count": 9,
   "id": "b6c6728a-d04b-4d5a-8d4a-e6cc490097fc",
   "metadata": {},
   "outputs": [],
   "source": [
    "def intro(name, course = \"Python\"):\n",
    "    print(f'My name is {name}. My course is {course}.')"
   ]
  },
  {
   "cell_type": "code",
   "execution_count": 10,
   "id": "197f0c0e-90b5-4a11-868e-46f231a163ca",
   "metadata": {},
   "outputs": [
    {
     "name": "stdout",
     "output_type": "stream",
     "text": [
      "My name is Long. My course is Python.\n"
     ]
    }
   ],
   "source": [
    "intro('Long')"
   ]
  },
  {
   "cell_type": "code",
   "execution_count": 11,
   "id": "4df920db-7d03-44df-b43d-ab9d0dd932ba",
   "metadata": {},
   "outputs": [
    {
     "name": "stdout",
     "output_type": "stream",
     "text": [
      "My name is Quynh. My course is Javascript.\n"
     ]
    }
   ],
   "source": [
    "intro('Quynh', 'Javascript')"
   ]
  },
  {
   "cell_type": "markdown",
   "id": "4cb69485",
   "metadata": {},
   "source": [
    "## Giá trị trả về của hàm"
   ]
  },
  {
   "cell_type": "markdown",
   "id": "e4fac396",
   "metadata": {},
   "source": [
    "\n",
    "# return\n",
    "\n",
    "Cú pháp:\n",
    "\n",
    "`return <giá trị trả về>`\n",
    "\n",
    "##### Lưu ý: Sau khi thực hiện lệnh return, chương trình sẽ thoát khỏi hàm ngay lập tức (những lệnh sau đó không được thực hiện)\n",
    "\n",
    "Ví dụ:\n",
    "\n",
    "Hãy viết 1 hàm trả về giá trị trung bình của 2 số bất kỳ"
   ]
  },
  {
   "cell_type": "code",
   "execution_count": 10,
   "id": "18ca3d11-3652-44bd-86c4-e867dbecbb35",
   "metadata": {},
   "outputs": [
    {
     "name": "stdout",
     "output_type": "stream",
     "text": [
      "Giá trị trung bình là: 5.0\n"
     ]
    }
   ],
   "source": [
    "def calc_avg_value (num1, num2):\n",
    "    average = (num1 + num2) / 2\n",
    "    print(f\"Giá trị trung bình là: {average}\")\n",
    "    \n",
    "    \n",
    "calc_avg_value (4, 6)\n"
   ]
  },
  {
   "cell_type": "code",
   "execution_count": 15,
   "id": "028b09bc",
   "metadata": {},
   "outputs": [
    {
     "name": "stdout",
     "output_type": "stream",
     "text": [
      "5.0\n"
     ]
    }
   ],
   "source": [
    "def calc_avg_value (num1, num2):\n",
    "    average = (num1 + num2) / 2\n",
    "    \n",
    "    return average \n",
    "    \n",
    "result = calc_avg_value (4, 6)\n",
    "print(result)"
   ]
  },
  {
   "cell_type": "code",
   "execution_count": 11,
   "id": "57b41241-780f-4759-8cdb-a51f52f8fcee",
   "metadata": {},
   "outputs": [
    {
     "name": "stdout",
     "output_type": "stream",
     "text": [
      "5.0\n"
     ]
    }
   ],
   "source": [
    "def calc_avg_value (num1, num2):\n",
    "    average = (num1 + num2) / 2\n",
    "    \n",
    "    return average\n",
    "    print('test')  # câu lệnh này sẽ không được thực hiện vì nó nằm ngay sau câu lệnh return\n",
    "    \n",
    "result = calc_avg_value (4, 6)\n",
    "print(result)"
   ]
  },
  {
   "cell_type": "code",
   "execution_count": 6,
   "id": "24592238",
   "metadata": {},
   "outputs": [
    {
     "name": "stdout",
     "output_type": "stream",
     "text": [
      "18\n",
      "18\n"
     ]
    }
   ],
   "source": [
    "# Hàm tính chiều dài của chuỗi\n",
    "\n",
    "def calc_str_len(string):\n",
    "    return len(string)\n",
    "  \n",
    "\n",
    "result = calc_str_len('Quynh')\n",
    "result = calc_str_len('Quynh learn Python')\n",
    "print (result)\n",
    "print (result)"
   ]
  },
  {
   "cell_type": "code",
   "execution_count": 13,
   "id": "eddb1ab4-67ce-4982-a06e-f11120e9ac6b",
   "metadata": {},
   "outputs": [
    {
     "name": "stdout",
     "output_type": "stream",
     "text": [
      "5\n",
      "18\n"
     ]
    }
   ],
   "source": [
    "\n",
    "def calc_str_len(string):\n",
    "    return len(string)\n",
    "  \n",
    "\n",
    "print (calc_str_len('Quynh'))\n",
    "print (calc_str_len('Quynh learn Python'))"
   ]
  },
  {
   "cell_type": "code",
   "execution_count": 21,
   "id": "56d947d8",
   "metadata": {},
   "outputs": [
    {
     "data": {
      "text/plain": [
       "720"
      ]
     },
     "execution_count": 21,
     "metadata": {},
     "output_type": "execute_result"
    }
   ],
   "source": [
    "# Hàm tính lũy thừa\n",
    "\n",
    "def calc_factorial(number):\n",
    "    factorial = 1\n",
    "\n",
    "    for i in range (1, number + 1):\n",
    "        factorial *= i\n",
    "\n",
    "    return factorial\n",
    "calc_factorial (6)"
   ]
  },
  {
   "cell_type": "code",
   "execution_count": 23,
   "id": "0178d43e",
   "metadata": {},
   "outputs": [
    {
     "name": "stdout",
     "output_type": "stream",
     "text": [
      "False\n",
      "False\n"
     ]
    }
   ],
   "source": [
    "# Hàm kiểm tra năm nhuận\n",
    "\n",
    "def is_leap_year(year):\n",
    "    if (year % 4 == 0 and year % 100 != 0) or year % 400 == 0:\n",
    "        return True\n",
    "    return False\n",
    "\n",
    "print (is_leap_year(2190))\n",
    "print (is_leap_year(2022))\n"
   ]
  }
 ],
 "metadata": {
  "kernelspec": {
   "display_name": "Python 3 (ipykernel)",
   "language": "python",
   "name": "python3"
  },
  "language_info": {
   "codemirror_mode": {
    "name": "ipython",
    "version": 3
   },
   "file_extension": ".py",
   "mimetype": "text/x-python",
   "name": "python",
   "nbconvert_exporter": "python",
   "pygments_lexer": "ipython3",
   "version": "3.11.4"
  }
 },
 "nbformat": 4,
 "nbformat_minor": 5
}
